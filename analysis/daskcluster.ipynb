{
 "cells": [
  {
   "cell_type": "code",
   "execution_count": 1,
   "metadata": {
    "ExecuteTime": {
     "end_time": "2020-04-08T23:11:24.610039Z",
     "start_time": "2020-04-08T23:11:23.242933Z"
    }
   },
   "outputs": [],
   "source": [
    "import numpy as np\n",
    "import pandas as pd\n",
    "\n",
    "from dask.distributed import Client\n",
    "\n",
    "# git clone https://github.com/aminnj/daskucsd\n",
    "# and make workerenv tarball as specified in those instructions\n",
    "from daskucsd.condor_utils import make_htcondor_cluster"
   ]
  },
  {
   "cell_type": "code",
   "execution_count": 2,
   "metadata": {
    "ExecuteTime": {
     "end_time": "2020-04-08T23:11:28.051638Z",
     "start_time": "2020-04-08T23:11:24.612697Z"
    }
   },
   "outputs": [
    {
     "data": {
      "application/vnd.jupyter.widget-view+json": {
       "model_id": "7a77c3a4e7c142b38e2519068e5db554",
       "version_major": 2,
       "version_minor": 0
      },
      "text/plain": [
       "VBox(children=(HTML(value='<h2>UCSDHTCondorCluster</h2>'), HBox(children=(HTML(value='\\n<div>\\n  <style scoped…"
      ]
     },
     "metadata": {},
     "output_type": "display_data"
    }
   ],
   "source": [
    "cluster = make_htcondor_cluster(local=False, dashboard_address=13345,memory=\"4GB\")\n",
    "cluster"
   ]
  },
  {
   "cell_type": "code",
   "execution_count": 3,
   "metadata": {
    "ExecuteTime": {
     "end_time": "2020-04-08T23:11:28.058104Z",
     "start_time": "2020-04-08T23:11:28.053917Z"
    }
   },
   "outputs": [],
   "source": [
    "# or scale by hand\n",
    "cluster.scale(75)"
   ]
  },
  {
   "cell_type": "code",
   "execution_count": 4,
   "metadata": {
    "ExecuteTime": {
     "end_time": "2020-04-08T23:11:35.658063Z",
     "start_time": "2020-04-08T23:11:30.411725Z"
    }
   },
   "outputs": [
    {
     "data": {
      "text/html": [
       "<table style=\"border: 2px solid white;\">\n",
       "<tr>\n",
       "<td style=\"vertical-align: top; border: 0px solid white\">\n",
       "<h3 style=\"text-align: left;\">Client</h3>\n",
       "<ul style=\"text-align: left; list-style: none; margin: 0; padding: 0;\">\n",
       "  <li><b>Scheduler: </b>tcp://169.228.130.74:15931</li>\n",
       "  <li><b>Dashboard: </b><a href='http://169.228.130.74:13345/status' target='_blank'>http://169.228.130.74:13345/status</a>\n",
       "</ul>\n",
       "</td>\n",
       "<td style=\"vertical-align: top; border: 0px solid white\">\n",
       "<h3 style=\"text-align: left;\">Cluster</h3>\n",
       "<ul style=\"text-align: left; list-style:none; margin: 0; padding: 0;\">\n",
       "  <li><b>Workers: </b>0</li>\n",
       "  <li><b>Cores: </b>0</li>\n",
       "  <li><b>Memory: </b>0 B</li>\n",
       "</ul>\n",
       "</td>\n",
       "</tr>\n",
       "</table>"
      ],
      "text/plain": [
       "<Client: 'tcp://169.228.130.74:15931' processes=0 threads=0, memory=0 B>"
      ]
     },
     "execution_count": 4,
     "metadata": {},
     "output_type": "execute_result"
    }
   ],
   "source": [
    "client = Client(cluster)\n",
    "client"
   ]
  },
  {
   "cell_type": "code",
   "execution_count": 5,
   "metadata": {
    "ExecuteTime": {
     "end_time": "2020-01-31T20:44:13.036858Z",
     "start_time": "2020-01-31T20:44:12.890244Z"
    }
   },
   "outputs": [
    {
     "data": {
      "text/plain": [
       "{'tcp://169.228.131.254:37572': 'ProcId = 0\\nJOB_GLIDEIN_ProcId = \"1\"\\nJobAdInformationAttrs = \"JOB_Site JOB_GLIDEIN_Entry_Name JOB_GLIDEIN_Name JOB_GLIDEIN_Factory JOB_GLIDEIN_Schedd JOB_GLIDEIN_ClusterId JOB_GLIDEIN_ProcId JOB_GLIDEIN_Site JOB_GLIDEIN_SiteWMS JOB_GLIDEIN_SiteWMS_Slot JOB_GLIDEIN_SiteWMS_JobId JOB_GLIDEIN_SiteWMS_Queue\"',\n",
       " 'tcp://169.228.132.100:5496': 'ProcId = 0\\nJOB_GLIDEIN_ProcId = \"0\"\\nJobAdInformationAttrs = \"JOB_Site JOB_GLIDEIN_Entry_Name JOB_GLIDEIN_Name JOB_GLIDEIN_Factory JOB_GLIDEIN_Schedd JOB_GLIDEIN_ClusterId JOB_GLIDEIN_ProcId JOB_GLIDEIN_Site JOB_GLIDEIN_SiteWMS JOB_GLIDEIN_SiteWMS_Slot JOB_GLIDEIN_SiteWMS_JobId JOB_GLIDEIN_SiteWMS_Queue\"',\n",
       " 'tcp://169.228.132.111:30285': 'ProcId = 0\\nJOB_GLIDEIN_ProcId = \"0\"\\nJobAdInformationAttrs = \"JOB_Site JOB_GLIDEIN_Entry_Name JOB_GLIDEIN_Name JOB_GLIDEIN_Factory JOB_GLIDEIN_Schedd JOB_GLIDEIN_ClusterId JOB_GLIDEIN_ProcId JOB_GLIDEIN_Site JOB_GLIDEIN_SiteWMS JOB_GLIDEIN_SiteWMS_Slot JOB_GLIDEIN_SiteWMS_JobId JOB_GLIDEIN_SiteWMS_Queue\"',\n",
       " 'tcp://169.228.132.150:29375': 'ProcId = 0\\nJOB_GLIDEIN_ProcId = \"0\"\\nJobAdInformationAttrs = \"JOB_Site JOB_GLIDEIN_Entry_Name JOB_GLIDEIN_Name JOB_GLIDEIN_Factory JOB_GLIDEIN_Schedd JOB_GLIDEIN_ClusterId JOB_GLIDEIN_ProcId JOB_GLIDEIN_Site JOB_GLIDEIN_SiteWMS JOB_GLIDEIN_SiteWMS_Slot JOB_GLIDEIN_SiteWMS_JobId JOB_GLIDEIN_SiteWMS_Queue\"',\n",
       " 'tcp://169.228.132.176:14351': 'ProcId = 0\\nJOB_GLIDEIN_ProcId = \"0\"\\nJobAdInformationAttrs = \"JOB_Site JOB_GLIDEIN_Entry_Name JOB_GLIDEIN_Name JOB_GLIDEIN_Factory JOB_GLIDEIN_Schedd JOB_GLIDEIN_ClusterId JOB_GLIDEIN_ProcId JOB_GLIDEIN_Site JOB_GLIDEIN_SiteWMS JOB_GLIDEIN_SiteWMS_Slot JOB_GLIDEIN_SiteWMS_JobId JOB_GLIDEIN_SiteWMS_Queue\"',\n",
       " 'tcp://169.228.132.178:11294': 'ProcId = 0\\nJOB_GLIDEIN_ProcId = \"0\"\\nJobAdInformationAttrs = \"JOB_Site JOB_GLIDEIN_Entry_Name JOB_GLIDEIN_Name JOB_GLIDEIN_Factory JOB_GLIDEIN_Schedd JOB_GLIDEIN_ClusterId JOB_GLIDEIN_ProcId JOB_GLIDEIN_Site JOB_GLIDEIN_SiteWMS JOB_GLIDEIN_SiteWMS_Slot JOB_GLIDEIN_SiteWMS_JobId JOB_GLIDEIN_SiteWMS_Queue\"',\n",
       " 'tcp://169.228.132.178:12376': 'ProcId = 0\\nJOB_GLIDEIN_ProcId = \"0\"\\nJobAdInformationAttrs = \"JOB_Site JOB_GLIDEIN_Entry_Name JOB_GLIDEIN_Name JOB_GLIDEIN_Factory JOB_GLIDEIN_Schedd JOB_GLIDEIN_ClusterId JOB_GLIDEIN_ProcId JOB_GLIDEIN_Site JOB_GLIDEIN_SiteWMS JOB_GLIDEIN_SiteWMS_Slot JOB_GLIDEIN_SiteWMS_JobId JOB_GLIDEIN_SiteWMS_Queue\"',\n",
       " 'tcp://169.228.132.178:14203': 'ProcId = 0\\nJOB_GLIDEIN_ProcId = \"0\"\\nJobAdInformationAttrs = \"JOB_Site JOB_GLIDEIN_Entry_Name JOB_GLIDEIN_Name JOB_GLIDEIN_Factory JOB_GLIDEIN_Schedd JOB_GLIDEIN_ClusterId JOB_GLIDEIN_ProcId JOB_GLIDEIN_Site JOB_GLIDEIN_SiteWMS JOB_GLIDEIN_SiteWMS_Slot JOB_GLIDEIN_SiteWMS_JobId JOB_GLIDEIN_SiteWMS_Queue\"',\n",
       " 'tcp://169.228.132.178:21943': 'ProcId = 0\\nJOB_GLIDEIN_ProcId = \"0\"\\nJobAdInformationAttrs = \"JOB_Site JOB_GLIDEIN_Entry_Name JOB_GLIDEIN_Name JOB_GLIDEIN_Factory JOB_GLIDEIN_Schedd JOB_GLIDEIN_ClusterId JOB_GLIDEIN_ProcId JOB_GLIDEIN_Site JOB_GLIDEIN_SiteWMS JOB_GLIDEIN_SiteWMS_Slot JOB_GLIDEIN_SiteWMS_JobId JOB_GLIDEIN_SiteWMS_Queue\"',\n",
       " 'tcp://169.228.132.178:29290': 'ProcId = 0\\nJOB_GLIDEIN_ProcId = \"0\"\\nJobAdInformationAttrs = \"JOB_Site JOB_GLIDEIN_Entry_Name JOB_GLIDEIN_Name JOB_GLIDEIN_Factory JOB_GLIDEIN_Schedd JOB_GLIDEIN_ClusterId JOB_GLIDEIN_ProcId JOB_GLIDEIN_Site JOB_GLIDEIN_SiteWMS JOB_GLIDEIN_SiteWMS_Slot JOB_GLIDEIN_SiteWMS_JobId JOB_GLIDEIN_SiteWMS_Queue\"',\n",
       " 'tcp://169.228.132.178:3906': 'ProcId = 0\\nJOB_GLIDEIN_ProcId = \"0\"\\nJobAdInformationAttrs = \"JOB_Site JOB_GLIDEIN_Entry_Name JOB_GLIDEIN_Name JOB_GLIDEIN_Factory JOB_GLIDEIN_Schedd JOB_GLIDEIN_ClusterId JOB_GLIDEIN_ProcId JOB_GLIDEIN_Site JOB_GLIDEIN_SiteWMS JOB_GLIDEIN_SiteWMS_Slot JOB_GLIDEIN_SiteWMS_JobId JOB_GLIDEIN_SiteWMS_Queue\"',\n",
       " 'tcp://169.228.132.182:16760': 'ProcId = 0\\nJOB_GLIDEIN_ProcId = \"0\"\\nJobAdInformationAttrs = \"JOB_Site JOB_GLIDEIN_Entry_Name JOB_GLIDEIN_Name JOB_GLIDEIN_Factory JOB_GLIDEIN_Schedd JOB_GLIDEIN_ClusterId JOB_GLIDEIN_ProcId JOB_GLIDEIN_Site JOB_GLIDEIN_SiteWMS JOB_GLIDEIN_SiteWMS_Slot JOB_GLIDEIN_SiteWMS_JobId JOB_GLIDEIN_SiteWMS_Queue\"'}"
      ]
     },
     "execution_count": 5,
     "metadata": {},
     "output_type": "execute_result"
    }
   ],
   "source": [
    "# Get condor job attributes from each worker\n",
    "\n",
    "def f():\n",
    "    import subprocess\n",
    "    return subprocess.getoutput(\"grep ProcId $_CONDOR_JOB_AD\")\n",
    "# client.run(f,workers=[\"tcp://169.228.131.97:33361\"])\n",
    "client.run(f)"
   ]
  },
  {
   "cell_type": "code",
   "execution_count": 13,
   "metadata": {
    "ExecuteTime": {
     "end_time": "2020-01-21T18:43:34.020699Z",
     "start_time": "2020-01-21T18:43:34.017527Z"
    }
   },
   "outputs": [],
   "source": [
    "# client.shutdown()\n",
    "# client.retire_workers(workers=[\"tcp://169.228.131.97:33361\"],)\n",
    "# client.restart()"
   ]
  },
  {
   "cell_type": "code",
   "execution_count": 14,
   "metadata": {
    "ExecuteTime": {
     "end_time": "2020-01-21T18:43:34.237080Z",
     "start_time": "2020-01-21T18:43:34.232989Z"
    }
   },
   "outputs": [],
   "source": [
    "# port forward 13345 to your laptop and either open this url in a new tab, or keep in an IFrame here\n",
    "\n",
    "# from IPython.display import IFrame    \n",
    "# IFrame('http://localhost:13345/status', width=\"100%\", height=750)"
   ]
  },
  {
   "cell_type": "code",
   "execution_count": 9,
   "metadata": {
    "ExecuteTime": {
     "end_time": "2020-02-01T01:06:55.052107Z",
     "start_time": "2020-02-01T01:06:00.228452Z"
    }
   },
   "outputs": [],
   "source": [
    "def f():\n",
    "    import psutil\n",
    "    ret = psutil.virtual_memory()\n",
    "    return ret\n",
    "out = client.run(f)\n",
    "data = []\n",
    "for k,v in out.items():\n",
    "    data.append(dict(name=k,\n",
    "                     total=v.total//1e9,\n",
    "                     available=v.available//1e9,\n",
    "                     used=v.used//1e9,\n",
    "                     free=v.free//1e9,\n",
    "                     active=v.active//1e9,\n",
    "                     inactive=v.inactive//1e9,\n",
    "                     buffers=v.buffers//1e9,\n",
    "                     cached=v.cached//1e9,\n",
    "                     shared=v.shared//1e9,\n",
    "                     slab=v.slab//1e9,\n",
    "                    ))\n",
    "df = pd.DataFrame(data).set_index(\"name\")"
   ]
  },
  {
   "cell_type": "code",
   "execution_count": 10,
   "metadata": {
    "ExecuteTime": {
     "end_time": "2020-02-01T01:06:55.348915Z",
     "start_time": "2020-02-01T01:06:55.056848Z"
    }
   },
   "outputs": [
    {
     "data": {
      "text/plain": [
       "[<matplotlib.lines.Line2D at 0x7f5958706fa0>]"
      ]
     },
     "execution_count": 10,
     "metadata": {},
     "output_type": "execute_result"
    },
    {
     "data": {
      "image/png": "[encoded data removed]",
      "text/plain": [
       "<Figure size 432x288 with 1 Axes>"
      ]
     },
     "metadata": {
      "image/png": {
       "height": 261,
       "width": 388
      },
      "needs_background": "light"
     },
     "output_type": "display_data"
    }
   ],
   "source": [
    "import matplotlib.pyplot as plt\n",
    "fig, ax = plt.subplots()\n",
    "# df.plot.scatter(ax=ax,x=\"available\",y=\"total\")\n",
    "df.plot.scatter(ax=ax,x=\"free\",y=\"total\")\n",
    "ax.plot([0,250],[0,250],color=\"k\")"
   ]
  },
  {
   "cell_type": "code",
   "execution_count": 11,
   "metadata": {
    "ExecuteTime": {
     "end_time": "2020-02-01T01:06:55.392587Z",
     "start_time": "2020-02-01T01:06:55.352987Z"
    }
   },
   "outputs": [
    {
     "data": {
      "text/html": [
       "<div>\n",
       "<style scoped>\n",
       "    .dataframe tbody tr th:only-of-type {\n",
       "        vertical-align: middle;\n",
       "    }\n",
       "\n",
       "    .dataframe tbody tr th {\n",
       "        vertical-align: top;\n",
       "    }\n",
       "\n",
       "    .dataframe thead th {\n",
       "        text-align: right;\n",
       "    }\n",
       "</style>\n",
       "<table border=\"1\" class=\"dataframe\">\n",
       "  <thead>\n",
       "    <tr style=\"text-align: right;\">\n",
       "      <th></th>\n",
       "      <th>total</th>\n",
       "      <th>available</th>\n",
       "      <th>used</th>\n",
       "      <th>free</th>\n",
       "      <th>active</th>\n",
       "      <th>inactive</th>\n",
       "      <th>buffers</th>\n",
       "      <th>cached</th>\n",
       "      <th>shared</th>\n",
       "      <th>slab</th>\n",
       "    </tr>\n",
       "    <tr>\n",
       "      <th>name</th>\n",
       "      <th></th>\n",
       "      <th></th>\n",
       "      <th></th>\n",
       "      <th></th>\n",
       "      <th></th>\n",
       "      <th></th>\n",
       "      <th></th>\n",
       "      <th></th>\n",
       "      <th></th>\n",
       "      <th></th>\n",
       "    </tr>\n",
       "  </thead>\n",
       "  <tbody>\n",
       "    <tr>\n",
       "      <th>tcp://169.228.131.86:37097</th>\n",
       "      <td>135.0</td>\n",
       "      <td>98.0</td>\n",
       "      <td>36.0</td>\n",
       "      <td>0.0</td>\n",
       "      <td>44.0</td>\n",
       "      <td>82.0</td>\n",
       "      <td>3.0</td>\n",
       "      <td>93.0</td>\n",
       "      <td>0.0</td>\n",
       "      <td>6.0</td>\n",
       "    </tr>\n",
       "    <tr>\n",
       "      <th>tcp://169.228.131.86:40762</th>\n",
       "      <td>135.0</td>\n",
       "      <td>98.0</td>\n",
       "      <td>36.0</td>\n",
       "      <td>0.0</td>\n",
       "      <td>44.0</td>\n",
       "      <td>82.0</td>\n",
       "      <td>3.0</td>\n",
       "      <td>93.0</td>\n",
       "      <td>0.0</td>\n",
       "      <td>6.0</td>\n",
       "    </tr>\n",
       "    <tr>\n",
       "      <th>tcp://169.228.131.86:41178</th>\n",
       "      <td>135.0</td>\n",
       "      <td>98.0</td>\n",
       "      <td>36.0</td>\n",
       "      <td>0.0</td>\n",
       "      <td>44.0</td>\n",
       "      <td>82.0</td>\n",
       "      <td>3.0</td>\n",
       "      <td>93.0</td>\n",
       "      <td>0.0</td>\n",
       "      <td>6.0</td>\n",
       "    </tr>\n",
       "    <tr>\n",
       "      <th>tcp://169.228.131.86:42619</th>\n",
       "      <td>135.0</td>\n",
       "      <td>98.0</td>\n",
       "      <td>36.0</td>\n",
       "      <td>0.0</td>\n",
       "      <td>44.0</td>\n",
       "      <td>82.0</td>\n",
       "      <td>3.0</td>\n",
       "      <td>93.0</td>\n",
       "      <td>0.0</td>\n",
       "      <td>6.0</td>\n",
       "    </tr>\n",
       "    <tr>\n",
       "      <th>tcp://169.228.131.86:45870</th>\n",
       "      <td>135.0</td>\n",
       "      <td>98.0</td>\n",
       "      <td>36.0</td>\n",
       "      <td>0.0</td>\n",
       "      <td>44.0</td>\n",
       "      <td>82.0</td>\n",
       "      <td>3.0</td>\n",
       "      <td>93.0</td>\n",
       "      <td>0.0</td>\n",
       "      <td>6.0</td>\n",
       "    </tr>\n",
       "    <tr>\n",
       "      <th>tcp://169.228.132.112:41329</th>\n",
       "      <td>134.0</td>\n",
       "      <td>77.0</td>\n",
       "      <td>56.0</td>\n",
       "      <td>0.0</td>\n",
       "      <td>73.0</td>\n",
       "      <td>49.0</td>\n",
       "      <td>0.0</td>\n",
       "      <td>77.0</td>\n",
       "      <td>0.0</td>\n",
       "      <td>9.0</td>\n",
       "    </tr>\n",
       "    <tr>\n",
       "      <th>tcp://169.228.132.135:38346</th>\n",
       "      <td>134.0</td>\n",
       "      <td>113.0</td>\n",
       "      <td>21.0</td>\n",
       "      <td>0.0</td>\n",
       "      <td>41.0</td>\n",
       "      <td>82.0</td>\n",
       "      <td>0.0</td>\n",
       "      <td>112.0</td>\n",
       "      <td>0.0</td>\n",
       "      <td>8.0</td>\n",
       "    </tr>\n",
       "    <tr>\n",
       "      <th>tcp://169.228.132.135:38647</th>\n",
       "      <td>134.0</td>\n",
       "      <td>113.0</td>\n",
       "      <td>21.0</td>\n",
       "      <td>0.0</td>\n",
       "      <td>41.0</td>\n",
       "      <td>82.0</td>\n",
       "      <td>0.0</td>\n",
       "      <td>112.0</td>\n",
       "      <td>0.0</td>\n",
       "      <td>8.0</td>\n",
       "    </tr>\n",
       "    <tr>\n",
       "      <th>tcp://169.228.132.150:21331</th>\n",
       "      <td>134.0</td>\n",
       "      <td>79.0</td>\n",
       "      <td>55.0</td>\n",
       "      <td>0.0</td>\n",
       "      <td>55.0</td>\n",
       "      <td>62.0</td>\n",
       "      <td>0.0</td>\n",
       "      <td>78.0</td>\n",
       "      <td>0.0</td>\n",
       "      <td>10.0</td>\n",
       "    </tr>\n",
       "    <tr>\n",
       "      <th>tcp://169.228.132.158:22590</th>\n",
       "      <td>134.0</td>\n",
       "      <td>97.0</td>\n",
       "      <td>37.0</td>\n",
       "      <td>0.0</td>\n",
       "      <td>34.0</td>\n",
       "      <td>82.0</td>\n",
       "      <td>0.0</td>\n",
       "      <td>96.0</td>\n",
       "      <td>0.0</td>\n",
       "      <td>10.0</td>\n",
       "    </tr>\n",
       "  </tbody>\n",
       "</table>\n",
       "</div>"
      ],
      "text/plain": [
       "                             total  available  used  free  active  inactive  \\\n",
       "name                                                                          \n",
       "tcp://169.228.131.86:37097   135.0       98.0  36.0   0.0    44.0      82.0   \n",
       "tcp://169.228.131.86:40762   135.0       98.0  36.0   0.0    44.0      82.0   \n",
       "tcp://169.228.131.86:41178   135.0       98.0  36.0   0.0    44.0      82.0   \n",
       "tcp://169.228.131.86:42619   135.0       98.0  36.0   0.0    44.0      82.0   \n",
       "tcp://169.228.131.86:45870   135.0       98.0  36.0   0.0    44.0      82.0   \n",
       "tcp://169.228.132.112:41329  134.0       77.0  56.0   0.0    73.0      49.0   \n",
       "tcp://169.228.132.135:38346  134.0      113.0  21.0   0.0    41.0      82.0   \n",
       "tcp://169.228.132.135:38647  134.0      113.0  21.0   0.0    41.0      82.0   \n",
       "tcp://169.228.132.150:21331  134.0       79.0  55.0   0.0    55.0      62.0   \n",
       "tcp://169.228.132.158:22590  134.0       97.0  37.0   0.0    34.0      82.0   \n",
       "\n",
       "                             buffers  cached  shared  slab  \n",
       "name                                                        \n",
       "tcp://169.228.131.86:37097       3.0    93.0     0.0   6.0  \n",
       "tcp://169.228.131.86:40762       3.0    93.0     0.0   6.0  \n",
       "tcp://169.228.131.86:41178       3.0    93.0     0.0   6.0  \n",
       "tcp://169.228.131.86:42619       3.0    93.0     0.0   6.0  \n",
       "tcp://169.228.131.86:45870       3.0    93.0     0.0   6.0  \n",
       "tcp://169.228.132.112:41329      0.0    77.0     0.0   9.0  \n",
       "tcp://169.228.132.135:38346      0.0   112.0     0.0   8.0  \n",
       "tcp://169.228.132.135:38647      0.0   112.0     0.0   8.0  \n",
       "tcp://169.228.132.150:21331      0.0    78.0     0.0  10.0  \n",
       "tcp://169.228.132.158:22590      0.0    96.0     0.0  10.0  "
      ]
     },
     "execution_count": 11,
     "metadata": {},
     "output_type": "execute_result"
    }
   ],
   "source": [
    "df.query(\"free < 1\")"
   ]
  },
  {
   "cell_type": "code",
   "execution_count": 12,
   "metadata": {
    "ExecuteTime": {
     "end_time": "2020-02-01T01:08:17.986461Z",
     "start_time": "2020-02-01T01:06:55.396503Z"
    }
   },
   "outputs": [
    {
     "name": "stdout",
     "output_type": "stream",
     "text": [
      "1 11\n",
      "1 11\n",
      "1 11\n",
      "1 11\n",
      "1 11\n",
      "1 11\n",
      "1 11\n",
      "1 11\n",
      "1 12\n",
      "1 12\n",
      "1 12\n",
      "1 11\n",
      "1 13\n",
      "1 12\n",
      "1 9\n",
      "1 8\n",
      "0 7\n",
      "0 6\n",
      "0 6\n",
      "0 6\n",
      "0 6\n",
      "0 6\n",
      "0 6\n",
      "0 6\n",
      "0 6\n",
      "0 6\n",
      "0 6\n",
      "0 6\n",
      "0 6\n",
      "0 6\n",
      "0 6\n",
      "0 6\n",
      "0 6\n",
      "0 6\n",
      "0 6\n",
      "0 6\n",
      "0 6\n",
      "0 6\n",
      "0 6\n",
      "0 6\n",
      "0 6\n",
      "0 6\n",
      "0 6\n",
      "0 6\n",
      "0 6\n",
      "0 6\n",
      "0 6\n",
      "0 6\n",
      "0 6\n",
      "0 6\n",
      "0 6\n",
      "0 6\n",
      "0 6\n",
      "0 6\n",
      "0 6\n",
      "0 6\n",
      "0 6\n",
      "0 6\n",
      "0 6\n",
      "0 6\n",
      "0 6\n",
      "0 6\n",
      "0 6\n",
      "0 6\n",
      "0 6\n",
      "0 6\n",
      "0 6\n",
      "0 6\n",
      "0 6\n",
      "0 6\n",
      "0 6\n",
      "0 6\n",
      "0 6\n",
      "0 6\n",
      "0 6\n",
      "0 6\n",
      "0 6\n",
      "0 6\n",
      "0 6\n",
      "0 6\n",
      "0 6\n",
      "0 6\n",
      "0 6\n"
     ]
    },
    {
     "ename": "KeyboardInterrupt",
     "evalue": "",
     "output_type": "error",
     "traceback": [
      "\u001b[0;31m---------------------------------------------------------------------------\u001b[0m",
      "\u001b[0;31mKeyboardInterrupt\u001b[0m                         Traceback (most recent call last)",
      "\u001b[0;32m<ipython-input-12-b21f75b09ceb>\u001b[0m in \u001b[0;36m<module>\u001b[0;34m\u001b[0m\n\u001b[1;32m      9\u001b[0m     \u001b[0mntot\u001b[0m \u001b[0;34m=\u001b[0m \u001b[0mlen\u001b[0m\u001b[0;34m(\u001b[0m\u001b[0mtail\u001b[0m\u001b[0;34m)\u001b[0m\u001b[0;34m\u001b[0m\u001b[0;34m\u001b[0m\u001b[0m\n\u001b[1;32m     10\u001b[0m     \u001b[0mprint\u001b[0m\u001b[0;34m(\u001b[0m\u001b[0mnbad\u001b[0m\u001b[0;34m,\u001b[0m\u001b[0mntot\u001b[0m\u001b[0;34m)\u001b[0m\u001b[0;34m\u001b[0m\u001b[0;34m\u001b[0m\u001b[0m\n\u001b[0;32m---> 11\u001b[0;31m     \u001b[0mtime\u001b[0m\u001b[0;34m.\u001b[0m\u001b[0msleep\u001b[0m\u001b[0;34m(\u001b[0m\u001b[0;36m1\u001b[0m\u001b[0;34m)\u001b[0m\u001b[0;34m\u001b[0m\u001b[0;34m\u001b[0m\u001b[0m\n\u001b[0m",
      "\u001b[0;31mKeyboardInterrupt\u001b[0m: "
     ]
    }
   ],
   "source": [
    "import time\n",
    "for i in range(100):\n",
    "    tail = []\n",
    "    for k,v in client.processing().items():\n",
    "        if len(v):\n",
    "            tail.append(k)\n",
    "    x = df[df.index.isin(tail)]\n",
    "    nbad = (x[\"free\"] < 1).sum()\n",
    "    ntot = len(tail)\n",
    "    print(nbad,ntot)\n",
    "    time.sleep(1)"
   ]
  },
  {
   "cell_type": "code",
   "execution_count": 10,
   "metadata": {
    "ExecuteTime": {
     "end_time": "2020-01-31T21:15:45.622461Z",
     "start_time": "2020-01-31T21:15:45.519857Z"
    }
   },
   "outputs": [
    {
     "data": {
      "text/plain": [
       "{'cabinet-7-7-5.t2.ucsd.edu:33719': 0,\n",
       " 'cabinet-7-7-5.t2.ucsd.edu:34152': 0,\n",
       " 'cabinet-7-7-5.t2.ucsd.edu:37164': 0,\n",
       " 'cabinet-7-7-5.t2.ucsd.edu:39000': 0,\n",
       " 'cabinet-7-7-5.t2.ucsd.edu:39299': 0,\n",
       " 'sdsc-1.t2.ucsd.edu:13393': 0,\n",
       " 'sdsc-12.t2.ucsd.edu:1187': 0,\n",
       " 'sdsc-41.t2.ucsd.edu:44626': 0,\n",
       " 'sdsc-77.t2.ucsd.edu:21061': 0,\n",
       " 'sdsc-83.t2.ucsd.edu:15380': 0}"
      ]
     },
     "execution_count": 10,
     "metadata": {},
     "output_type": "execute_result"
    },
    {
     "name": "stderr",
     "output_type": "stream",
     "text": [
      "distributed.utils - ERROR - 'data'\n",
      "Traceback (most recent call last):\n",
      "  File \"/home/users/namin/miniconda3/envs/daskanalysisenv/lib/python3.8/site-packages/distributed/utils.py\", line 662, in log_errors\n",
      "    yield\n",
      "  File \"/home/users/namin/miniconda3/envs/daskanalysisenv/lib/python3.8/site-packages/distributed/scheduler.py\", line 3030, in rebalance\n",
      "    result = await asyncio.gather(\n",
      "  File \"/home/users/namin/miniconda3/envs/daskanalysisenv/lib/python3.8/site-packages/distributed/utils_comm.py\", line 386, in retry_operation\n",
      "    return await retry(\n",
      "  File \"/home/users/namin/miniconda3/envs/daskanalysisenv/lib/python3.8/site-packages/distributed/utils_comm.py\", line 379, in retry\n",
      "    return await coro()\n",
      "  File \"/home/users/namin/miniconda3/envs/daskanalysisenv/lib/python3.8/site-packages/distributed/core.py\", line 757, in send_recv_from_rpc\n",
      "    result = await send_recv(comm=comm, op=key, **kwargs)\n",
      "  File \"/home/users/namin/miniconda3/envs/daskanalysisenv/lib/python3.8/site-packages/distributed/core.py\", line 558, in send_recv\n",
      "    raise Exception(response[\"text\"])\n",
      "Exception: 'data'\n",
      "distributed.core - ERROR - 'data'\n",
      "Traceback (most recent call last):\n",
      "  File \"/home/users/namin/miniconda3/envs/daskanalysisenv/lib/python3.8/site-packages/distributed/core.py\", line 412, in handle_comm\n",
      "    result = await result\n",
      "  File \"/home/users/namin/miniconda3/envs/daskanalysisenv/lib/python3.8/site-packages/distributed/scheduler.py\", line 3030, in rebalance\n",
      "    result = await asyncio.gather(\n",
      "  File \"/home/users/namin/miniconda3/envs/daskanalysisenv/lib/python3.8/site-packages/distributed/utils_comm.py\", line 386, in retry_operation\n",
      "    return await retry(\n",
      "  File \"/home/users/namin/miniconda3/envs/daskanalysisenv/lib/python3.8/site-packages/distributed/utils_comm.py\", line 379, in retry\n",
      "    return await coro()\n",
      "  File \"/home/users/namin/miniconda3/envs/daskanalysisenv/lib/python3.8/site-packages/distributed/core.py\", line 757, in send_recv_from_rpc\n",
      "    result = await send_recv(comm=comm, op=key, **kwargs)\n",
      "  File \"/home/users/namin/miniconda3/envs/daskanalysisenv/lib/python3.8/site-packages/distributed/core.py\", line 558, in send_recv\n",
      "    raise Exception(response[\"text\"])\n",
      "Exception: 'data'\n"
     ]
    }
   ],
   "source": [
    "import subprocess\n",
    "def f():\n",
    "    return subprocess.getoutput(\"hostname\")\n",
    "worker_to_hostname = client.run(f)#,priority=100)\n",
    "worker_to_hostname = {k:v+\":\"+k.rsplit(\":\",1)[-1] for k,v in worker_to_hostname.items()}\n",
    "{worker_to_hostname[k]:len(v) for k,v in client.processing().items()}"
   ]
  },
  {
   "cell_type": "code",
   "execution_count": null,
   "metadata": {
    "ExecuteTime": {
     "end_time": "2020-01-31T20:49:15.695197Z",
     "start_time": "2020-01-31T20:49:15.677486Z"
    }
   },
   "outputs": [],
   "source": []
  }
 ],
 "metadata": {
  "kernelspec": {
   "display_name": "Python 3",
   "language": "python",
   "name": "python3"
  },
  "language_info": {
   "codemirror_mode": {
    "name": "ipython",
    "version": 3
   },
   "file_extension": ".py",
   "mimetype": "text/x-python",
   "name": "python",
   "nbconvert_exporter": "python",
   "pygments_lexer": "ipython3",
   "version": "3.8.1"
  }
 },
 "nbformat": 4,
 "nbformat_minor": 2
}
