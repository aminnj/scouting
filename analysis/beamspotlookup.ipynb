{
 "cells": [
  {
   "cell_type": "code",
   "execution_count": 10,
   "metadata": {},
   "outputs": [],
   "source": [
    "%config InlineBackend.figure_formats = ['retina']\n",
    "%matplotlib inline\n",
    "import pandas as pd\n",
    "import uproot\n",
    "import awkward\n",
    "import matplotlib.pyplot as plt\n",
    "import numpy as np\n",
    "import math\n",
    "import numba\n",
    "from matplotlib.colors import LogNorm\n",
    "import uproot_methods\n",
    "import glob\n",
    "from tqdm.auto import tqdm\n",
    "import gzip\n",
    "import pickle"
   ]
  },
  {
   "cell_type": "code",
   "execution_count": 11,
   "metadata": {},
   "outputs": [
    {
     "data": {
      "application/vnd.jupyter.widget-view+json": {
       "model_id": "a8feaadcdc82429793a12f8ff1f66830",
       "version_major": 2,
       "version_minor": 0
      },
      "text/plain": [
       "HBox(children=(IntProgress(value=0, max=4610), HTML(value='')))"
      ]
     },
     "metadata": {},
     "output_type": "display_data"
    },
    {
     "name": "stdout",
     "output_type": "stream",
     "text": [
      "\n"
     ]
    }
   ],
   "source": [
    "dfc = pd.concat(map(pd.read_csv,tqdm(glob.glob(\"/home/users/namin/2019/scouting/repo/beamspot/outputs_full2018/*.csv\"))))"
   ]
  },
  {
   "cell_type": "code",
   "execution_count": 27,
   "metadata": {},
   "outputs": [
    {
     "data": {
      "text/html": [
       "<div>\n",
       "<style scoped>\n",
       "    .dataframe tbody tr th:only-of-type {\n",
       "        vertical-align: middle;\n",
       "    }\n",
       "\n",
       "    .dataframe tbody tr th {\n",
       "        vertical-align: top;\n",
       "    }\n",
       "\n",
       "    .dataframe thead th {\n",
       "        text-align: right;\n",
       "    }\n",
       "</style>\n",
       "<table border=\"1\" class=\"dataframe\">\n",
       "  <thead>\n",
       "    <tr style=\"text-align: right;\">\n",
       "      <th></th>\n",
       "      <th>x</th>\n",
       "      <th>y</th>\n",
       "      <th>z</th>\n",
       "      <th>run</th>\n",
       "      <th>lumi</th>\n",
       "    </tr>\n",
       "  </thead>\n",
       "  <tbody>\n",
       "    <tr>\n",
       "      <td>0</td>\n",
       "      <td>0.096837</td>\n",
       "      <td>-0.067508</td>\n",
       "      <td>-0.235287</td>\n",
       "      <td>316153</td>\n",
       "      <td>703</td>\n",
       "    </tr>\n",
       "    <tr>\n",
       "      <td>1</td>\n",
       "      <td>0.096833</td>\n",
       "      <td>-0.067510</td>\n",
       "      <td>-0.285604</td>\n",
       "      <td>316153</td>\n",
       "      <td>626</td>\n",
       "    </tr>\n",
       "    <tr>\n",
       "      <td>2</td>\n",
       "      <td>0.096860</td>\n",
       "      <td>-0.067532</td>\n",
       "      <td>-0.217627</td>\n",
       "      <td>316153</td>\n",
       "      <td>710</td>\n",
       "    </tr>\n",
       "    <tr>\n",
       "      <td>3</td>\n",
       "      <td>0.096855</td>\n",
       "      <td>-0.067539</td>\n",
       "      <td>-0.394764</td>\n",
       "      <td>316153</td>\n",
       "      <td>743</td>\n",
       "    </tr>\n",
       "    <tr>\n",
       "      <td>4</td>\n",
       "      <td>0.096829</td>\n",
       "      <td>-0.067498</td>\n",
       "      <td>-0.372810</td>\n",
       "      <td>316153</td>\n",
       "      <td>666</td>\n",
       "    </tr>\n",
       "    <tr>\n",
       "      <td>...</td>\n",
       "      <td>...</td>\n",
       "      <td>...</td>\n",
       "      <td>...</td>\n",
       "      <td>...</td>\n",
       "      <td>...</td>\n",
       "    </tr>\n",
       "    <tr>\n",
       "      <td>72</td>\n",
       "      <td>0.095450</td>\n",
       "      <td>-0.061728</td>\n",
       "      <td>-0.003077</td>\n",
       "      <td>325170</td>\n",
       "      <td>553</td>\n",
       "    </tr>\n",
       "    <tr>\n",
       "      <td>73</td>\n",
       "      <td>0.095538</td>\n",
       "      <td>-0.061831</td>\n",
       "      <td>0.399790</td>\n",
       "      <td>325170</td>\n",
       "      <td>1075</td>\n",
       "    </tr>\n",
       "    <tr>\n",
       "      <td>74</td>\n",
       "      <td>0.095488</td>\n",
       "      <td>-0.061689</td>\n",
       "      <td>0.183379</td>\n",
       "      <td>325170</td>\n",
       "      <td>308</td>\n",
       "    </tr>\n",
       "    <tr>\n",
       "      <td>75</td>\n",
       "      <td>0.095538</td>\n",
       "      <td>-0.061831</td>\n",
       "      <td>0.399790</td>\n",
       "      <td>325170</td>\n",
       "      <td>1078</td>\n",
       "    </tr>\n",
       "    <tr>\n",
       "      <td>76</td>\n",
       "      <td>0.095548</td>\n",
       "      <td>-0.061848</td>\n",
       "      <td>0.275832</td>\n",
       "      <td>325170</td>\n",
       "      <td>1148</td>\n",
       "    </tr>\n",
       "  </tbody>\n",
       "</table>\n",
       "<p>258233 rows × 5 columns</p>\n",
       "</div>"
      ],
      "text/plain": [
       "           x         y         z     run  lumi\n",
       "0   0.096837 -0.067508 -0.235287  316153   703\n",
       "1   0.096833 -0.067510 -0.285604  316153   626\n",
       "2   0.096860 -0.067532 -0.217627  316153   710\n",
       "3   0.096855 -0.067539 -0.394764  316153   743\n",
       "4   0.096829 -0.067498 -0.372810  316153   666\n",
       "..       ...       ...       ...     ...   ...\n",
       "72  0.095450 -0.061728 -0.003077  325170   553\n",
       "73  0.095538 -0.061831  0.399790  325170  1075\n",
       "74  0.095488 -0.061689  0.183379  325170   308\n",
       "75  0.095538 -0.061831  0.399790  325170  1078\n",
       "76  0.095548 -0.061848  0.275832  325170  1148\n",
       "\n",
       "[258233 rows x 5 columns]"
      ]
     },
     "execution_count": 27,
     "metadata": {},
     "output_type": "execute_result"
    }
   ],
   "source": [
    "dfc"
   ]
  },
  {
   "cell_type": "code",
   "execution_count": 28,
   "metadata": {},
   "outputs": [
    {
     "data": {
      "text/plain": [
       "<matplotlib.collections.PathCollection at 0x7f84e146ebe0>"
      ]
     },
     "execution_count": 28,
     "metadata": {},
     "output_type": "execute_result"
    },
    {
     "data": {
      "image/png": "[encoded data removed]",
      "text/plain": [
       "<Figure size 432x288 with 1 Axes>"
      ]
     },
     "metadata": {
      "image/png": {
       "height": 249,
       "width": 393
      },
      "needs_background": "light"
     },
     "output_type": "display_data"
    }
   ],
   "source": [
    "plt.scatter(dfc.x,dfc.y,alpha=0.2,s=0.5)"
   ]
  },
  {
   "cell_type": "code",
   "execution_count": 29,
   "metadata": {},
   "outputs": [],
   "source": [
    "dfc[[\"x\",\"y\",\"z\"]] = dfc[[\"x\",\"y\",\"z\"]].astype(\"float32\")\n",
    "dfc[[\"run\",\"lumi\"]] = dfc[[\"run\",\"lumi\"]].astype(\"int32\")"
   ]
  },
  {
   "cell_type": "code",
   "execution_count": 30,
   "metadata": {},
   "outputs": [
    {
     "name": "stdout",
     "output_type": "stream",
     "text": [
      "<class 'pandas.core.frame.DataFrame'>\n",
      "Int64Index: 258233 entries, 0 to 76\n",
      "Data columns (total 5 columns):\n",
      "x       258233 non-null float32\n",
      "y       258233 non-null float32\n",
      "z       258233 non-null float32\n",
      "run     258233 non-null int32\n",
      "lumi    258233 non-null int32\n",
      "dtypes: float32(3), int32(2)\n",
      "memory usage: 6.9 MB\n"
     ]
    }
   ],
   "source": [
    "dfc.info()"
   ]
  },
  {
   "cell_type": "code",
   "execution_count": 31,
   "metadata": {},
   "outputs": [
    {
     "data": {
      "text/html": [
       "<div>\n",
       "<style scoped>\n",
       "    .dataframe tbody tr th:only-of-type {\n",
       "        vertical-align: middle;\n",
       "    }\n",
       "\n",
       "    .dataframe tbody tr th {\n",
       "        vertical-align: top;\n",
       "    }\n",
       "\n",
       "    .dataframe thead th {\n",
       "        text-align: right;\n",
       "    }\n",
       "</style>\n",
       "<table border=\"1\" class=\"dataframe\">\n",
       "  <thead>\n",
       "    <tr style=\"text-align: right;\">\n",
       "      <th></th>\n",
       "      <th>x</th>\n",
       "      <th>y</th>\n",
       "      <th>z</th>\n",
       "      <th>run</th>\n",
       "      <th>lumi</th>\n",
       "    </tr>\n",
       "  </thead>\n",
       "  <tbody>\n",
       "    <tr>\n",
       "      <td>0</td>\n",
       "      <td>0.096837</td>\n",
       "      <td>-0.067508</td>\n",
       "      <td>-0.235287</td>\n",
       "      <td>316153</td>\n",
       "      <td>703</td>\n",
       "    </tr>\n",
       "    <tr>\n",
       "      <td>1</td>\n",
       "      <td>0.096833</td>\n",
       "      <td>-0.067510</td>\n",
       "      <td>-0.285604</td>\n",
       "      <td>316153</td>\n",
       "      <td>626</td>\n",
       "    </tr>\n",
       "    <tr>\n",
       "      <td>2</td>\n",
       "      <td>0.096860</td>\n",
       "      <td>-0.067532</td>\n",
       "      <td>-0.217627</td>\n",
       "      <td>316153</td>\n",
       "      <td>710</td>\n",
       "    </tr>\n",
       "    <tr>\n",
       "      <td>3</td>\n",
       "      <td>0.096855</td>\n",
       "      <td>-0.067539</td>\n",
       "      <td>-0.394764</td>\n",
       "      <td>316153</td>\n",
       "      <td>743</td>\n",
       "    </tr>\n",
       "    <tr>\n",
       "      <td>4</td>\n",
       "      <td>0.096829</td>\n",
       "      <td>-0.067498</td>\n",
       "      <td>-0.372810</td>\n",
       "      <td>316153</td>\n",
       "      <td>666</td>\n",
       "    </tr>\n",
       "    <tr>\n",
       "      <td>...</td>\n",
       "      <td>...</td>\n",
       "      <td>...</td>\n",
       "      <td>...</td>\n",
       "      <td>...</td>\n",
       "      <td>...</td>\n",
       "    </tr>\n",
       "    <tr>\n",
       "      <td>72</td>\n",
       "      <td>0.095450</td>\n",
       "      <td>-0.061728</td>\n",
       "      <td>-0.003077</td>\n",
       "      <td>325170</td>\n",
       "      <td>553</td>\n",
       "    </tr>\n",
       "    <tr>\n",
       "      <td>73</td>\n",
       "      <td>0.095538</td>\n",
       "      <td>-0.061831</td>\n",
       "      <td>0.399790</td>\n",
       "      <td>325170</td>\n",
       "      <td>1075</td>\n",
       "    </tr>\n",
       "    <tr>\n",
       "      <td>74</td>\n",
       "      <td>0.095488</td>\n",
       "      <td>-0.061689</td>\n",
       "      <td>0.183379</td>\n",
       "      <td>325170</td>\n",
       "      <td>308</td>\n",
       "    </tr>\n",
       "    <tr>\n",
       "      <td>75</td>\n",
       "      <td>0.095538</td>\n",
       "      <td>-0.061831</td>\n",
       "      <td>0.399790</td>\n",
       "      <td>325170</td>\n",
       "      <td>1078</td>\n",
       "    </tr>\n",
       "    <tr>\n",
       "      <td>76</td>\n",
       "      <td>0.095548</td>\n",
       "      <td>-0.061848</td>\n",
       "      <td>0.275832</td>\n",
       "      <td>325170</td>\n",
       "      <td>1148</td>\n",
       "    </tr>\n",
       "  </tbody>\n",
       "</table>\n",
       "<p>258233 rows × 5 columns</p>\n",
       "</div>"
      ],
      "text/plain": [
       "           x         y         z     run  lumi\n",
       "0   0.096837 -0.067508 -0.235287  316153   703\n",
       "1   0.096833 -0.067510 -0.285604  316153   626\n",
       "2   0.096860 -0.067532 -0.217627  316153   710\n",
       "3   0.096855 -0.067539 -0.394764  316153   743\n",
       "4   0.096829 -0.067498 -0.372810  316153   666\n",
       "..       ...       ...       ...     ...   ...\n",
       "72  0.095450 -0.061728 -0.003077  325170   553\n",
       "73  0.095538 -0.061831  0.399790  325170  1075\n",
       "74  0.095488 -0.061689  0.183379  325170   308\n",
       "75  0.095538 -0.061831  0.399790  325170  1078\n",
       "76  0.095548 -0.061848  0.275832  325170  1148\n",
       "\n",
       "[258233 rows x 5 columns]"
      ]
     },
     "execution_count": 31,
     "metadata": {},
     "output_type": "execute_result"
    }
   ],
   "source": [
    "dfc"
   ]
  },
  {
   "cell_type": "code",
   "execution_count": 62,
   "metadata": {},
   "outputs": [],
   "source": [
    "df = dfc.sort_values([\"run\",\"lumi\"])"
   ]
  },
  {
   "cell_type": "code",
   "execution_count": 65,
   "metadata": {},
   "outputs": [
    {
     "data": {
      "application/vnd.jupyter.widget-view+json": {
       "model_id": "613967605ec54eadab59e31cfac133ff",
       "version_major": 2,
       "version_minor": 0
      },
      "text/plain": [
       "HBox(children=(IntProgress(value=0, max=258233), HTML(value='')))"
      ]
     },
     "metadata": {},
     "output_type": "display_data"
    },
    {
     "name": "stdout",
     "output_type": "stream",
     "text": [
      "\n"
     ]
    }
   ],
   "source": [
    "d = []\n",
    "for run,lumi,x,y,z in tqdm(df[[\"run\",\"lumi\",\"x\",\"y\",\"z\"]].values):\n",
    "    run = int(run)\n",
    "    lumi = int(lumi)\n",
    "    d.append([run,lumi,float(x),float(y),float(z)])\n",
    "#     break\n",
    "d.append([0,0] + df[[\"x\",\"y\",\"z\"]].mean(axis=0).values.tolist())\n",
    "# print(d)\n",
    "with gzip.open(\"beamspots_2018.pkl.gz\",\"wb\") as fh:\n",
    "    pickle.dump(d,fh,2)"
   ]
  },
  {
   "cell_type": "code",
   "execution_count": 23,
   "metadata": {},
   "outputs": [],
   "source": [
    "\n",
    "# t = uproot.open(\"/hadoop/cms/store/user/namin/ProjectMetis/ScoutingCaloMuon_Run2018C-v1_RAW_v3/output_1.root\")[\"Events\"]\n",
    "# t = uproot.open(\"/hadoop/cms/store/user/namin/ProjectMetis/ScoutingCaloMuon_Run2018C-v1_RAW_v3/output_2.root\")[\"Events\"]"
   ]
  },
  {
   "cell_type": "code",
   "execution_count": 17,
   "metadata": {},
   "outputs": [],
   "source": [
    "# %%time\n",
    "# run = t[\"run\"].array()\n",
    "# lumi = t[\"luminosityBlock\"].array()"
   ]
  },
  {
   "cell_type": "code",
   "execution_count": 18,
   "metadata": {},
   "outputs": [],
   "source": [
    "# %%time\n",
    "# df = pd.DataFrame(dict(run=run,lumi=lumi))\n",
    "# df"
   ]
  },
  {
   "cell_type": "code",
   "execution_count": 19,
   "metadata": {},
   "outputs": [],
   "source": [
    "# df = df.merge(dfbs,how=\"left\",on=[\"run\",\"lumi\"])"
   ]
  },
  {
   "cell_type": "code",
   "execution_count": 21,
   "metadata": {},
   "outputs": [],
   "source": [
    "# dfbs[\"xyz\"] = list(dfbs[[\"x\",\"y\",\"z\"]].itertuples(index=False,name=None))\n",
    "# bstable = dfbs.set_index([\"run\",\"lumi\"])[\"xyz\"].to_dict()\n",
    "# bstable"
   ]
  },
  {
   "cell_type": "code",
   "execution_count": 22,
   "metadata": {},
   "outputs": [],
   "source": [
    "# dfbs[\"xyz\"] = list(dfbs[[\"x\",\"y\",\"z\"]].itertuples(index=False,name=None))\n",
    "# bstable = dfbs.set_index([\"run\",\"lumi\"])[\"xyz\"].to_dict()"
   ]
  },
  {
   "cell_type": "code",
   "execution_count": null,
   "metadata": {},
   "outputs": [],
   "source": []
  }
 ],
 "metadata": {
  "kernelspec": {
   "display_name": "Python 3",
   "language": "python",
   "name": "python3"
  },
  "language_info": {
   "codemirror_mode": {
    "name": "ipython",
    "version": 3
   },
   "file_extension": ".py",
   "mimetype": "text/x-python",
   "name": "python",
   "nbconvert_exporter": "python",
   "pygments_lexer": "ipython3",
   "version": "3.7.3"
  }
 },
 "nbformat": 4,
 "nbformat_minor": 2
}
