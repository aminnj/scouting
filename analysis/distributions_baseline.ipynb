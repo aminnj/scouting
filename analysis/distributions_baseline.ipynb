{
 "cells": [
  {
   "cell_type": "code",
   "execution_count": 17,
   "metadata": {
    "ExecuteTime": {
     "end_time": "2019-12-18T00:19:56.960189Z",
     "start_time": "2019-12-18T00:19:56.946540Z"
    }
   },
   "outputs": [],
   "source": [
    "%matplotlib inline\n",
    "import pandas as pd\n",
    "import uproot\n",
    "import awkward\n",
    "import matplotlib.pyplot as plt\n",
    "import numpy as np\n",
    "import math\n",
    "import glob\n",
    "import numba\n",
    "from matplotlib.colors import LogNorm\n",
    "import uproot_methods\n",
    "from tqdm.auto import tqdm\n",
    "\n",
    "from utils import set_plotting_style, get_chunking, get_chunking_dask, smaller_dtypes\n",
    "import utils\n",
    "\n",
    "import scipy.stats\n",
    "import concurrent.futures\n",
    "from dask.distributed import Client\n",
    "import dask.dataframe as dd\n",
    "import dask.array as da\n",
    "from dask.distributed import progress\n",
    "from dask import delayed\n",
    "from yahist import Hist1D, Hist2D"
   ]
  },
  {
   "cell_type": "code",
   "execution_count": 18,
   "metadata": {
    "ExecuteTime": {
     "end_time": "2019-12-18T00:19:57.675739Z",
     "start_time": "2019-12-18T00:19:57.671366Z"
    }
   },
   "outputs": [],
   "source": [
    "set_plotting_style()"
   ]
  },
  {
   "cell_type": "code",
   "execution_count": null,
   "metadata": {},
   "outputs": [],
   "source": []
  },
  {
   "cell_type": "markdown",
   "metadata": {},
   "source": [
    "## Dataframe creation"
   ]
  },
  {
   "cell_type": "code",
   "execution_count": 3,
   "metadata": {
    "ExecuteTime": {
     "end_time": "2019-12-17T20:31:19.335133Z",
     "start_time": "2019-12-17T20:31:13.238317Z"
    }
   },
   "outputs": [
    {
     "data": {
      "application/vnd.jupyter.widget-view+json": {
       "model_id": "147635af081542adb2f3f77c131604c1",
       "version_major": 2,
       "version_minor": 0
      },
      "text/plain": [
       "HBox(children=(IntProgress(value=0, max=57), HTML(value='')))"
      ]
     },
     "metadata": {},
     "output_type": "display_data"
    },
    {
     "name": "stdout",
     "output_type": "stream",
     "text": [
      "\n"
     ]
    },
    {
     "data": {
      "application/vnd.jupyter.widget-view+json": {
       "model_id": "f1ac76e49565442ab4558f0c11d91745",
       "version_major": 2,
       "version_minor": 0
      },
      "text/plain": [
       "HBox(children=(IntProgress(value=0, max=1), HTML(value='')))"
      ]
     },
     "metadata": {},
     "output_type": "display_data"
    },
    {
     "name": "stdout",
     "output_type": "stream",
     "text": [
      "\n"
     ]
    }
   ],
   "source": [
    "executor = concurrent.futures.ProcessPoolExecutor(8)\n",
    "\n",
    "def make_df(fname,entrystart=None,entrystop=None,bigrho=True,iso=True):\n",
    "    t = uproot.open(fname)[\"Events\"]\n",
    "    arrs = t.arrays([\"/n(DV|Jet|PV|PVM|Muon|GenMuon)$/\",\"pass_*\",\n",
    "                     \"/BS_(x|y|z)$/\",\n",
    "                     \"/Muon_n(Valid|Matched|Tracker|Expected).*/\",\n",
    "                     \"/Muon_(pt|eta|phi|m|trackIso|charge|dz.*|dxy.*|chi2|ndof|drjet|pass*)$/\",\n",
    "                     \"/DV_(chi2|ndof|rho.*|inPixel.*|x|y|z|xError|yError|zError|pass*)$/\",\n",
    "                     \"run\",\"luminosityBlock\",\"event\",\n",
    "                     \"dimuon_*\",\"cosphi*\",\"absdphi*\",\"minabs*\",\"logabs*\",\n",
    "                     \"L1_*\",\n",
    "                    ],outputtype=dict,namedecode=\"ascii\",entrystart=entrystart,entrystop=entrystop)\n",
    "    \n",
    "    # booleans for selection\n",
    "    if iso:\n",
    "        sel = arrs[\"pass_baseline_iso\"]\n",
    "    else:\n",
    "        sel = arrs[\"pass_baseline\"]\n",
    "    \n",
    "    if bigrho:\n",
    "        sel = sel & (arrs[\"DV_rho\"]>1.0).any()\n",
    "\n",
    "    # flatten into dataframe and require `sel`\n",
    "    df = pd.DataFrame()\n",
    "    for k in arrs.keys():\n",
    "        if any(k.startswith(y) for y in [\"n\",\"pass_\",\"BS_\",\"MET_\",\"run\",\"lumi\",\"event\",\"L1_\",\n",
    "                                        \"dimuon\",\"cosphi\",\"absdphi\",\"minabs\",\"logabs\"]):\n",
    "            df[k] = arrs[k][sel]\n",
    "        if k.startswith(\"DV_\"):\n",
    "            df[k] = arrs[k][sel][:,0]\n",
    "        if k.startswith(\"Muon_\"):\n",
    "            df[k.replace(\"Muon_\",\"Muon1_\")] = arrs[k][sel][:,0]\n",
    "            df[k.replace(\"Muon_\",\"Muon2_\")] = arrs[k][sel][:,1]\n",
    "\n",
    "    # augment\n",
    "    TLVA = uproot_methods.TLorentzVectorArray\n",
    "    mu1 = TLVA.from_ptetaphim(df[\"Muon1_pt\"],df[\"Muon1_eta\"],df[\"Muon1_phi\"],df[\"Muon1_m\"])\n",
    "    mu2 = TLVA.from_ptetaphim(df[\"Muon2_pt\"],df[\"Muon2_eta\"],df[\"Muon2_phi\"],df[\"Muon2_m\"])\n",
    "    df[\"dimuon_deltaeta\"] = np.abs(mu1.eta - mu2.eta)\n",
    "    df[\"dimuon_deltar\"] = mu1.delta_r(mu2)\n",
    "    df[\"DV_xyErrorMax\"] = np.maximum(df[\"DV_xError\"],df[\"DV_yError\"])\n",
    "    \n",
    "    # category 1: any L1s, dR(mumu)<1.2\n",
    "    # category 2: at least the L1_15_7 bit, dR(mumu)>1.2, and pT>15/7\n",
    "    df[\"categ\"] = df.eval(\"   1*(dimuon_deltar<1.2) \"\n",
    "                          \" + 2*(dimuon_deltar>1.2 and L1_DoubleMu_15_7 and Muon1_pt>15 and Muon2_pt>7)\").astype(int)\n",
    "    \n",
    "    df[\"Muon1_excesshits\"] = df.eval(\"Muon1_nValidPixelHits-Muon1_nExpectedPixelHits\")\n",
    "    df[\"Muon2_excesshits\"] = df.eval(\"Muon2_nValidPixelHits-Muon2_nExpectedPixelHits\")\n",
    "    df[\"pass_excesshits\"] = df.eval(\"DV_rhoCorr<3.5 or (Muon1_excesshits<=0 and Muon2_excesshits<=0)\")\n",
    "    \n",
    "    for name,dtype in smaller_dtypes:\n",
    "        if name not in df.columns: continue\n",
    "        df[name] = df[name].astype(dtype, copy=False)\n",
    "    return df\n",
    "\n",
    "def make_df_noiso(x):\n",
    "    return make_df(x, iso=False)\n",
    "\n",
    "fnames_mc = glob.glob(\"/hadoop/cms/store/user/namin/ProjectMetis/HToZdZdTo2Mu2X_params_mzd20_ctau50mm_BABY_v10//output_1.root\")\n",
    "futures_mc = executor.map(make_df_noiso, fnames_mc)\n",
    "fnames_data = glob.glob(\"/hadoop/cms/store/user/namin/ProjectMetis/ScoutingCaloMuon_Run2018skim_2018C_v9_unblind1fb_RAW_v10skim1cm/*.root\")\n",
    "futures_data = executor.map(make_df_noiso, fnames_data)\n",
    "df_data = pd.concat(tqdm(futures_data,total=len(fnames_data))).reset_index(drop=True)\n",
    "df_mc = pd.concat(tqdm(futures_mc,total=len(fnames_mc))).reset_index(drop=True)\n",
    "\n",
    "del executor"
   ]
  },
  {
   "cell_type": "code",
   "execution_count": 4,
   "metadata": {
    "ExecuteTime": {
     "end_time": "2019-12-17T20:31:19.988933Z",
     "start_time": "2019-12-17T20:31:19.337452Z"
    }
   },
   "outputs": [],
   "source": [
    "df_data.to_pickle(\"data/df_data_noiso.pkl\")\n",
    "df_mc.to_pickle(\"data/df_mc_noiso.pkl\")\n",
    "\n",
    "df_data.query(\"pass_baseline_iso\").to_pickle(\"data/df_data.pkl\")\n",
    "df_mc.query(\"pass_baseline_iso\").to_pickle(\"data/df_mc.pkl\")"
   ]
  },
  {
   "cell_type": "code",
   "execution_count": 5,
   "metadata": {
    "ExecuteTime": {
     "end_time": "2019-12-17T20:31:22.500964Z",
     "start_time": "2019-12-17T20:31:22.497291Z"
    }
   },
   "outputs": [],
   "source": [
    "# NOTE, no iso is applied in the df. need to require pass_iso at event level"
   ]
  },
  {
   "cell_type": "code",
   "execution_count": 6,
   "metadata": {
    "ExecuteTime": {
     "end_time": "2019-12-17T20:31:24.265935Z",
     "start_time": "2019-12-17T20:31:23.746003Z"
    }
   },
   "outputs": [
    {
     "data": {
      "text/plain": [
       "<matplotlib.legend.Legend at 0x7f0ffe7eeda0>"
      ]
     },
     "execution_count": 6,
     "metadata": {},
     "output_type": "execute_result"
    },
    {
     "data": {
      "image/png": "[encoded data removed]",
      "text/plain": [
       "<Figure size 600x400 with 1 Axes>"
      ]
     },
     "metadata": {
      "image/png": {
       "height": 347,
       "width": 568
      },
      "needs_background": "light"
     },
     "output_type": "display_data"
    }
   ],
   "source": [
    "fig, ax = plt.subplots()\n",
    "bins = np.linspace(-5,5,30)\n",
    "varexp = \"logabsetaphi\"\n",
    "sel = \"(dimuon_mass>5)\"\n",
    "df_mc.tree.draw(varexp,sel,bins=bins).plot(ax=ax,label=\"mc\",histtype=\"step\")\n",
    "df_data.tree.draw(varexp,sel,bins=bins).plot(ax=ax,label=\"data\",show_errors=True,color=\"k\",ms=3)\n",
    "# df_mc.tree.draw(varexp,sel+\" and pass_iso\",bins=bins).plot(ax=ax,label=\"mc\",histtype=\"step\")\n",
    "# df_data.tree.draw(varexp,sel+\" and pass_iso\",bins=bins).plot(ax=ax,label=\"data\",show_errors=True,color=\"r\",ms=3)\n",
    "ax.legend()"
   ]
  },
  {
   "cell_type": "code",
   "execution_count": 7,
   "metadata": {
    "ExecuteTime": {
     "end_time": "2019-12-17T20:31:24.397496Z",
     "start_time": "2019-12-17T20:31:24.369778Z"
    }
   },
   "outputs": [
    {
     "name": "stdout",
     "output_type": "stream",
     "text": [
      "(150883, 89)\n",
      "(23145, 89)\n"
     ]
    },
    {
     "data": {
      "text/html": [
       "<div>\n",
       "<style scoped>\n",
       "    .dataframe tbody tr th:only-of-type {\n",
       "        vertical-align: middle;\n",
       "    }\n",
       "\n",
       "    .dataframe tbody tr th {\n",
       "        vertical-align: top;\n",
       "    }\n",
       "\n",
       "    .dataframe thead th {\n",
       "        text-align: right;\n",
       "    }\n",
       "</style>\n",
       "<table border=\"1\" class=\"dataframe\">\n",
       "  <thead>\n",
       "    <tr style=\"text-align: right;\">\n",
       "      <th></th>\n",
       "      <th>nDV</th>\n",
       "      <th>nJet</th>\n",
       "      <th>nPV</th>\n",
       "      <th>nPVM</th>\n",
       "      <th>nMuon</th>\n",
       "      <th>nGenMuon</th>\n",
       "      <th>pass_skim</th>\n",
       "      <th>pass_l1</th>\n",
       "      <th>pass_fiducialgen</th>\n",
       "      <th>pass_fiducialgen_norho</th>\n",
       "      <th>...</th>\n",
       "      <th>L1_DoubleMu4p5_SQ_OS_dR_Max1p2</th>\n",
       "      <th>L1_DoubleMu0er1p4_SQ_OS_dR_Max1p4</th>\n",
       "      <th>L1_DoubleMu_15_7</th>\n",
       "      <th>dimuon_deltaeta</th>\n",
       "      <th>dimuon_deltar</th>\n",
       "      <th>DV_xyErrorMax</th>\n",
       "      <th>categ</th>\n",
       "      <th>Muon1_excesshits</th>\n",
       "      <th>Muon2_excesshits</th>\n",
       "      <th>pass_excesshits</th>\n",
       "    </tr>\n",
       "  </thead>\n",
       "  <tbody>\n",
       "    <tr>\n",
       "      <td>0</td>\n",
       "      <td>1</td>\n",
       "      <td>3</td>\n",
       "      <td>13</td>\n",
       "      <td>4</td>\n",
       "      <td>2</td>\n",
       "      <td>2</td>\n",
       "      <td>True</td>\n",
       "      <td>True</td>\n",
       "      <td>True</td>\n",
       "      <td>True</td>\n",
       "      <td>...</td>\n",
       "      <td>True</td>\n",
       "      <td>False</td>\n",
       "      <td>True</td>\n",
       "      <td>0.277841</td>\n",
       "      <td>0.869605</td>\n",
       "      <td>0.007805</td>\n",
       "      <td>1</td>\n",
       "      <td>-3</td>\n",
       "      <td>-2</td>\n",
       "      <td>True</td>\n",
       "    </tr>\n",
       "    <tr>\n",
       "      <td>1</td>\n",
       "      <td>1</td>\n",
       "      <td>0</td>\n",
       "      <td>8</td>\n",
       "      <td>2</td>\n",
       "      <td>2</td>\n",
       "      <td>2</td>\n",
       "      <td>True</td>\n",
       "      <td>True</td>\n",
       "      <td>True</td>\n",
       "      <td>True</td>\n",
       "      <td>...</td>\n",
       "      <td>False</td>\n",
       "      <td>False</td>\n",
       "      <td>True</td>\n",
       "      <td>1.310411</td>\n",
       "      <td>1.531894</td>\n",
       "      <td>0.002032</td>\n",
       "      <td>0</td>\n",
       "      <td>-1</td>\n",
       "      <td>-1</td>\n",
       "      <td>True</td>\n",
       "    </tr>\n",
       "    <tr>\n",
       "      <td>2</td>\n",
       "      <td>1</td>\n",
       "      <td>2</td>\n",
       "      <td>10</td>\n",
       "      <td>2</td>\n",
       "      <td>2</td>\n",
       "      <td>2</td>\n",
       "      <td>True</td>\n",
       "      <td>True</td>\n",
       "      <td>True</td>\n",
       "      <td>True</td>\n",
       "      <td>...</td>\n",
       "      <td>True</td>\n",
       "      <td>False</td>\n",
       "      <td>True</td>\n",
       "      <td>0.940181</td>\n",
       "      <td>0.962775</td>\n",
       "      <td>0.001319</td>\n",
       "      <td>1</td>\n",
       "      <td>0</td>\n",
       "      <td>0</td>\n",
       "      <td>True</td>\n",
       "    </tr>\n",
       "    <tr>\n",
       "      <td>3</td>\n",
       "      <td>1</td>\n",
       "      <td>0</td>\n",
       "      <td>12</td>\n",
       "      <td>2</td>\n",
       "      <td>2</td>\n",
       "      <td>2</td>\n",
       "      <td>True</td>\n",
       "      <td>True</td>\n",
       "      <td>True</td>\n",
       "      <td>True</td>\n",
       "      <td>...</td>\n",
       "      <td>True</td>\n",
       "      <td>True</td>\n",
       "      <td>True</td>\n",
       "      <td>0.255480</td>\n",
       "      <td>0.664894</td>\n",
       "      <td>0.002429</td>\n",
       "      <td>1</td>\n",
       "      <td>0</td>\n",
       "      <td>-1</td>\n",
       "      <td>True</td>\n",
       "    </tr>\n",
       "    <tr>\n",
       "      <td>4</td>\n",
       "      <td>1</td>\n",
       "      <td>1</td>\n",
       "      <td>2</td>\n",
       "      <td>1</td>\n",
       "      <td>2</td>\n",
       "      <td>2</td>\n",
       "      <td>True</td>\n",
       "      <td>True</td>\n",
       "      <td>True</td>\n",
       "      <td>True</td>\n",
       "      <td>...</td>\n",
       "      <td>False</td>\n",
       "      <td>True</td>\n",
       "      <td>False</td>\n",
       "      <td>0.018492</td>\n",
       "      <td>1.446627</td>\n",
       "      <td>0.002416</td>\n",
       "      <td>0</td>\n",
       "      <td>0</td>\n",
       "      <td>-1</td>\n",
       "      <td>True</td>\n",
       "    </tr>\n",
       "  </tbody>\n",
       "</table>\n",
       "<p>5 rows × 89 columns</p>\n",
       "</div>"
      ],
      "text/plain": [
       "   nDV  nJet  nPV  nPVM  nMuon  nGenMuon  pass_skim  pass_l1  \\\n",
       "0    1     3   13     4      2         2       True     True   \n",
       "1    1     0    8     2      2         2       True     True   \n",
       "2    1     2   10     2      2         2       True     True   \n",
       "3    1     0   12     2      2         2       True     True   \n",
       "4    1     1    2     1      2         2       True     True   \n",
       "\n",
       "   pass_fiducialgen  pass_fiducialgen_norho  ...  \\\n",
       "0              True                    True  ...   \n",
       "1              True                    True  ...   \n",
       "2              True                    True  ...   \n",
       "3              True                    True  ...   \n",
       "4              True                    True  ...   \n",
       "\n",
       "   L1_DoubleMu4p5_SQ_OS_dR_Max1p2  L1_DoubleMu0er1p4_SQ_OS_dR_Max1p4  \\\n",
       "0                            True                              False   \n",
       "1                           False                              False   \n",
       "2                            True                              False   \n",
       "3                            True                               True   \n",
       "4                           False                               True   \n",
       "\n",
       "   L1_DoubleMu_15_7  dimuon_deltaeta  dimuon_deltar  DV_xyErrorMax  categ  \\\n",
       "0              True         0.277841       0.869605       0.007805      1   \n",
       "1              True         1.310411       1.531894       0.002032      0   \n",
       "2              True         0.940181       0.962775       0.001319      1   \n",
       "3              True         0.255480       0.664894       0.002429      1   \n",
       "4             False         0.018492       1.446627       0.002416      0   \n",
       "\n",
       "   Muon1_excesshits  Muon2_excesshits  pass_excesshits  \n",
       "0                -3                -2             True  \n",
       "1                -1                -1             True  \n",
       "2                 0                 0             True  \n",
       "3                 0                -1             True  \n",
       "4                 0                -1             True  \n",
       "\n",
       "[5 rows x 89 columns]"
      ]
     },
     "execution_count": 7,
     "metadata": {},
     "output_type": "execute_result"
    }
   ],
   "source": [
    "print(df_data.shape)\n",
    "print(df_mc.shape)\n",
    "df_mc.head()"
   ]
  },
  {
   "cell_type": "markdown",
   "metadata": {
    "heading_collapsed": true
   },
   "source": [
    "## Plot dump"
   ]
  },
  {
   "cell_type": "code",
   "execution_count": 8,
   "metadata": {
    "ExecuteTime": {
     "end_time": "2019-12-17T20:31:26.475507Z",
     "start_time": "2019-12-17T20:31:26.471447Z"
    },
    "hidden": true
   },
   "outputs": [],
   "source": [
    "# nevents = uproot.open(\"/hadoop/cms/store/user/namin/ProjectMetis/HToZdZdTo2Mu2X_params_mzd20_ctau50mm_BABY_v9//output_1.root\")[\"nevents_processed\"]._fVal"
   ]
  },
  {
   "cell_type": "code",
   "execution_count": 61,
   "metadata": {
    "ExecuteTime": {
     "end_time": "2019-12-16T23:49:05.869210Z",
     "start_time": "2019-12-16T23:48:08.734625Z"
    },
    "hidden": true,
    "scrolled": true
   },
   "outputs": [
    {
     "name": "stdout",
     "output_type": "stream",
     "text": [
      "plots_scouting_massgt5_maybeiso_v2/splitnone_nValidPixelHits.png\n",
      "plots_scouting_massgt5_maybeiso_v2/splitnone_nValidStripHits.png\n",
      "plots_scouting_massgt5_maybeiso_v2/splitnone_nExpectedPixelHits.png\n",
      "plots_scouting_massgt5_maybeiso_v2/splitnone_nValidMinusExpectedPixelHits.png\n",
      "plots_scouting_massgt5_maybeiso_v2/splitnone_nTrackerLayers.png\n",
      "plots_scouting_massgt5_maybeiso_v2/splitnone_nMatchedStations.png\n",
      "plots_scouting_massgt5_maybeiso_v2/splitnone_nValidMuonHits.png\n",
      "plots_scouting_massgt5_maybeiso_v2/splitnone_eta.png\n",
      "plots_scouting_massgt5_maybeiso_v2/splitnone_phi.png\n",
      "plots_scouting_massgt5_maybeiso_v2/splitnone_pt.png\n",
      "plots_scouting_massgt5_maybeiso_v2/splitnone_absdxy.png\n",
      "plots_scouting_massgt5_maybeiso_v2/splitnone_signeddxy.png\n",
      "plots_scouting_massgt5_maybeiso_v2/splitnone_minabsdxy.png\n",
      "plots_scouting_massgt5_maybeiso_v2/splitnone_dxyError.png\n",
      "plots_scouting_massgt5_maybeiso_v2/splitnone_Muonchi2.png\n",
      "plots_scouting_massgt5_maybeiso_v2/splitnone_trackIso.png\n",
      "plots_scouting_massgt5_maybeiso_v2/splitnone_drjet.png\n",
      "plots_scouting_massgt5_maybeiso_v2/splitnone_inPixel.png\n"
     ]
    },
    {
     "name": "stderr",
     "output_type": "stream",
     "text": [
      "<string>:6: RuntimeWarning: Converting input from bool to <class 'numpy.uint8'> for compatibility.\n"
     ]
    },
    {
     "name": "stdout",
     "output_type": "stream",
     "text": [
      "plots_scouting_massgt5_maybeiso_v2/splitnone_rholog.png\n",
      "plots_scouting_massgt5_maybeiso_v2/splitnone_rho.png\n",
      "plots_scouting_massgt5_maybeiso_v2/splitnone_dphimumu.png\n",
      "plots_scouting_massgt5_maybeiso_v2/splitnone_dphimumulog.png\n",
      "plots_scouting_massgt5_maybeiso_v2/splitnone_dphimudv.png\n",
      "plots_scouting_massgt5_maybeiso_v2/splitnone_mass.png\n",
      "plots_scouting_massgt5_maybeiso_v2/splitnone_masslog.png\n",
      "plots_scouting_massgt5_maybeiso_v2/splitnone_dimuonpt.png\n",
      "plots_scouting_massgt5_maybeiso_v2/splitnone_zError.png\n",
      "plots_scouting_massgt5_maybeiso_v2/splitnone_xyErrorMax.png\n",
      "plots_scouting_massgt5_maybeiso_v2/splitnone_DVchi2.png\n",
      "plots_scouting_massgt5_maybeiso_v2/splitnone_nPV.png\n",
      "plots_scouting_massgt5_maybeiso_v2/splitnone_nPVM.png\n",
      "plots_scouting_massgt5_maybeiso_v2/splitnone_njets.png\n",
      "plots_scouting_massgt5_maybeiso_v2/splitnone_drmumu.png\n",
      "plots_scouting_massgt5_maybeiso_v2/splitnone_logabsetaphi.png\n",
      "plots_scouting_massgt5_maybeiso_v2/splitnone_category.png\n",
      "plots_scouting_massgt5_maybeiso_v2/splitpt_nValidPixelHits.png\n",
      "plots_scouting_massgt5_maybeiso_v2/splitpt_nValidStripHits.png\n",
      "plots_scouting_massgt5_maybeiso_v2/splitpt_nExpectedPixelHits.png\n",
      "plots_scouting_massgt5_maybeiso_v2/splitpt_nValidMinusExpectedPixelHits.png\n",
      "plots_scouting_massgt5_maybeiso_v2/splitpt_nTrackerLayers.png\n",
      "plots_scouting_massgt5_maybeiso_v2/splitpt_nMatchedStations.png\n",
      "plots_scouting_massgt5_maybeiso_v2/splitpt_nValidMuonHits.png\n",
      "plots_scouting_massgt5_maybeiso_v2/splitpt_eta.png\n",
      "plots_scouting_massgt5_maybeiso_v2/splitpt_phi.png\n",
      "plots_scouting_massgt5_maybeiso_v2/splitpt_pt.png\n",
      "plots_scouting_massgt5_maybeiso_v2/splitpt_absdxy.png\n",
      "plots_scouting_massgt5_maybeiso_v2/splitpt_signeddxy.png\n",
      "plots_scouting_massgt5_maybeiso_v2/splitpt_minabsdxy.png\n",
      "plots_scouting_massgt5_maybeiso_v2/splitpt_dxyError.png\n",
      "plots_scouting_massgt5_maybeiso_v2/splitpt_Muonchi2.png\n",
      "plots_scouting_massgt5_maybeiso_v2/splitpt_trackIso.png\n",
      "plots_scouting_massgt5_maybeiso_v2/splitpt_drjet.png\n",
      "plots_scouting_massgt5_maybeiso_v2/splitpt_inPixel.png\n",
      "plots_scouting_massgt5_maybeiso_v2/splitpt_rholog.png\n",
      "plots_scouting_massgt5_maybeiso_v2/splitpt_rho.png\n",
      "plots_scouting_massgt5_maybeiso_v2/splitpt_dphimumu.png\n",
      "plots_scouting_massgt5_maybeiso_v2/splitpt_dphimumulog.png\n",
      "plots_scouting_massgt5_maybeiso_v2/splitpt_dphimudv.png\n",
      "plots_scouting_massgt5_maybeiso_v2/splitpt_mass.png\n",
      "plots_scouting_massgt5_maybeiso_v2/splitpt_masslog.png\n",
      "plots_scouting_massgt5_maybeiso_v2/splitpt_dimuonpt.png\n",
      "plots_scouting_massgt5_maybeiso_v2/splitpt_zError.png\n",
      "plots_scouting_massgt5_maybeiso_v2/splitpt_xyErrorMax.png\n",
      "plots_scouting_massgt5_maybeiso_v2/splitpt_DVchi2.png\n",
      "plots_scouting_massgt5_maybeiso_v2/splitpt_nPV.png\n",
      "plots_scouting_massgt5_maybeiso_v2/splitpt_nPVM.png\n",
      "plots_scouting_massgt5_maybeiso_v2/splitpt_njets.png\n",
      "plots_scouting_massgt5_maybeiso_v2/splitpt_drmumu.png\n",
      "plots_scouting_massgt5_maybeiso_v2/splitpt_logabsetaphi.png\n",
      "plots_scouting_massgt5_maybeiso_v2/splitpt_category.png\n",
      "plots_scouting_massgt5_maybeiso_v2/spliteta_nValidPixelHits.png\n",
      "plots_scouting_massgt5_maybeiso_v2/spliteta_nValidStripHits.png\n",
      "plots_scouting_massgt5_maybeiso_v2/spliteta_nExpectedPixelHits.png\n",
      "plots_scouting_massgt5_maybeiso_v2/spliteta_nValidMinusExpectedPixelHits.png\n",
      "plots_scouting_massgt5_maybeiso_v2/spliteta_nTrackerLayers.png\n",
      "plots_scouting_massgt5_maybeiso_v2/spliteta_nMatchedStations.png\n",
      "plots_scouting_massgt5_maybeiso_v2/spliteta_nValidMuonHits.png\n",
      "plots_scouting_massgt5_maybeiso_v2/spliteta_eta.png\n",
      "plots_scouting_massgt5_maybeiso_v2/spliteta_phi.png\n",
      "plots_scouting_massgt5_maybeiso_v2/spliteta_pt.png\n",
      "plots_scouting_massgt5_maybeiso_v2/spliteta_absdxy.png\n",
      "plots_scouting_massgt5_maybeiso_v2/spliteta_signeddxy.png\n",
      "plots_scouting_massgt5_maybeiso_v2/spliteta_minabsdxy.png\n",
      "plots_scouting_massgt5_maybeiso_v2/spliteta_dxyError.png\n",
      "plots_scouting_massgt5_maybeiso_v2/spliteta_Muonchi2.png\n",
      "plots_scouting_massgt5_maybeiso_v2/spliteta_trackIso.png\n",
      "plots_scouting_massgt5_maybeiso_v2/spliteta_drjet.png\n",
      "plots_scouting_massgt5_maybeiso_v2/spliteta_inPixel.png\n",
      "plots_scouting_massgt5_maybeiso_v2/spliteta_rholog.png\n",
      "plots_scouting_massgt5_maybeiso_v2/spliteta_rho.png\n",
      "plots_scouting_massgt5_maybeiso_v2/spliteta_dphimumu.png\n",
      "plots_scouting_massgt5_maybeiso_v2/spliteta_dphimumulog.png\n",
      "plots_scouting_massgt5_maybeiso_v2/spliteta_dphimudv.png\n",
      "plots_scouting_massgt5_maybeiso_v2/spliteta_mass.png\n",
      "plots_scouting_massgt5_maybeiso_v2/spliteta_masslog.png\n",
      "plots_scouting_massgt5_maybeiso_v2/spliteta_dimuonpt.png\n",
      "plots_scouting_massgt5_maybeiso_v2/spliteta_zError.png\n",
      "plots_scouting_massgt5_maybeiso_v2/spliteta_xyErrorMax.png\n",
      "plots_scouting_massgt5_maybeiso_v2/spliteta_DVchi2.png\n",
      "plots_scouting_massgt5_maybeiso_v2/spliteta_nPV.png\n",
      "plots_scouting_massgt5_maybeiso_v2/spliteta_nPVM.png\n",
      "plots_scouting_massgt5_maybeiso_v2/spliteta_njets.png\n",
      "plots_scouting_massgt5_maybeiso_v2/spliteta_drmumu.png\n",
      "plots_scouting_massgt5_maybeiso_v2/spliteta_logabsetaphi.png\n",
      "plots_scouting_massgt5_maybeiso_v2/spliteta_category.png\n",
      "plots_scouting_massgt5_maybeiso_v2/splitrho_nValidPixelHits.png\n",
      "plots_scouting_massgt5_maybeiso_v2/splitrho_nValidStripHits.png\n",
      "plots_scouting_massgt5_maybeiso_v2/splitrho_nExpectedPixelHits.png\n",
      "plots_scouting_massgt5_maybeiso_v2/splitrho_nValidMinusExpectedPixelHits.png\n",
      "plots_scouting_massgt5_maybeiso_v2/splitrho_nTrackerLayers.png\n",
      "plots_scouting_massgt5_maybeiso_v2/splitrho_nMatchedStations.png\n",
      "plots_scouting_massgt5_maybeiso_v2/splitrho_nValidMuonHits.png\n",
      "plots_scouting_massgt5_maybeiso_v2/splitrho_eta.png\n",
      "plots_scouting_massgt5_maybeiso_v2/splitrho_phi.png\n",
      "plots_scouting_massgt5_maybeiso_v2/splitrho_pt.png\n",
      "plots_scouting_massgt5_maybeiso_v2/splitrho_absdxy.png\n",
      "plots_scouting_massgt5_maybeiso_v2/splitrho_signeddxy.png\n",
      "plots_scouting_massgt5_maybeiso_v2/splitrho_minabsdxy.png\n",
      "plots_scouting_massgt5_maybeiso_v2/splitrho_dxyError.png\n",
      "plots_scouting_massgt5_maybeiso_v2/splitrho_Muonchi2.png\n",
      "plots_scouting_massgt5_maybeiso_v2/splitrho_trackIso.png\n",
      "plots_scouting_massgt5_maybeiso_v2/splitrho_drjet.png\n",
      "plots_scouting_massgt5_maybeiso_v2/splitrho_inPixel.png\n",
      "plots_scouting_massgt5_maybeiso_v2/splitrho_rholog.png\n",
      "plots_scouting_massgt5_maybeiso_v2/splitrho_rho.png\n",
      "plots_scouting_massgt5_maybeiso_v2/splitrho_dphimumu.png\n",
      "plots_scouting_massgt5_maybeiso_v2/splitrho_dphimumulog.png\n",
      "plots_scouting_massgt5_maybeiso_v2/splitrho_dphimudv.png\n",
      "plots_scouting_massgt5_maybeiso_v2/splitrho_mass.png\n",
      "plots_scouting_massgt5_maybeiso_v2/splitrho_masslog.png\n",
      "plots_scouting_massgt5_maybeiso_v2/splitrho_dimuonpt.png\n",
      "plots_scouting_massgt5_maybeiso_v2/splitrho_zError.png\n",
      "plots_scouting_massgt5_maybeiso_v2/splitrho_xyErrorMax.png\n",
      "plots_scouting_massgt5_maybeiso_v2/splitrho_DVchi2.png\n",
      "plots_scouting_massgt5_maybeiso_v2/splitrho_nPV.png\n",
      "plots_scouting_massgt5_maybeiso_v2/splitrho_nPVM.png\n",
      "plots_scouting_massgt5_maybeiso_v2/splitrho_njets.png\n",
      "plots_scouting_massgt5_maybeiso_v2/splitrho_drmumu.png\n",
      "plots_scouting_massgt5_maybeiso_v2/splitrho_logabsetaphi.png\n",
      "plots_scouting_massgt5_maybeiso_v2/splitrho_category.png\n",
      "plots_scouting_massgt5_maybeiso_v2/splitmass_nValidPixelHits.png\n",
      "plots_scouting_massgt5_maybeiso_v2/splitmass_nValidStripHits.png\n",
      "plots_scouting_massgt5_maybeiso_v2/splitmass_nExpectedPixelHits.png\n",
      "plots_scouting_massgt5_maybeiso_v2/splitmass_nValidMinusExpectedPixelHits.png\n",
      "plots_scouting_massgt5_maybeiso_v2/splitmass_nTrackerLayers.png\n",
      "plots_scouting_massgt5_maybeiso_v2/splitmass_nMatchedStations.png\n",
      "plots_scouting_massgt5_maybeiso_v2/splitmass_nValidMuonHits.png\n",
      "plots_scouting_massgt5_maybeiso_v2/splitmass_eta.png\n",
      "plots_scouting_massgt5_maybeiso_v2/splitmass_phi.png\n",
      "plots_scouting_massgt5_maybeiso_v2/splitmass_pt.png\n",
      "plots_scouting_massgt5_maybeiso_v2/splitmass_absdxy.png\n",
      "plots_scouting_massgt5_maybeiso_v2/splitmass_signeddxy.png\n",
      "plots_scouting_massgt5_maybeiso_v2/splitmass_minabsdxy.png\n",
      "plots_scouting_massgt5_maybeiso_v2/splitmass_dxyError.png\n",
      "plots_scouting_massgt5_maybeiso_v2/splitmass_Muonchi2.png\n",
      "plots_scouting_massgt5_maybeiso_v2/splitmass_trackIso.png\n",
      "plots_scouting_massgt5_maybeiso_v2/splitmass_drjet.png\n",
      "plots_scouting_massgt5_maybeiso_v2/splitmass_inPixel.png\n",
      "plots_scouting_massgt5_maybeiso_v2/splitmass_rholog.png\n",
      "plots_scouting_massgt5_maybeiso_v2/splitmass_rho.png\n",
      "plots_scouting_massgt5_maybeiso_v2/splitmass_dphimumu.png\n"
     ]
    },
    {
     "name": "stdout",
     "output_type": "stream",
     "text": [
      "plots_scouting_massgt5_maybeiso_v2/splitmass_dphimumulog.png\n",
      "plots_scouting_massgt5_maybeiso_v2/splitmass_dphimudv.png\n",
      "plots_scouting_massgt5_maybeiso_v2/splitmass_mass.png\n",
      "plots_scouting_massgt5_maybeiso_v2/splitmass_masslog.png\n",
      "plots_scouting_massgt5_maybeiso_v2/splitmass_dimuonpt.png\n",
      "plots_scouting_massgt5_maybeiso_v2/splitmass_zError.png\n",
      "plots_scouting_massgt5_maybeiso_v2/splitmass_xyErrorMax.png\n",
      "plots_scouting_massgt5_maybeiso_v2/splitmass_DVchi2.png\n",
      "plots_scouting_massgt5_maybeiso_v2/splitmass_nPV.png\n",
      "plots_scouting_massgt5_maybeiso_v2/splitmass_nPVM.png\n",
      "plots_scouting_massgt5_maybeiso_v2/splitmass_njets.png\n",
      "plots_scouting_massgt5_maybeiso_v2/splitmass_drmumu.png\n",
      "plots_scouting_massgt5_maybeiso_v2/splitmass_logabsetaphi.png\n",
      "plots_scouting_massgt5_maybeiso_v2/splitmass_category.png\n",
      "plots_scouting_massgt5_maybeiso_v2/splitiso_nValidPixelHits.png\n",
      "plots_scouting_massgt5_maybeiso_v2/splitiso_nValidStripHits.png\n",
      "plots_scouting_massgt5_maybeiso_v2/splitiso_nExpectedPixelHits.png\n",
      "plots_scouting_massgt5_maybeiso_v2/splitiso_nValidMinusExpectedPixelHits.png\n",
      "plots_scouting_massgt5_maybeiso_v2/splitiso_nTrackerLayers.png\n",
      "plots_scouting_massgt5_maybeiso_v2/splitiso_nMatchedStations.png\n",
      "plots_scouting_massgt5_maybeiso_v2/splitiso_nValidMuonHits.png\n",
      "plots_scouting_massgt5_maybeiso_v2/splitiso_eta.png\n",
      "plots_scouting_massgt5_maybeiso_v2/splitiso_phi.png\n",
      "plots_scouting_massgt5_maybeiso_v2/splitiso_pt.png\n",
      "plots_scouting_massgt5_maybeiso_v2/splitiso_absdxy.png\n",
      "plots_scouting_massgt5_maybeiso_v2/splitiso_signeddxy.png\n",
      "plots_scouting_massgt5_maybeiso_v2/splitiso_minabsdxy.png\n",
      "plots_scouting_massgt5_maybeiso_v2/splitiso_dxyError.png\n",
      "plots_scouting_massgt5_maybeiso_v2/splitiso_Muonchi2.png\n",
      "plots_scouting_massgt5_maybeiso_v2/splitiso_trackIso.png\n",
      "plots_scouting_massgt5_maybeiso_v2/splitiso_drjet.png\n",
      "plots_scouting_massgt5_maybeiso_v2/splitiso_inPixel.png\n",
      "plots_scouting_massgt5_maybeiso_v2/splitiso_rholog.png\n",
      "plots_scouting_massgt5_maybeiso_v2/splitiso_rho.png\n",
      "plots_scouting_massgt5_maybeiso_v2/splitiso_dphimumu.png\n",
      "plots_scouting_massgt5_maybeiso_v2/splitiso_dphimumulog.png\n",
      "plots_scouting_massgt5_maybeiso_v2/splitiso_dphimudv.png\n",
      "plots_scouting_massgt5_maybeiso_v2/splitiso_mass.png\n",
      "plots_scouting_massgt5_maybeiso_v2/splitiso_masslog.png\n",
      "plots_scouting_massgt5_maybeiso_v2/splitiso_dimuonpt.png\n",
      "plots_scouting_massgt5_maybeiso_v2/splitiso_zError.png\n",
      "plots_scouting_massgt5_maybeiso_v2/splitiso_xyErrorMax.png\n",
      "plots_scouting_massgt5_maybeiso_v2/splitiso_DVchi2.png\n",
      "plots_scouting_massgt5_maybeiso_v2/splitiso_nPV.png\n",
      "plots_scouting_massgt5_maybeiso_v2/splitiso_nPVM.png\n",
      "plots_scouting_massgt5_maybeiso_v2/splitiso_njets.png\n",
      "plots_scouting_massgt5_maybeiso_v2/splitiso_drmumu.png\n",
      "plots_scouting_massgt5_maybeiso_v2/splitiso_logabsetaphi.png\n",
      "plots_scouting_massgt5_maybeiso_v2/splitiso_category.png\n"
     ]
    }
   ],
   "source": [
    "plotdir = \"plots_scouting_massgt5_maybeiso_v2\"\n",
    "os.system(\"mkdir -p {}\".format(plotdir))\n",
    "\n",
    "globalsel = \"dimuon_mass>5 and pass_baseline_iso\"\n",
    "normalize = True\n",
    "\n",
    "selinfos = []\n",
    "\n",
    "selinfos.append(dict(vsels=[\n",
    "    [\"all\",lambda df: slice(None)],\n",
    "],split_label = \"splitnone\"))\n",
    "\n",
    "selinfos.append(dict(vsels=[\n",
    "    [r\"dimuon $p_T$<20\",lambda df:  np.abs(df[\"dimuon_pt\"])<20],\n",
    "    [r\"dimuon $p_T$>20\",lambda df: np.abs(df[\"dimuon_pt\"])>20],\n",
    "],split_label = \"splitpt\"))\n",
    "\n",
    "selinfos.append(dict(vsels=[\n",
    "    [r\"dimuon $\\eta$<0.9\",lambda df:  np.abs(df[\"dimuon_eta\"])<0.9],\n",
    "    [r\"dimuon $\\eta$>0.9\",lambda df: np.abs(df[\"dimuon_eta\"])>0.9],\n",
    "],split_label = \"spliteta\"))\n",
    "\n",
    "selinfos.append(dict(vsels=[\n",
    "    [r\"DV $\\rho$ 1-3cm\",lambda df:  (np.abs(df[\"DV_rhoCorr\"])<3.0) & (np.abs(df[\"DV_rhoCorr\"])>1.0)],\n",
    "    [r\"DV $\\rho$ 3-11cm\",lambda df:  (np.abs(df[\"DV_rhoCorr\"])<11.0) & (np.abs(df[\"DV_rhoCorr\"])>3.0)],\n",
    "],split_label = \"splitrho\"))\n",
    "\n",
    "selinfos.append(dict(vsels=[\n",
    "    [\"5<mass<15\",lambda df:  (df[\"dimuon_mass\"]<15) & (df[\"dimuon_mass\"]>5)],\n",
    "    [\"mass>15\",lambda df:  (df[\"dimuon_mass\"]>15)],\n",
    "],split_label = \"splitmass\"))\n",
    "\n",
    "selinfos.append(dict(vsels=[\n",
    "    [\"passiso\",lambda df:  (df[\"pass_baseline_iso\"])],\n",
    "    [\"failiso\",lambda df:  (~df[\"pass_baseline_iso\"])],\n",
    "],split_label = \"splitiso\"))\n",
    "\n",
    "plotinfos = [\n",
    "    \n",
    "    [[lambda df: df[\"Muon1_nValidPixelHits\"],lambda df: df[\"Muon2_nValidPixelHits\"]], np.arange(10)-0.5, dict(title=\"Muon nValidPixelHits\",shortname=\"nValidPixelHits\")],\n",
    "    [[lambda df: df[\"Muon1_nValidStripHits\"],lambda df: df[\"Muon2_nValidStripHits\"]], np.arange(30)-0.5, dict(title=\"Muon nValidStripHits\",shortname=\"nValidStripHits\")],\n",
    "    \n",
    "    [[lambda df: df[\"Muon1_nExpectedPixelHits\"],lambda df: df[\"Muon2_nExpectedPixelHits\"]], np.arange(12)-0.5, dict(title=\"Muon nExpectedPixelHits\",shortname=\"nExpectedPixelHits\")],\n",
    "    [[lambda df: df.eval(\"Muon1_nValidPixelHits-Muon1_nExpectedPixelHits\"),lambda df: df.eval(\"Muon2_nValidPixelHits-Muon2_nExpectedPixelHits\")], np.arange(10)-5.5, dict(title=\"Muon n(Valid-Expected)PixelHits\",shortname=\"nValidMinusExpectedPixelHits\")],\n",
    "    \n",
    "    [[lambda df: df[\"Muon1_nTrackerLayersWithMeasurement\"],lambda df: df[\"Muon2_nTrackerLayersWithMeasurement\"]], np.arange(20)-0.5, dict(title=\"Muon nTrackerLayersWithMeasurement\",shortname=\"nTrackerLayers\")],\n",
    "    [[lambda df: df[\"Muon1_nMatchedStations\"],lambda df: df[\"Muon2_nMatchedStations\"]], np.arange(7)-0.5, dict(title=\"Muon nMatchedStations\",shortname=\"nMatchedStations\")],\n",
    "    [[lambda df: df[\"Muon1_nValidMuonHits\"],lambda df: df[\"Muon2_nValidMuonHits\"]], np.arange(60)-0.5, dict(title=\"Muon nValidMuonHits\",shortname=\"nValidMuonHits\")],\n",
    "    \n",
    "    [[lambda df: df[\"Muon1_eta\"],lambda df: df[\"Muon2_eta\"]], np.linspace(-2.5,2.5,50), dict(title=\"Muon eta\",shortname=\"eta\")],\n",
    "    [[lambda df: df[\"Muon1_phi\"],lambda df: df[\"Muon2_phi\"]], np.linspace(-3.2,3.2,50), dict(title=\"Muon phi\",shortname=\"phi\")],\n",
    "    [[lambda df: df[\"Muon1_pt\"],lambda df: df[\"Muon2_pt\"]], np.linspace(0,100,50), dict(title=\"Muon pT\",shortname=\"pt\")],\n",
    "    [[lambda df: np.abs(df[\"Muon1_dxyCorr\"]),lambda df: np.abs(df[\"Muon2_dxyCorr\"])], np.linspace(0.0,6,150), dict(title=\"abs(Muon dxy)\",logy=True,logx=True,shortname=\"absdxy\")],\n",
    "    [[lambda df: df[\"Muon1_dxyCorr\"],lambda df: df[\"Muon2_dxyCorr\"]], np.linspace(-5,5,150), dict(title=\"(signed) Muon dxy\",logy=True,shortname=\"signeddxy\")],\n",
    "    [[lambda df: df[\"minabsdxy\"]], np.linspace(-6,6,150), dict(title=\"min(abs(Muon1 dxy), abs(Muon2 dxy))\",logy=True,shortname=\"minabsdxy\")],\n",
    "    [[lambda df: df[\"Muon1_dxyError\"],lambda df: df[\"Muon2_dxyError\"]], np.linspace(0.001,0.02,150), dict(title=\"Muon dxy Error\",logy=True,shortname=\"dxyError\")],\n",
    "    \n",
    "    [[lambda df: df.eval(\"Muon1_chi2/Muon1_ndof\"),lambda df: df.eval(\"Muon1_chi2/Muon1_ndof\")], np.linspace(0,5,100), dict(title=\"Muon chi2/ndof\",shortname=\"Muonchi2\")],\n",
    "    [[lambda df: df[\"Muon1_trackIso\"],lambda df: df[\"Muon2_trackIso\"]], np.linspace(0,0.1,50), dict(title=\"Muon trackIso\",logy=True,shortname=\"trackIso\")],\n",
    "    [[lambda df: df[\"Muon1_drjet\"],lambda df: df[\"Muon2_drjet\"]], np.linspace(0,2*np.pi,100), dict(title=\"dR(muon,closest jet)\",shortname=\"drjet\")],\n",
    "    \n",
    "    [[lambda df: df[\"DV_inPixelRectangles\"]], np.linspace(-0.5,1.5,3), dict(title=\"In pixel volumes?\",shortname=\"inPixel\")],\n",
    "    [[lambda df: df[\"DV_rhoCorr\"]], np.linspace(0.1,12,100), dict(title=\"DV rho (logscale)\",logy=True,shortname=\"rholog\")],\n",
    "    [[lambda df: df[\"DV_rhoCorr\"]], np.linspace(0.1,12,100), dict(title=\"DV rho\",logy=False,shortname=\"rho\")],\n",
    "    [[lambda df: df[\"absdphimumu\"]], np.linspace(0,2.0,150), dict(title=\"abs(dphi(mu1,mu2))\",shortname=\"dphimumu\")],\n",
    "    [[lambda df: df[\"absdphimumu\"]], np.linspace(0,2.0,150), dict(title=\"abs(dphi(mu1,mu2)), logscale\",logx=True,logy=True,shortname=\"dphimumulog\")],\n",
    "    [[lambda df: df[\"absdphimudv\"]], np.linspace(0,0.03,50), dict(title=\"abs(dphi(dimuon,DV))\",shortname=\"dphimudv\")],\n",
    "    [[lambda df: df[\"dimuon_mass\"]], np.linspace(5,40,80), dict(title=\"Dimuon mass\",logy=False,logx=False,shortname=\"mass\")],\n",
    "    [[lambda df: df[\"dimuon_mass\"]], np.linspace(5,40,36), dict(title=\"Dimuon mass (logscale)\",logy=True,logx=False,shortname=\"masslog\")],\n",
    "    [[lambda df: df[\"dimuon_pt\"]], np.linspace(0,100,200), dict(title=\"Dimuon pT\",shortname=\"dimuonpt\")],\n",
    "    \n",
    "    [[lambda df: df[\"DV_zError\"]], np.linspace(0.0,0.1,50), dict(title=\"DV zError\",shortname=\"zError\")],\n",
    "    [[lambda df: df[\"DV_xyErrorMax\"]], np.linspace(0.0,0.05,50), dict(title=\"DV max(xError,yError)\",shortname=\"xyErrorMax\")],\n",
    "    [[lambda df: df.eval(\"DV_chi2/DV_ndof\")], np.linspace(0.0,10.0,100), dict(title=\"DV chi2/ndof\",shortname=\"DVchi2\")],\n",
    "    \n",
    "    [[lambda df: df[\"nPV\"]], np.arange(40)-0.5, dict(title=\"nPV (from hltPixelVertices)\",shortname=\"nPV\")],\n",
    "    [[lambda df: df[\"nPVM\"]], np.arange(15)-0.5, dict(title=\"nPVM (from hltPixelVerticesL3MuonNoVtx)\",shortname=\"nPVM\")],\n",
    "    [[lambda df: df[\"nJet\"]], np.arange(15)-0.5, dict(title=\"nJet\",shortname=\"njets\")],\n",
    "    \n",
    "    [[lambda df: df[\"dimuon_deltar\"]], np.linspace(0,5,50), dict(title=\"$\\Delta$R(mu1,mu2)\",shortname=\"drmumu\")],\n",
    "    \n",
    "    [[lambda df: df[\"logabsetaphi\"]], np.linspace(-10,10,50), dict(title=\"log(abs($\\Delta\\eta_{12}/\\Delta\\phi_{12}$))\",shortname=\"logabsetaphi\")],\n",
    "    [[lambda df: df[\"categ\"]], np.linspace(-0.5,2.5,4), dict(title=\"category (1=any,dR<1.2; 2=L1_15_7,dR>1.2)\",shortname=\"category\")],\n",
    "    \n",
    "]\n",
    "\n",
    "# plotinfos = [\n",
    "# ]\n",
    "\n",
    "for selinfo in selinfos:\n",
    "    vsels = selinfo[\"vsels\"]\n",
    "    split_label = selinfo[\"split_label\"]\n",
    "    \n",
    "    for fs,bins,opts in plotinfos:\n",
    "        fig,ax = plt.subplots()\n",
    "\n",
    "        ymax = 0.\n",
    "        datanorms = {}\n",
    "        for df,label,linestyle in [\n",
    "            [df_data,\"Data\",\"-\"],\n",
    "            [df_mc,\"Signal\",\"-\"],\n",
    "        ]:\n",
    "            \n",
    "\n",
    "            for (sel_label,fsel),color in zip(vsels,[\"C0\",\"C3\",\"C2\",\"C1\"]):\n",
    "                \n",
    "                # skip low stats MC splits\n",
    "                if (label == \"Signal\") and ((\"mass<5\" in sel_label) or (\"mass<15\" in sel_label)): continue\n",
    "                    \n",
    "                if globalsel:\n",
    "                    if \"splitiso\" in split_label:\n",
    "                        sel = globalsel.replace(\"and pass_baseline_iso\",\"\")\n",
    "                    else:\n",
    "                        sel = globalsel[:]\n",
    "                    df = df.query(sel)\n",
    "                sel = fsel(df)\n",
    "                h = sum([Hist1D(f(df)[sel],bins=bins) for f in fs])\n",
    "                if normalize:\n",
    "                    h = h.normalize()\n",
    "                else:\n",
    "                    if \"signal\" in label.lower():\n",
    "                        h *= (datanorms[sel_label]/h.counts.sum())\n",
    "                        label = r\"Signal (norm. to data)\"\n",
    "#                         h *= sigweight\n",
    "#                         label = r\"Signal ($\\sigma$={:g}pb)\".format(xsec/1000)\n",
    "                if label == \"Data\":\n",
    "                    datanorms[sel_label] = h.counts.sum()\n",
    "#                     h.plot(ax=ax,label=\"{} ({})\".format(label,sel_label),color=\"k\",show_errors=True,markersize=2.5);\n",
    "                    h.plot(ax=ax,label=\"{} ({})\".format(label,sel_label),color=color,show_errors=True,markersize=2.5);\n",
    "                else:\n",
    "                    h.plot(ax=ax,label=\"{} ({})\".format(label,sel_label),color=color,histtype=\"step\",linestyle=linestyle);\n",
    "                ax.text(0.99, 1.01,\"2018C, 1 fb${}^\\mathregular{-1}$\", horizontalalignment='right', verticalalignment='bottom', transform = ax.transAxes, size=\"large\")\n",
    "                ymax = max(ymax,h.counts.max())\n",
    "\n",
    "        if opts.get(\"logx\"):\n",
    "            ax.set_xscale(\"log\")\n",
    "\n",
    "        if opts.get(\"logy\"):\n",
    "            ax.set_ylim(0.00001,ymax*1.5)\n",
    "            ax.set_yscale(\"log\")\n",
    "        else:\n",
    "            ax.set_ylim(ax.get_ylim()[0],ymax*1.2)\n",
    "\n",
    "        ax.set_xlabel(opts.get(\"xlabel\",\"\"),horizontalalignment=\"right\",x=1.)\n",
    "        ylabel = \"Frac. of events\" if normalize else \"Events\"\n",
    "        ax.set_ylabel(opts.get(\"ylabel\",ylabel),horizontalalignment=\"right\",y=1.)\n",
    "        ax.set_title(opts.get(\"title\",\"\"))\n",
    "        \n",
    "        ax.legend()\n",
    "        \n",
    "        shortname = opts.get(\"shortname\",\"unknown\")\n",
    "        fname = \"{}/{}_{}.png\".format(plotdir,split_label,shortname)\n",
    "        print(fname)\n",
    "        fig.set_tight_layout(True)\n",
    "        fig.savefig(fname,dpi=125)\n",
    "        \n",
    "        # Don't show the figure in the notebook\n",
    "        plt.close()\n",
    "#         break"
   ]
  },
  {
   "cell_type": "code",
   "execution_count": 62,
   "metadata": {
    "ExecuteTime": {
     "end_time": "2019-12-16T23:49:06.316538Z",
     "start_time": "2019-12-16T23:49:05.871540Z"
    },
    "hidden": true,
    "scrolled": true
   },
   "outputs": [
    {
     "name": "stdout",
     "output_type": "stream",
     "text": [
      "Not converting anything\n",
      "ln: creating symbolic link `plots_scouting_massgt5_maybeiso_v2/index.php': File exists\n",
      "uaf-10.t2.ucsd.edu/~namin/dump/plots/plots_scouting_massgt5_maybeiso_v2/\n",
      "http://uaf-10.t2.ucsd.edu/~namin/dump/plots/plots_scouting_massgt5_maybeiso_v2/\n"
     ]
    }
   ],
   "source": [
    "with open(\"{}/description.txt\".format(plotdir),\"w\") as fh:\n",
    "    fh.write(\"\"\"\n",
    "Baseline selection: \n",
    "<ul>\n",
    "<li>==2 OS muons, ==1 DV</li>\n",
    "<li>1cm < DV rho < 11cm</li>\n",
    "<li>cos(dphi(dimuon,DV))>0</li>\n",
    "<li>max(DV_xError,yError)<0.05cm, DV_zError<0.1cm</li>\n",
    "<li>valid muon hits>0 for each muon</li>\n",
    "<li>tracker layers with measurement>5 for each muon</li>\n",
    "<li>|dphi(mu1,mu2)|<2.8</li>\n",
    "<li>|dphi(dimuon,DV)| < 0.02</li>\n",
    "<li>Muon chi2/ndof < 3</li>\n",
    "<li>DV chi2/ndof < 5</li>\n",
    "<li>Muon trackIso < 0.1 for each muon (<i>isolation</i>)</li>\n",
    "<li>dR(muon,closest jet) > 0.3 for each muon (<i>isolation</i>)</li>\n",
    "</ul>\n",
    "Note, isolation criteria relaxed for plots split by iso. Split plots by:\n",
    "<ul>\n",
    "<li>nothing (\"splitnone_\")</li>\n",
    "<li>DV rho (\"splitrho_\")</li>\n",
    "<li>pt of dimuon system (\"splitpt_\")</li>\n",
    "<li>eta of dimuon system (\"spliteta_\")</li>\n",
    "<li>mass of dimuon system (\"splitmass_\")</li>\n",
    "<li>category (\"splitcateg_\")</li>\n",
    "<li>iso (\"splitiso_\")</li>\n",
    "</ul>\n",
    "    \"\"\")\n",
    "\n",
    "!niceplots {plotdir}\n",
    "print(f\"http://uaf-10.t2.ucsd.edu/~namin/dump/plots/{plotdir}/\")"
   ]
  },
  {
   "cell_type": "markdown",
   "metadata": {
    "heading_collapsed": true
   },
   "source": [
    "## Muon checks"
   ]
  },
  {
   "cell_type": "code",
   "execution_count": 9,
   "metadata": {
    "ExecuteTime": {
     "end_time": "2019-12-17T20:31:30.780080Z",
     "start_time": "2019-12-17T20:31:30.777365Z"
    },
    "hidden": true
   },
   "outputs": [],
   "source": [
    "# df_data = pd.read_pickle(\"data/df_data_allrho.pkl\")\n",
    "# df_mc = pd.read_pickle(\"data/df_mc_allrho.pkl\")"
   ]
  },
  {
   "cell_type": "code",
   "execution_count": 10,
   "metadata": {
    "ExecuteTime": {
     "end_time": "2019-12-17T20:31:31.053725Z",
     "start_time": "2019-12-17T20:31:31.049523Z"
    },
    "hidden": true
   },
   "outputs": [],
   "source": [
    "# sel1 = \"dimuon_mass>5 and (not Muon1_passiso) and Muon1_pt<15 and abs(Muon1_eta)<0.9\"\n",
    "# sel2 = \"dimuon_mass>5 and (not Muon2_passiso) and Muon2_pt<15 and abs(Muon1_eta)<0.9\"\n",
    "# # df = df_data\n",
    "\n",
    "# # sel1 = \"dimuon_mass>5 and Muon1_pt<15 and abs(Muon1_eta)<0.9\"\n",
    "# # sel2 = \"dimuon_mass>5 and Muon2_pt<15 and abs(Muon1_eta)<0.9\"\n",
    "# # df = df_mc\n",
    "\n",
    "# # h = Hist2D(\n",
    "# #     pd.concat([\n",
    "# x = df.query(sel1)[[\"Muon1_nMatchedStations\",\"Muon1_nValidMuonHits\"]].values.compute()\n",
    "# x\n",
    "# # y = df.query(sel2)[[\"Muon2_nMatchedStations\",\"Muon2_nValidMuonHits\"]]\n",
    "# #     ],sort=True).values,"
   ]
  },
  {
   "cell_type": "code",
   "execution_count": 11,
   "metadata": {
    "ExecuteTime": {
     "end_time": "2019-12-17T20:31:31.470890Z",
     "start_time": "2019-12-17T20:31:31.466239Z"
    },
    "hidden": true
   },
   "outputs": [],
   "source": [
    "# # sel1 = \"dimuon_mass>5 and (not Muon1_passiso) and Muon1_pt<15 and abs(Muon1_eta)<0.9\"\n",
    "# # sel2 = \"dimuon_mass>5 and (not Muon2_passiso) and Muon2_pt<15 and abs(Muon1_eta)<0.9\"\n",
    "\n",
    "# sel1 = \"DV_rhoCorr>1 and (not Muon1_passiso) and Muon1_pt<15 and abs(Muon1_eta)<0.9\"\n",
    "# sel2 = \"DV_rhoCorr>1 and (not Muon2_passiso) and Muon2_pt<15 and abs(Muon1_eta)<0.9\"\n",
    "# # df = df_data\n",
    "\n",
    "# # sel1 = \"dimuon_mass>5 and Muon1_pt<15 and abs(Muon1_eta)<0.9\"\n",
    "# # sel2 = \"dimuon_mass>5 and Muon2_pt<15 and abs(Muon1_eta)<0.9\"\n",
    "# # df = df_mc\n",
    "\n",
    "# h = Hist2D(\n",
    "#     pd.concat([\n",
    "#         df.query(sel1)[[\"Muon1_nMatchedStations\",\"Muon1_nValidMuonHits\"]].compute(),\n",
    "#         df.query(sel2)[[\"Muon2_nMatchedStations\",\"Muon2_nValidMuonHits\"]].compute(),\n",
    "#     ],sort=True).values,\n",
    "#     bins = [np.arange(-0.5,5.5),np.arange(-0.5,55.5,1)],\n",
    "# )\n",
    "# # h.plot(cmap=\"binary\")\n",
    "# # h.plot(logz=True)\n",
    "# fig, ax = plt.subplots()\n",
    "# ax.grid()\n",
    "# h.plot(ax=ax,cmap=\"Reds\")\n",
    "\n",
    "# ax.set_title(\"Data\")\n",
    "# # ax.set_title(\"MC\")\n",
    "# ax.set_xlabel(\"nMatchedStations\")\n",
    "# ax.set_ylabel(\"nValidMuonHits\")\n"
   ]
  },
  {
   "cell_type": "code",
   "execution_count": 12,
   "metadata": {
    "ExecuteTime": {
     "end_time": "2019-12-17T20:31:32.147714Z",
     "start_time": "2019-12-17T20:31:32.143416Z"
    },
    "hidden": true
   },
   "outputs": [],
   "source": [
    "# df = df_mc\n",
    "# selstr =\"pass_iso and dimuon_mass>5 and DV_rhoCorr>3\"\n",
    "# df = df.query(selstr)\n",
    "# excess = np.maximum(\n",
    "#     df.eval(\"Muon1_nValidPixelHits-Muon1_nExpectedPixelHits\"),\n",
    "#     df.eval(\"Muon2_nValidPixelHits-Muon2_nExpectedPixelHits\"),\n",
    "#           )\n",
    "# magic = df[\"logabsetaphi\"]\n",
    "\n",
    "# fig, ax = plt.subplots()\n",
    "# h = Hist2D(\n",
    "#     np.c_[excess,magic],\n",
    "#     bins = [np.arange(-1.5,4.5),np.linspace(-4,4,20)],\n",
    "# )\n",
    "# h.plot(ax=ax,cmap=\"Reds\",logz=False,label=\"MC\")\n",
    "\n",
    "# df = df_data\n",
    "# df = df.query(\"pass_iso and dimuon_mass>5 and DV_rhoCorr>3\")\n",
    "# excess = np.maximum(\n",
    "#     df.eval(\"Muon1_nValidPixelHits-Muon1_nExpectedPixelHits\"),\n",
    "#     df.eval(\"Muon2_nValidPixelHits-Muon2_nExpectedPixelHits\"),\n",
    "#           )\n",
    "# magic = df[\"logabsetaphi\"]\n",
    "\n",
    "# ax.scatter(\n",
    "#     excess,magic,color=\"k\",\n",
    "#     label=\"Data\"\n",
    "# )\n",
    "\n",
    "# ax.set_title(selstr)\n",
    "# ax.set_xlabel(\"obs-exp hits\")\n",
    "# ax.set_ylabel(\"logabsetaphi\")\n",
    "\n",
    "# ax.legend()"
   ]
  },
  {
   "cell_type": "code",
   "execution_count": 204,
   "metadata": {
    "ExecuteTime": {
     "end_time": "2019-12-17T22:56:32.700257Z",
     "start_time": "2019-12-17T22:56:32.696740Z"
    },
    "hidden": true
   },
   "outputs": [],
   "source": [
    "# len(df)"
   ]
  },
  {
   "cell_type": "markdown",
   "metadata": {},
   "source": [
    "## Dask, full plots"
   ]
  },
  {
   "cell_type": "code",
   "execution_count": 19,
   "metadata": {
    "ExecuteTime": {
     "end_time": "2019-12-18T00:20:01.488859Z",
     "start_time": "2019-12-18T00:20:01.456855Z"
    }
   },
   "outputs": [
    {
     "data": {
      "text/html": [
       "<table style=\"border: 2px solid white;\">\n",
       "<tr>\n",
       "<td style=\"vertical-align: top; border: 0px solid white\">\n",
       "<h3 style=\"text-align: left;\">Client</h3>\n",
       "<ul style=\"text-align: left; list-style: none; margin: 0; padding: 0;\">\n",
       "  <li><b>Scheduler: </b>tcp://169.228.130.74:11303</li>\n",
       "  <li><b>Dashboard: </b><a href='http://169.228.130.74:13345/status' target='_blank'>http://169.228.130.74:13345/status</a>\n",
       "</ul>\n",
       "</td>\n",
       "<td style=\"vertical-align: top; border: 0px solid white\">\n",
       "<h3 style=\"text-align: left;\">Cluster</h3>\n",
       "<ul style=\"text-align: left; list-style:none; margin: 0; padding: 0;\">\n",
       "  <li><b>Workers: </b>72</li>\n",
       "  <li><b>Cores: </b>72</li>\n",
       "  <li><b>Memory: </b>288.00 GB</li>\n",
       "</ul>\n",
       "</td>\n",
       "</tr>\n",
       "</table>"
      ],
      "text/plain": [
       "<Client: 'tcp://169.228.130.74:11303' processes=72 threads=72, memory=288.00 GB>"
      ]
     },
     "execution_count": 19,
     "metadata": {},
     "output_type": "execute_result"
    }
   ],
   "source": [
    "client = Client(\"tcp://169.228.130.74:11303\")\n",
    "# client.restart()\n",
    "client"
   ]
  },
  {
   "cell_type": "code",
   "execution_count": 20,
   "metadata": {
    "ExecuteTime": {
     "end_time": "2019-12-18T00:20:04.054147Z",
     "start_time": "2019-12-18T00:20:04.040015Z"
    }
   },
   "outputs": [],
   "source": [
    "def make_df_fast(fname,entrystart=None,entrystop=None):\n",
    "    t = uproot.open(fname)[\"Events\"]\n",
    "    arrs = t.arrays([\"pass_*\",\n",
    "                     \"/Muon_n(Valid|Expected).*/\",\n",
    "                     \"/Muon_(dxyCorr)$/\",\n",
    "                     \"/DV_(rhoCorr|x|y)$/\",\n",
    "                     \"run\",\"luminosityBlock\",\"event\",\n",
    "                     \"/dimuon_(mass|pt)/\",\"minabs*\",\"logabs*\",\n",
    "                    ],outputtype=dict,namedecode=\"ascii\",entrystart=entrystart,entrystop=entrystop)\n",
    "    \n",
    "    # booleans for selection\n",
    "    sel = arrs[\"pass_baseline\"]\n",
    "\n",
    "    # flatten into dataframe and require `sel`\n",
    "    df = pd.DataFrame()\n",
    "    for k in arrs.keys():\n",
    "        if any(k.startswith(y) for y in [\"n\",\"pass_\",\"BS_\",\"MET_\",\"run\",\"lumi\",\"event\",\"L1_\",\n",
    "                                        \"dimuon\",\"cosphi\",\"absdphi\",\"minabs\",\"logabs\"]):\n",
    "            df[k] = arrs[k][sel]\n",
    "        if k.startswith(\"DV_\"):\n",
    "            df[k] = arrs[k][sel][:,0]\n",
    "        if k.startswith(\"Muon_\"):\n",
    "            df[k.replace(\"Muon_\",\"Muon1_\")] = arrs[k][sel][:,0]\n",
    "            df[k.replace(\"Muon_\",\"Muon2_\")] = arrs[k][sel][:,1]\n",
    "\n",
    "    df[\"pass_excesshits\"] = df.eval(\"DV_rhoCorr<3.5 or ((Muon1_nValidPixelHits-Muon1_nExpectedPixelHits)<=0 and (Muon2_nValidPixelHits-Muon2_nExpectedPixelHits)<=0)\")\n",
    "    \n",
    "    # minabsdxy > k*rho*mass*ptmm (k~0.1?) could help recover eff at low signal masses\n",
    "    df[\"dxythresh\"] = df.eval(\"0.1 * DV_rhoCorr * dimuon_mass / dimuon_pt\")\n",
    "    df[\"dxyratio\"] = df.eval(\"minabsdxy / dxythresh\")\n",
    "    \n",
    "    for name,dtype in smaller_dtypes:\n",
    "        if name not in df.columns: continue\n",
    "        df[name] = df[name].astype(dtype, copy=False)\n",
    "    return df\n"
   ]
  },
  {
   "cell_type": "code",
   "execution_count": 21,
   "metadata": {
    "ExecuteTime": {
     "end_time": "2019-12-18T00:20:05.677767Z",
     "start_time": "2019-12-18T00:20:05.672689Z"
    }
   },
   "outputs": [],
   "source": [
    "@delayed\n",
    "def make_df_delayed(chunk):\n",
    "#     return make_df(*chunk, bigrho=False, iso=False)\n",
    "    return make_df_fast(*chunk)"
   ]
  },
  {
   "cell_type": "code",
   "execution_count": 22,
   "metadata": {
    "ExecuteTime": {
     "end_time": "2019-12-18T00:20:09.560972Z",
     "start_time": "2019-12-18T00:20:07.720511Z"
    }
   },
   "outputs": [
    {
     "name": "stdout",
     "output_type": "stream",
     "text": [
      "197\n"
     ]
    },
    {
     "data": {
      "text/plain": [
       "1207"
      ]
     },
     "execution_count": 22,
     "metadata": {},
     "output_type": "execute_result"
    }
   ],
   "source": [
    "# # this is 1fb unblinded 2018C\n",
    "# fnames_data = glob.glob(\"/hadoop/cms/store/user/namin/ProjectMetis/ScoutingCaloMuon_Run2018skim_2018C_v9_unblind1fb_RAW_v10/*.root\")\n",
    "\n",
    "# FIXME this is full 2018C\n",
    "fnames_data = glob.glob(\n",
    "    \"/hadoop/cms/store/user/namin/ProjectMetis/ScoutingCaloMuon_Run2018skim_2018C_v9_RAW_v10/*.root\"\n",
    ")\n",
    "\n",
    "fnames_mc = glob.glob(\"/hadoop/cms/store/user/namin/ProjectMetis/HToZdZdTo2Mu2X_params_mzd20_ctau50mm_BABY_v10//output_1.root\")\n",
    "\n",
    "print(len(fnames_data))\n",
    "\n",
    "chunks, total_events = utils.get_chunking_dask(tuple(fnames_data),400e3,client=client,skip_bad_files=True,xrootd=False)\n",
    "len(chunks)"
   ]
  },
  {
   "cell_type": "code",
   "execution_count": 23,
   "metadata": {
    "ExecuteTime": {
     "end_time": "2019-12-18T00:20:11.794868Z",
     "start_time": "2019-12-18T00:20:11.145204Z"
    }
   },
   "outputs": [
    {
     "data": {
      "text/html": [
       "<div>\n",
       "<style scoped>\n",
       "    .dataframe tbody tr th:only-of-type {\n",
       "        vertical-align: middle;\n",
       "    }\n",
       "\n",
       "    .dataframe tbody tr th {\n",
       "        vertical-align: top;\n",
       "    }\n",
       "\n",
       "    .dataframe thead th {\n",
       "        text-align: right;\n",
       "    }\n",
       "</style>\n",
       "<table border=\"1\" class=\"dataframe\">\n",
       "  <thead>\n",
       "    <tr style=\"text-align: right;\">\n",
       "      <th></th>\n",
       "      <th>pass_skim</th>\n",
       "      <th>pass_l1</th>\n",
       "      <th>pass_fiducialgen</th>\n",
       "      <th>pass_fiducialgen_norho</th>\n",
       "      <th>pass_baseline</th>\n",
       "      <th>pass_baseline_iso</th>\n",
       "      <th>Muon1_nValidMuonHits</th>\n",
       "      <th>Muon2_nValidMuonHits</th>\n",
       "      <th>Muon1_nValidPixelHits</th>\n",
       "      <th>Muon2_nValidPixelHits</th>\n",
       "      <th>...</th>\n",
       "      <th>run</th>\n",
       "      <th>luminosityBlock</th>\n",
       "      <th>event</th>\n",
       "      <th>dimuon_pt</th>\n",
       "      <th>dimuon_mass</th>\n",
       "      <th>minabsdxy</th>\n",
       "      <th>logabsetaphi</th>\n",
       "      <th>pass_excesshits</th>\n",
       "      <th>dxythresh</th>\n",
       "      <th>dxyratio</th>\n",
       "    </tr>\n",
       "  </thead>\n",
       "  <tbody>\n",
       "    <tr>\n",
       "      <td>0</td>\n",
       "      <td>True</td>\n",
       "      <td>True</td>\n",
       "      <td>True</td>\n",
       "      <td>True</td>\n",
       "      <td>True</td>\n",
       "      <td>True</td>\n",
       "      <td>24</td>\n",
       "      <td>12</td>\n",
       "      <td>4</td>\n",
       "      <td>5</td>\n",
       "      <td>...</td>\n",
       "      <td>319337</td>\n",
       "      <td>48</td>\n",
       "      <td>10738734</td>\n",
       "      <td>6.785450</td>\n",
       "      <td>3.521773</td>\n",
       "      <td>0.115305</td>\n",
       "      <td>-0.335063</td>\n",
       "      <td>True</td>\n",
       "      <td>0.014350</td>\n",
       "      <td>8.035211</td>\n",
       "    </tr>\n",
       "    <tr>\n",
       "      <td>1</td>\n",
       "      <td>True</td>\n",
       "      <td>True</td>\n",
       "      <td>True</td>\n",
       "      <td>True</td>\n",
       "      <td>True</td>\n",
       "      <td>True</td>\n",
       "      <td>36</td>\n",
       "      <td>24</td>\n",
       "      <td>7</td>\n",
       "      <td>3</td>\n",
       "      <td>...</td>\n",
       "      <td>319337</td>\n",
       "      <td>48</td>\n",
       "      <td>10743671</td>\n",
       "      <td>9.995001</td>\n",
       "      <td>2.357998</td>\n",
       "      <td>0.055473</td>\n",
       "      <td>-0.178866</td>\n",
       "      <td>True</td>\n",
       "      <td>0.009441</td>\n",
       "      <td>5.875481</td>\n",
       "    </tr>\n",
       "    <tr>\n",
       "      <td>2</td>\n",
       "      <td>True</td>\n",
       "      <td>True</td>\n",
       "      <td>True</td>\n",
       "      <td>True</td>\n",
       "      <td>True</td>\n",
       "      <td>False</td>\n",
       "      <td>32</td>\n",
       "      <td>28</td>\n",
       "      <td>4</td>\n",
       "      <td>3</td>\n",
       "      <td>...</td>\n",
       "      <td>319337</td>\n",
       "      <td>48</td>\n",
       "      <td>10848338</td>\n",
       "      <td>10.047926</td>\n",
       "      <td>3.105935</td>\n",
       "      <td>0.034845</td>\n",
       "      <td>0.046681</td>\n",
       "      <td>True</td>\n",
       "      <td>0.007893</td>\n",
       "      <td>4.414864</td>\n",
       "    </tr>\n",
       "    <tr>\n",
       "      <td>3</td>\n",
       "      <td>True</td>\n",
       "      <td>True</td>\n",
       "      <td>True</td>\n",
       "      <td>True</td>\n",
       "      <td>True</td>\n",
       "      <td>False</td>\n",
       "      <td>46</td>\n",
       "      <td>49</td>\n",
       "      <td>4</td>\n",
       "      <td>3</td>\n",
       "      <td>...</td>\n",
       "      <td>319337</td>\n",
       "      <td>49</td>\n",
       "      <td>10922775</td>\n",
       "      <td>16.297968</td>\n",
       "      <td>1.017036</td>\n",
       "      <td>0.009408</td>\n",
       "      <td>-0.165725</td>\n",
       "      <td>True</td>\n",
       "      <td>0.001579</td>\n",
       "      <td>5.958049</td>\n",
       "    </tr>\n",
       "    <tr>\n",
       "      <td>4</td>\n",
       "      <td>True</td>\n",
       "      <td>True</td>\n",
       "      <td>True</td>\n",
       "      <td>True</td>\n",
       "      <td>True</td>\n",
       "      <td>True</td>\n",
       "      <td>33</td>\n",
       "      <td>33</td>\n",
       "      <td>4</td>\n",
       "      <td>2</td>\n",
       "      <td>...</td>\n",
       "      <td>319337</td>\n",
       "      <td>49</td>\n",
       "      <td>12145275</td>\n",
       "      <td>13.403290</td>\n",
       "      <td>3.328078</td>\n",
       "      <td>0.023262</td>\n",
       "      <td>0.043328</td>\n",
       "      <td>True</td>\n",
       "      <td>0.003841</td>\n",
       "      <td>6.055838</td>\n",
       "    </tr>\n",
       "  </tbody>\n",
       "</table>\n",
       "<p>5 rows × 29 columns</p>\n",
       "</div>"
      ],
      "text/plain": [
       "   pass_skim  pass_l1  pass_fiducialgen  pass_fiducialgen_norho  \\\n",
       "0       True     True              True                    True   \n",
       "1       True     True              True                    True   \n",
       "2       True     True              True                    True   \n",
       "3       True     True              True                    True   \n",
       "4       True     True              True                    True   \n",
       "\n",
       "   pass_baseline  pass_baseline_iso  Muon1_nValidMuonHits  \\\n",
       "0           True               True                    24   \n",
       "1           True               True                    36   \n",
       "2           True              False                    32   \n",
       "3           True              False                    46   \n",
       "4           True               True                    33   \n",
       "\n",
       "   Muon2_nValidMuonHits  Muon1_nValidPixelHits  Muon2_nValidPixelHits  ...  \\\n",
       "0                    12                      4                      5  ...   \n",
       "1                    24                      7                      3  ...   \n",
       "2                    28                      4                      3  ...   \n",
       "3                    49                      4                      3  ...   \n",
       "4                    33                      4                      2  ...   \n",
       "\n",
       "      run  luminosityBlock     event  dimuon_pt  dimuon_mass  minabsdxy  \\\n",
       "0  319337               48  10738734   6.785450     3.521773   0.115305   \n",
       "1  319337               48  10743671   9.995001     2.357998   0.055473   \n",
       "2  319337               48  10848338  10.047926     3.105935   0.034845   \n",
       "3  319337               49  10922775  16.297968     1.017036   0.009408   \n",
       "4  319337               49  12145275  13.403290     3.328078   0.023262   \n",
       "\n",
       "   logabsetaphi  pass_excesshits  dxythresh  dxyratio  \n",
       "0     -0.335063             True   0.014350  8.035211  \n",
       "1     -0.178866             True   0.009441  5.875481  \n",
       "2      0.046681             True   0.007893  4.414864  \n",
       "3     -0.165725             True   0.001579  5.958049  \n",
       "4      0.043328             True   0.003841  6.055838  \n",
       "\n",
       "[5 rows x 29 columns]"
      ]
     },
     "execution_count": 23,
     "metadata": {},
     "output_type": "execute_result"
    }
   ],
   "source": [
    "meta = make_df_delayed([chunks[0][0],0,5000]).compute()\n",
    "meta.head()"
   ]
  },
  {
   "cell_type": "code",
   "execution_count": 24,
   "metadata": {
    "ExecuteTime": {
     "end_time": "2019-12-18T00:20:18.032210Z",
     "start_time": "2019-12-18T00:20:17.413388Z"
    }
   },
   "outputs": [
    {
     "data": {
      "application/vnd.jupyter.widget-view+json": {
       "model_id": "c196ddad65b2443db9d016a50073bca3",
       "version_major": 2,
       "version_minor": 0
      },
      "text/plain": [
       "VBox()"
      ]
     },
     "metadata": {},
     "output_type": "display_data"
    }
   ],
   "source": [
    "dataremotedf = (dd\n",
    "      .from_delayed((make_df_delayed(chunk) for chunk in chunks),meta=meta)\n",
    "      .repartition(npartitions=len(chunks)//10)\n",
    "      .persist()\n",
    ")\n",
    "\n",
    "progress(dataremotedf)"
   ]
  },
  {
   "cell_type": "code",
   "execution_count": 212,
   "metadata": {
    "ExecuteTime": {
     "end_time": "2019-12-17T22:58:41.626927Z",
     "start_time": "2019-12-17T22:57:28.518344Z"
    }
   },
   "outputs": [
    {
     "name": "stdout",
     "output_type": "stream",
     "text": [
      "1\n"
     ]
    },
    {
     "data": {
      "application/vnd.jupyter.widget-view+json": {
       "model_id": "051a19d7659840eca63bd1538a5bb3f5",
       "version_major": 2,
       "version_minor": 0
      },
      "text/plain": [
       "VBox()"
      ]
     },
     "metadata": {},
     "output_type": "display_data"
    }
   ],
   "source": [
    "chunks, total_events = utils.get_chunking_dask(tuple(fnames_mc),500e3,client=client)\n",
    "print(len(chunks))\n",
    "mcremotedf = dd.from_delayed((make_df_delayed(chunk) for chunk in chunks),meta=meta).persist()\n",
    "\n",
    "progress(mcremotedf)"
   ]
  },
  {
   "cell_type": "code",
   "execution_count": 14,
   "metadata": {
    "ExecuteTime": {
     "end_time": "2019-12-18T00:12:40.974378Z",
     "start_time": "2019-12-18T00:12:40.860244Z"
    }
   },
   "outputs": [],
   "source": [
    "client.cancel(dataremotedf)\n",
    "client.cancel(mcremotedf)"
   ]
  },
  {
   "cell_type": "code",
   "execution_count": 213,
   "metadata": {
    "ExecuteTime": {
     "end_time": "2019-12-17T22:58:41.644608Z",
     "start_time": "2019-12-17T22:58:41.630264Z"
    }
   },
   "outputs": [],
   "source": [
    "save_locally = False\n",
    "if save_locally:\n",
    "    print(len(dataremotedf))\n",
    "    print((dataremotedf.memory_usage().sum()/1e6).compute())\n",
    "    datalocaldf = dataremotedf.compute()\n",
    "    datalocaldf.to_pickle(\"data/df_data_allrho_noiso.pkl\")\n",
    "    datalocaldf.query(\"pass_baseline_iso\").to_pickle(\"data/df_data_allrho.pkl\")\n",
    "    datalocaldf.query(\"pass_baseline_iso and DV_rho>1.0\").to_pickle(\"data/df_data.pkl\")\n",
    "    del datalocaldf\n",
    "    \n",
    "    mclocaldf = mcremotedf.compute()\n",
    "    mclocaldf.to_pickle(\"data/df_mc_allrho_noiso.pkl\")\n",
    "    mclocaldf.query(\"pass_baseline_iso\").to_pickle(\"data/df_mc_allrho.pkl\")\n",
    "    mclocaldf.query(\"pass_baseline_iso and DV_rho>1.0\").to_pickle(\"data/df_mc.pkl\")\n",
    "    del mclocaldf\n",
    "    \n",
    "    !ssh uafino.physics.ucsb.edu ./syncdataframes.sh"
   ]
  },
  {
   "cell_type": "code",
   "execution_count": 214,
   "metadata": {
    "ExecuteTime": {
     "end_time": "2019-12-17T22:58:43.848886Z",
     "start_time": "2019-12-17T22:58:42.824358Z"
    }
   },
   "outputs": [
    {
     "name": "stdout",
     "output_type": "stream",
     "text": [
      "CPU times: user 1.05 s, sys: 44 ms, total: 1.1 s\n",
      "Wall time: 981 ms\n"
     ]
    },
    {
     "data": {
      "text/plain": [
       "run\n",
       "273158               ([1, 1279],)\n",
       "273302                ([1, 459],)\n",
       "273402              ([100, 292],)\n",
       "273403                 ([1, 53],)\n",
       "273404                 ([1, 18],)\n",
       "                   ...           \n",
       "325159               ([48, 266],)\n",
       "325168                 ([1, 21],)\n",
       "325169                 ([1, 23],)\n",
       "325170    ([1, 692], [694, 1205])\n",
       "325172     ([1, 267], [269, 485])\n",
       "Length: 1345, dtype: object"
      ]
     },
     "execution_count": 214,
     "metadata": {},
     "output_type": "execute_result"
    }
   ],
   "source": [
    "%%time\n",
    "def get_ranges(df):\n",
    "    return tuple(df[[\"start\",\"end\"]].values)\n",
    "def is_good(run,lumi):\n",
    "    return any(low<=lumi<=high for low,high in lut.get(run,[(0,0)]))\n",
    "lut = pd.read_csv(\"../batch/test/combined_run2_snt.csv\").groupby(\"run\").apply(get_ranges)\n",
    "lut"
   ]
  },
  {
   "cell_type": "code",
   "execution_count": null,
   "metadata": {},
   "outputs": [],
   "source": []
  },
  {
   "cell_type": "code",
   "execution_count": 232,
   "metadata": {
    "ExecuteTime": {
     "end_time": "2019-12-17T23:12:46.823205Z",
     "start_time": "2019-12-17T23:12:44.176428Z"
    }
   },
   "outputs": [
    {
     "name": "stdout",
     "output_type": "stream",
     "text": [
      "0\n"
     ]
    },
    {
     "data": {
      "image/png": "[encoded data removed]",
      "text/plain": [
       "<Figure size 1000x400 with 2 Axes>"
      ]
     },
     "metadata": {
      "image/png": {
       "height": 387,
       "width": 931
      },
      "needs_background": "light"
     },
     "output_type": "display_data"
    }
   ],
   "source": [
    "basesel = \"DV_rhoCorr>1.0 and dimuon_mass>5\"\n",
    "basecount = mcremotedf.eval(basesel).sum().compute()\n",
    "\n",
    "extrasel = \" and \".join([\n",
    "    \"logabsetaphi<2.0\",\n",
    "#     \"logabsetaphi<1.0\",\n",
    "#     \"noexcesshits\",\n",
    "#     \"noexcesshitslay1\",\n",
    "    \"pass_excesshits\",\n",
    "#     \"leq1excesshits\",\n",
    "    \"minabsdxy>0.05\",\n",
    "#     \"dxyratio>0.8\"\n",
    "])\n",
    "\n",
    "sel = basesel + \" and \" + extrasel\n",
    "sel_iso = sel + \" and pass_baseline_iso \"\n",
    "\n",
    "varexp = \"dimuon_mass\"\n",
    "bins = np.linspace(5.0,50,92+1)\n",
    "\n",
    "# varexp = \"dxyratio\"\n",
    "# bins = np.linspace(0.0,6.0,50)\n",
    "\n",
    "def clip(x):\n",
    "    return da.clip(x, bins[0]+1e-6, bins[-1]-1e-6)\n",
    "\n",
    "mc1 = mcremotedf.query(sel)\n",
    "mc1_iso = mc1.query(\"pass_baseline_iso\")\n",
    "data1 = dataremotedf.query(sel)\n",
    "data1_iso = data1.query(\"pass_baseline_iso\")\n",
    "\n",
    "counts_mc, counts_mc_iso, counts_data, counts_data_iso = client.compute([\n",
    "    da.histogram(clip(mc1.eval(varexp)),bins=bins)[0],\n",
    "    da.histogram(clip(mc1_iso.eval(varexp)),bins=bins)[0],\n",
    "    da.histogram(clip(data1.eval(varexp)),bins=bins)[0],\n",
    "    da.histogram(clip(data1_iso.eval(varexp)),bins=bins)[0],\n",
    "],sync=True)\n",
    "\n",
    "hmc = Hist1D.from_bincounts(counts_mc,bins,errors=counts_mc**0.5)\n",
    "hdata = Hist1D.from_bincounts(counts_data,bins,errors=counts_data**0.5)\n",
    "hmc_iso = Hist1D.from_bincounts(counts_mc_iso,bins,errors=counts_mc_iso**0.5)\n",
    "hdata_iso = Hist1D.from_bincounts(counts_data_iso,bins,errors=counts_data_iso**0.5)\n",
    "\n",
    "num_not_in_json = (~data1_iso[[\"run\",\"luminosityBlock\"]].compute().apply(lambda x: is_good(*x), axis=1)).sum()\n",
    "print(num_not_in_json)\n",
    "\n",
    "fig, (ax1,ax2) = plt.subplots(1,2,figsize=(10,4),sharey=True)\n",
    "\n",
    "def decorate(ax,iso=True):\n",
    "#     ax.set_title(\"sel=({}) [{:.1f}% MC wrt rho>1,mass>5{}]\".format(extrasel,100.*hmc.integral/basecount,\n",
    "#     ax.set_title(\"sel=({}) [{:.1f}% MC]\".format(extrasel,100.*hmc.integral/basecount,\n",
    "#                                                                   \",iso\" if iso else \"\"),fontsize=8)\n",
    "    selstr = \"[{}]\".format(sel_iso if iso else sel)\n",
    "    selstr = selstr.replace(\"DV_rhoCorr\",\"rho\").replace(\"dimuon_mass\",\"mass\")\n",
    "    ax.set_title(selstr,fontsize=7)\n",
    "#     ax.set_xlabel(\"dimuon mass (GeV)\")\n",
    "    ax.set_xlabel(\"dxyratio\")\n",
    "    if iso:\n",
    "        ax.set_ylabel(\"frac. of events\")\n",
    "    ax.legend()\n",
    "    ax.set_yscale(\"log\")\n",
    "    ax.set_ylim(bottom=0.0001)\n",
    "    \n",
    "ax = ax1\n",
    "hmc_iso.normalize().plot(ax=ax,histtype=\"step\",label=\"MC [{:.1f}]\".format(hmc_iso.integral))\n",
    "hdata_iso.normalize().plot(ax=ax,show_errors=True,color=\"k\",markersize=3,label=\"Data [{:.0f}]\".format(hdata_iso.integral))\n",
    "decorate(ax,iso=True)\n",
    "\n",
    "\n",
    "ax = ax2\n",
    "hmc.normalize().plot(ax=ax,histtype=\"step\",label=\"MC [{:.1f}]\".format(hmc.integral))\n",
    "hdata.normalize().plot(ax=ax,show_errors=True,color=\"k\",markersize=3,label=\"Data [{:.0f}]\".format(hdata.integral))\n",
    "decorate(ax,iso=False)\n",
    "\n",
    "# fig.set_tight_layout(True)\n"
   ]
  },
  {
   "cell_type": "code",
   "execution_count": 233,
   "metadata": {
    "ExecuteTime": {
     "end_time": "2019-12-17T23:12:46.862175Z",
     "start_time": "2019-12-17T23:12:46.825637Z"
    }
   },
   "outputs": [
    {
     "data": {
      "text/html": [
       "<div>\n",
       "<style scoped>\n",
       "    .dataframe tbody tr th:only-of-type {\n",
       "        vertical-align: middle;\n",
       "    }\n",
       "\n",
       "    .dataframe tbody tr th {\n",
       "        vertical-align: top;\n",
       "    }\n",
       "\n",
       "    .dataframe thead th {\n",
       "        text-align: right;\n",
       "    }\n",
       "</style>\n",
       "<table border=\"1\" class=\"dataframe\">\n",
       "  <thead>\n",
       "    <tr style=\"text-align: right;\">\n",
       "      <th></th>\n",
       "      <th>pass_skim</th>\n",
       "      <th>pass_l1</th>\n",
       "      <th>pass_fiducialgen</th>\n",
       "      <th>pass_fiducialgen_norho</th>\n",
       "      <th>pass_baseline</th>\n",
       "      <th>pass_baseline_iso</th>\n",
       "      <th>Muon1_nValidMuonHits</th>\n",
       "      <th>Muon2_nValidMuonHits</th>\n",
       "      <th>Muon1_nValidPixelHits</th>\n",
       "      <th>Muon2_nValidPixelHits</th>\n",
       "      <th>...</th>\n",
       "      <th>DV_x</th>\n",
       "      <th>DV_y</th>\n",
       "      <th>DV_rhoCorr</th>\n",
       "      <th>run</th>\n",
       "      <th>luminosityBlock</th>\n",
       "      <th>event</th>\n",
       "      <th>dimuon_mass</th>\n",
       "      <th>minabsdxy</th>\n",
       "      <th>logabsetaphi</th>\n",
       "      <th>pass_excesshits</th>\n",
       "    </tr>\n",
       "  </thead>\n",
       "  <tbody>\n",
       "    <tr>\n",
       "      <td>0</td>\n",
       "      <td>True</td>\n",
       "      <td>True</td>\n",
       "      <td>True</td>\n",
       "      <td>True</td>\n",
       "      <td>True</td>\n",
       "      <td>True</td>\n",
       "      <td>24</td>\n",
       "      <td>12</td>\n",
       "      <td>4</td>\n",
       "      <td>5</td>\n",
       "      <td>...</td>\n",
       "      <td>0.109835</td>\n",
       "      <td>-0.161349</td>\n",
       "      <td>0.276482</td>\n",
       "      <td>319337</td>\n",
       "      <td>48</td>\n",
       "      <td>10738734</td>\n",
       "      <td>3.521773</td>\n",
       "      <td>0.115305</td>\n",
       "      <td>-0.335063</td>\n",
       "      <td>True</td>\n",
       "    </tr>\n",
       "    <tr>\n",
       "      <td>1</td>\n",
       "      <td>True</td>\n",
       "      <td>True</td>\n",
       "      <td>True</td>\n",
       "      <td>True</td>\n",
       "      <td>True</td>\n",
       "      <td>True</td>\n",
       "      <td>36</td>\n",
       "      <td>24</td>\n",
       "      <td>7</td>\n",
       "      <td>3</td>\n",
       "      <td>...</td>\n",
       "      <td>0.119387</td>\n",
       "      <td>-0.284734</td>\n",
       "      <td>0.400203</td>\n",
       "      <td>319337</td>\n",
       "      <td>48</td>\n",
       "      <td>10743671</td>\n",
       "      <td>2.357998</td>\n",
       "      <td>0.055473</td>\n",
       "      <td>-0.178866</td>\n",
       "      <td>True</td>\n",
       "    </tr>\n",
       "    <tr>\n",
       "      <td>2</td>\n",
       "      <td>True</td>\n",
       "      <td>True</td>\n",
       "      <td>True</td>\n",
       "      <td>True</td>\n",
       "      <td>True</td>\n",
       "      <td>False</td>\n",
       "      <td>32</td>\n",
       "      <td>28</td>\n",
       "      <td>4</td>\n",
       "      <td>3</td>\n",
       "      <td>...</td>\n",
       "      <td>0.092860</td>\n",
       "      <td>-0.140513</td>\n",
       "      <td>0.255331</td>\n",
       "      <td>319337</td>\n",
       "      <td>48</td>\n",
       "      <td>10848338</td>\n",
       "      <td>3.105935</td>\n",
       "      <td>0.034845</td>\n",
       "      <td>0.046681</td>\n",
       "      <td>True</td>\n",
       "    </tr>\n",
       "    <tr>\n",
       "      <td>3</td>\n",
       "      <td>True</td>\n",
       "      <td>True</td>\n",
       "      <td>True</td>\n",
       "      <td>True</td>\n",
       "      <td>True</td>\n",
       "      <td>False</td>\n",
       "      <td>46</td>\n",
       "      <td>49</td>\n",
       "      <td>4</td>\n",
       "      <td>3</td>\n",
       "      <td>...</td>\n",
       "      <td>0.268279</td>\n",
       "      <td>-0.250568</td>\n",
       "      <td>0.253036</td>\n",
       "      <td>319337</td>\n",
       "      <td>49</td>\n",
       "      <td>10922775</td>\n",
       "      <td>1.017036</td>\n",
       "      <td>0.009408</td>\n",
       "      <td>-0.165725</td>\n",
       "      <td>True</td>\n",
       "    </tr>\n",
       "    <tr>\n",
       "      <td>4</td>\n",
       "      <td>True</td>\n",
       "      <td>True</td>\n",
       "      <td>True</td>\n",
       "      <td>True</td>\n",
       "      <td>True</td>\n",
       "      <td>True</td>\n",
       "      <td>33</td>\n",
       "      <td>33</td>\n",
       "      <td>4</td>\n",
       "      <td>2</td>\n",
       "      <td>...</td>\n",
       "      <td>0.037756</td>\n",
       "      <td>0.078041</td>\n",
       "      <td>0.154702</td>\n",
       "      <td>319337</td>\n",
       "      <td>49</td>\n",
       "      <td>12145275</td>\n",
       "      <td>3.328078</td>\n",
       "      <td>0.023262</td>\n",
       "      <td>0.043328</td>\n",
       "      <td>True</td>\n",
       "    </tr>\n",
       "    <tr>\n",
       "      <td>...</td>\n",
       "      <td>...</td>\n",
       "      <td>...</td>\n",
       "      <td>...</td>\n",
       "      <td>...</td>\n",
       "      <td>...</td>\n",
       "      <td>...</td>\n",
       "      <td>...</td>\n",
       "      <td>...</td>\n",
       "      <td>...</td>\n",
       "      <td>...</td>\n",
       "      <td>...</td>\n",
       "      <td>...</td>\n",
       "      <td>...</td>\n",
       "      <td>...</td>\n",
       "      <td>...</td>\n",
       "      <td>...</td>\n",
       "      <td>...</td>\n",
       "      <td>...</td>\n",
       "      <td>...</td>\n",
       "      <td>...</td>\n",
       "      <td>...</td>\n",
       "    </tr>\n",
       "    <tr>\n",
       "      <td>19621</td>\n",
       "      <td>True</td>\n",
       "      <td>True</td>\n",
       "      <td>True</td>\n",
       "      <td>True</td>\n",
       "      <td>True</td>\n",
       "      <td>True</td>\n",
       "      <td>20</td>\n",
       "      <td>8</td>\n",
       "      <td>4</td>\n",
       "      <td>3</td>\n",
       "      <td>...</td>\n",
       "      <td>0.028073</td>\n",
       "      <td>-0.082074</td>\n",
       "      <td>0.069811</td>\n",
       "      <td>319337</td>\n",
       "      <td>80</td>\n",
       "      <td>61521541</td>\n",
       "      <td>0.793044</td>\n",
       "      <td>0.002492</td>\n",
       "      <td>-0.226333</td>\n",
       "      <td>True</td>\n",
       "    </tr>\n",
       "    <tr>\n",
       "      <td>19622</td>\n",
       "      <td>True</td>\n",
       "      <td>True</td>\n",
       "      <td>True</td>\n",
       "      <td>True</td>\n",
       "      <td>True</td>\n",
       "      <td>False</td>\n",
       "      <td>37</td>\n",
       "      <td>30</td>\n",
       "      <td>4</td>\n",
       "      <td>3</td>\n",
       "      <td>...</td>\n",
       "      <td>-0.782797</td>\n",
       "      <td>0.209985</td>\n",
       "      <td>0.920714</td>\n",
       "      <td>319337</td>\n",
       "      <td>80</td>\n",
       "      <td>62727258</td>\n",
       "      <td>2.516399</td>\n",
       "      <td>0.001229</td>\n",
       "      <td>2.044439</td>\n",
       "      <td>True</td>\n",
       "    </tr>\n",
       "    <tr>\n",
       "      <td>19623</td>\n",
       "      <td>True</td>\n",
       "      <td>True</td>\n",
       "      <td>True</td>\n",
       "      <td>True</td>\n",
       "      <td>True</td>\n",
       "      <td>True</td>\n",
       "      <td>20</td>\n",
       "      <td>23</td>\n",
       "      <td>4</td>\n",
       "      <td>4</td>\n",
       "      <td>...</td>\n",
       "      <td>0.084959</td>\n",
       "      <td>-0.034093</td>\n",
       "      <td>0.032977</td>\n",
       "      <td>319337</td>\n",
       "      <td>80</td>\n",
       "      <td>61205457</td>\n",
       "      <td>3.256937</td>\n",
       "      <td>0.005018</td>\n",
       "      <td>-0.126875</td>\n",
       "      <td>True</td>\n",
       "    </tr>\n",
       "    <tr>\n",
       "      <td>19624</td>\n",
       "      <td>True</td>\n",
       "      <td>True</td>\n",
       "      <td>True</td>\n",
       "      <td>True</td>\n",
       "      <td>True</td>\n",
       "      <td>False</td>\n",
       "      <td>20</td>\n",
       "      <td>22</td>\n",
       "      <td>4</td>\n",
       "      <td>4</td>\n",
       "      <td>...</td>\n",
       "      <td>0.279088</td>\n",
       "      <td>-0.066902</td>\n",
       "      <td>0.183274</td>\n",
       "      <td>319337</td>\n",
       "      <td>80</td>\n",
       "      <td>61244674</td>\n",
       "      <td>1.518766</td>\n",
       "      <td>0.006249</td>\n",
       "      <td>-0.386158</td>\n",
       "      <td>True</td>\n",
       "    </tr>\n",
       "    <tr>\n",
       "      <td>19625</td>\n",
       "      <td>True</td>\n",
       "      <td>True</td>\n",
       "      <td>True</td>\n",
       "      <td>True</td>\n",
       "      <td>True</td>\n",
       "      <td>False</td>\n",
       "      <td>17</td>\n",
       "      <td>23</td>\n",
       "      <td>6</td>\n",
       "      <td>5</td>\n",
       "      <td>...</td>\n",
       "      <td>-0.125983</td>\n",
       "      <td>0.217492</td>\n",
       "      <td>0.359345</td>\n",
       "      <td>319337</td>\n",
       "      <td>80</td>\n",
       "      <td>62582556</td>\n",
       "      <td>1.585872</td>\n",
       "      <td>0.031131</td>\n",
       "      <td>-0.064291</td>\n",
       "      <td>True</td>\n",
       "    </tr>\n",
       "  </tbody>\n",
       "</table>\n",
       "<p>19626 rows × 26 columns</p>\n",
       "</div>"
      ],
      "text/plain": [
       "       pass_skim  pass_l1  pass_fiducialgen  pass_fiducialgen_norho  \\\n",
       "0           True     True              True                    True   \n",
       "1           True     True              True                    True   \n",
       "2           True     True              True                    True   \n",
       "3           True     True              True                    True   \n",
       "4           True     True              True                    True   \n",
       "...          ...      ...               ...                     ...   \n",
       "19621       True     True              True                    True   \n",
       "19622       True     True              True                    True   \n",
       "19623       True     True              True                    True   \n",
       "19624       True     True              True                    True   \n",
       "19625       True     True              True                    True   \n",
       "\n",
       "       pass_baseline  pass_baseline_iso  Muon1_nValidMuonHits  \\\n",
       "0               True               True                    24   \n",
       "1               True               True                    36   \n",
       "2               True              False                    32   \n",
       "3               True              False                    46   \n",
       "4               True               True                    33   \n",
       "...              ...                ...                   ...   \n",
       "19621           True               True                    20   \n",
       "19622           True              False                    37   \n",
       "19623           True               True                    20   \n",
       "19624           True              False                    20   \n",
       "19625           True              False                    17   \n",
       "\n",
       "       Muon2_nValidMuonHits  Muon1_nValidPixelHits  Muon2_nValidPixelHits  \\\n",
       "0                        12                      4                      5   \n",
       "1                        24                      7                      3   \n",
       "2                        28                      4                      3   \n",
       "3                        49                      4                      3   \n",
       "4                        33                      4                      2   \n",
       "...                     ...                    ...                    ...   \n",
       "19621                     8                      4                      3   \n",
       "19622                    30                      4                      3   \n",
       "19623                    23                      4                      4   \n",
       "19624                    22                      4                      4   \n",
       "19625                    23                      6                      5   \n",
       "\n",
       "       ...      DV_x      DV_y  DV_rhoCorr     run  luminosityBlock     event  \\\n",
       "0      ...  0.109835 -0.161349    0.276482  319337               48  10738734   \n",
       "1      ...  0.119387 -0.284734    0.400203  319337               48  10743671   \n",
       "2      ...  0.092860 -0.140513    0.255331  319337               48  10848338   \n",
       "3      ...  0.268279 -0.250568    0.253036  319337               49  10922775   \n",
       "4      ...  0.037756  0.078041    0.154702  319337               49  12145275   \n",
       "...    ...       ...       ...         ...     ...              ...       ...   \n",
       "19621  ...  0.028073 -0.082074    0.069811  319337               80  61521541   \n",
       "19622  ... -0.782797  0.209985    0.920714  319337               80  62727258   \n",
       "19623  ...  0.084959 -0.034093    0.032977  319337               80  61205457   \n",
       "19624  ...  0.279088 -0.066902    0.183274  319337               80  61244674   \n",
       "19625  ... -0.125983  0.217492    0.359345  319337               80  62582556   \n",
       "\n",
       "       dimuon_mass  minabsdxy  logabsetaphi  pass_excesshits  \n",
       "0         3.521773   0.115305     -0.335063             True  \n",
       "1         2.357998   0.055473     -0.178866             True  \n",
       "2         3.105935   0.034845      0.046681             True  \n",
       "3         1.017036   0.009408     -0.165725             True  \n",
       "4         3.328078   0.023262      0.043328             True  \n",
       "...            ...        ...           ...              ...  \n",
       "19621     0.793044   0.002492     -0.226333             True  \n",
       "19622     2.516399   0.001229      2.044439             True  \n",
       "19623     3.256937   0.005018     -0.126875             True  \n",
       "19624     1.518766   0.006249     -0.386158             True  \n",
       "19625     1.585872   0.031131     -0.064291             True  \n",
       "\n",
       "[19626 rows x 26 columns]"
      ]
     },
     "execution_count": 233,
     "metadata": {},
     "output_type": "execute_result"
    }
   ],
   "source": [
    "df"
   ]
  },
  {
   "cell_type": "code",
   "execution_count": 270,
   "metadata": {
    "ExecuteTime": {
     "end_time": "2019-12-17T23:52:57.529736Z",
     "start_time": "2019-12-17T23:52:57.265354Z"
    }
   },
   "outputs": [
    {
     "data": {
      "text/html": [
       "<table>\n",
       "<tr>\n",
       "<td>\n",
       "<table>\n",
       "  <thead>\n",
       "    <tr><td> </td><th> Array </th><th> Chunk </th></tr>\n",
       "  </thead>\n",
       "  <tbody>\n",
       "    <tr><th> Bytes </th><td> 20.16 MB </td> <td> 20.16 MB </td></tr>\n",
       "    <tr><th> Shape </th><td> (2520235,) </td> <td> (2520235,) </td></tr>\n",
       "    <tr><th> Count </th><td> 2 Tasks </td><td> 1 Chunks </td></tr>\n",
       "    <tr><th> Type </th><td> float64 </td><td> awkward.ChunkedArray </td></tr>\n",
       "  </tbody>\n",
       "</table>\n",
       "</td>\n",
       "<td>\n",
       "<svg width=\"170\" height=\"75\" style=\"stroke:rgb(0,0,0);stroke-width:1\" >\n",
       "\n",
       "  <!-- Horizontal lines -->\n",
       "  <line x1=\"0\" y1=\"0\" x2=\"120\" y2=\"0\" style=\"stroke-width:2\" />\n",
       "  <line x1=\"0\" y1=\"25\" x2=\"120\" y2=\"25\" style=\"stroke-width:2\" />\n",
       "\n",
       "  <!-- Vertical lines -->\n",
       "  <line x1=\"0\" y1=\"0\" x2=\"0\" y2=\"25\" style=\"stroke-width:2\" />\n",
       "  <line x1=\"120\" y1=\"0\" x2=\"120\" y2=\"25\" style=\"stroke-width:2\" />\n",
       "\n",
       "  <!-- Colored Rectangle -->\n",
       "  <polygon points=\"0.000000,0.000000 120.000000,0.000000 120.000000,25.412617 0.000000,25.412617\" style=\"fill:#ECB172A0;stroke-width:0\"/>\n",
       "\n",
       "  <!-- Text -->\n",
       "  <text x=\"60.000000\" y=\"45.412617\" font-size=\"1.0rem\" font-weight=\"100\" text-anchor=\"middle\" >2520235</text>\n",
       "  <text x=\"140.000000\" y=\"12.706308\" font-size=\"1.0rem\" font-weight=\"100\" text-anchor=\"middle\" transform=\"rotate(0,140.000000,12.706308)\">1</text>\n",
       "</svg>\n",
       "</td>\n",
       "</tr>\n",
       "</table>"
      ],
      "text/plain": [
       "dask.array<array, shape=(2520235,), dtype=float64, chunksize=(2520235,), chunktype=awkward.ChunkedArray>"
      ]
     },
     "execution_count": 270,
     "metadata": {},
     "output_type": "execute_result"
    }
   ],
   "source": [
    "arr = uproot.daskarray(\n",
    "    \"/hadoop/cms/store/user/namin/ProjectMetis/ScoutingCaloMuon_Run2018skim_2018C_v9_RAW_v10/output_9.root\",\n",
    "    \"Events\",\n",
    "    \"pass_baseline_iso\",\n",
    "    entrysteps=int(300e3),\n",
    ")\n",
    "arr"
   ]
  },
  {
   "cell_type": "code",
   "execution_count": 279,
   "metadata": {
    "ExecuteTime": {
     "end_time": "2019-12-18T00:00:33.373108Z",
     "start_time": "2019-12-18T00:00:33.328275Z"
    },
    "scrolled": false
   },
   "outputs": [
    {
     "ename": "IndexError",
     "evalue": "only integers, slices (`:`), ellipsis (`...`), numpy.newaxis (`None`) and integer or boolean arrays are valid indices",
     "output_type": "error",
     "traceback": [
      "\u001b[0;31m---------------------------------------------------------------------------\u001b[0m",
      "\u001b[0;31mTypeError\u001b[0m                                 Traceback (most recent call last)",
      "\u001b[0;32m~/miniconda3/envs/analysisenv/lib/python3.7/site-packages/dask/array/reductions.py\u001b[0m in \u001b[0;36mpartial_reduce\u001b[0;34m(func, x, split_every, keepdims, dtype, name, reduced_meta)\u001b[0m\n\u001b[1;32m    302\u001b[0m         \u001b[0;32mtry\u001b[0m\u001b[0;34m:\u001b[0m\u001b[0;34m\u001b[0m\u001b[0;34m\u001b[0m\u001b[0m\n\u001b[0;32m--> 303\u001b[0;31m             \u001b[0mmeta\u001b[0m \u001b[0;34m=\u001b[0m \u001b[0mfunc\u001b[0m\u001b[0;34m(\u001b[0m\u001b[0mreduced_meta\u001b[0m\u001b[0;34m,\u001b[0m \u001b[0mcomputing_meta\u001b[0m\u001b[0;34m=\u001b[0m\u001b[0;32mTrue\u001b[0m\u001b[0;34m)\u001b[0m\u001b[0;34m\u001b[0m\u001b[0;34m\u001b[0m\u001b[0m\n\u001b[0m\u001b[1;32m    304\u001b[0m         \u001b[0;31m# no meta keyword argument exists for func, and it isn't required\u001b[0m\u001b[0;34m\u001b[0m\u001b[0;34m\u001b[0m\u001b[0;34m\u001b[0m\u001b[0m\n",
      "\u001b[0;32m~/miniconda3/envs/analysisenv/lib/python3.7/site-packages/dask/array/reductions.py\u001b[0m in \u001b[0;36mmean_agg\u001b[0;34m(pairs, dtype, axis, computing_meta, **kwargs)\u001b[0m\n\u001b[1;32m    570\u001b[0m     \u001b[0mn\u001b[0m \u001b[0;34m=\u001b[0m \u001b[0m_concatenate2\u001b[0m\u001b[0;34m(\u001b[0m\u001b[0mns\u001b[0m\u001b[0;34m,\u001b[0m \u001b[0maxes\u001b[0m\u001b[0;34m=\u001b[0m\u001b[0maxis\u001b[0m\u001b[0;34m)\u001b[0m\u001b[0;34m\u001b[0m\u001b[0;34m\u001b[0m\u001b[0m\n\u001b[0;32m--> 571\u001b[0;31m     \u001b[0mn\u001b[0m \u001b[0;34m=\u001b[0m \u001b[0mnp\u001b[0m\u001b[0;34m.\u001b[0m\u001b[0msum\u001b[0m\u001b[0;34m(\u001b[0m\u001b[0mn\u001b[0m\u001b[0;34m,\u001b[0m \u001b[0maxis\u001b[0m\u001b[0;34m=\u001b[0m\u001b[0maxis\u001b[0m\u001b[0;34m,\u001b[0m \u001b[0mdtype\u001b[0m\u001b[0;34m=\u001b[0m\u001b[0mdtype\u001b[0m\u001b[0;34m,\u001b[0m \u001b[0;34m**\u001b[0m\u001b[0mkwargs\u001b[0m\u001b[0;34m)\u001b[0m\u001b[0;34m\u001b[0m\u001b[0;34m\u001b[0m\u001b[0m\n\u001b[0m\u001b[1;32m    572\u001b[0m \u001b[0;34m\u001b[0m\u001b[0m\n",
      "\u001b[0;32m<__array_function__ internals>\u001b[0m in \u001b[0;36msum\u001b[0;34m(*args, **kwargs)\u001b[0m\n",
      "\u001b[0;32m~/miniconda3/envs/analysisenv/lib/python3.7/site-packages/numpy/core/fromnumeric.py\u001b[0m in \u001b[0;36msum\u001b[0;34m(a, axis, dtype, out, keepdims, initial, where)\u001b[0m\n\u001b[1;32m   2181\u001b[0m     return _wrapreduction(a, np.add, 'sum', axis, dtype, out, keepdims=keepdims,\n\u001b[0;32m-> 2182\u001b[0;31m                           initial=initial, where=where)\n\u001b[0m\u001b[1;32m   2183\u001b[0m \u001b[0;34m\u001b[0m\u001b[0m\n",
      "\u001b[0;32m~/miniconda3/envs/analysisenv/lib/python3.7/site-packages/numpy/core/fromnumeric.py\u001b[0m in \u001b[0;36m_wrapreduction\u001b[0;34m(obj, ufunc, method, axis, dtype, out, **kwargs)\u001b[0m\n\u001b[1;32m     85\u001b[0m             \u001b[0;32mif\u001b[0m \u001b[0mdtype\u001b[0m \u001b[0;32mis\u001b[0m \u001b[0;32mnot\u001b[0m \u001b[0;32mNone\u001b[0m\u001b[0;34m:\u001b[0m\u001b[0;34m\u001b[0m\u001b[0;34m\u001b[0m\u001b[0m\n\u001b[0;32m---> 86\u001b[0;31m                 \u001b[0;32mreturn\u001b[0m \u001b[0mreduction\u001b[0m\u001b[0;34m(\u001b[0m\u001b[0maxis\u001b[0m\u001b[0;34m=\u001b[0m\u001b[0maxis\u001b[0m\u001b[0;34m,\u001b[0m \u001b[0mdtype\u001b[0m\u001b[0;34m=\u001b[0m\u001b[0mdtype\u001b[0m\u001b[0;34m,\u001b[0m \u001b[0mout\u001b[0m\u001b[0;34m=\u001b[0m\u001b[0mout\u001b[0m\u001b[0;34m,\u001b[0m \u001b[0;34m**\u001b[0m\u001b[0mpasskwargs\u001b[0m\u001b[0;34m)\u001b[0m\u001b[0;34m\u001b[0m\u001b[0;34m\u001b[0m\u001b[0m\n\u001b[0m\u001b[1;32m     87\u001b[0m             \u001b[0;32melse\u001b[0m\u001b[0;34m:\u001b[0m\u001b[0;34m\u001b[0m\u001b[0;34m\u001b[0m\u001b[0m\n",
      "\u001b[0;31mTypeError\u001b[0m: sum() got an unexpected keyword argument 'axis'",
      "\nDuring handling of the above exception, another exception occurred:\n",
      "\u001b[0;31mIndexError\u001b[0m                                Traceback (most recent call last)",
      "\u001b[0;32m<ipython-input-279-29103ae600d9>\u001b[0m in \u001b[0;36m<module>\u001b[0;34m\u001b[0m\n\u001b[1;32m      1\u001b[0m \u001b[0;31m# da.histogram(arr,bins=np.linspace(0,2,3))[0].compute()\u001b[0m\u001b[0;34m\u001b[0m\u001b[0;34m\u001b[0m\u001b[0;34m\u001b[0m\u001b[0m\n\u001b[0;32m----> 2\u001b[0;31m \u001b[0mda\u001b[0m\u001b[0;34m.\u001b[0m\u001b[0mmean\u001b[0m\u001b[0;34m(\u001b[0m\u001b[0marr\u001b[0m\u001b[0;34m[\u001b[0m\u001b[0;34m:\u001b[0m\u001b[0;36m3\u001b[0m\u001b[0;34m]\u001b[0m\u001b[0;34m)\u001b[0m\u001b[0;34m\u001b[0m\u001b[0;34m\u001b[0m\u001b[0m\n\u001b[0m",
      "\u001b[0;32m~/miniconda3/envs/analysisenv/lib/python3.7/site-packages/dask/array/reductions.py\u001b[0m in \u001b[0;36mmean\u001b[0;34m(a, axis, dtype, keepdims, split_every, out)\u001b[0m\n\u001b[1;32m    596\u001b[0m         \u001b[0mcombine\u001b[0m\u001b[0;34m=\u001b[0m\u001b[0mmean_combine\u001b[0m\u001b[0;34m,\u001b[0m\u001b[0;34m\u001b[0m\u001b[0;34m\u001b[0m\u001b[0m\n\u001b[1;32m    597\u001b[0m         \u001b[0mout\u001b[0m\u001b[0;34m=\u001b[0m\u001b[0mout\u001b[0m\u001b[0;34m,\u001b[0m\u001b[0;34m\u001b[0m\u001b[0;34m\u001b[0m\u001b[0m\n\u001b[0;32m--> 598\u001b[0;31m         \u001b[0mconcatenate\u001b[0m\u001b[0;34m=\u001b[0m\u001b[0;32mFalse\u001b[0m\u001b[0;34m,\u001b[0m\u001b[0;34m\u001b[0m\u001b[0;34m\u001b[0m\u001b[0m\n\u001b[0m\u001b[1;32m    599\u001b[0m     )\n\u001b[1;32m    600\u001b[0m \u001b[0;34m\u001b[0m\u001b[0m\n",
      "\u001b[0;32m~/miniconda3/envs/analysisenv/lib/python3.7/site-packages/dask/array/reductions.py\u001b[0m in \u001b[0;36mreduction\u001b[0;34m(x, chunk, aggregate, axis, keepdims, dtype, split_every, combine, name, out, concatenate, output_size, meta)\u001b[0m\n\u001b[1;32m    185\u001b[0m         \u001b[0mname\u001b[0m\u001b[0;34m=\u001b[0m\u001b[0mname\u001b[0m\u001b[0;34m,\u001b[0m\u001b[0;34m\u001b[0m\u001b[0;34m\u001b[0m\u001b[0m\n\u001b[1;32m    186\u001b[0m         \u001b[0mconcatenate\u001b[0m\u001b[0;34m=\u001b[0m\u001b[0mconcatenate\u001b[0m\u001b[0;34m,\u001b[0m\u001b[0;34m\u001b[0m\u001b[0;34m\u001b[0m\u001b[0m\n\u001b[0;32m--> 187\u001b[0;31m         \u001b[0mreduced_meta\u001b[0m\u001b[0;34m=\u001b[0m\u001b[0mreduced_meta\u001b[0m\u001b[0;34m,\u001b[0m\u001b[0;34m\u001b[0m\u001b[0;34m\u001b[0m\u001b[0m\n\u001b[0m\u001b[1;32m    188\u001b[0m     )\n\u001b[1;32m    189\u001b[0m     \u001b[0;32mif\u001b[0m \u001b[0mkeepdims\u001b[0m \u001b[0;32mand\u001b[0m \u001b[0moutput_size\u001b[0m \u001b[0;34m!=\u001b[0m \u001b[0;36m1\u001b[0m\u001b[0;34m:\u001b[0m\u001b[0;34m\u001b[0m\u001b[0;34m\u001b[0m\u001b[0m\n",
      "\u001b[0;32m~/miniconda3/envs/analysisenv/lib/python3.7/site-packages/dask/array/reductions.py\u001b[0m in \u001b[0;36m_tree_reduce\u001b[0;34m(x, aggregate, axis, keepdims, dtype, split_every, combine, name, concatenate, reduced_meta)\u001b[0m\n\u001b[1;32m    250\u001b[0m         \u001b[0mdtype\u001b[0m\u001b[0;34m=\u001b[0m\u001b[0mdtype\u001b[0m\u001b[0;34m,\u001b[0m\u001b[0;34m\u001b[0m\u001b[0;34m\u001b[0m\u001b[0m\n\u001b[1;32m    251\u001b[0m         \u001b[0mname\u001b[0m\u001b[0;34m=\u001b[0m\u001b[0;34m(\u001b[0m\u001b[0mname\u001b[0m \u001b[0;32mor\u001b[0m \u001b[0mfuncname\u001b[0m\u001b[0;34m(\u001b[0m\u001b[0maggregate\u001b[0m\u001b[0;34m)\u001b[0m\u001b[0;34m)\u001b[0m \u001b[0;34m+\u001b[0m \u001b[0;34m\"-aggregate\"\u001b[0m\u001b[0;34m,\u001b[0m\u001b[0;34m\u001b[0m\u001b[0;34m\u001b[0m\u001b[0m\n\u001b[0;32m--> 252\u001b[0;31m         \u001b[0mreduced_meta\u001b[0m\u001b[0;34m=\u001b[0m\u001b[0mreduced_meta\u001b[0m\u001b[0;34m,\u001b[0m\u001b[0;34m\u001b[0m\u001b[0;34m\u001b[0m\u001b[0m\n\u001b[0m\u001b[1;32m    253\u001b[0m     )\n\u001b[1;32m    254\u001b[0m \u001b[0;34m\u001b[0m\u001b[0m\n",
      "\u001b[0;32m~/miniconda3/envs/analysisenv/lib/python3.7/site-packages/dask/array/reductions.py\u001b[0m in \u001b[0;36mpartial_reduce\u001b[0;34m(func, x, split_every, keepdims, dtype, name, reduced_meta)\u001b[0m\n\u001b[1;32m    304\u001b[0m         \u001b[0;31m# no meta keyword argument exists for func, and it isn't required\u001b[0m\u001b[0;34m\u001b[0m\u001b[0;34m\u001b[0m\u001b[0;34m\u001b[0m\u001b[0m\n\u001b[1;32m    305\u001b[0m         \u001b[0;32mexcept\u001b[0m \u001b[0mTypeError\u001b[0m\u001b[0;34m:\u001b[0m\u001b[0;34m\u001b[0m\u001b[0;34m\u001b[0m\u001b[0m\n\u001b[0;32m--> 306\u001b[0;31m             \u001b[0mmeta\u001b[0m \u001b[0;34m=\u001b[0m \u001b[0mfunc\u001b[0m\u001b[0;34m(\u001b[0m\u001b[0mreduced_meta\u001b[0m\u001b[0;34m)\u001b[0m\u001b[0;34m\u001b[0m\u001b[0;34m\u001b[0m\u001b[0m\n\u001b[0m\u001b[1;32m    307\u001b[0m         \u001b[0;31m# when no work can be computed on the empty array (e.g., func is a ufunc)\u001b[0m\u001b[0;34m\u001b[0m\u001b[0;34m\u001b[0m\u001b[0;34m\u001b[0m\u001b[0m\n\u001b[1;32m    308\u001b[0m         \u001b[0;32mexcept\u001b[0m \u001b[0mValueError\u001b[0m\u001b[0;34m:\u001b[0m\u001b[0;34m\u001b[0m\u001b[0;34m\u001b[0m\u001b[0m\n",
      "\u001b[0;32m~/miniconda3/envs/analysisenv/lib/python3.7/site-packages/dask/array/reductions.py\u001b[0m in \u001b[0;36mmean_agg\u001b[0;34m(pairs, dtype, axis, computing_meta, **kwargs)\u001b[0m\n\u001b[1;32m    567\u001b[0m \u001b[0;34m\u001b[0m\u001b[0m\n\u001b[1;32m    568\u001b[0m \u001b[0;32mdef\u001b[0m \u001b[0mmean_agg\u001b[0m\u001b[0;34m(\u001b[0m\u001b[0mpairs\u001b[0m\u001b[0;34m,\u001b[0m \u001b[0mdtype\u001b[0m\u001b[0;34m=\u001b[0m\u001b[0;34m\"f8\"\u001b[0m\u001b[0;34m,\u001b[0m \u001b[0maxis\u001b[0m\u001b[0;34m=\u001b[0m\u001b[0;32mNone\u001b[0m\u001b[0;34m,\u001b[0m \u001b[0mcomputing_meta\u001b[0m\u001b[0;34m=\u001b[0m\u001b[0;32mFalse\u001b[0m\u001b[0;34m,\u001b[0m \u001b[0;34m**\u001b[0m\u001b[0mkwargs\u001b[0m\u001b[0;34m)\u001b[0m\u001b[0;34m:\u001b[0m\u001b[0;34m\u001b[0m\u001b[0;34m\u001b[0m\u001b[0m\n\u001b[0;32m--> 569\u001b[0;31m     \u001b[0mns\u001b[0m \u001b[0;34m=\u001b[0m \u001b[0mdeepmap\u001b[0m\u001b[0;34m(\u001b[0m\u001b[0;32mlambda\u001b[0m \u001b[0mpair\u001b[0m\u001b[0;34m:\u001b[0m \u001b[0mpair\u001b[0m\u001b[0;34m[\u001b[0m\u001b[0;34m\"n\"\u001b[0m\u001b[0;34m]\u001b[0m\u001b[0;34m,\u001b[0m \u001b[0mpairs\u001b[0m\u001b[0;34m)\u001b[0m \u001b[0;32mif\u001b[0m \u001b[0;32mnot\u001b[0m \u001b[0mcomputing_meta\u001b[0m \u001b[0;32melse\u001b[0m \u001b[0mpairs\u001b[0m\u001b[0;34m\u001b[0m\u001b[0;34m\u001b[0m\u001b[0m\n\u001b[0m\u001b[1;32m    570\u001b[0m     \u001b[0mn\u001b[0m \u001b[0;34m=\u001b[0m \u001b[0m_concatenate2\u001b[0m\u001b[0;34m(\u001b[0m\u001b[0mns\u001b[0m\u001b[0;34m,\u001b[0m \u001b[0maxes\u001b[0m\u001b[0;34m=\u001b[0m\u001b[0maxis\u001b[0m\u001b[0;34m)\u001b[0m\u001b[0;34m\u001b[0m\u001b[0;34m\u001b[0m\u001b[0m\n\u001b[1;32m    571\u001b[0m     \u001b[0mn\u001b[0m \u001b[0;34m=\u001b[0m \u001b[0mnp\u001b[0m\u001b[0;34m.\u001b[0m\u001b[0msum\u001b[0m\u001b[0;34m(\u001b[0m\u001b[0mn\u001b[0m\u001b[0;34m,\u001b[0m \u001b[0maxis\u001b[0m\u001b[0;34m=\u001b[0m\u001b[0maxis\u001b[0m\u001b[0;34m,\u001b[0m \u001b[0mdtype\u001b[0m\u001b[0;34m=\u001b[0m\u001b[0mdtype\u001b[0m\u001b[0;34m,\u001b[0m \u001b[0;34m**\u001b[0m\u001b[0mkwargs\u001b[0m\u001b[0;34m)\u001b[0m\u001b[0;34m\u001b[0m\u001b[0;34m\u001b[0m\u001b[0m\n",
      "\u001b[0;32m~/miniconda3/envs/analysisenv/lib/python3.7/site-packages/dask/utils.py\u001b[0m in \u001b[0;36mdeepmap\u001b[0;34m(func, *seqs)\u001b[0m\n\u001b[1;32m     46\u001b[0m         \u001b[0;32mreturn\u001b[0m \u001b[0;34m[\u001b[0m\u001b[0mdeepmap\u001b[0m\u001b[0;34m(\u001b[0m\u001b[0mfunc\u001b[0m\u001b[0;34m,\u001b[0m \u001b[0;34m*\u001b[0m\u001b[0mitems\u001b[0m\u001b[0;34m)\u001b[0m \u001b[0;32mfor\u001b[0m \u001b[0mitems\u001b[0m \u001b[0;32min\u001b[0m \u001b[0mzip\u001b[0m\u001b[0;34m(\u001b[0m\u001b[0;34m*\u001b[0m\u001b[0mseqs\u001b[0m\u001b[0;34m)\u001b[0m\u001b[0;34m]\u001b[0m\u001b[0;34m\u001b[0m\u001b[0;34m\u001b[0m\u001b[0m\n\u001b[1;32m     47\u001b[0m     \u001b[0;32melse\u001b[0m\u001b[0;34m:\u001b[0m\u001b[0;34m\u001b[0m\u001b[0;34m\u001b[0m\u001b[0m\n\u001b[0;32m---> 48\u001b[0;31m         \u001b[0;32mreturn\u001b[0m \u001b[0mfunc\u001b[0m\u001b[0;34m(\u001b[0m\u001b[0;34m*\u001b[0m\u001b[0mseqs\u001b[0m\u001b[0;34m)\u001b[0m\u001b[0;34m\u001b[0m\u001b[0;34m\u001b[0m\u001b[0m\n\u001b[0m\u001b[1;32m     49\u001b[0m \u001b[0;34m\u001b[0m\u001b[0m\n\u001b[1;32m     50\u001b[0m \u001b[0;34m\u001b[0m\u001b[0m\n",
      "\u001b[0;32m~/miniconda3/envs/analysisenv/lib/python3.7/site-packages/dask/array/reductions.py\u001b[0m in \u001b[0;36m<lambda>\u001b[0;34m(pair)\u001b[0m\n\u001b[1;32m    567\u001b[0m \u001b[0;34m\u001b[0m\u001b[0m\n\u001b[1;32m    568\u001b[0m \u001b[0;32mdef\u001b[0m \u001b[0mmean_agg\u001b[0m\u001b[0;34m(\u001b[0m\u001b[0mpairs\u001b[0m\u001b[0;34m,\u001b[0m \u001b[0mdtype\u001b[0m\u001b[0;34m=\u001b[0m\u001b[0;34m\"f8\"\u001b[0m\u001b[0;34m,\u001b[0m \u001b[0maxis\u001b[0m\u001b[0;34m=\u001b[0m\u001b[0;32mNone\u001b[0m\u001b[0;34m,\u001b[0m \u001b[0mcomputing_meta\u001b[0m\u001b[0;34m=\u001b[0m\u001b[0;32mFalse\u001b[0m\u001b[0;34m,\u001b[0m \u001b[0;34m**\u001b[0m\u001b[0mkwargs\u001b[0m\u001b[0;34m)\u001b[0m\u001b[0;34m:\u001b[0m\u001b[0;34m\u001b[0m\u001b[0;34m\u001b[0m\u001b[0m\n\u001b[0;32m--> 569\u001b[0;31m     \u001b[0mns\u001b[0m \u001b[0;34m=\u001b[0m \u001b[0mdeepmap\u001b[0m\u001b[0;34m(\u001b[0m\u001b[0;32mlambda\u001b[0m \u001b[0mpair\u001b[0m\u001b[0;34m:\u001b[0m \u001b[0mpair\u001b[0m\u001b[0;34m[\u001b[0m\u001b[0;34m\"n\"\u001b[0m\u001b[0;34m]\u001b[0m\u001b[0;34m,\u001b[0m \u001b[0mpairs\u001b[0m\u001b[0;34m)\u001b[0m \u001b[0;32mif\u001b[0m \u001b[0;32mnot\u001b[0m \u001b[0mcomputing_meta\u001b[0m \u001b[0;32melse\u001b[0m \u001b[0mpairs\u001b[0m\u001b[0;34m\u001b[0m\u001b[0;34m\u001b[0m\u001b[0m\n\u001b[0m\u001b[1;32m    570\u001b[0m     \u001b[0mn\u001b[0m \u001b[0;34m=\u001b[0m \u001b[0m_concatenate2\u001b[0m\u001b[0;34m(\u001b[0m\u001b[0mns\u001b[0m\u001b[0;34m,\u001b[0m \u001b[0maxes\u001b[0m\u001b[0;34m=\u001b[0m\u001b[0maxis\u001b[0m\u001b[0;34m)\u001b[0m\u001b[0;34m\u001b[0m\u001b[0;34m\u001b[0m\u001b[0m\n\u001b[1;32m    571\u001b[0m     \u001b[0mn\u001b[0m \u001b[0;34m=\u001b[0m \u001b[0mnp\u001b[0m\u001b[0;34m.\u001b[0m\u001b[0msum\u001b[0m\u001b[0;34m(\u001b[0m\u001b[0mn\u001b[0m\u001b[0;34m,\u001b[0m \u001b[0maxis\u001b[0m\u001b[0;34m=\u001b[0m\u001b[0maxis\u001b[0m\u001b[0;34m,\u001b[0m \u001b[0mdtype\u001b[0m\u001b[0;34m=\u001b[0m\u001b[0mdtype\u001b[0m\u001b[0;34m,\u001b[0m \u001b[0;34m**\u001b[0m\u001b[0mkwargs\u001b[0m\u001b[0;34m)\u001b[0m\u001b[0;34m\u001b[0m\u001b[0;34m\u001b[0m\u001b[0m\n",
      "\u001b[0;32m~/miniconda3/envs/analysisenv/lib/python3.7/site-packages/awkward/array/chunked.py\u001b[0m in \u001b[0;36m__getitem__\u001b[0;34m(self, where)\u001b[0m\n\u001b[1;32m    311\u001b[0m             \u001b[0mchunksizes\u001b[0m \u001b[0;34m=\u001b[0m \u001b[0;34m[\u001b[0m\u001b[0;34m]\u001b[0m\u001b[0;34m\u001b[0m\u001b[0;34m\u001b[0m\u001b[0m\n\u001b[1;32m    312\u001b[0m             \u001b[0;32mfor\u001b[0m \u001b[0mchunk\u001b[0m \u001b[0;32min\u001b[0m \u001b[0mself\u001b[0m\u001b[0;34m.\u001b[0m\u001b[0m_chunks\u001b[0m\u001b[0;34m:\u001b[0m\u001b[0;34m\u001b[0m\u001b[0;34m\u001b[0m\u001b[0m\n\u001b[0;32m--> 313\u001b[0;31m                 \u001b[0mchunks\u001b[0m\u001b[0;34m.\u001b[0m\u001b[0mappend\u001b[0m\u001b[0;34m(\u001b[0m\u001b[0mchunk\u001b[0m\u001b[0;34m[\u001b[0m\u001b[0mwhere\u001b[0m\u001b[0;34m]\u001b[0m\u001b[0;34m)\u001b[0m\u001b[0;34m\u001b[0m\u001b[0;34m\u001b[0m\u001b[0m\n\u001b[0m\u001b[1;32m    314\u001b[0m                 \u001b[0mchunksizes\u001b[0m\u001b[0;34m.\u001b[0m\u001b[0mappend\u001b[0m\u001b[0;34m(\u001b[0m\u001b[0mlen\u001b[0m\u001b[0;34m(\u001b[0m\u001b[0mchunks\u001b[0m\u001b[0;34m[\u001b[0m\u001b[0;34m-\u001b[0m\u001b[0;36m1\u001b[0m\u001b[0;34m]\u001b[0m\u001b[0;34m)\u001b[0m\u001b[0;34m)\u001b[0m\u001b[0;34m\u001b[0m\u001b[0;34m\u001b[0m\u001b[0m\n\u001b[1;32m    315\u001b[0m             \u001b[0;32mif\u001b[0m \u001b[0mlen\u001b[0m\u001b[0;34m(\u001b[0m\u001b[0mchunks\u001b[0m\u001b[0;34m)\u001b[0m \u001b[0;34m==\u001b[0m \u001b[0;36m0\u001b[0m\u001b[0;34m:\u001b[0m\u001b[0;34m\u001b[0m\u001b[0;34m\u001b[0m\u001b[0m\n",
      "\u001b[0;32m~/miniconda3/envs/analysisenv/lib/python3.7/site-packages/awkward/array/chunked.py\u001b[0m in \u001b[0;36m__getitem__\u001b[0;34m(self, where)\u001b[0m\n\u001b[1;32m    311\u001b[0m             \u001b[0mchunksizes\u001b[0m \u001b[0;34m=\u001b[0m \u001b[0;34m[\u001b[0m\u001b[0;34m]\u001b[0m\u001b[0;34m\u001b[0m\u001b[0;34m\u001b[0m\u001b[0m\n\u001b[1;32m    312\u001b[0m             \u001b[0;32mfor\u001b[0m \u001b[0mchunk\u001b[0m \u001b[0;32min\u001b[0m \u001b[0mself\u001b[0m\u001b[0;34m.\u001b[0m\u001b[0m_chunks\u001b[0m\u001b[0;34m:\u001b[0m\u001b[0;34m\u001b[0m\u001b[0;34m\u001b[0m\u001b[0m\n\u001b[0;32m--> 313\u001b[0;31m                 \u001b[0mchunks\u001b[0m\u001b[0;34m.\u001b[0m\u001b[0mappend\u001b[0m\u001b[0;34m(\u001b[0m\u001b[0mchunk\u001b[0m\u001b[0;34m[\u001b[0m\u001b[0mwhere\u001b[0m\u001b[0;34m]\u001b[0m\u001b[0;34m)\u001b[0m\u001b[0;34m\u001b[0m\u001b[0;34m\u001b[0m\u001b[0m\n\u001b[0m\u001b[1;32m    314\u001b[0m                 \u001b[0mchunksizes\u001b[0m\u001b[0;34m.\u001b[0m\u001b[0mappend\u001b[0m\u001b[0;34m(\u001b[0m\u001b[0mlen\u001b[0m\u001b[0;34m(\u001b[0m\u001b[0mchunks\u001b[0m\u001b[0;34m[\u001b[0m\u001b[0;34m-\u001b[0m\u001b[0;36m1\u001b[0m\u001b[0;34m]\u001b[0m\u001b[0;34m)\u001b[0m\u001b[0;34m)\u001b[0m\u001b[0;34m\u001b[0m\u001b[0;34m\u001b[0m\u001b[0m\n\u001b[1;32m    315\u001b[0m             \u001b[0;32mif\u001b[0m \u001b[0mlen\u001b[0m\u001b[0;34m(\u001b[0m\u001b[0mchunks\u001b[0m\u001b[0;34m)\u001b[0m \u001b[0;34m==\u001b[0m \u001b[0;36m0\u001b[0m\u001b[0;34m:\u001b[0m\u001b[0;34m\u001b[0m\u001b[0;34m\u001b[0m\u001b[0m\n",
      "\u001b[0;31mIndexError\u001b[0m: only integers, slices (`:`), ellipsis (`...`), numpy.newaxis (`None`) and integer or boolean arrays are valid indices"
     ]
    }
   ],
   "source": [
    "# da.histogram(arr,bins=np.linspace(0,2,3))[0].compute()\n",
    "da.mean(arr[:3])"
   ]
  },
  {
   "cell_type": "code",
   "execution_count": 281,
   "metadata": {
    "ExecuteTime": {
     "end_time": "2019-12-18T00:01:50.095041Z",
     "start_time": "2019-12-18T00:01:50.086166Z"
    }
   },
   "outputs": [
    {
     "data": {
      "text/plain": [
       "((2520235,),)"
      ]
     },
     "execution_count": 281,
     "metadata": {},
     "output_type": "execute_result"
    }
   ],
   "source": [
    "arr.chunks"
   ]
  },
  {
   "cell_type": "code",
   "execution_count": 287,
   "metadata": {
    "ExecuteTime": {
     "end_time": "2019-12-18T00:02:36.373331Z",
     "start_time": "2019-12-18T00:02:36.366569Z"
    }
   },
   "outputs": [],
   "source": [
    "arr = da.array(mcremotedf[\"pass_skim\"])"
   ]
  },
  {
   "cell_type": "code",
   "execution_count": 291,
   "metadata": {
    "ExecuteTime": {
     "end_time": "2019-12-18T00:03:03.707201Z",
     "start_time": "2019-12-18T00:03:03.680174Z"
    }
   },
   "outputs": [
    {
     "ename": "ValueError",
     "evalue": "Inputs contain futures that were created by another client.",
     "output_type": "error",
     "traceback": [
      "\u001b[0;31m---------------------------------------------------------------------------\u001b[0m",
      "\u001b[0;31mValueError\u001b[0m                                Traceback (most recent call last)",
      "\u001b[0;32m<ipython-input-291-79150f1befd3>\u001b[0m in \u001b[0;36m<module>\u001b[0;34m\u001b[0m\n\u001b[0;32m----> 1\u001b[0;31m \u001b[0mmcremotedf\u001b[0m\u001b[0;34m[\u001b[0m\u001b[0;34m\"pass_skim\"\u001b[0m\u001b[0;34m]\u001b[0m\u001b[0;34m.\u001b[0m\u001b[0mmean\u001b[0m\u001b[0;34m(\u001b[0m\u001b[0;34m)\u001b[0m\u001b[0;34m.\u001b[0m\u001b[0mcompute\u001b[0m\u001b[0;34m(\u001b[0m\u001b[0;34m)\u001b[0m\u001b[0;34m\u001b[0m\u001b[0;34m\u001b[0m\u001b[0m\n\u001b[0m",
      "\u001b[0;32m~/miniconda3/envs/analysisenv/lib/python3.7/site-packages/dask/base.py\u001b[0m in \u001b[0;36mcompute\u001b[0;34m(self, **kwargs)\u001b[0m\n\u001b[1;32m    163\u001b[0m         \u001b[0mdask\u001b[0m\u001b[0;34m.\u001b[0m\u001b[0mbase\u001b[0m\u001b[0;34m.\u001b[0m\u001b[0mcompute\u001b[0m\u001b[0;34m\u001b[0m\u001b[0;34m\u001b[0m\u001b[0m\n\u001b[1;32m    164\u001b[0m         \"\"\"\n\u001b[0;32m--> 165\u001b[0;31m         \u001b[0;34m(\u001b[0m\u001b[0mresult\u001b[0m\u001b[0;34m,\u001b[0m\u001b[0;34m)\u001b[0m \u001b[0;34m=\u001b[0m \u001b[0mcompute\u001b[0m\u001b[0;34m(\u001b[0m\u001b[0mself\u001b[0m\u001b[0;34m,\u001b[0m \u001b[0mtraverse\u001b[0m\u001b[0;34m=\u001b[0m\u001b[0;32mFalse\u001b[0m\u001b[0;34m,\u001b[0m \u001b[0;34m**\u001b[0m\u001b[0mkwargs\u001b[0m\u001b[0;34m)\u001b[0m\u001b[0;34m\u001b[0m\u001b[0;34m\u001b[0m\u001b[0m\n\u001b[0m\u001b[1;32m    166\u001b[0m         \u001b[0;32mreturn\u001b[0m \u001b[0mresult\u001b[0m\u001b[0;34m\u001b[0m\u001b[0;34m\u001b[0m\u001b[0m\n\u001b[1;32m    167\u001b[0m \u001b[0;34m\u001b[0m\u001b[0m\n",
      "\u001b[0;32m~/miniconda3/envs/analysisenv/lib/python3.7/site-packages/dask/base.py\u001b[0m in \u001b[0;36mcompute\u001b[0;34m(*args, **kwargs)\u001b[0m\n\u001b[1;32m    434\u001b[0m     \u001b[0mkeys\u001b[0m \u001b[0;34m=\u001b[0m \u001b[0;34m[\u001b[0m\u001b[0mx\u001b[0m\u001b[0;34m.\u001b[0m\u001b[0m__dask_keys__\u001b[0m\u001b[0;34m(\u001b[0m\u001b[0;34m)\u001b[0m \u001b[0;32mfor\u001b[0m \u001b[0mx\u001b[0m \u001b[0;32min\u001b[0m \u001b[0mcollections\u001b[0m\u001b[0;34m]\u001b[0m\u001b[0;34m\u001b[0m\u001b[0;34m\u001b[0m\u001b[0m\n\u001b[1;32m    435\u001b[0m     \u001b[0mpostcomputes\u001b[0m \u001b[0;34m=\u001b[0m \u001b[0;34m[\u001b[0m\u001b[0mx\u001b[0m\u001b[0;34m.\u001b[0m\u001b[0m__dask_postcompute__\u001b[0m\u001b[0;34m(\u001b[0m\u001b[0;34m)\u001b[0m \u001b[0;32mfor\u001b[0m \u001b[0mx\u001b[0m \u001b[0;32min\u001b[0m \u001b[0mcollections\u001b[0m\u001b[0;34m]\u001b[0m\u001b[0;34m\u001b[0m\u001b[0;34m\u001b[0m\u001b[0m\n\u001b[0;32m--> 436\u001b[0;31m     \u001b[0mresults\u001b[0m \u001b[0;34m=\u001b[0m \u001b[0mschedule\u001b[0m\u001b[0;34m(\u001b[0m\u001b[0mdsk\u001b[0m\u001b[0;34m,\u001b[0m \u001b[0mkeys\u001b[0m\u001b[0;34m,\u001b[0m \u001b[0;34m**\u001b[0m\u001b[0mkwargs\u001b[0m\u001b[0;34m)\u001b[0m\u001b[0;34m\u001b[0m\u001b[0;34m\u001b[0m\u001b[0m\n\u001b[0m\u001b[1;32m    437\u001b[0m     \u001b[0;32mreturn\u001b[0m \u001b[0mrepack\u001b[0m\u001b[0;34m(\u001b[0m\u001b[0;34m[\u001b[0m\u001b[0mf\u001b[0m\u001b[0;34m(\u001b[0m\u001b[0mr\u001b[0m\u001b[0;34m,\u001b[0m \u001b[0;34m*\u001b[0m\u001b[0ma\u001b[0m\u001b[0;34m)\u001b[0m \u001b[0;32mfor\u001b[0m \u001b[0mr\u001b[0m\u001b[0;34m,\u001b[0m \u001b[0;34m(\u001b[0m\u001b[0mf\u001b[0m\u001b[0;34m,\u001b[0m \u001b[0ma\u001b[0m\u001b[0;34m)\u001b[0m \u001b[0;32min\u001b[0m \u001b[0mzip\u001b[0m\u001b[0;34m(\u001b[0m\u001b[0mresults\u001b[0m\u001b[0;34m,\u001b[0m \u001b[0mpostcomputes\u001b[0m\u001b[0;34m)\u001b[0m\u001b[0;34m]\u001b[0m\u001b[0;34m)\u001b[0m\u001b[0;34m\u001b[0m\u001b[0;34m\u001b[0m\u001b[0m\n\u001b[1;32m    438\u001b[0m \u001b[0;34m\u001b[0m\u001b[0m\n",
      "\u001b[0;32m~/miniconda3/envs/analysisenv/lib/python3.7/site-packages/distributed/client.py\u001b[0m in \u001b[0;36mget\u001b[0;34m(self, dsk, keys, restrictions, loose_restrictions, resources, sync, asynchronous, direct, retries, priority, fifo_timeout, actors, **kwargs)\u001b[0m\n\u001b[1;32m   2560\u001b[0m             \u001b[0mretries\u001b[0m\u001b[0;34m=\u001b[0m\u001b[0mretries\u001b[0m\u001b[0;34m,\u001b[0m\u001b[0;34m\u001b[0m\u001b[0;34m\u001b[0m\u001b[0m\n\u001b[1;32m   2561\u001b[0m             \u001b[0muser_priority\u001b[0m\u001b[0;34m=\u001b[0m\u001b[0mpriority\u001b[0m\u001b[0;34m,\u001b[0m\u001b[0;34m\u001b[0m\u001b[0;34m\u001b[0m\u001b[0m\n\u001b[0;32m-> 2562\u001b[0;31m             \u001b[0mactors\u001b[0m\u001b[0;34m=\u001b[0m\u001b[0mactors\u001b[0m\u001b[0;34m,\u001b[0m\u001b[0;34m\u001b[0m\u001b[0;34m\u001b[0m\u001b[0m\n\u001b[0m\u001b[1;32m   2563\u001b[0m         )\n\u001b[1;32m   2564\u001b[0m         \u001b[0mpacked\u001b[0m \u001b[0;34m=\u001b[0m \u001b[0mpack_data\u001b[0m\u001b[0;34m(\u001b[0m\u001b[0mkeys\u001b[0m\u001b[0;34m,\u001b[0m \u001b[0mfutures\u001b[0m\u001b[0;34m)\u001b[0m\u001b[0;34m\u001b[0m\u001b[0;34m\u001b[0m\u001b[0m\n",
      "\u001b[0;32m~/miniconda3/envs/analysisenv/lib/python3.7/site-packages/distributed/client.py\u001b[0m in \u001b[0;36m_graph_to_futures\u001b[0;34m(self, dsk, keys, restrictions, loose_restrictions, priority, user_priority, resources, retries, fifo_timeout, actors)\u001b[0m\n\u001b[1;32m   2449\u001b[0m                 \u001b[0;32mif\u001b[0m \u001b[0mfuture\u001b[0m\u001b[0;34m.\u001b[0m\u001b[0mclient\u001b[0m \u001b[0;32mis\u001b[0m \u001b[0;32mnot\u001b[0m \u001b[0mself\u001b[0m\u001b[0;34m:\u001b[0m\u001b[0;34m\u001b[0m\u001b[0;34m\u001b[0m\u001b[0m\n\u001b[1;32m   2450\u001b[0m                     \u001b[0mmsg\u001b[0m \u001b[0;34m=\u001b[0m \u001b[0;34m\"Inputs contain futures that were created by another client.\"\u001b[0m\u001b[0;34m\u001b[0m\u001b[0;34m\u001b[0m\u001b[0m\n\u001b[0;32m-> 2451\u001b[0;31m                     \u001b[0;32mraise\u001b[0m \u001b[0mValueError\u001b[0m\u001b[0;34m(\u001b[0m\u001b[0mmsg\u001b[0m\u001b[0;34m)\u001b[0m\u001b[0;34m\u001b[0m\u001b[0;34m\u001b[0m\u001b[0m\n\u001b[0m\u001b[1;32m   2452\u001b[0m \u001b[0;34m\u001b[0m\u001b[0m\n\u001b[1;32m   2453\u001b[0m             \u001b[0;32mif\u001b[0m \u001b[0mrestrictions\u001b[0m\u001b[0;34m:\u001b[0m\u001b[0;34m\u001b[0m\u001b[0;34m\u001b[0m\u001b[0m\n",
      "\u001b[0;31mValueError\u001b[0m: Inputs contain futures that were created by another client."
     ]
    }
   ],
   "source": [
    "mcremotedf[\"pass_skim\"].mean().compute()"
   ]
  },
  {
   "cell_type": "code",
   "execution_count": null,
   "metadata": {},
   "outputs": [],
   "source": []
  }
 ],
 "metadata": {
  "kernelspec": {
   "display_name": "Python 3",
   "language": "python",
   "name": "python3"
  },
  "language_info": {
   "codemirror_mode": {
    "name": "ipython",
    "version": 3
   },
   "file_extension": ".py",
   "mimetype": "text/x-python",
   "name": "python",
   "nbconvert_exporter": "python",
   "pygments_lexer": "ipython3",
   "version": "3.7.3"
  }
 },
 "nbformat": 4,
 "nbformat_minor": 2
}
