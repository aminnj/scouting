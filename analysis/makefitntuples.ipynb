{
 "cells": [
  {
   "cell_type": "code",
   "execution_count": 1,
   "metadata": {
    "ExecuteTime": {
     "end_time": "2020-12-21T21:10:02.344032Z",
     "start_time": "2020-12-21T21:09:50.100695Z"
    }
   },
   "outputs": [],
   "source": [
    "%matplotlib inline\n",
    "import pandas as pd\n",
    "import uproot\n",
    "import awkward\n",
    "import matplotlib.pyplot as plt\n",
    "import numpy as np\n",
    "import glob\n",
    "from matplotlib.colors import LogNorm\n",
    "import uproot_methods\n",
    "from tqdm.auto import tqdm\n",
    "import time\n",
    "import re\n",
    "\n",
    "from utils import (\n",
    "    set_plotting_style, get_chunking, make_df, hist2d_dask, query_dis,\n",
    "    dataframe_to_ttree, ttree_to_dataframe\n",
    ")\n",
    "import utils\n",
    "\n",
    "from dask.distributed import Client\n",
    "import dask.dataframe as dd\n",
    "import dask.array as da\n",
    "from dask import delayed\n",
    "from yahist import Hist1D, Hist2D\n",
    "\n",
    "from daskucsd.condor_utils import make_htcondor_cluster\n",
    "\n",
    "from utils import hacky_query_eval as hqe\n",
    "import subprocess\n",
    "import json\n",
    "import requests\n",
    "import re"
   ]
  },
  {
   "cell_type": "code",
   "execution_count": 2,
   "metadata": {
    "ExecuteTime": {
     "end_time": "2020-12-21T21:10:02.351904Z",
     "start_time": "2020-12-21T21:10:02.347300Z"
    }
   },
   "outputs": [],
   "source": [
    "set_plotting_style()"
   ]
  },
  {
   "cell_type": "code",
   "execution_count": 3,
   "metadata": {
    "ExecuteTime": {
     "end_time": "2020-12-21T21:10:11.579637Z",
     "start_time": "2020-12-21T21:10:11.472705Z"
    }
   },
   "outputs": [],
   "source": [
    "df_wpt = pd.read_csv(\"../theory/btophi/weights_shapeOnly_2.8.txt\", sep=\" \", skiprows=1, names=[\"pt\",\"central\",\"down\",\"up\",\"junk\"])\n",
    "\n",
    "hists_wpt = dict()\n",
    "for which in [\"central\",\"up\",\"down\"]:\n",
    "    h = Hist1D.from_bincounts(df_wpt[which].values, bins=np.arange(101), errors=0.*df_wpt[which].values)\n",
    "    h = Hist1D(h.restrict(0,30), label=which)\n",
    "    hists_wpt[which] = h\n",
    "    \n",
    "blocks = open(\"../theory/btophi/filter_efficiency_FONLL_shape.txt\").read().split(\"\\n\\n\")\n",
    "data = []\n",
    "for block in blocks:\n",
    "    lines = block.strip().splitlines()\n",
    "    d = {}\n",
    "    for line in lines:\n",
    "        parts = line.split()\n",
    "        d[\"mass\"] = float(parts[2])\n",
    "        d[parts[5]] = float(parts[9])/100.\n",
    "    data.append(d)\n",
    "df_filteff = pd.DataFrame(data)\n",
    "\n",
    "# FONLL pt(B)>5 GeV abd(eta)<2.8:\n",
    "# sigma = 1.33e+08 + 5.42e+07 - 4.05e+07 pb\n",
    "sigma_fonll_central = 1.33e8 # pb\n",
    "sigma_fonll_up = sigma_fonll_central + 5.42e7 # pb\n",
    "sigma_fonll_down = sigma_fonll_central - 4.05e7 # pb\n",
    "\n",
    "\n",
    "def get_acceptance_btophi(mass, fnames):\n",
    "    df_gen = pd.concat([uproot.open(fname)[\"btophitree\"].pandas.df() for fname in fnames])\n",
    "    df_gen = df_gen[df_gen.eval(\"BToPhi_nphi==1 and BToPhi_bmesonpt>5 and abs(BToPhi_bmesoneta)<2.8\")].reset_index(drop=True)\n",
    "    df_gen = df_gen.copy()\n",
    "    epsgen_central = df_filteff[np.isclose(df_filteff[\"mass\"],mass)][\"central\"].values[0]\n",
    "\n",
    "    df_reco = pd.concat(\n",
    "        [uproot.open(fname)[\"Events\"].pandas.df([\"pass_all\", \"mass\", \"lxy\", \"BToPhi_nphi\", \"BToPhi_bmesonpt\", \"BToPhi_bmesoneta\"])\n",
    "         for fname in fnames]\n",
    "    )\n",
    "    df_reco = df_reco[df_reco.eval(\"BToPhi_nphi==1 and BToPhi_bmesonpt>5 and abs(BToPhi_bmesoneta)<2.8\")].reset_index(drop=True)\n",
    "    df_reco = df_reco[df_reco.eval(\"pass_all\")]\n",
    "    df_reco = df_reco.copy()\n",
    "\n",
    "    for which in [\"central\", \"up\", \"down\"]:\n",
    "        df_gen[f\"wpt_{which}\"] = hists_wpt[which].lookup(df_gen[\"BToPhi_bmesonpt\"])\n",
    "        df_reco[f\"wpt_{which}\"] = hists_wpt[which].lookup(df_reco[\"BToPhi_bmesonpt\"])\n",
    "\n",
    "    acceptance_central = df_reco[\"wpt_central\"].sum()/df_gen[\"wpt_central\"].sum()\n",
    "    acceptance_wrt_unfilt = acceptance_central*epsgen_central\n",
    "    return acceptance_wrt_unfilt\n",
    "\n",
    "# Note that to get BR(b->B->phi), you'd do\n",
    "#     br_central = 0.5*neventsUL / (acceptance_wrt_unfilt*lumi_pb*sigma_fonll_central)"
   ]
  },
  {
   "cell_type": "code",
   "execution_count": 105,
   "metadata": {
    "ExecuteTime": {
     "end_time": "2020-11-19T01:03:47.124392Z",
     "start_time": "2020-11-19T01:03:47.115691Z"
    }
   },
   "outputs": [],
   "source": [
    "# to calculate 1-efficiency uncertainty in each lxy bin (denom is HLT*L1 and numer is full analysis cuts)\n",
    "def get_eff_lookup(fnames):\n",
    "    lxyedges = np.array([0.0, 0.2, 1.0, 2.4, 3.1, 7.0, 11.])\n",
    "    df = pd.concat([uproot.open(fname)[\"Events\"].pandas.df(branches=[\"pass_l1\",\"pass_all\",\"lxy\"]) for fname in fnames])\n",
    "    numer = Hist1D(df[df.eval(\"pass_all and pass_l1\")][\"lxy\"], bins=lxyedges)\n",
    "    denom = Hist1D(df[df.eval(\"pass_l1\")][\"lxy\"], bins=lxyedges)\n",
    "    heff = numer.divide(denom)\n",
    "    return heff"
   ]
  },
  {
   "cell_type": "code",
   "execution_count": null,
   "metadata": {
    "ExecuteTime": {
     "end_time": "2020-11-10T22:50:01.758281Z",
     "start_time": "2020-11-10T22:50:01.322452Z"
    }
   },
   "outputs": [],
   "source": []
  },
  {
   "cell_type": "code",
   "execution_count": 106,
   "metadata": {
    "ExecuteTime": {
     "end_time": "2020-11-19T01:03:50.410796Z",
     "start_time": "2020-11-19T01:03:49.976888Z"
    }
   },
   "outputs": [],
   "source": [
    "dirnames_hzd = glob.glob(\"/hadoop/cms/store/user/namin/ProjectMetis/HToZdZdTo2Mu2X_params_m*_ctau*mm_BABY_vtestfine2/\")\n",
    "dirnames_btophi = glob.glob(\"/hadoop/cms/store/user/namin/ProjectMetis/BToPhi_params_m*_ctau*mm_BABY_vtestfine2/\")"
   ]
  },
  {
   "cell_type": "code",
   "execution_count": 116,
   "metadata": {
    "ExecuteTime": {
     "end_time": "2020-11-19T01:15:33.183880Z",
     "start_time": "2020-11-19T01:11:12.888837Z"
    }
   },
   "outputs": [
    {
     "data": {
      "application/vnd.jupyter.widget-view+json": {
       "model_id": "83af1dbac41845a1a925d95299a2e3cf",
       "version_major": 2,
       "version_minor": 0
      },
      "text/plain": [
       "HBox(children=(FloatProgress(value=0.0, max=67.0), HTML(value='')))"
      ]
     },
     "metadata": {},
     "output_type": "display_data"
    },
    {
     "name": "stderr",
     "output_type": "stream",
     "text": [
      "<ipython-input-75-2f3b431dc867>:46: RuntimeWarning: invalid value encountered in double_scalars\n",
      "  acceptance_central = df_reco[\"wpt_central\"].sum()/df_gen[\"wpt_central\"].sum()\n"
     ]
    },
    {
     "name": "stdout",
     "output_type": "stream",
     "text": [
      "\n",
      "1.666008M input events\n"
     ]
    },
    {
     "data": {
      "application/vnd.jupyter.widget-view+json": {
       "model_id": "081b3018d7ee46b4b0dc9592392b3e81",
       "version_major": 2,
       "version_minor": 0
      },
      "text/plain": [
       "HBox(children=(FloatProgress(value=0.0, max=88.0), HTML(value='')))"
      ]
     },
     "metadata": {},
     "output_type": "display_data"
    },
    {
     "name": "stdout",
     "output_type": "stream",
     "text": [
      "\n",
      "15.755M input events\n"
     ]
    }
   ],
   "source": [
    "def make_dfs(dirnames):\n",
    "    dfs = dict()\n",
    "    is_btophi = False\n",
    "    for dirname in tqdm(dirnames):\n",
    "        if \"BToPhi\" in dirname:\n",
    "            is_btophi = True\n",
    "            m = re.match(\".*mphi([0-9p]+)_ctau([0-9]+).*\", dirname)\n",
    "            groups = list(m.groups())\n",
    "            groups[0] = groups[0].replace(\"p\",\".\")\n",
    "        else:\n",
    "            m = re.match(\".*mzd([0-9\\.]+)_ctau([0-9]+).*\", dirname.replace(\"p\",\".\"))\n",
    "            groups = list(m.groups())\n",
    "        mass, ctau = map(float,groups)\n",
    "        if is_btophi and mass > 5.: continue\n",
    "        if is_btophi and mass < 0.3: continue\n",
    "        fnames = glob.glob(f\"{dirname}/*.root\")\n",
    "        if not len(fnames): continue\n",
    "        tmp = []\n",
    "        nevents_processed = 0\n",
    "        for fname in fnames:\n",
    "            f = uproot.open(fname)\n",
    "            t = f[\"Events\"]\n",
    "            sel = t[\"pass_all\"].array()\n",
    "            colnames = [\"mass\",\"lxy\",\"ctau\",\"Muon2_pt\",]\n",
    "            nevents_processed += int(f[\"nevents_processed\"].value)\n",
    "            if is_btophi:\n",
    "                colnames += [\"BToPhi_nphi\", \"BToPhi_bmesonpt\", \"BToPhi_bmesoneta\"]\n",
    "            else:\n",
    "                colnames += [\"HZdZd_nzd\"]\n",
    "            d = t.arrays(colnames,outputtype=dict,namedecode=\"ascii\")\n",
    "            df = pd.DataFrame({k:v[sel] for k,v in d.items()})\n",
    "            df = df.rename({\"ctau\":\"ct\"},axis=1)\n",
    "            df[\"gen_mass\"] = mass\n",
    "            df[\"gen_ctau\"] = ctau\n",
    "            if is_btophi:\n",
    "                df = df[df.eval(\"BToPhi_nphi==1 and BToPhi_bmesonpt>5 and abs(BToPhi_bmesoneta)<2.8\")]\n",
    "            tmp.append(df)\n",
    "        df = pd.concat(tmp).reset_index(drop=True)\n",
    "        df[\"oneminuseff\"] = np.abs(1. - get_eff_lookup(fnames).lookup(df[\"lxy\"]))\n",
    "        if is_btophi:\n",
    "            acceptance = get_acceptance_btophi(mass, fnames)\n",
    "            df[\"acceptance\"] = acceptance\n",
    "            df[\"xsec_pb\"] = sigma_fonll_central\n",
    "            df[\"xsec_pb_down\"] = sigma_fonll_down\n",
    "            df[\"xsec_pb_up\"] = sigma_fonll_up\n",
    "            df = df.drop([\"BToPhi_nphi\",\"BToPhi_bmesonpt\",\"BToPhi_bmesoneta\"], axis=1)\n",
    "        else:\n",
    "            nevents_input = pd.concat(\n",
    "                [uproot.open(fname)[\"hzdzdtree\"].pandas.df()\n",
    "                for fname in fnames]\n",
    "            ).eval(\"HZdZd_nzd == 1\").sum()\n",
    "            df[\"nevents_input\"] = nevents_input\n",
    "            df = df.drop([\"HZdZd_nzd\"], axis=1)\n",
    "        df.attrs[\"nevents_processed\"] = nevents_processed\n",
    "        dfs[(mass,ctau)] = df.reset_index(drop=True)\n",
    "    print(\"{}M input events\".format(sum(x.attrs[\"nevents_processed\"] for x in dfs.values())/1e6))\n",
    "    return dfs\n",
    "    \n",
    "\n",
    "dfs_btophi = make_dfs(dirnames_btophi)\n",
    "dfs_hzd = make_dfs(dirnames_hzd)"
   ]
  },
  {
   "cell_type": "code",
   "execution_count": null,
   "metadata": {
    "ExecuteTime": {
     "end_time": "2020-11-10T23:08:31.589344Z",
     "start_time": "2020-11-10T23:08:31.580628Z"
    }
   },
   "outputs": [],
   "source": []
  },
  {
   "cell_type": "code",
   "execution_count": 117,
   "metadata": {
    "ExecuteTime": {
     "end_time": "2020-11-19T01:15:33.200040Z",
     "start_time": "2020-11-19T01:15:33.185669Z"
    }
   },
   "outputs": [
    {
     "data": {
      "text/html": [
       "<div>\n",
       "<style scoped>\n",
       "    .dataframe tbody tr th:only-of-type {\n",
       "        vertical-align: middle;\n",
       "    }\n",
       "\n",
       "    .dataframe tbody tr th {\n",
       "        vertical-align: top;\n",
       "    }\n",
       "\n",
       "    .dataframe thead th {\n",
       "        text-align: right;\n",
       "    }\n",
       "</style>\n",
       "<table border=\"1\" class=\"dataframe\">\n",
       "  <thead>\n",
       "    <tr style=\"text-align: right;\">\n",
       "      <th></th>\n",
       "      <th>mass</th>\n",
       "      <th>lxy</th>\n",
       "      <th>ct</th>\n",
       "      <th>Muon2_pt</th>\n",
       "      <th>gen_mass</th>\n",
       "      <th>gen_ctau</th>\n",
       "      <th>oneminuseff</th>\n",
       "      <th>acceptance</th>\n",
       "      <th>xsec_pb</th>\n",
       "      <th>xsec_pb_down</th>\n",
       "      <th>xsec_pb_up</th>\n",
       "    </tr>\n",
       "  </thead>\n",
       "  <tbody>\n",
       "    <tr>\n",
       "      <th>0</th>\n",
       "      <td>2.034944</td>\n",
       "      <td>7.799437</td>\n",
       "      <td>1.710057</td>\n",
       "      <td>3.399138</td>\n",
       "      <td>2.0</td>\n",
       "      <td>10.0</td>\n",
       "      <td>0.280702</td>\n",
       "      <td>0.004822</td>\n",
       "      <td>133000000.0</td>\n",
       "      <td>92500000.0</td>\n",
       "      <td>187200000.0</td>\n",
       "    </tr>\n",
       "    <tr>\n",
       "      <th>1</th>\n",
       "      <td>1.967048</td>\n",
       "      <td>4.226967</td>\n",
       "      <td>0.793838</td>\n",
       "      <td>4.223173</td>\n",
       "      <td>2.0</td>\n",
       "      <td>10.0</td>\n",
       "      <td>0.321586</td>\n",
       "      <td>0.004822</td>\n",
       "      <td>133000000.0</td>\n",
       "      <td>92500000.0</td>\n",
       "      <td>187200000.0</td>\n",
       "    </tr>\n",
       "    <tr>\n",
       "      <th>2</th>\n",
       "      <td>1.940457</td>\n",
       "      <td>1.607117</td>\n",
       "      <td>0.224978</td>\n",
       "      <td>6.752897</td>\n",
       "      <td>2.0</td>\n",
       "      <td>10.0</td>\n",
       "      <td>0.413381</td>\n",
       "      <td>0.004822</td>\n",
       "      <td>133000000.0</td>\n",
       "      <td>92500000.0</td>\n",
       "      <td>187200000.0</td>\n",
       "    </tr>\n",
       "    <tr>\n",
       "      <th>3</th>\n",
       "      <td>1.981589</td>\n",
       "      <td>10.437196</td>\n",
       "      <td>0.917277</td>\n",
       "      <td>11.091686</td>\n",
       "      <td>2.0</td>\n",
       "      <td>10.0</td>\n",
       "      <td>0.280702</td>\n",
       "      <td>0.004822</td>\n",
       "      <td>133000000.0</td>\n",
       "      <td>92500000.0</td>\n",
       "      <td>187200000.0</td>\n",
       "    </tr>\n",
       "    <tr>\n",
       "      <th>4</th>\n",
       "      <td>1.802204</td>\n",
       "      <td>7.543761</td>\n",
       "      <td>1.016428</td>\n",
       "      <td>5.327916</td>\n",
       "      <td>2.0</td>\n",
       "      <td>10.0</td>\n",
       "      <td>0.280702</td>\n",
       "      <td>0.004822</td>\n",
       "      <td>133000000.0</td>\n",
       "      <td>92500000.0</td>\n",
       "      <td>187200000.0</td>\n",
       "    </tr>\n",
       "  </tbody>\n",
       "</table>\n",
       "</div>"
      ],
      "text/plain": [
       "       mass        lxy        ct   Muon2_pt  gen_mass  gen_ctau  oneminuseff  \\\n",
       "0  2.034944   7.799437  1.710057   3.399138       2.0      10.0     0.280702   \n",
       "1  1.967048   4.226967  0.793838   4.223173       2.0      10.0     0.321586   \n",
       "2  1.940457   1.607117  0.224978   6.752897       2.0      10.0     0.413381   \n",
       "3  1.981589  10.437196  0.917277  11.091686       2.0      10.0     0.280702   \n",
       "4  1.802204   7.543761  1.016428   5.327916       2.0      10.0     0.280702   \n",
       "\n",
       "   acceptance      xsec_pb  xsec_pb_down   xsec_pb_up  \n",
       "0    0.004822  133000000.0    92500000.0  187200000.0  \n",
       "1    0.004822  133000000.0    92500000.0  187200000.0  \n",
       "2    0.004822  133000000.0    92500000.0  187200000.0  \n",
       "3    0.004822  133000000.0    92500000.0  187200000.0  \n",
       "4    0.004822  133000000.0    92500000.0  187200000.0  "
      ]
     },
     "execution_count": 117,
     "metadata": {},
     "output_type": "execute_result"
    }
   ],
   "source": [
    "dfs_btophi[(2.0,10.)].head()"
   ]
  },
  {
   "cell_type": "code",
   "execution_count": 118,
   "metadata": {
    "ExecuteTime": {
     "end_time": "2020-11-19T01:15:33.240142Z",
     "start_time": "2020-11-19T01:15:33.202058Z"
    }
   },
   "outputs": [
    {
     "data": {
      "text/html": [
       "<div>\n",
       "<style scoped>\n",
       "    .dataframe tbody tr th:only-of-type {\n",
       "        vertical-align: middle;\n",
       "    }\n",
       "\n",
       "    .dataframe tbody tr th {\n",
       "        vertical-align: top;\n",
       "    }\n",
       "\n",
       "    .dataframe thead th {\n",
       "        text-align: right;\n",
       "    }\n",
       "</style>\n",
       "<table border=\"1\" class=\"dataframe\">\n",
       "  <thead>\n",
       "    <tr style=\"text-align: right;\">\n",
       "      <th></th>\n",
       "      <th>mass</th>\n",
       "      <th>lxy</th>\n",
       "      <th>ct</th>\n",
       "      <th>Muon2_pt</th>\n",
       "      <th>gen_mass</th>\n",
       "      <th>gen_ctau</th>\n",
       "      <th>oneminuseff</th>\n",
       "      <th>acceptance</th>\n",
       "      <th>xsec_pb</th>\n",
       "      <th>xsec_pb_down</th>\n",
       "      <th>xsec_pb_up</th>\n",
       "    </tr>\n",
       "  </thead>\n",
       "  <tbody>\n",
       "    <tr>\n",
       "      <th>0</th>\n",
       "      <td>0.301637</td>\n",
       "      <td>4.961868</td>\n",
       "      <td>0.141549</td>\n",
       "      <td>4.570776</td>\n",
       "      <td>0.3</td>\n",
       "      <td>100.0</td>\n",
       "      <td>0.250000</td>\n",
       "      <td>0.000005</td>\n",
       "      <td>133000000.0</td>\n",
       "      <td>92500000.0</td>\n",
       "      <td>187200000.0</td>\n",
       "    </tr>\n",
       "    <tr>\n",
       "      <th>0</th>\n",
       "      <td>0.299688</td>\n",
       "      <td>10.100673</td>\n",
       "      <td>0.221661</td>\n",
       "      <td>5.305088</td>\n",
       "      <td>0.3</td>\n",
       "      <td>10.0</td>\n",
       "      <td>0.272727</td>\n",
       "      <td>0.000098</td>\n",
       "      <td>133000000.0</td>\n",
       "      <td>92500000.0</td>\n",
       "      <td>187200000.0</td>\n",
       "    </tr>\n",
       "    <tr>\n",
       "      <th>0</th>\n",
       "      <td>0.302050</td>\n",
       "      <td>5.442962</td>\n",
       "      <td>0.173251</td>\n",
       "      <td>3.954314</td>\n",
       "      <td>0.3</td>\n",
       "      <td>1.0</td>\n",
       "      <td>0.460227</td>\n",
       "      <td>0.000454</td>\n",
       "      <td>133000000.0</td>\n",
       "      <td>92500000.0</td>\n",
       "      <td>187200000.0</td>\n",
       "    </tr>\n",
       "    <tr>\n",
       "      <th>0</th>\n",
       "      <td>0.398773</td>\n",
       "      <td>4.842249</td>\n",
       "      <td>0.203149</td>\n",
       "      <td>4.197419</td>\n",
       "      <td>0.4</td>\n",
       "      <td>100.0</td>\n",
       "      <td>0.333333</td>\n",
       "      <td>0.000093</td>\n",
       "      <td>133000000.0</td>\n",
       "      <td>92500000.0</td>\n",
       "      <td>187200000.0</td>\n",
       "    </tr>\n",
       "    <tr>\n",
       "      <th>0</th>\n",
       "      <td>0.395599</td>\n",
       "      <td>1.765672</td>\n",
       "      <td>0.058823</td>\n",
       "      <td>4.399837</td>\n",
       "      <td>0.4</td>\n",
       "      <td>10.0</td>\n",
       "      <td>0.373239</td>\n",
       "      <td>0.000746</td>\n",
       "      <td>133000000.0</td>\n",
       "      <td>92500000.0</td>\n",
       "      <td>187200000.0</td>\n",
       "    </tr>\n",
       "  </tbody>\n",
       "</table>\n",
       "</div>"
      ],
      "text/plain": [
       "       mass        lxy        ct  Muon2_pt  gen_mass  gen_ctau  oneminuseff  \\\n",
       "0  0.301637   4.961868  0.141549  4.570776       0.3     100.0     0.250000   \n",
       "0  0.299688  10.100673  0.221661  5.305088       0.3      10.0     0.272727   \n",
       "0  0.302050   5.442962  0.173251  3.954314       0.3       1.0     0.460227   \n",
       "0  0.398773   4.842249  0.203149  4.197419       0.4     100.0     0.333333   \n",
       "0  0.395599   1.765672  0.058823  4.399837       0.4      10.0     0.373239   \n",
       "\n",
       "   acceptance      xsec_pb  xsec_pb_down   xsec_pb_up  \n",
       "0    0.000005  133000000.0    92500000.0  187200000.0  \n",
       "0    0.000098  133000000.0    92500000.0  187200000.0  \n",
       "0    0.000454  133000000.0    92500000.0  187200000.0  \n",
       "0    0.000093  133000000.0    92500000.0  187200000.0  \n",
       "0    0.000746  133000000.0    92500000.0  187200000.0  "
      ]
     },
     "execution_count": 118,
     "metadata": {},
     "output_type": "execute_result"
    }
   ],
   "source": [
    "pd.concat([df.head(1) for df in dfs_btophi.values()]).head()"
   ]
  },
  {
   "cell_type": "code",
   "execution_count": null,
   "metadata": {},
   "outputs": [],
   "source": []
  },
  {
   "cell_type": "code",
   "execution_count": 119,
   "metadata": {
    "ExecuteTime": {
     "end_time": "2020-11-19T01:15:33.251683Z",
     "start_time": "2020-11-19T01:15:33.241325Z"
    }
   },
   "outputs": [],
   "source": [
    "import numba\n",
    "\n",
    "@numba.vectorize()\n",
    "@numba.njit()\n",
    "def get_trigger_sf_or_error(lxy, mu2pt, error=False):\n",
    "    if (mu2pt > 30.0): mu2pt = 29.9\n",
    "    if (lxy < 0.25):\n",
    "        if ((mu2pt >= 3.0) and (mu2pt < 5.0)): return (0.034 if error else 1.031)\n",
    "        if ((mu2pt >= 5.0) and (mu2pt < 10.0)): return (0.040 if error else 0.963)\n",
    "        if ((mu2pt >= 10.0) and (mu2pt < 15.0)): return (0.041 if error else 0.975)\n",
    "        if ((mu2pt >= 15.0) and (mu2pt < 30.0)): return (0.080 if error else 0.945)\n",
    "    if ((lxy < 1.0) and (lxy > 0.25)):\n",
    "        if ((mu2pt >= 3.0) and (mu2pt < 5.0)): return (0.199 if error else 1.192)\n",
    "        if ((mu2pt >= 5.0) and (mu2pt < 10.0)): return (0.027 if error else 0.990)\n",
    "        if ((mu2pt >= 10.0) and (mu2pt < 15.0)): return (0.043 if error else 0.988)\n",
    "        if ((mu2pt >= 15.0) and (mu2pt < 30.0)): return (0.085 if error else 0.937)\n",
    "    if (lxy >= 1.0):\n",
    "        if ((lxy >= 1.0) and (lxy < 2.4)): return (0.127 if error else 1.000)\n",
    "        if ((lxy >= 2.4) and (lxy < 3.1)): return (0.248 if error else 1.000)\n",
    "        if ((lxy >= 3.1) and (lxy < 11.0)): return (0.314 if error else 1.000)\n",
    "    return (0. if error else 1.)"
   ]
  },
  {
   "cell_type": "code",
   "execution_count": null,
   "metadata": {},
   "outputs": [],
   "source": []
  },
  {
   "cell_type": "code",
   "execution_count": 120,
   "metadata": {
    "ExecuteTime": {
     "end_time": "2020-11-19T01:15:35.459278Z",
     "start_time": "2020-11-19T01:15:33.252996Z"
    }
   },
   "outputs": [
    {
     "data": {
      "application/vnd.jupyter.widget-view+json": {
       "model_id": "d4d746a10ba14b92ab64d0aadd29eef7",
       "version_major": 2,
       "version_minor": 0
      },
      "text/plain": [
       "HBox(children=(FloatProgress(value=0.0, max=1.0), HTML(value='')))"
      ]
     },
     "metadata": {},
     "output_type": "display_data"
    },
    {
     "name": "stdout",
     "output_type": "stream",
     "text": [
      "\n",
      "http://uaf-10.t2.ucsd.edu/~namin/dump/forHardik/scan/btophi_mass_ctau_scan.root\n",
      "-rw-rw-r--+ 1 namin namin 607K Nov 18  2020 btophi_mass_ctau_scan.root\n"
     ]
    },
    {
     "data": {
      "text/html": [
       "<div>\n",
       "<style scoped>\n",
       "    .dataframe tbody tr th:only-of-type {\n",
       "        vertical-align: middle;\n",
       "    }\n",
       "\n",
       "    .dataframe tbody tr th {\n",
       "        vertical-align: top;\n",
       "    }\n",
       "\n",
       "    .dataframe thead th {\n",
       "        text-align: right;\n",
       "    }\n",
       "</style>\n",
       "<table border=\"1\" class=\"dataframe\">\n",
       "  <thead>\n",
       "    <tr style=\"text-align: right;\">\n",
       "      <th></th>\n",
       "      <th>mass</th>\n",
       "      <th>lxy</th>\n",
       "      <th>ct</th>\n",
       "      <th>sample_mass</th>\n",
       "      <th>sample_ctau</th>\n",
       "      <th>oneminuseff</th>\n",
       "      <th>acceptance</th>\n",
       "      <th>xsec_pb</th>\n",
       "      <th>xsec_pb_down</th>\n",
       "      <th>xsec_pb_up</th>\n",
       "      <th>trigsf</th>\n",
       "      <th>trigsf_error</th>\n",
       "    </tr>\n",
       "  </thead>\n",
       "  <tbody>\n",
       "    <tr>\n",
       "      <th>0</th>\n",
       "      <td>0.302050</td>\n",
       "      <td>5.442962</td>\n",
       "      <td>0.173251</td>\n",
       "      <td>0.3</td>\n",
       "      <td>1.0</td>\n",
       "      <td>0.460227</td>\n",
       "      <td>0.000454</td>\n",
       "      <td>133000000.0</td>\n",
       "      <td>92500000.0</td>\n",
       "      <td>187200000.0</td>\n",
       "      <td>1.000</td>\n",
       "      <td>0.314</td>\n",
       "    </tr>\n",
       "    <tr>\n",
       "      <th>1</th>\n",
       "      <td>0.296522</td>\n",
       "      <td>4.974435</td>\n",
       "      <td>0.147871</td>\n",
       "      <td>0.3</td>\n",
       "      <td>1.0</td>\n",
       "      <td>0.460227</td>\n",
       "      <td>0.000454</td>\n",
       "      <td>133000000.0</td>\n",
       "      <td>92500000.0</td>\n",
       "      <td>187200000.0</td>\n",
       "      <td>1.000</td>\n",
       "      <td>0.314</td>\n",
       "    </tr>\n",
       "    <tr>\n",
       "      <th>2</th>\n",
       "      <td>0.306639</td>\n",
       "      <td>4.056095</td>\n",
       "      <td>0.153807</td>\n",
       "      <td>0.3</td>\n",
       "      <td>1.0</td>\n",
       "      <td>0.460227</td>\n",
       "      <td>0.000454</td>\n",
       "      <td>133000000.0</td>\n",
       "      <td>92500000.0</td>\n",
       "      <td>187200000.0</td>\n",
       "      <td>1.000</td>\n",
       "      <td>0.314</td>\n",
       "    </tr>\n",
       "    <tr>\n",
       "      <th>3</th>\n",
       "      <td>0.303650</td>\n",
       "      <td>3.091329</td>\n",
       "      <td>0.064956</td>\n",
       "      <td>0.3</td>\n",
       "      <td>1.0</td>\n",
       "      <td>0.523810</td>\n",
       "      <td>0.000454</td>\n",
       "      <td>133000000.0</td>\n",
       "      <td>92500000.0</td>\n",
       "      <td>187200000.0</td>\n",
       "      <td>1.000</td>\n",
       "      <td>0.248</td>\n",
       "    </tr>\n",
       "    <tr>\n",
       "      <th>4</th>\n",
       "      <td>0.309887</td>\n",
       "      <td>2.237169</td>\n",
       "      <td>0.099079</td>\n",
       "      <td>0.3</td>\n",
       "      <td>1.0</td>\n",
       "      <td>0.468354</td>\n",
       "      <td>0.000454</td>\n",
       "      <td>133000000.0</td>\n",
       "      <td>92500000.0</td>\n",
       "      <td>187200000.0</td>\n",
       "      <td>1.000</td>\n",
       "      <td>0.127</td>\n",
       "    </tr>\n",
       "    <tr>\n",
       "      <th>...</th>\n",
       "      <td>...</td>\n",
       "      <td>...</td>\n",
       "      <td>...</td>\n",
       "      <td>...</td>\n",
       "      <td>...</td>\n",
       "      <td>...</td>\n",
       "      <td>...</td>\n",
       "      <td>...</td>\n",
       "      <td>...</td>\n",
       "      <td>...</td>\n",
       "      <td>...</td>\n",
       "      <td>...</td>\n",
       "    </tr>\n",
       "    <tr>\n",
       "      <th>32639</th>\n",
       "      <td>4.748988</td>\n",
       "      <td>3.807389</td>\n",
       "      <td>2.131745</td>\n",
       "      <td>5.0</td>\n",
       "      <td>100.0</td>\n",
       "      <td>0.000000</td>\n",
       "      <td>0.003182</td>\n",
       "      <td>133000000.0</td>\n",
       "      <td>92500000.0</td>\n",
       "      <td>187200000.0</td>\n",
       "      <td>1.000</td>\n",
       "      <td>0.314</td>\n",
       "    </tr>\n",
       "    <tr>\n",
       "      <th>32640</th>\n",
       "      <td>4.641507</td>\n",
       "      <td>3.695541</td>\n",
       "      <td>0.918312</td>\n",
       "      <td>5.0</td>\n",
       "      <td>100.0</td>\n",
       "      <td>0.000000</td>\n",
       "      <td>0.003182</td>\n",
       "      <td>133000000.0</td>\n",
       "      <td>92500000.0</td>\n",
       "      <td>187200000.0</td>\n",
       "      <td>1.000</td>\n",
       "      <td>0.314</td>\n",
       "    </tr>\n",
       "    <tr>\n",
       "      <th>32641</th>\n",
       "      <td>4.935683</td>\n",
       "      <td>1.693293</td>\n",
       "      <td>0.831335</td>\n",
       "      <td>5.0</td>\n",
       "      <td>100.0</td>\n",
       "      <td>0.000000</td>\n",
       "      <td>0.003182</td>\n",
       "      <td>133000000.0</td>\n",
       "      <td>92500000.0</td>\n",
       "      <td>187200000.0</td>\n",
       "      <td>1.000</td>\n",
       "      <td>0.127</td>\n",
       "    </tr>\n",
       "    <tr>\n",
       "      <th>32642</th>\n",
       "      <td>4.696154</td>\n",
       "      <td>0.623504</td>\n",
       "      <td>0.208003</td>\n",
       "      <td>5.0</td>\n",
       "      <td>100.0</td>\n",
       "      <td>0.500000</td>\n",
       "      <td>0.003182</td>\n",
       "      <td>133000000.0</td>\n",
       "      <td>92500000.0</td>\n",
       "      <td>187200000.0</td>\n",
       "      <td>1.192</td>\n",
       "      <td>0.199</td>\n",
       "    </tr>\n",
       "    <tr>\n",
       "      <th>32643</th>\n",
       "      <td>4.029720</td>\n",
       "      <td>8.944677</td>\n",
       "      <td>2.329110</td>\n",
       "      <td>5.0</td>\n",
       "      <td>100.0</td>\n",
       "      <td>0.333333</td>\n",
       "      <td>0.003182</td>\n",
       "      <td>133000000.0</td>\n",
       "      <td>92500000.0</td>\n",
       "      <td>187200000.0</td>\n",
       "      <td>1.000</td>\n",
       "      <td>0.314</td>\n",
       "    </tr>\n",
       "  </tbody>\n",
       "</table>\n",
       "<p>32644 rows × 12 columns</p>\n",
       "</div>"
      ],
      "text/plain": [
       "           mass       lxy        ct  sample_mass  sample_ctau  oneminuseff  \\\n",
       "0      0.302050  5.442962  0.173251          0.3          1.0     0.460227   \n",
       "1      0.296522  4.974435  0.147871          0.3          1.0     0.460227   \n",
       "2      0.306639  4.056095  0.153807          0.3          1.0     0.460227   \n",
       "3      0.303650  3.091329  0.064956          0.3          1.0     0.523810   \n",
       "4      0.309887  2.237169  0.099079          0.3          1.0     0.468354   \n",
       "...         ...       ...       ...          ...          ...          ...   \n",
       "32639  4.748988  3.807389  2.131745          5.0        100.0     0.000000   \n",
       "32640  4.641507  3.695541  0.918312          5.0        100.0     0.000000   \n",
       "32641  4.935683  1.693293  0.831335          5.0        100.0     0.000000   \n",
       "32642  4.696154  0.623504  0.208003          5.0        100.0     0.500000   \n",
       "32643  4.029720  8.944677  2.329110          5.0        100.0     0.333333   \n",
       "\n",
       "       acceptance      xsec_pb  xsec_pb_down   xsec_pb_up  trigsf  \\\n",
       "0        0.000454  133000000.0    92500000.0  187200000.0   1.000   \n",
       "1        0.000454  133000000.0    92500000.0  187200000.0   1.000   \n",
       "2        0.000454  133000000.0    92500000.0  187200000.0   1.000   \n",
       "3        0.000454  133000000.0    92500000.0  187200000.0   1.000   \n",
       "4        0.000454  133000000.0    92500000.0  187200000.0   1.000   \n",
       "...           ...          ...           ...          ...     ...   \n",
       "32639    0.003182  133000000.0    92500000.0  187200000.0   1.000   \n",
       "32640    0.003182  133000000.0    92500000.0  187200000.0   1.000   \n",
       "32641    0.003182  133000000.0    92500000.0  187200000.0   1.000   \n",
       "32642    0.003182  133000000.0    92500000.0  187200000.0   1.192   \n",
       "32643    0.003182  133000000.0    92500000.0  187200000.0   1.000   \n",
       "\n",
       "       trigsf_error  \n",
       "0             0.314  \n",
       "1             0.314  \n",
       "2             0.314  \n",
       "3             0.248  \n",
       "4             0.127  \n",
       "...             ...  \n",
       "32639         0.314  \n",
       "32640         0.314  \n",
       "32641         0.127  \n",
       "32642         0.199  \n",
       "32643         0.314  \n",
       "\n",
       "[32644 rows x 12 columns]"
      ]
     },
     "execution_count": 120,
     "metadata": {},
     "output_type": "execute_result"
    }
   ],
   "source": [
    "df_btophi = (pd.concat(dfs_btophi.values())\n",
    "    .rename({\"gen_mass\":\"sample_mass\",\"gen_ctau\":\"sample_ctau\",\"acceptance\":\"acceptance\",\"Muon2_pt\":\"mu2pt\"},axis=1)\n",
    "    .sort_values([\"sample_mass\",\"sample_ctau\"])\n",
    "    .reset_index(drop=True)\n",
    "    .assign(\n",
    "     trigsf=lambda x: get_trigger_sf_or_error(x[\"lxy\"].values,x[\"mu2pt\"].values,False),\n",
    "     trigsf_error=lambda x: get_trigger_sf_or_error(x[\"lxy\"].values,x[\"mu2pt\"].values,True),\n",
    "    )\n",
    "    .drop(\"mu2pt\",axis=1)\n",
    ")\n",
    "\n",
    "utils.dataframe_to_ttree(df_btophi, \"btophi_mass_ctau_scan.root\", \"t\")\n",
    "!cp \"btophi_mass_ctau_scan.root\" ~/public_html/dump/forHardik/scan/\n",
    "print(\"http://uaf-10.t2.ucsd.edu/~namin/dump/forHardik/scan/btophi_mass_ctau_scan.root\")\n",
    "!ls -lrth btophi_mass_ctau_scan.root\n",
    "df_btophi"
   ]
  },
  {
   "cell_type": "code",
   "execution_count": null,
   "metadata": {
    "ExecuteTime": {
     "end_time": "2020-11-10T23:18:28.995224Z",
     "start_time": "2020-11-10T23:18:28.841093Z"
    }
   },
   "outputs": [],
   "source": []
  },
  {
   "cell_type": "code",
   "execution_count": 121,
   "metadata": {
    "ExecuteTime": {
     "end_time": "2020-11-19T01:15:35.485937Z",
     "start_time": "2020-11-19T01:15:35.461266Z"
    }
   },
   "outputs": [],
   "source": [
    "dftheory = pd.read_csv(\"../theory/hzd/hzd.csv\")\n",
    "dftheory = dftheory.rename({\"br_zdtosm\":\"br_zdtomumu\"},axis=1)\n",
    "dftheory[\"sample_mass\"] = dftheory[\"mass\"]*1e-3"
   ]
  },
  {
   "cell_type": "code",
   "execution_count": 122,
   "metadata": {
    "ExecuteTime": {
     "end_time": "2020-11-19T01:15:36.233293Z",
     "start_time": "2020-11-19T01:15:35.488482Z"
    }
   },
   "outputs": [
    {
     "data": {
      "application/vnd.jupyter.widget-view+json": {
       "model_id": "edadacfa11184a51a9ef8060a0023d11",
       "version_major": 2,
       "version_minor": 0
      },
      "text/plain": [
       "HBox(children=(FloatProgress(value=0.0, max=1.0), HTML(value='')))"
      ]
     },
     "metadata": {},
     "output_type": "display_data"
    },
    {
     "name": "stdout",
     "output_type": "stream",
     "text": [
      "\n",
      "http://uaf-10.t2.ucsd.edu/~namin/dump/forHardik/scan/hzd_mass_ctau_scan.root\n",
      "-rw-rw-r--+ 1 namin namin 8.7M Nov 18  2020 hzd_mass_ctau_scan.root\n"
     ]
    },
    {
     "data": {
      "text/html": [
       "<div>\n",
       "<style scoped>\n",
       "    .dataframe tbody tr th:only-of-type {\n",
       "        vertical-align: middle;\n",
       "    }\n",
       "\n",
       "    .dataframe tbody tr th {\n",
       "        vertical-align: top;\n",
       "    }\n",
       "\n",
       "    .dataframe thead th {\n",
       "        text-align: right;\n",
       "    }\n",
       "</style>\n",
       "<table border=\"1\" class=\"dataframe\">\n",
       "  <thead>\n",
       "    <tr style=\"text-align: right;\">\n",
       "      <th></th>\n",
       "      <th>mass</th>\n",
       "      <th>lxy</th>\n",
       "      <th>ct</th>\n",
       "      <th>sample_mass</th>\n",
       "      <th>sample_ctau</th>\n",
       "      <th>oneminuseff</th>\n",
       "      <th>nevents_input</th>\n",
       "      <th>trigsf</th>\n",
       "      <th>trigsf_error</th>\n",
       "      <th>br_zdtomumu</th>\n",
       "    </tr>\n",
       "  </thead>\n",
       "  <tbody>\n",
       "    <tr>\n",
       "      <th>0</th>\n",
       "      <td>0.299903</td>\n",
       "      <td>3.978894</td>\n",
       "      <td>0.112509</td>\n",
       "      <td>0.3</td>\n",
       "      <td>1.0</td>\n",
       "      <td>0.555556</td>\n",
       "      <td>352416</td>\n",
       "      <td>1.000</td>\n",
       "      <td>0.314</td>\n",
       "      <td>0.469274</td>\n",
       "    </tr>\n",
       "    <tr>\n",
       "      <th>1</th>\n",
       "      <td>0.298453</td>\n",
       "      <td>4.550060</td>\n",
       "      <td>0.121147</td>\n",
       "      <td>0.3</td>\n",
       "      <td>1.0</td>\n",
       "      <td>0.555556</td>\n",
       "      <td>352416</td>\n",
       "      <td>1.000</td>\n",
       "      <td>0.314</td>\n",
       "      <td>0.469274</td>\n",
       "    </tr>\n",
       "    <tr>\n",
       "      <th>2</th>\n",
       "      <td>0.320859</td>\n",
       "      <td>2.622097</td>\n",
       "      <td>0.043848</td>\n",
       "      <td>0.3</td>\n",
       "      <td>1.0</td>\n",
       "      <td>0.666667</td>\n",
       "      <td>352416</td>\n",
       "      <td>1.000</td>\n",
       "      <td>0.248</td>\n",
       "      <td>0.469274</td>\n",
       "    </tr>\n",
       "    <tr>\n",
       "      <th>3</th>\n",
       "      <td>3.111270</td>\n",
       "      <td>0.103108</td>\n",
       "      <td>0.031390</td>\n",
       "      <td>0.3</td>\n",
       "      <td>1.0</td>\n",
       "      <td>0.998090</td>\n",
       "      <td>352416</td>\n",
       "      <td>0.963</td>\n",
       "      <td>0.040</td>\n",
       "      <td>0.469274</td>\n",
       "    </tr>\n",
       "    <tr>\n",
       "      <th>4</th>\n",
       "      <td>0.299300</td>\n",
       "      <td>5.300125</td>\n",
       "      <td>0.122736</td>\n",
       "      <td>0.3</td>\n",
       "      <td>1.0</td>\n",
       "      <td>0.555556</td>\n",
       "      <td>352416</td>\n",
       "      <td>1.000</td>\n",
       "      <td>0.314</td>\n",
       "      <td>0.469274</td>\n",
       "    </tr>\n",
       "    <tr>\n",
       "      <th>...</th>\n",
       "      <td>...</td>\n",
       "      <td>...</td>\n",
       "      <td>...</td>\n",
       "      <td>...</td>\n",
       "      <td>...</td>\n",
       "      <td>...</td>\n",
       "      <td>...</td>\n",
       "      <td>...</td>\n",
       "      <td>...</td>\n",
       "      <td>...</td>\n",
       "    </tr>\n",
       "    <tr>\n",
       "      <th>504004</th>\n",
       "      <td>25.068611</td>\n",
       "      <td>5.430089</td>\n",
       "      <td>3.220753</td>\n",
       "      <td>25.0</td>\n",
       "      <td>1000.0</td>\n",
       "      <td>0.335366</td>\n",
       "      <td>25549</td>\n",
       "      <td>1.000</td>\n",
       "      <td>0.314</td>\n",
       "      <td>0.141820</td>\n",
       "    </tr>\n",
       "    <tr>\n",
       "      <th>504005</th>\n",
       "      <td>24.637911</td>\n",
       "      <td>8.725270</td>\n",
       "      <td>3.069813</td>\n",
       "      <td>25.0</td>\n",
       "      <td>1000.0</td>\n",
       "      <td>0.211111</td>\n",
       "      <td>25549</td>\n",
       "      <td>1.000</td>\n",
       "      <td>0.314</td>\n",
       "      <td>0.141820</td>\n",
       "    </tr>\n",
       "    <tr>\n",
       "      <th>504006</th>\n",
       "      <td>23.604834</td>\n",
       "      <td>5.715425</td>\n",
       "      <td>2.664203</td>\n",
       "      <td>25.0</td>\n",
       "      <td>1000.0</td>\n",
       "      <td>0.335366</td>\n",
       "      <td>25549</td>\n",
       "      <td>1.000</td>\n",
       "      <td>0.314</td>\n",
       "      <td>0.141820</td>\n",
       "    </tr>\n",
       "    <tr>\n",
       "      <th>504007</th>\n",
       "      <td>24.156324</td>\n",
       "      <td>7.910277</td>\n",
       "      <td>2.872829</td>\n",
       "      <td>25.0</td>\n",
       "      <td>1000.0</td>\n",
       "      <td>0.211111</td>\n",
       "      <td>25549</td>\n",
       "      <td>1.000</td>\n",
       "      <td>0.314</td>\n",
       "      <td>0.141820</td>\n",
       "    </tr>\n",
       "    <tr>\n",
       "      <th>504008</th>\n",
       "      <td>24.631695</td>\n",
       "      <td>4.026255</td>\n",
       "      <td>5.438816</td>\n",
       "      <td>25.0</td>\n",
       "      <td>1000.0</td>\n",
       "      <td>0.335366</td>\n",
       "      <td>25549</td>\n",
       "      <td>1.000</td>\n",
       "      <td>0.314</td>\n",
       "      <td>0.141820</td>\n",
       "    </tr>\n",
       "  </tbody>\n",
       "</table>\n",
       "<p>504009 rows × 10 columns</p>\n",
       "</div>"
      ],
      "text/plain": [
       "             mass       lxy        ct  sample_mass  sample_ctau  oneminuseff  \\\n",
       "0        0.299903  3.978894  0.112509          0.3          1.0     0.555556   \n",
       "1        0.298453  4.550060  0.121147          0.3          1.0     0.555556   \n",
       "2        0.320859  2.622097  0.043848          0.3          1.0     0.666667   \n",
       "3        3.111270  0.103108  0.031390          0.3          1.0     0.998090   \n",
       "4        0.299300  5.300125  0.122736          0.3          1.0     0.555556   \n",
       "...           ...       ...       ...          ...          ...          ...   \n",
       "504004  25.068611  5.430089  3.220753         25.0       1000.0     0.335366   \n",
       "504005  24.637911  8.725270  3.069813         25.0       1000.0     0.211111   \n",
       "504006  23.604834  5.715425  2.664203         25.0       1000.0     0.335366   \n",
       "504007  24.156324  7.910277  2.872829         25.0       1000.0     0.211111   \n",
       "504008  24.631695  4.026255  5.438816         25.0       1000.0     0.335366   \n",
       "\n",
       "        nevents_input  trigsf  trigsf_error  br_zdtomumu  \n",
       "0              352416   1.000         0.314     0.469274  \n",
       "1              352416   1.000         0.314     0.469274  \n",
       "2              352416   1.000         0.248     0.469274  \n",
       "3              352416   0.963         0.040     0.469274  \n",
       "4              352416   1.000         0.314     0.469274  \n",
       "...               ...     ...           ...          ...  \n",
       "504004          25549   1.000         0.314     0.141820  \n",
       "504005          25549   1.000         0.314     0.141820  \n",
       "504006          25549   1.000         0.314     0.141820  \n",
       "504007          25549   1.000         0.314     0.141820  \n",
       "504008          25549   1.000         0.314     0.141820  \n",
       "\n",
       "[504009 rows x 10 columns]"
      ]
     },
     "execution_count": 122,
     "metadata": {},
     "output_type": "execute_result"
    }
   ],
   "source": [
    "df_hzd = (pd.concat(dfs_hzd.values())\n",
    "    .rename({\"gen_mass\":\"sample_mass\",\"gen_ctau\":\"sample_ctau\",\"Muon2_pt\":\"mu2pt\"},axis=1)\n",
    "    .sort_values([\"sample_mass\",\"sample_ctau\"])\n",
    "    .reset_index(drop=True)\n",
    "    .assign(\n",
    "     trigsf=lambda x: get_trigger_sf_or_error(x[\"lxy\"].values,x[\"mu2pt\"].values,False),\n",
    "     trigsf_error=lambda x: get_trigger_sf_or_error(x[\"lxy\"].values,x[\"mu2pt\"].values,True),\n",
    "    )\n",
    "    .drop(\"mu2pt\",axis=1)\n",
    ")\n",
    "\n",
    "# merge in BR(zdtomumu)\n",
    "df_hzd = df_hzd.merge(dftheory[[\"sample_mass\",\"br_zdtomumu\"]], on=\"sample_mass\")\n",
    "\n",
    "utils.dataframe_to_ttree(df_hzd, \"hzd_mass_ctau_scan.root\", \"t\")\n",
    "!cp \"hzd_mass_ctau_scan.root\" ~/public_html/dump/forHardik/scan/\n",
    "print(\"http://uaf-10.t2.ucsd.edu/~namin/dump/forHardik/scan/hzd_mass_ctau_scan.root\")\n",
    "!ls -lrth hzd_mass_ctau_scan.root\n",
    "df_hzd"
   ]
  },
  {
   "cell_type": "code",
   "execution_count": null,
   "metadata": {
    "ExecuteTime": {
     "end_time": "2020-11-10T23:19:58.004310Z",
     "start_time": "2020-11-10T23:19:57.989047Z"
    }
   },
   "outputs": [],
   "source": []
  },
  {
   "cell_type": "code",
   "execution_count": 123,
   "metadata": {
    "ExecuteTime": {
     "end_time": "2020-11-19T01:15:36.252781Z",
     "start_time": "2020-11-19T01:15:36.235379Z"
    }
   },
   "outputs": [],
   "source": [
    "table_css = \"\"\"\n",
    "body {\n",
    "    margin: 0;\n",
    "    font-family: Helvetica;\n",
    "    padding: 1%;\n",
    "}\n",
    "table.dataframe {\n",
    "    border-collapse: collapse;\n",
    "    border: none;\n",
    "}\n",
    "table.dataframe tr {\n",
    "    border: none;\n",
    "}\n",
    "table.dataframe td, table.dataframe th {\n",
    "    margin: 0;\n",
    "    border: 1px solid white;\n",
    "    padding-left: 0.25em;\n",
    "    padding-right: 0.25em;\n",
    "}\n",
    "table.dataframe th:not(:empty) {\n",
    "    background-color: #eee;\n",
    "    text-align: left;\n",
    "    font-weight: normal;\n",
    "}\n",
    "table.dataframe tr:nth-child(2) th:empty {\n",
    "    border-left: none;\n",
    "    border-right: 1px dashed #888;\n",
    "}\n",
    "table.dataframe td {\n",
    "    border: 2px solid #ccc;\n",
    "}\n",
    "\"\"\"\n",
    "\n",
    "from IPython.display import HTML\n",
    "buff = \"\"\n",
    "buff += \"<style>\\n\"\n",
    "buff += table_css\n",
    "buff += \"</style>\\n\"\n",
    "buff += \"Events pass all selections and have exactly 1 LLP at gen-level<br>\"\n",
    "buff += \"<h4>Common branches:</h4>\"\n",
    "buff += \"<ul>\"\n",
    "buff += \"    <li><b>mass, lxy</b>: reco dimuon mass, lxy</li>\"\n",
    "buff += \"    <li><b>ct</b>: gen. event-level ct (for ctau reweighting)</li>\"\n",
    "buff += \"    <li><b>sample_mass/sample_ctau</b>: gen. mass, ctau</li>\"\n",
    "buff += \"    <li><b>nevents_input</b>: number of generated events for acceptance calculation purposes</li>\"\n",
    "buff += \"    <li><b>trigsf, trigsf_error</b>: trigger SF and error</li>\"\n",
    "buff += \"    <li><b>oneminuseff</b>: 1-efficiency (efficiency is of full analysis cuts wrt HLT && L1, in each bin of lxy; used for uncertainty)</li>\"\n",
    "buff += \"</ul>\"\n",
    "buff += \"<br>\"\n",
    "buff += \"<h4>HZdZd ntuple:</h4>\"\n",
    "buff += \"<ul>\"\n",
    "buff += \"    <li><b>br_zdtomumu</b>: BR(Zd->mumu) (depends on <b>sample_mass</b>)</li>\"\n",
    "buff += \"</ul>\"\n",
    "buff += df_hzd.head().to_html()\n",
    "buff += \"<br>\"\n",
    "buff += \"<h4>BToPhi ntuple:</h4>\"\n",
    "buff += \"<ul>\"\n",
    "buff += \"    <li><b>acceptance</b>: acceptance*eff</li>\"\n",
    "buff += \"    <li><b>xsec_pb (xsec_pb_up, xsec_pb_down)</b>: FONLL cross-section in pb (+ upper and lower variations)</li>\"\n",
    "buff += \"</ul>\"\n",
    "buff += \"<b>NOTE</b>: To calculate BR(b->B->phi), do BR = 0.5*neventsUL / (acceptance*lumi_pb*xsec_pb).\"\n",
    "buff += \"For mass=2GeV, ctau=10mm, BR should be roughly 2e-9.\"\n",
    "buff += \"<br>\"\n",
    "buff += \"<br>\"\n",
    "buff += df_btophi.head().to_html()\n"
   ]
  },
  {
   "cell_type": "code",
   "execution_count": 124,
   "metadata": {
    "ExecuteTime": {
     "end_time": "2020-11-19T01:15:36.332778Z",
     "start_time": "2020-11-19T01:15:36.254304Z"
    }
   },
   "outputs": [
    {
     "name": "stdout",
     "output_type": "stream",
     "text": [
      "http://uaf-10.t2.ucsd.edu/~namin/dump/forHardik/scan/README.html\n"
     ]
    }
   ],
   "source": [
    "fname = \"/home/users/namin/public_html/dump/forHardik/scan/README.html\"\n",
    "with open(fname, \"w\") as fh:\n",
    "    fh.write(buff)\n",
    "print(\"http://uaf-10.t2.ucsd.edu/~namin/dump/forHardik/scan/README.html\")"
   ]
  },
  {
   "cell_type": "code",
   "execution_count": 125,
   "metadata": {
    "ExecuteTime": {
     "end_time": "2020-11-19T01:15:38.011631Z",
     "start_time": "2020-11-19T01:15:36.335714Z"
    }
   },
   "outputs": [
    {
     "data": {
      "text/plain": [
       "sample_ctau\n",
       "1.0      AxesSubplot(0.125,0.125;0.835x0.755)\n",
       "10.0     AxesSubplot(0.125,0.125;0.835x0.755)\n",
       "100.0    AxesSubplot(0.125,0.125;0.835x0.755)\n",
       "Name: acceptance, dtype: object"
      ]
     },
     "execution_count": 125,
     "metadata": {},
     "output_type": "execute_result"
    },
    {
     "data": {
      "image/png": "[encoded data removed]",
      "text/plain": [
       "<Figure size 600x400 with 1 Axes>"
      ]
     },
     "metadata": {
      "image/png": {
       "height": 372,
       "width": 577
      },
      "needs_background": "light"
     },
     "output_type": "display_data"
    }
   ],
   "source": [
    "(df_btophi\n",
    " .groupby([\"sample_mass\",\"sample_ctau\"])\n",
    " .head(1)\n",
    " .set_index(\"sample_mass\")\n",
    " .groupby(\"sample_ctau\")\n",
    " [\"acceptance\"].plot(marker=\"o\", legend=True)\n",
    ")"
   ]
  },
  {
   "cell_type": "code",
   "execution_count": null,
   "metadata": {
    "ExecuteTime": {
     "end_time": "2020-11-19T01:01:40.127007Z",
     "start_time": "2020-11-19T01:01:39.929425Z"
    }
   },
   "outputs": [],
   "source": []
  },
  {
   "cell_type": "code",
   "execution_count": 130,
   "metadata": {
    "ExecuteTime": {
     "end_time": "2020-11-19T01:18:10.726015Z",
     "start_time": "2020-11-19T01:18:10.181909Z"
    }
   },
   "outputs": [
    {
     "data": {
      "text/plain": [
       "Text(0.5, 0, 'lxy (cm)')"
      ]
     },
     "execution_count": 130,
     "metadata": {},
     "output_type": "execute_result"
    },
    {
     "data": {
      "image/png": "[encoded data removed]",
      "text/plain": [
       "<Figure size 600x400 with 1 Axes>"
      ]
     },
     "metadata": {
      "image/png": {
       "height": 392,
       "width": 558
      },
      "needs_background": "light"
     },
     "output_type": "display_data"
    }
   ],
   "source": [
    "df = df_hzd.query(\"sample_mass == 8 and sample_ctau == 10\")\n",
    "bins = \"50,0,11\"\n",
    "fig, ax = plt.subplots()\n",
    "ax.set_title(\"HZdZd (8GeV, 10mm)\")\n",
    "Hist1D(df[\"lxy\"], bins=bins).plot(histtype=\"step\", label=\"nominal\")\n",
    "Hist1D(df[\"lxy\"], bins=bins, weights=1 + df[\"oneminuseff\"]).plot(histtype=\"step\", label=\"weight = 1+oneminuseff\")\n",
    "Hist1D(df[\"lxy\"], bins=bins, weights=1 - df[\"oneminuseff\"]).plot(histtype=\"step\", label=\"weight = 1-oneminuseff\")\n",
    "ax.set_xlabel(\"lxy (cm)\")"
   ]
  },
  {
   "cell_type": "code",
   "execution_count": null,
   "metadata": {},
   "outputs": [],
   "source": []
  }
 ],
 "metadata": {
  "kernelspec": {
   "display_name": "Python 3",
   "language": "python",
   "name": "python3"
  },
  "language_info": {
   "codemirror_mode": {
    "name": "ipython",
    "version": 3
   },
   "file_extension": ".py",
   "mimetype": "text/x-python",
   "name": "python",
   "nbconvert_exporter": "python",
   "pygments_lexer": "ipython3",
   "version": "3.8.3"
  }
 },
 "nbformat": 4,
 "nbformat_minor": 4
}
