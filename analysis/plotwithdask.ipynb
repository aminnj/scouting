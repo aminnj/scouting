{
 "cells": [
  {
   "cell_type": "code",
   "execution_count": 1,
   "metadata": {
    "ExecuteTime": {
     "end_time": "2020-01-18T02:43:02.203396Z",
     "start_time": "2020-01-18T02:43:00.202809Z"
    }
   },
   "outputs": [],
   "source": [
    "%matplotlib inline\n",
    "import pandas as pd\n",
    "import uproot\n",
    "import awkward\n",
    "import matplotlib.pyplot as plt\n",
    "import numpy as np\n",
    "import glob\n",
    "from matplotlib.colors import LogNorm\n",
    "import uproot_methods\n",
    "from tqdm.auto import tqdm\n",
    "import time\n",
    "\n",
    "from utils import set_plotting_style, get_chunking, get_chunking_dask, make_df_dask, hist2d_dask, query_dis\n",
    "import utils\n",
    "\n",
    "from dask.distributed import Client\n",
    "import dask.dataframe as dd\n",
    "import dask.array as da\n",
    "from dask import delayed\n",
    "from yahist import Hist1D, Hist2D"
   ]
  },
  {
   "cell_type": "code",
   "execution_count": 2,
   "metadata": {
    "ExecuteTime": {
     "end_time": "2020-01-18T02:43:02.210983Z",
     "start_time": "2020-01-18T02:43:02.206595Z"
    }
   },
   "outputs": [],
   "source": [
    "set_plotting_style()"
   ]
  },
  {
   "cell_type": "code",
   "execution_count": 4,
   "metadata": {
    "ExecuteTime": {
     "end_time": "2020-01-18T02:44:03.377628Z",
     "start_time": "2020-01-18T02:44:03.353206Z"
    }
   },
   "outputs": [
    {
     "data": {
      "text/html": [
       "<table style=\"border: 2px solid white;\">\n",
       "<tr>\n",
       "<td style=\"vertical-align: top; border: 0px solid white\">\n",
       "<h3 style=\"text-align: left;\">Client</h3>\n",
       "<ul style=\"text-align: left; list-style: none; margin: 0; padding: 0;\">\n",
       "  <li><b>Scheduler: </b>tcp://169.228.130.74:3223</li>\n",
       "  <li><b>Dashboard: </b><a href='http://169.228.130.74:13345/status' target='_blank'>http://169.228.130.74:13345/status</a>\n",
       "</ul>\n",
       "</td>\n",
       "<td style=\"vertical-align: top; border: 0px solid white\">\n",
       "<h3 style=\"text-align: left;\">Cluster</h3>\n",
       "<ul style=\"text-align: left; list-style:none; margin: 0; padding: 0;\">\n",
       "  <li><b>Workers: </b>22</li>\n",
       "  <li><b>Cores: </b>22</li>\n",
       "  <li><b>Memory: </b>88.00 GB</li>\n",
       "</ul>\n",
       "</td>\n",
       "</tr>\n",
       "</table>"
      ],
      "text/plain": [
       "<Client: 'tcp://169.228.130.74:3223' processes=22 threads=22, memory=88.00 GB>"
      ]
     },
     "execution_count": 4,
     "metadata": {},
     "output_type": "execute_result"
    }
   ],
   "source": [
    "client = Client(\"tcp://169.228.130.74:3223\")\n",
    "client"
   ]
  },
  {
   "cell_type": "code",
   "execution_count": 8,
   "metadata": {
    "ExecuteTime": {
     "end_time": "2020-01-18T02:44:40.276498Z",
     "start_time": "2020-01-18T02:44:39.914304Z"
    }
   },
   "outputs": [],
   "source": [
    "fnames = glob.glob(\"/hadoop/cms/store/user/namin/ProjectMetis/ScoutingCaloMuon_Run2018skim_2018C_v9_unblind1fb_RAW_v10/*.root\")\n",
    "# fnames = fnames[:5]\n",
    "\n",
    "branches = [\"dimuon_mass\", \"pass_*\",\"logabsetaphi\",\"DV_rhoCorr\",\"DV_x\",\"DV_y\"]\n",
    "# cut = \"pass_baseline_iso\"\n",
    "cut = \"pass_skim\"\n",
    "# cut = \"pass_baseline\"\n",
    "\n",
    "ddf = make_df_dask(\n",
    "    fnames,\n",
    "    branches = branches,\n",
    "    cut = cut,\n",
    "    chunksize = 1e6,\n",
    "    persist = True,\n",
    ")"
   ]
  },
  {
   "cell_type": "code",
   "execution_count": 9,
   "metadata": {
    "ExecuteTime": {
     "end_time": "2020-01-18T02:44:53.146403Z",
     "start_time": "2020-01-18T02:44:41.235470Z"
    }
   },
   "outputs": [],
   "source": [
    "# ddf = ddf.repartition(partition_size=\"100MB\").persist()"
   ]
  },
  {
   "cell_type": "code",
   "execution_count": 10,
   "metadata": {
    "ExecuteTime": {
     "end_time": "2020-01-18T02:45:16.637333Z",
     "start_time": "2020-01-18T02:45:16.602893Z"
    }
   },
   "outputs": [
    {
     "data": {
      "text/html": [
       "<div><strong>Dask DataFrame Structure:</strong></div>\n",
       "<div>\n",
       "<style scoped>\n",
       "    .dataframe tbody tr th:only-of-type {\n",
       "        vertical-align: middle;\n",
       "    }\n",
       "\n",
       "    .dataframe tbody tr th {\n",
       "        vertical-align: top;\n",
       "    }\n",
       "\n",
       "    .dataframe thead th {\n",
       "        text-align: right;\n",
       "    }\n",
       "</style>\n",
       "<table border=\"1\" class=\"dataframe\">\n",
       "  <thead>\n",
       "    <tr style=\"text-align: right;\">\n",
       "      <th></th>\n",
       "      <th>dimuon_mass</th>\n",
       "      <th>pass_skim</th>\n",
       "      <th>pass_l1</th>\n",
       "      <th>pass_fiducialgen</th>\n",
       "      <th>pass_fiducialgen_norho</th>\n",
       "      <th>pass_baseline</th>\n",
       "      <th>pass_baseline_iso</th>\n",
       "      <th>logabsetaphi</th>\n",
       "      <th>DV_rhoCorr</th>\n",
       "      <th>DV_x</th>\n",
       "      <th>DV_y</th>\n",
       "    </tr>\n",
       "    <tr>\n",
       "      <th>npartitions=28</th>\n",
       "      <th></th>\n",
       "      <th></th>\n",
       "      <th></th>\n",
       "      <th></th>\n",
       "      <th></th>\n",
       "      <th></th>\n",
       "      <th></th>\n",
       "      <th></th>\n",
       "      <th></th>\n",
       "      <th></th>\n",
       "      <th></th>\n",
       "    </tr>\n",
       "  </thead>\n",
       "  <tbody>\n",
       "    <tr>\n",
       "      <th></th>\n",
       "      <td>float32</td>\n",
       "      <td>bool</td>\n",
       "      <td>bool</td>\n",
       "      <td>bool</td>\n",
       "      <td>bool</td>\n",
       "      <td>bool</td>\n",
       "      <td>bool</td>\n",
       "      <td>float32</td>\n",
       "      <td>float32</td>\n",
       "      <td>float32</td>\n",
       "      <td>float32</td>\n",
       "    </tr>\n",
       "    <tr>\n",
       "      <th></th>\n",
       "      <td>...</td>\n",
       "      <td>...</td>\n",
       "      <td>...</td>\n",
       "      <td>...</td>\n",
       "      <td>...</td>\n",
       "      <td>...</td>\n",
       "      <td>...</td>\n",
       "      <td>...</td>\n",
       "      <td>...</td>\n",
       "      <td>...</td>\n",
       "      <td>...</td>\n",
       "    </tr>\n",
       "    <tr>\n",
       "      <th>...</th>\n",
       "      <td>...</td>\n",
       "      <td>...</td>\n",
       "      <td>...</td>\n",
       "      <td>...</td>\n",
       "      <td>...</td>\n",
       "      <td>...</td>\n",
       "      <td>...</td>\n",
       "      <td>...</td>\n",
       "      <td>...</td>\n",
       "      <td>...</td>\n",
       "      <td>...</td>\n",
       "    </tr>\n",
       "    <tr>\n",
       "      <th></th>\n",
       "      <td>...</td>\n",
       "      <td>...</td>\n",
       "      <td>...</td>\n",
       "      <td>...</td>\n",
       "      <td>...</td>\n",
       "      <td>...</td>\n",
       "      <td>...</td>\n",
       "      <td>...</td>\n",
       "      <td>...</td>\n",
       "      <td>...</td>\n",
       "      <td>...</td>\n",
       "    </tr>\n",
       "    <tr>\n",
       "      <th></th>\n",
       "      <td>...</td>\n",
       "      <td>...</td>\n",
       "      <td>...</td>\n",
       "      <td>...</td>\n",
       "      <td>...</td>\n",
       "      <td>...</td>\n",
       "      <td>...</td>\n",
       "      <td>...</td>\n",
       "      <td>...</td>\n",
       "      <td>...</td>\n",
       "      <td>...</td>\n",
       "    </tr>\n",
       "  </tbody>\n",
       "</table>\n",
       "</div>\n",
       "<div>Dask Name: repartition, 28 tasks</div>"
      ],
      "text/plain": [
       "Dask DataFrame Structure:\n",
       "               dimuon_mass pass_skim pass_l1 pass_fiducialgen pass_fiducialgen_norho pass_baseline pass_baseline_iso logabsetaphi DV_rhoCorr     DV_x     DV_y\n",
       "npartitions=28                                                                                                                                                \n",
       "                   float32      bool    bool             bool                   bool          bool              bool      float32    float32  float32  float32\n",
       "                       ...       ...     ...              ...                    ...           ...               ...          ...        ...      ...      ...\n",
       "...                    ...       ...     ...              ...                    ...           ...               ...          ...        ...      ...      ...\n",
       "                       ...       ...     ...              ...                    ...           ...               ...          ...        ...      ...      ...\n",
       "                       ...       ...     ...              ...                    ...           ...               ...          ...        ...      ...      ...\n",
       "Dask Name: repartition, 28 tasks"
      ]
     },
     "execution_count": 10,
     "metadata": {},
     "output_type": "execute_result"
    }
   ],
   "source": [
    "# del ddf\n",
    "ddf"
   ]
  },
  {
   "cell_type": "code",
   "execution_count": 12,
   "metadata": {
    "ExecuteTime": {
     "end_time": "2020-01-18T02:45:31.380577Z",
     "start_time": "2020-01-18T02:45:29.122576Z"
    }
   },
   "outputs": [
    {
     "name": "stdout",
     "output_type": "stream",
     "text": [
      "64293529\n",
      "CPU times: user 504 ms, sys: 12 ms, total: 516 ms\n",
      "Wall time: 1.09 s\n"
     ]
    },
    {
     "data": {
      "image/png": "[encoded data removed]",
      "text/plain": [
       "<Figure size 600x400 with 1 Axes>"
      ]
     },
     "metadata": {
      "image/png": {
       "height": 348,
       "width": 556
      },
      "needs_background": "light"
     },
     "output_type": "display_data"
    }
   ],
   "source": [
    "%%time\n",
    "bins = np.linspace(0,50,500)\n",
    "counts = da.histogram(da.clip(ddf[\"dimuon_mass\"],bins[0],bins[-1]), bins=bins)[0].compute()\n",
    "print(counts.sum())\n",
    "h = Hist1D.from_bincounts(counts, bins, errors=counts**0.5)\n",
    "h.plot()\n",
    "plt.gca().set_yscale(\"log\")\n",
    "plt.gca().set_xscale(\"log\")"
   ]
  },
  {
   "cell_type": "code",
   "execution_count": 13,
   "metadata": {
    "ExecuteTime": {
     "end_time": "2020-01-18T02:45:32.981046Z",
     "start_time": "2020-01-18T02:45:32.955358Z"
    }
   },
   "outputs": [
    {
     "data": {
      "text/html": [
       "<div><strong>Dask DataFrame Structure:</strong></div>\n",
       "<div>\n",
       "<style scoped>\n",
       "    .dataframe tbody tr th:only-of-type {\n",
       "        vertical-align: middle;\n",
       "    }\n",
       "\n",
       "    .dataframe tbody tr th {\n",
       "        vertical-align: top;\n",
       "    }\n",
       "\n",
       "    .dataframe thead th {\n",
       "        text-align: right;\n",
       "    }\n",
       "</style>\n",
       "<table border=\"1\" class=\"dataframe\">\n",
       "  <thead>\n",
       "    <tr style=\"text-align: right;\">\n",
       "      <th></th>\n",
       "      <th>dimuon_mass</th>\n",
       "      <th>pass_skim</th>\n",
       "      <th>pass_l1</th>\n",
       "      <th>pass_fiducialgen</th>\n",
       "      <th>pass_fiducialgen_norho</th>\n",
       "      <th>pass_baseline</th>\n",
       "      <th>pass_baseline_iso</th>\n",
       "      <th>logabsetaphi</th>\n",
       "      <th>DV_rhoCorr</th>\n",
       "      <th>DV_x</th>\n",
       "      <th>DV_y</th>\n",
       "    </tr>\n",
       "    <tr>\n",
       "      <th>npartitions=28</th>\n",
       "      <th></th>\n",
       "      <th></th>\n",
       "      <th></th>\n",
       "      <th></th>\n",
       "      <th></th>\n",
       "      <th></th>\n",
       "      <th></th>\n",
       "      <th></th>\n",
       "      <th></th>\n",
       "      <th></th>\n",
       "      <th></th>\n",
       "    </tr>\n",
       "  </thead>\n",
       "  <tbody>\n",
       "    <tr>\n",
       "      <th></th>\n",
       "      <td>float32</td>\n",
       "      <td>bool</td>\n",
       "      <td>bool</td>\n",
       "      <td>bool</td>\n",
       "      <td>bool</td>\n",
       "      <td>bool</td>\n",
       "      <td>bool</td>\n",
       "      <td>float32</td>\n",
       "      <td>float32</td>\n",
       "      <td>float32</td>\n",
       "      <td>float32</td>\n",
       "    </tr>\n",
       "    <tr>\n",
       "      <th></th>\n",
       "      <td>...</td>\n",
       "      <td>...</td>\n",
       "      <td>...</td>\n",
       "      <td>...</td>\n",
       "      <td>...</td>\n",
       "      <td>...</td>\n",
       "      <td>...</td>\n",
       "      <td>...</td>\n",
       "      <td>...</td>\n",
       "      <td>...</td>\n",
       "      <td>...</td>\n",
       "    </tr>\n",
       "    <tr>\n",
       "      <th>...</th>\n",
       "      <td>...</td>\n",
       "      <td>...</td>\n",
       "      <td>...</td>\n",
       "      <td>...</td>\n",
       "      <td>...</td>\n",
       "      <td>...</td>\n",
       "      <td>...</td>\n",
       "      <td>...</td>\n",
       "      <td>...</td>\n",
       "      <td>...</td>\n",
       "      <td>...</td>\n",
       "    </tr>\n",
       "    <tr>\n",
       "      <th></th>\n",
       "      <td>...</td>\n",
       "      <td>...</td>\n",
       "      <td>...</td>\n",
       "      <td>...</td>\n",
       "      <td>...</td>\n",
       "      <td>...</td>\n",
       "      <td>...</td>\n",
       "      <td>...</td>\n",
       "      <td>...</td>\n",
       "      <td>...</td>\n",
       "      <td>...</td>\n",
       "    </tr>\n",
       "    <tr>\n",
       "      <th></th>\n",
       "      <td>...</td>\n",
       "      <td>...</td>\n",
       "      <td>...</td>\n",
       "      <td>...</td>\n",
       "      <td>...</td>\n",
       "      <td>...</td>\n",
       "      <td>...</td>\n",
       "      <td>...</td>\n",
       "      <td>...</td>\n",
       "      <td>...</td>\n",
       "      <td>...</td>\n",
       "    </tr>\n",
       "  </tbody>\n",
       "</table>\n",
       "</div>\n",
       "<div>Dask Name: repartition, 28 tasks</div>"
      ],
      "text/plain": [
       "Dask DataFrame Structure:\n",
       "               dimuon_mass pass_skim pass_l1 pass_fiducialgen pass_fiducialgen_norho pass_baseline pass_baseline_iso logabsetaphi DV_rhoCorr     DV_x     DV_y\n",
       "npartitions=28                                                                                                                                                \n",
       "                   float32      bool    bool             bool                   bool          bool              bool      float32    float32  float32  float32\n",
       "                       ...       ...     ...              ...                    ...           ...               ...          ...        ...      ...      ...\n",
       "...                    ...       ...     ...              ...                    ...           ...               ...          ...        ...      ...      ...\n",
       "                       ...       ...     ...              ...                    ...           ...               ...          ...        ...      ...      ...\n",
       "                       ...       ...     ...              ...                    ...           ...               ...          ...        ...      ...      ...\n",
       "Dask Name: repartition, 28 tasks"
      ]
     },
     "execution_count": 13,
     "metadata": {},
     "output_type": "execute_result"
    }
   ],
   "source": [
    "# ddf.query(\"pass_baseline_iso>0\")\n",
    "ddf"
   ]
  },
  {
   "cell_type": "code",
   "execution_count": 17,
   "metadata": {
    "ExecuteTime": {
     "end_time": "2020-01-18T02:45:37.155305Z",
     "start_time": "2020-01-18T02:45:37.146243Z"
    }
   },
   "outputs": [],
   "source": [
    "def get_hist(df, varexp, sel=\"dimuon_mass>0\", bins=np.linspace(0,10,100)):\n",
    "#     t0 = time.time()\n",
    "    if sel:\n",
    "        df = df.query(sel)\n",
    "    counts = da.histogram(\n",
    "        da.clip(\n",
    "            df.eval(varexp),\n",
    "            bins[0],\n",
    "            bins[-1]\n",
    "        ), bins=bins\n",
    "    )[0].compute()\n",
    "#     t1 = time.time()\n",
    "#     print(f\"{counts.sum()} events in {t1-t0:.2f}s @ {counts.sum()/(t1-t0)*1e-6:.2f}MHz\")\n",
    "    print(f\"{counts.sum()} events\")\n",
    "    h = Hist1D.from_bincounts(counts, bins, errors=counts**0.5)\n",
    "    return h"
   ]
  },
  {
   "cell_type": "code",
   "execution_count": 18,
   "metadata": {
    "ExecuteTime": {
     "end_time": "2020-01-18T02:45:52.202656Z",
     "start_time": "2020-01-18T02:45:37.709270Z"
    }
   },
   "outputs": [
    {
     "name": "stdout",
     "output_type": "stream",
     "text": [
      "197 events\n",
      "CPU times: user 225 ms, sys: 8 ms, total: 233 ms\n",
      "Wall time: 14 s\n"
     ]
    },
    {
     "data": {
      "text/plain": [
       "<matplotlib.axes._subplots.AxesSubplot at 0x7fee0c1c82b0>"
      ]
     },
     "execution_count": 18,
     "metadata": {},
     "output_type": "execute_result"
    },
    {
     "data": {
      "image/png": "[encoded data removed]",
      "text/plain": [
       "<Figure size 600x400 with 1 Axes>"
      ]
     },
     "metadata": {
      "image/png": {
       "height": 347,
       "width": 549
      },
      "needs_background": "light"
     },
     "output_type": "display_data"
    }
   ],
   "source": [
    "%%time\n",
    "# get_hist(ddf, \"logabsetaphi\", sel=\"pass_baseline_iso and DV_rhoCorr>2.5\", bins=np.linspace(-5,5,100)).plot()\n",
    "# get_hist(ddf, \"logabsetaphi\", bins=np.linspace(-5,5,100)).plot()\n",
    "get_hist(ddf, \"logabsetaphi\", sel=\"pass_baseline_iso and dimuon_mass>5 and DV_rhoCorr>2.5\", bins=np.linspace(-5,5,100)).plot()"
   ]
  },
  {
   "cell_type": "code",
   "execution_count": 19,
   "metadata": {
    "ExecuteTime": {
     "end_time": "2020-01-18T02:45:52.682252Z",
     "start_time": "2020-01-18T02:45:52.204816Z"
    }
   },
   "outputs": [
    {
     "data": {
      "text/plain": [
       "2185.979986"
      ]
     },
     "execution_count": 19,
     "metadata": {},
     "output_type": "execute_result"
    }
   ],
   "source": [
    "1e-6*ddf.memory_usage().sum().compute()"
   ]
  },
  {
   "cell_type": "code",
   "execution_count": 20,
   "metadata": {
    "ExecuteTime": {
     "end_time": "2020-01-18T02:45:53.319441Z",
     "start_time": "2020-01-18T02:45:52.685840Z"
    }
   },
   "outputs": [],
   "source": [
    "bins = [np.linspace(-15,15,200),np.linspace(-15,15,200)]\n",
    "counts = hist2d_dask(ddf.query(\"pass_baseline_iso\"), x=\"DV_x\", y=\"DV_y\", bins=bins).compute()\n",
    "h = Hist2D.from_bincounts(counts, bins, errors=counts**0.5)"
   ]
  },
  {
   "cell_type": "code",
   "execution_count": 21,
   "metadata": {
    "ExecuteTime": {
     "end_time": "2020-01-18T02:45:54.093576Z",
     "start_time": "2020-01-18T02:45:53.322712Z"
    }
   },
   "outputs": [
    {
     "data": {
      "text/plain": [
       "(<matplotlib.image.AxesImage at 0x7fee0db2e400>,\n",
       " <matplotlib.axes._subplots.AxesSubplot at 0x7fee0c4b7470>)"
      ]
     },
     "execution_count": 21,
     "metadata": {},
     "output_type": "execute_result"
    },
    {
     "data": {
      "image/png": "[encoded data removed]",
      "text/plain": [
       "<Figure size 600x400 with 2 Axes>"
      ]
     },
     "metadata": {
      "image/png": {
       "height": 353,
       "width": 534
      },
      "needs_background": "light"
     },
     "output_type": "display_data"
    }
   ],
   "source": [
    "h.plot(logz=True)"
   ]
  },
  {
   "cell_type": "code",
   "execution_count": null,
   "metadata": {
    "ExecuteTime": {
     "end_time": "2020-01-18T00:52:00.009204Z",
     "start_time": "2020-01-18T00:51:58.415053Z"
    }
   },
   "outputs": [],
   "source": []
  }
 ],
 "metadata": {
  "kernelspec": {
   "display_name": "Python 3",
   "language": "python",
   "name": "python3"
  },
  "language_info": {
   "codemirror_mode": {
    "name": "ipython",
    "version": 3
   },
   "file_extension": ".py",
   "mimetype": "text/x-python",
   "name": "python",
   "nbconvert_exporter": "python",
   "pygments_lexer": "ipython3",
   "version": "3.7.3"
  }
 },
 "nbformat": 4,
 "nbformat_minor": 2
}
