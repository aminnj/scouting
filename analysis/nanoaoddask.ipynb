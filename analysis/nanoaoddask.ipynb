{
 "cells": [
  {
   "cell_type": "code",
   "execution_count": 1,
   "metadata": {
    "ExecuteTime": {
     "end_time": "2020-08-18T21:34:00.026113Z",
     "start_time": "2020-08-18T21:33:58.710739Z"
    }
   },
   "outputs": [],
   "source": [
    "%matplotlib inline\n",
    "import pandas as pd\n",
    "import uproot\n",
    "import awkward\n",
    "import matplotlib.pyplot as plt\n",
    "import numpy as np\n",
    "import glob\n",
    "from matplotlib.colors import LogNorm\n",
    "import uproot_methods\n",
    "from tqdm.auto import tqdm\n",
    "import time\n",
    "\n",
    "from utils import set_plotting_style, get_chunking, make_df, hist2d_dask, query_dis\n",
    "import utils\n",
    "\n",
    "from yahist import Hist1D, Hist2D\n",
    "\n",
    "\n",
    "set_plotting_style()"
   ]
  },
  {
   "cell_type": "markdown",
   "metadata": {},
   "source": [
    "Clone https://github.com/aminnj/daskucsd into this directory and follow the instructions to set it up (namely, need a tarball to send the conda environment to HTCondor worker nodes)"
   ]
  },
  {
   "cell_type": "code",
   "execution_count": 4,
   "metadata": {
    "ExecuteTime": {
     "end_time": "2020-08-18T21:34:13.925633Z",
     "start_time": "2020-08-18T21:34:13.921488Z"
    }
   },
   "outputs": [],
   "source": [
    "use_dask = False"
   ]
  },
  {
   "cell_type": "code",
   "execution_count": 5,
   "metadata": {
    "ExecuteTime": {
     "end_time": "2020-08-18T21:34:14.727217Z",
     "start_time": "2020-08-18T21:34:14.722097Z"
    }
   },
   "outputs": [],
   "source": [
    "if use_dask:\n",
    "    from dask.distributed import Client\n",
    "    import dask.dataframe as dd\n",
    "    import dask.array as da\n",
    "    from dask import delayed\n",
    "    from daskucsd.condor_utils import make_htcondor_cluster"
   ]
  },
  {
   "cell_type": "code",
   "execution_count": 6,
   "metadata": {
    "ExecuteTime": {
     "end_time": "2020-08-18T21:34:15.204117Z",
     "start_time": "2020-08-18T21:34:15.200064Z"
    }
   },
   "outputs": [],
   "source": [
    "cluster = None\n",
    "if use_dask:\n",
    "    cluster = make_htcondor_cluster(local=False, dashboard_address=13345,memory=\"4GB\")\n",
    "    cluster.scale(15)\n",
    "cluster"
   ]
  },
  {
   "cell_type": "markdown",
   "metadata": {},
   "source": [
    "Make dask client. Also manually port forward the `dashboard_address` above to your localhost (see instuctions in the `aminnj/daskucsd` repo). Then visit it in the browser to see the worker statuses while running this notebook."
   ]
  },
  {
   "cell_type": "code",
   "execution_count": 7,
   "metadata": {
    "ExecuteTime": {
     "end_time": "2020-08-18T21:34:16.606377Z",
     "start_time": "2020-08-18T21:34:16.602083Z"
    }
   },
   "outputs": [],
   "source": [
    "client = None\n",
    "if use_dask:\n",
    "    client = Client(cluster)\n",
    "client"
   ]
  },
  {
   "cell_type": "markdown",
   "metadata": {},
   "source": [
    "Figure out which sites have which datasets. Pick something local to speed things up."
   ]
  },
  {
   "cell_type": "code",
   "execution_count": 8,
   "metadata": {
    "ExecuteTime": {
     "end_time": "2020-08-18T21:34:17.812724Z",
     "start_time": "2020-08-18T21:34:17.808970Z"
    }
   },
   "outputs": [],
   "source": [
    "use_central = True"
   ]
  },
  {
   "cell_type": "code",
   "execution_count": 9,
   "metadata": {
    "ExecuteTime": {
     "end_time": "2020-08-18T21:34:20.218200Z",
     "start_time": "2020-08-18T21:34:18.523410Z"
    }
   },
   "outputs": [
    {
     "name": "stdout",
     "output_type": "stream",
     "text": [
      "12 files, 11530510 events\n",
      "CPU times: user 8 ms, sys: 12 ms, total: 20 ms\n",
      "Wall time: 1.68 s\n"
     ]
    }
   ],
   "source": [
    "%%time\n",
    "\n",
    "if use_central:\n",
    "    dataset = \"/DYJetsToLL_M-50_HT-100to200_TuneCP5_PSweights_13TeV-madgraphMLM-pythia8/RunIIAutumn18NanoAODv6-Nano25Oct2019_102X_upgrade2018_realistic_v20-v1/NANOAODSIM\"\n",
    "    lines = !dasgoclient -query='file dataset={dataset}' -json\n",
    "    js = json.loads(\"\".join(lines))\n",
    "    df = pd.DataFrame([dict(\n",
    "        sizeGB=f[\"file\"][0][\"size\"]/1024**3,\n",
    "        nevents=f[\"file\"][0][\"nevents\"],\n",
    "        name=f[\"file\"][0][\"name\"],\n",
    "    ) for f in js])\n",
    "    fnames = tuple(df[\"name\"])\n",
    "    print(f\"{len(df)} files, {df.nevents.sum()} events\")\n",
    "else:\n",
    "    fnames = glob.glob(\"/hadoop/cms/store/user/phchang/nanoaod/WZTo3LNu_TuneCP5_13TeV-amcatnloFXFX-pythia8/*.root\")\n",
    "    nevents = sum([uproot.numentries(fname, \"Events\") for fname in fnames])\n",
    "    print(f\"{len(fnames)} files, {nevents} events\")"
   ]
  },
  {
   "cell_type": "markdown",
   "metadata": {},
   "source": [
    "Make a function that takes information about a \"chunk\": filename and start/stop entry number. The function returns a flat pandas DataFrame. In this case, we read muon 4-momenta and MET, and store MET, dimuon masses for events with exactly two muons. We run the function on a small chunk to test it."
   ]
  },
  {
   "cell_type": "code",
   "execution_count": 10,
   "metadata": {
    "ExecuteTime": {
     "end_time": "2020-08-18T21:34:23.777286Z",
     "start_time": "2020-08-18T21:34:20.697487Z"
    }
   },
   "outputs": [
    {
     "data": {
      "text/html": [
       "<div>\n",
       "<style scoped>\n",
       "    .dataframe tbody tr th:only-of-type {\n",
       "        vertical-align: middle;\n",
       "    }\n",
       "\n",
       "    .dataframe tbody tr th {\n",
       "        vertical-align: top;\n",
       "    }\n",
       "\n",
       "    .dataframe thead th {\n",
       "        text-align: right;\n",
       "    }\n",
       "</style>\n",
       "<table border=\"1\" class=\"dataframe\">\n",
       "  <thead>\n",
       "    <tr style=\"text-align: right;\">\n",
       "      <th></th>\n",
       "      <th>dimuon_mass</th>\n",
       "      <th>MET_pt</th>\n",
       "    </tr>\n",
       "  </thead>\n",
       "  <tbody>\n",
       "    <tr>\n",
       "      <th>0</th>\n",
       "      <td>89.262779</td>\n",
       "      <td>11.192041</td>\n",
       "    </tr>\n",
       "    <tr>\n",
       "      <th>1</th>\n",
       "      <td>92.878616</td>\n",
       "      <td>44.028748</td>\n",
       "    </tr>\n",
       "    <tr>\n",
       "      <th>2</th>\n",
       "      <td>91.561005</td>\n",
       "      <td>14.792266</td>\n",
       "    </tr>\n",
       "    <tr>\n",
       "      <th>3</th>\n",
       "      <td>91.243340</td>\n",
       "      <td>13.890943</td>\n",
       "    </tr>\n",
       "    <tr>\n",
       "      <th>4</th>\n",
       "      <td>93.040024</td>\n",
       "      <td>67.413521</td>\n",
       "    </tr>\n",
       "    <tr>\n",
       "      <th>...</th>\n",
       "      <td>...</td>\n",
       "      <td>...</td>\n",
       "    </tr>\n",
       "    <tr>\n",
       "      <th>2557</th>\n",
       "      <td>92.248474</td>\n",
       "      <td>30.783525</td>\n",
       "    </tr>\n",
       "    <tr>\n",
       "      <th>2558</th>\n",
       "      <td>91.448982</td>\n",
       "      <td>5.925523</td>\n",
       "    </tr>\n",
       "    <tr>\n",
       "      <th>2559</th>\n",
       "      <td>192.114288</td>\n",
       "      <td>19.874645</td>\n",
       "    </tr>\n",
       "    <tr>\n",
       "      <th>2560</th>\n",
       "      <td>89.099884</td>\n",
       "      <td>6.147094</td>\n",
       "    </tr>\n",
       "    <tr>\n",
       "      <th>2561</th>\n",
       "      <td>87.591240</td>\n",
       "      <td>15.984878</td>\n",
       "    </tr>\n",
       "  </tbody>\n",
       "</table>\n",
       "<p>2562 rows × 2 columns</p>\n",
       "</div>"
      ],
      "text/plain": [
       "      dimuon_mass     MET_pt\n",
       "0       89.262779  11.192041\n",
       "1       92.878616  44.028748\n",
       "2       91.561005  14.792266\n",
       "3       91.243340  13.890943\n",
       "4       93.040024  67.413521\n",
       "...           ...        ...\n",
       "2557    92.248474  30.783525\n",
       "2558    91.448982   5.925523\n",
       "2559   192.114288  19.874645\n",
       "2560    89.099884   6.147094\n",
       "2561    87.591240  15.984878\n",
       "\n",
       "[2562 rows x 2 columns]"
      ]
     },
     "execution_count": 10,
     "metadata": {},
     "output_type": "execute_result"
    }
   ],
   "source": [
    "def func(fname, entrystart, entrystop):\n",
    "    t = uproot.open(fname)[\"Events\"]\n",
    "    arrs = t.arrays([\"Muon_pt\",\"Muon_eta\",\"Muon_phi\",\"Muon_mass\",\"MET_pt\"],\n",
    "                    outputtype=dict,namedecode=\"ascii\",\n",
    "                    entrystart=entrystart,entrystop=entrystop)\n",
    "    sel = (arrs[\"Muon_pt\"].counts >= 2)\n",
    "    df = pd.DataFrame()\n",
    "    TLVA = uproot_methods.TLorentzVectorArray\n",
    "    mus = TLVA.from_ptetaphim(\n",
    "        arrs[\"Muon_pt\"][sel],\n",
    "        arrs[\"Muon_eta\"][sel],\n",
    "        arrs[\"Muon_phi\"][sel],\n",
    "        arrs[\"Muon_mass\"][sel],\n",
    "    )\n",
    "    mass = (mus[:,0]+mus[:,1]).mass\n",
    "    df[\"dimuon_mass\"] = mass\n",
    "    df[\"MET_pt\"] = arrs[\"MET_pt\"][sel]\n",
    "    return df\n",
    "\n",
    "testfname = fnames[0].replace(\"/store/\",\"root://cmsxrootd.fnal.gov//store/\")\n",
    "func(testfname, 0, 10000)"
   ]
  },
  {
   "cell_type": "code",
   "execution_count": null,
   "metadata": {
    "ExecuteTime": {
     "end_time": "2020-08-18T21:30:51.837093Z",
     "start_time": "2020-08-18T21:30:51.832190Z"
    }
   },
   "outputs": [],
   "source": []
  },
  {
   "cell_type": "markdown",
   "metadata": {},
   "source": [
    "Run over the full set of files and make a dask DataFrame, passing in our custom `func`, and persisting it so it stays in memory."
   ]
  },
  {
   "cell_type": "code",
   "execution_count": 11,
   "metadata": {
    "ExecuteTime": {
     "end_time": "2020-08-18T21:35:21.019519Z",
     "start_time": "2020-08-18T21:34:38.025112Z"
    }
   },
   "outputs": [
    {
     "data": {
      "application/vnd.jupyter.widget-view+json": {
       "model_id": "fddccad652314b899d4d2b57e251984f",
       "version_major": 2,
       "version_minor": 0
      },
      "text/plain": [
       "HBox(children=(FloatProgress(value=0.0, max=10.0), HTML(value='')))"
      ]
     },
     "metadata": {},
     "output_type": "display_data"
    },
    {
     "name": "stdout",
     "output_type": "stream",
     "text": [
      "\n"
     ]
    }
   ],
   "source": [
    "ddf = make_df(\n",
    "    fnames[:3],\n",
    "    func = func,\n",
    "    persist = True,\n",
    "    xrootd = True,\n",
    "    chunksize = 250e3,\n",
    "    use_dask = use_dask,\n",
    "    npartitions=len(fnames)//3,\n",
    ")"
   ]
  },
  {
   "cell_type": "code",
   "execution_count": 16,
   "metadata": {
    "ExecuteTime": {
     "end_time": "2020-08-18T21:35:43.684935Z",
     "start_time": "2020-08-18T21:35:43.668511Z"
    }
   },
   "outputs": [
    {
     "name": "stdout",
     "output_type": "stream",
     "text": [
      "4.37432\n"
     ]
    },
    {
     "data": {
      "text/html": [
       "<div>\n",
       "<style scoped>\n",
       "    .dataframe tbody tr th:only-of-type {\n",
       "        vertical-align: middle;\n",
       "    }\n",
       "\n",
       "    .dataframe tbody tr th {\n",
       "        vertical-align: top;\n",
       "    }\n",
       "\n",
       "    .dataframe thead th {\n",
       "        text-align: right;\n",
       "    }\n",
       "</style>\n",
       "<table border=\"1\" class=\"dataframe\">\n",
       "  <thead>\n",
       "    <tr style=\"text-align: right;\">\n",
       "      <th></th>\n",
       "      <th>MET_pt</th>\n",
       "      <th>dimuon_mass</th>\n",
       "    </tr>\n",
       "  </thead>\n",
       "  <tbody>\n",
       "    <tr>\n",
       "      <th>0</th>\n",
       "      <td>11.192041</td>\n",
       "      <td>89.262779</td>\n",
       "    </tr>\n",
       "    <tr>\n",
       "      <th>1</th>\n",
       "      <td>44.028748</td>\n",
       "      <td>92.878616</td>\n",
       "    </tr>\n",
       "    <tr>\n",
       "      <th>2</th>\n",
       "      <td>14.792266</td>\n",
       "      <td>91.561005</td>\n",
       "    </tr>\n",
       "    <tr>\n",
       "      <th>3</th>\n",
       "      <td>13.890943</td>\n",
       "      <td>91.243340</td>\n",
       "    </tr>\n",
       "    <tr>\n",
       "      <th>4</th>\n",
       "      <td>67.413521</td>\n",
       "      <td>93.040024</td>\n",
       "    </tr>\n",
       "  </tbody>\n",
       "</table>\n",
       "</div>"
      ],
      "text/plain": [
       "      MET_pt  dimuon_mass\n",
       "0  11.192041    89.262779\n",
       "1  44.028748    92.878616\n",
       "2  14.792266    91.561005\n",
       "3  13.890943    91.243340\n",
       "4  67.413521    93.040024"
      ]
     },
     "execution_count": 16,
     "metadata": {},
     "output_type": "execute_result"
    }
   ],
   "source": [
    "print(ddf.memory_usage().sum()*1e-6)\n",
    "ddf.head()"
   ]
  },
  {
   "cell_type": "markdown",
   "metadata": {},
   "source": [
    "The first time we make a histogram will be slow because at this point, the dask DataFrame is still being created/persisted. As the chunks are computed, the histogram is calculated until they are all done and summed together. Thus, this cell will block."
   ]
  },
  {
   "cell_type": "code",
   "execution_count": 66,
   "metadata": {
    "ExecuteTime": {
     "end_time": "2020-05-28T08:08:04.082108Z",
     "start_time": "2020-05-28T08:07:47.716563Z"
    }
   },
   "outputs": [
    {
     "name": "stdout",
     "output_type": "stream",
     "text": [
      "2500061.0 events in 15.57s @ 0.16MHz\n"
     ]
    },
    {
     "data": {
      "text/plain": [
       "<matplotlib.axes._subplots.AxesSubplot at 0x7f0bcad7dd90>"
      ]
     },
     "execution_count": 66,
     "metadata": {},
     "output_type": "execute_result"
    },
    {
     "data": {
      "image/png": "[encoded data removed]",
      "text/plain": [
       "<Figure size 600x400 with 1 Axes>"
      ]
     },
     "metadata": {
      "image/png": {
       "height": 364,
       "width": 554
      },
      "needs_background": "light"
     },
     "output_type": "display_data"
    }
   ],
   "source": [
    "t0 = time.time()\n",
    "counts, edges = da.histogram(ddf[\"dimuon_mass\"], range=[0,150], bins=150)\n",
    "h = Hist1D.from_bincounts(counts.compute(), edges)\n",
    "t1 = time.time()\n",
    "print(f\"{h.integral} events in {t1-t0:.2f}s @ {h.integral/(t1-t0)*1e-6:.2f}MHz\")\n",
    "h.plot()"
   ]
  },
  {
   "cell_type": "markdown",
   "metadata": {},
   "source": [
    "The second run will be super fast because now the dask DataFrame is fully in memory."
   ]
  },
  {
   "cell_type": "code",
   "execution_count": 67,
   "metadata": {
    "ExecuteTime": {
     "end_time": "2020-05-28T08:08:04.823476Z",
     "start_time": "2020-05-28T08:08:04.084623Z"
    }
   },
   "outputs": [
    {
     "name": "stdout",
     "output_type": "stream",
     "text": [
      "2609233.0 events in 0.13s @ 20.18MHz\n"
     ]
    },
    {
     "data": {
      "text/plain": [
       "<matplotlib.axes._subplots.AxesSubplot at 0x7f0bea053730>"
      ]
     },
     "execution_count": 67,
     "metadata": {},
     "output_type": "execute_result"
    },
    {
     "data": {
      "image/png": "[encoded data removed]",
      "text/plain": [
       "<Figure size 600x400 with 1 Axes>"
      ]
     },
     "metadata": {
      "image/png": {
       "height": 364,
       "width": 554
      },
      "needs_background": "light"
     },
     "output_type": "display_data"
    }
   ],
   "source": [
    "t0 = time.time()\n",
    "counts, edges = da.histogram(ddf[\"MET_pt\"], range=[0,250], bins=100)\n",
    "h = Hist1D.from_bincounts(counts.compute(), edges)\n",
    "t1 = time.time()\n",
    "print(f\"{h.integral} events in {t1-t0:.2f}s @ {h.integral/(t1-t0)*1e-6:.2f}MHz\")\n",
    "h.plot()"
   ]
  },
  {
   "cell_type": "markdown",
   "metadata": {},
   "source": [
    "How much memory is the dask DataFrame occupying?"
   ]
  },
  {
   "cell_type": "code",
   "execution_count": 68,
   "metadata": {
    "ExecuteTime": {
     "end_time": "2020-05-28T08:08:04.895772Z",
     "start_time": "2020-05-28T08:08:04.829564Z"
    }
   },
   "outputs": [
    {
     "name": "stdout",
     "output_type": "stream",
     "text": [
      "Memory usage: 42.03MB\n"
     ]
    }
   ],
   "source": [
    "print(f\"Memory usage: {1e-6*ddf.memory_usage().compute().sum():.2f}MB\")"
   ]
  },
  {
   "cell_type": "code",
   "execution_count": null,
   "metadata": {},
   "outputs": [],
   "source": []
  }
 ],
 "metadata": {
  "kernelspec": {
   "display_name": "Python 3",
   "language": "python",
   "name": "python3"
  }
 },
 "nbformat": 4,
 "nbformat_minor": 2
}
