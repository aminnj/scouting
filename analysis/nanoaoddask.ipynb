{
 "cells": [
  {
   "cell_type": "code",
   "execution_count": 1,
   "metadata": {
    "ExecuteTime": {
     "end_time": "2020-01-21T18:54:34.572048Z",
     "start_time": "2020-01-21T18:54:32.444923Z"
    }
   },
   "outputs": [],
   "source": [
    "%matplotlib inline\n",
    "import pandas as pd\n",
    "import uproot\n",
    "import awkward\n",
    "import matplotlib.pyplot as plt\n",
    "import numpy as np\n",
    "import glob\n",
    "from matplotlib.colors import LogNorm\n",
    "import uproot_methods\n",
    "from tqdm.auto import tqdm\n",
    "import time\n",
    "\n",
    "from utils import set_plotting_style, get_chunking, get_chunking_dask, make_df_dask, hist2d_dask, query_dis\n",
    "import utils\n",
    "\n",
    "from dask.distributed import Client\n",
    "import dask.dataframe as dd\n",
    "import dask.array as da\n",
    "from dask import delayed\n",
    "from yahist import Hist1D, Hist2D"
   ]
  },
  {
   "cell_type": "code",
   "execution_count": 2,
   "metadata": {
    "ExecuteTime": {
     "end_time": "2020-01-21T18:54:34.579343Z",
     "start_time": "2020-01-21T18:54:34.575079Z"
    }
   },
   "outputs": [],
   "source": [
    "set_plotting_style()"
   ]
  },
  {
   "cell_type": "markdown",
   "metadata": {},
   "source": [
    "Make dask client"
   ]
  },
  {
   "cell_type": "code",
   "execution_count": 3,
   "metadata": {
    "ExecuteTime": {
     "end_time": "2020-01-21T18:54:36.011164Z",
     "start_time": "2020-01-21T18:54:35.945364Z"
    }
   },
   "outputs": [
    {
     "data": {
      "text/html": [
       "<table style=\"border: 2px solid white;\">\n",
       "<tr>\n",
       "<td style=\"vertical-align: top; border: 0px solid white\">\n",
       "<h3 style=\"text-align: left;\">Client</h3>\n",
       "<ul style=\"text-align: left; list-style: none; margin: 0; padding: 0;\">\n",
       "  <li><b>Scheduler: </b>tcp://169.228.130.74:4712</li>\n",
       "  <li><b>Dashboard: </b><a href='http://169.228.130.74:13345/status' target='_blank'>http://169.228.130.74:13345/status</a>\n",
       "</ul>\n",
       "</td>\n",
       "<td style=\"vertical-align: top; border: 0px solid white\">\n",
       "<h3 style=\"text-align: left;\">Cluster</h3>\n",
       "<ul style=\"text-align: left; list-style:none; margin: 0; padding: 0;\">\n",
       "  <li><b>Workers: </b>20</li>\n",
       "  <li><b>Cores: </b>20</li>\n",
       "  <li><b>Memory: </b>80.00 GB</li>\n",
       "</ul>\n",
       "</td>\n",
       "</tr>\n",
       "</table>"
      ],
      "text/plain": [
       "<Client: 'tcp://169.228.130.74:4712' processes=20 threads=20, memory=80.00 GB>"
      ]
     },
     "execution_count": 3,
     "metadata": {},
     "output_type": "execute_result"
    }
   ],
   "source": [
    "client = Client(\"tcp://169.228.130.74:4712\")\n",
    "client"
   ]
  },
  {
   "cell_type": "markdown",
   "metadata": {},
   "source": [
    "Figure out which sites have which datasets. Pick something local to speed things up."
   ]
  },
  {
   "cell_type": "code",
   "execution_count": 4,
   "metadata": {
    "ExecuteTime": {
     "end_time": "2020-01-21T18:54:38.008894Z",
     "start_time": "2020-01-21T18:54:37.596932Z"
    }
   },
   "outputs": [
    {
     "data": {
      "text/plain": [
       "[{'dataset': '/DYJetsToLL_M-50_HT-1200to2500_TuneCP5_PSweights_13TeV-madgraphMLM-pythia8/RunIIAutumn18NanoAODv6-Nano25Oct2019_102X_upgrade2018_realistic_v20-v1/NANOAODSIM',\n",
       "  'site_fractions': [['T2_EE_Estonia', 1.0],\n",
       "   ['T1_IT_CNAF_MSS', 1.0],\n",
       "   ['T2_US_Purdue', 1.0],\n",
       "   ['T1_IT_CNAF_Buffer', 1.0],\n",
       "   ['T1_US_FNAL_Disk', 1.0],\n",
       "   ['T2_US_Wisconsin', 0.882]]},\n",
       " {'dataset': '/DYJetsToLL_M-50_HT-70to100_TuneCP5_PSweights_13TeV-madgraphMLM-pythia8/RunIIAutumn18NanoAODv6-Nano25Oct2019_102X_upgrade2018_realistic_v20-v1/NANOAODSIM',\n",
       "  'site_fractions': [['T1_US_FNAL_MSS', 1.0],\n",
       "   ['T2_EE_Estonia', 1.0],\n",
       "   ['T1_US_FNAL_Buffer', 1.0],\n",
       "   ['T2_IT_Legnaro', 1.0],\n",
       "   ['T2_US_Purdue', 1.0],\n",
       "   ['T2_US_Nebraska', 1.0],\n",
       "   ['T2_DE_DESY', 0.345],\n",
       "   ['T2_US_Florida', 0.092],\n",
       "   ['T2_US_MIT', 0.001]]},\n",
       " {'dataset': '/DYJetsToLL_M-50_HT-600to800_TuneCP5_PSweights_13TeV-madgraphMLM-pythia8/RunIIAutumn18NanoAODv6-Nano25Oct2019_102X_upgrade2018_realistic_v20-v1/NANOAODSIM',\n",
       "  'site_fractions': [['T2_EE_Estonia', 1.0],\n",
       "   ['T1_US_FNAL_Buffer', 1.0],\n",
       "   ['T2_US_Wisconsin', 1.0],\n",
       "   ['T2_US_MIT', 1.0],\n",
       "   ['T1_US_FNAL_MSS', 1.0],\n",
       "   ['T2_DE_DESY', 0.106]]},\n",
       " {'dataset': '/DYJetsToLL_M-50_HT-400to600_TuneCP5_PSweights_13TeV-madgraphMLM-pythia8/RunIIAutumn18NanoAODv6-Nano25Oct2019_102X_upgrade2018_realistic_v20-v1/NANOAODSIM',\n",
       "  'site_fractions': [['T1_FR_CCIN2P3_MSS', 1.0],\n",
       "   ['T1_FR_CCIN2P3_Buffer', 1.0],\n",
       "   ['T1_US_FNAL_Disk', 1.0]]},\n",
       " {'dataset': '/DYJetsToLL_M-50_HT-800to1200_TuneCP5_PSweights_13TeV-madgraphMLM-pythia8/RunIIAutumn18NanoAODv6-Nano25Oct2019_102X_upgrade2018_realistic_v20-v1/NANOAODSIM',\n",
       "  'site_fractions': [['T2_EE_Estonia', 1.0],\n",
       "   ['T2_US_UCSD', 1.0],\n",
       "   ['T1_FR_CCIN2P3_MSS', 1.0],\n",
       "   ['T1_IT_CNAF_Disk', 1.0],\n",
       "   ['T2_US_Purdue', 1.0],\n",
       "   ['T1_FR_CCIN2P3_Buffer', 1.0],\n",
       "   ['T2_US_MIT', 0.245]]},\n",
       " {'dataset': '/DYJetsToLL_M-50_HT-200to400_TuneCP5_PSweights_13TeV-madgraphMLM-pythia8/RunIIAutumn18NanoAODv6-Nano25Oct2019_102X_upgrade2018_realistic_v20-v1/NANOAODSIM',\n",
       "  'site_fractions': [['T2_EE_Estonia', 1.0],\n",
       "   ['T1_IT_CNAF_MSS', 1.0],\n",
       "   ['T2_US_Florida', 1.0],\n",
       "   ['T1_IT_CNAF_Buffer', 1.0],\n",
       "   ['T1_US_FNAL_Disk', 1.0],\n",
       "   ['T2_FR_GRIF_LLR', 0.172],\n",
       "   ['T2_DE_DESY', 0.122]]},\n",
       " {'dataset': '/DYJetsToLL_M-50_HT-100to200_TuneCP5_PSweights_13TeV-madgraphMLM-pythia8/RunIIAutumn18NanoAODv6-Nano25Oct2019_102X_upgrade2018_realistic_v20-v1/NANOAODSIM',\n",
       "  'site_fractions': [['T2_EE_Estonia', 1.0],\n",
       "   ['T1_US_FNAL_Buffer', 1.0],\n",
       "   ['T2_US_Wisconsin', 1.0],\n",
       "   ['T1_US_FNAL_MSS', 1.0],\n",
       "   ['T1_IT_CNAF_Disk', 1.0],\n",
       "   ['T1_US_FNAL_Disk', 1.0],\n",
       "   ['T2_IT_Legnaro', 0.165],\n",
       "   ['T2_DE_DESY', 0.108]]},\n",
       " {'dataset': '/DYJetsToLL_M-50_HT-2500toInf_TuneCP5_PSweights_13TeV-madgraphMLM-pythia8/RunIIAutumn18NanoAODv6-Nano25Oct2019_102X_upgrade2018_realistic_v20-v1/NANOAODSIM',\n",
       "  'site_fractions': [['T2_EE_Estonia', 1.0],\n",
       "   ['T1_US_FNAL_Buffer', 1.0],\n",
       "   ['T2_US_Florida', 1.0],\n",
       "   ['T1_US_FNAL_MSS', 1.0],\n",
       "   ['T2_US_Purdue', 1.0],\n",
       "   ['T2_IN_TIFR', 1.0],\n",
       "   ['T2_BE_IIHE', 0.153]]}]"
      ]
     },
     "execution_count": 4,
     "metadata": {},
     "output_type": "execute_result"
    }
   ],
   "source": [
    "query = \"/DYJetsToLL_M-50_HT-*_TuneCP5_PSweights_13TeV-madgraphMLM-pythia8/RunIIAutumn18NanoAODv6-Nano25Oct2019_102X_upgrade2018_realistic_v20-v1/NANOAODSIM\"\n",
    "query_dis(query, typ=\"sites\")"
   ]
  },
  {
   "cell_type": "markdown",
   "metadata": {},
   "source": [
    "Picked a dataset. Now get the list of files."
   ]
  },
  {
   "cell_type": "code",
   "execution_count": 5,
   "metadata": {
    "ExecuteTime": {
     "end_time": "2020-01-21T18:54:39.612497Z",
     "start_time": "2020-01-21T18:54:39.533971Z"
    }
   },
   "outputs": [
    {
     "name": "stdout",
     "output_type": "stream",
     "text": [
      "12 files, 11530510 events\n",
      "CPU times: user 9 ms, sys: 10 ms, total: 19 ms\n",
      "Wall time: 71.7 ms\n"
     ]
    }
   ],
   "source": [
    "%%time\n",
    "\n",
    "dataset = \"/DYJetsToLL_M-50_HT-100to200_TuneCP5_PSweights_13TeV-madgraphMLM-pythia8/RunIIAutumn18NanoAODv6-Nano25Oct2019_102X_upgrade2018_realistic_v20-v1/NANOAODSIM\"\n",
    "df = pd.DataFrame(query_dis(dataset, typ=\"files\"))\n",
    "fnames = tuple(df.name)\n",
    "print(f\"{len(df)} files, {df.nevents.sum()} events\")"
   ]
  },
  {
   "cell_type": "markdown",
   "metadata": {},
   "source": [
    "Make a function that takes information about a \"chunk\": filename and start/stop entry number. The function returns a flat pandas DataFrame. In this case, we read muon 4-momenta and MET, and store MET, dimuon masses for events with exactly two muons. We run the function on a small chunk to test it."
   ]
  },
  {
   "cell_type": "code",
   "execution_count": 6,
   "metadata": {
    "ExecuteTime": {
     "end_time": "2020-01-21T18:54:47.659327Z",
     "start_time": "2020-01-21T18:54:42.368130Z"
    }
   },
   "outputs": [
    {
     "data": {
      "text/html": [
       "<div>\n",
       "<style scoped>\n",
       "    .dataframe tbody tr th:only-of-type {\n",
       "        vertical-align: middle;\n",
       "    }\n",
       "\n",
       "    .dataframe tbody tr th {\n",
       "        vertical-align: top;\n",
       "    }\n",
       "\n",
       "    .dataframe thead th {\n",
       "        text-align: right;\n",
       "    }\n",
       "</style>\n",
       "<table border=\"1\" class=\"dataframe\">\n",
       "  <thead>\n",
       "    <tr style=\"text-align: right;\">\n",
       "      <th></th>\n",
       "      <th>dimuon_mass</th>\n",
       "      <th>MET_pt</th>\n",
       "    </tr>\n",
       "  </thead>\n",
       "  <tbody>\n",
       "    <tr>\n",
       "      <td>0</td>\n",
       "      <td>89.262779</td>\n",
       "      <td>11.192041</td>\n",
       "    </tr>\n",
       "    <tr>\n",
       "      <td>1</td>\n",
       "      <td>91.561005</td>\n",
       "      <td>14.792266</td>\n",
       "    </tr>\n",
       "    <tr>\n",
       "      <td>2</td>\n",
       "      <td>91.243340</td>\n",
       "      <td>13.890943</td>\n",
       "    </tr>\n",
       "    <tr>\n",
       "      <td>3</td>\n",
       "      <td>93.040024</td>\n",
       "      <td>67.413521</td>\n",
       "    </tr>\n",
       "    <tr>\n",
       "      <td>4</td>\n",
       "      <td>12.945415</td>\n",
       "      <td>62.856010</td>\n",
       "    </tr>\n",
       "    <tr>\n",
       "      <td>...</td>\n",
       "      <td>...</td>\n",
       "      <td>...</td>\n",
       "    </tr>\n",
       "    <tr>\n",
       "      <td>2144</td>\n",
       "      <td>93.058914</td>\n",
       "      <td>6.718247</td>\n",
       "    </tr>\n",
       "    <tr>\n",
       "      <td>2145</td>\n",
       "      <td>92.248474</td>\n",
       "      <td>30.783525</td>\n",
       "    </tr>\n",
       "    <tr>\n",
       "      <td>2146</td>\n",
       "      <td>192.114288</td>\n",
       "      <td>19.874645</td>\n",
       "    </tr>\n",
       "    <tr>\n",
       "      <td>2147</td>\n",
       "      <td>89.099884</td>\n",
       "      <td>6.147094</td>\n",
       "    </tr>\n",
       "    <tr>\n",
       "      <td>2148</td>\n",
       "      <td>87.591232</td>\n",
       "      <td>15.984878</td>\n",
       "    </tr>\n",
       "  </tbody>\n",
       "</table>\n",
       "<p>2149 rows × 2 columns</p>\n",
       "</div>"
      ],
      "text/plain": [
       "      dimuon_mass     MET_pt\n",
       "0       89.262779  11.192041\n",
       "1       91.561005  14.792266\n",
       "2       91.243340  13.890943\n",
       "3       93.040024  67.413521\n",
       "4       12.945415  62.856010\n",
       "...           ...        ...\n",
       "2144    93.058914   6.718247\n",
       "2145    92.248474  30.783525\n",
       "2146   192.114288  19.874645\n",
       "2147    89.099884   6.147094\n",
       "2148    87.591232  15.984878\n",
       "\n",
       "[2149 rows x 2 columns]"
      ]
     },
     "execution_count": 6,
     "metadata": {},
     "output_type": "execute_result"
    }
   ],
   "source": [
    "def func(fname, entrystart, entrystop):\n",
    "    t = uproot.open(fname)[\"Events\"]\n",
    "    arrs = t.arrays([\"Muon_pt\",\"Muon_eta\",\"Muon_phi\",\"Muon_mass\",\"MET_pt\"],\n",
    "                    outputtype=dict,namedecode=\"ascii\",\n",
    "                    entrystart=entrystart,entrystop=entrystop)\n",
    "    sel = (arrs[\"Muon_pt\"].counts == 2)\n",
    "    df = pd.DataFrame()\n",
    "    TLVA = uproot_methods.TLorentzVectorArray\n",
    "    mus = TLVA.from_ptetaphim(arrs[\"Muon_pt\"][sel],arrs[\"Muon_eta\"][sel],arrs[\"Muon_phi\"][sel],arrs[\"Muon_mass\"][sel])\n",
    "    mass = (mus[:,0]+mus[:,1]).mass\n",
    "    df[\"dimuon_mass\"] = mass\n",
    "    df[\"MET_pt\"] = arrs[\"MET_pt\"][sel]\n",
    "    return df\n",
    "\n",
    "func(fnames[0].replace(\"/store/\",\"root://cmsxrootd.fnal.gov//store/\"), 0, 10000)"
   ]
  },
  {
   "cell_type": "markdown",
   "metadata": {},
   "source": [
    "Run over the full set of files and make a dask DataFrame, passing in our custom `func`, and persisting it so it stays in memory."
   ]
  },
  {
   "cell_type": "code",
   "execution_count": 7,
   "metadata": {
    "ExecuteTime": {
     "end_time": "2020-01-21T18:55:03.002927Z",
     "start_time": "2020-01-21T18:54:47.661399Z"
    }
   },
   "outputs": [],
   "source": [
    "ddf = make_df_dask(\n",
    "    fnames,\n",
    "    func = func,\n",
    "    persist = True,\n",
    "    xrootd = True,\n",
    "    chunksize = 250e3,\n",
    ")"
   ]
  },
  {
   "cell_type": "markdown",
   "metadata": {},
   "source": [
    "Make a helper function to plot a histogram from an expression and bins."
   ]
  },
  {
   "cell_type": "code",
   "execution_count": 8,
   "metadata": {
    "ExecuteTime": {
     "end_time": "2020-01-21T18:55:03.132003Z",
     "start_time": "2020-01-21T18:55:03.118530Z"
    }
   },
   "outputs": [],
   "source": [
    "def get_hist(df, varexp, bins):\n",
    "    t0 = time.time()\n",
    "    counts = da.histogram(da.clip(df.eval(varexp),bins[0],bins[-1]), bins=bins)[0].compute()\n",
    "    t1 = time.time()\n",
    "    print(f\"{counts.sum()} events in {t1-t0:.2f}s @ {counts.sum()/(t1-t0)*1e-6:.2f}MHz\")\n",
    "    h = Hist1D.from_bincounts(counts, bins, errors=counts**0.5)\n",
    "    return h"
   ]
  },
  {
   "cell_type": "markdown",
   "metadata": {},
   "source": [
    "The first time we make a histogram will be slow because at this point, the dask DataFrame is still being created/persisted. As the chunks are computed, the histogram is calculated until they are all done and summed together. Thus, this cell will block."
   ]
  },
  {
   "cell_type": "code",
   "execution_count": 9,
   "metadata": {
    "ExecuteTime": {
     "end_time": "2020-01-21T18:56:12.396058Z",
     "start_time": "2020-01-21T18:55:09.805986Z"
    }
   },
   "outputs": [
    {
     "name": "stdout",
     "output_type": "stream",
     "text": [
      "2490518 events in 61.78s @ 0.04MHz\n"
     ]
    },
    {
     "data": {
      "text/plain": [
       "<matplotlib.axes._subplots.AxesSubplot at 0x7f7d6e997438>"
      ]
     },
     "execution_count": 9,
     "metadata": {},
     "output_type": "execute_result"
    },
    {
     "data": {
      "image/png": "[encoded data removed]",
      "text/plain": [
       "<Figure size 600x400 with 1 Axes>"
      ]
     },
     "metadata": {
      "image/png": {
       "height": 364,
       "width": 554
      },
      "needs_background": "light"
     },
     "output_type": "display_data"
    }
   ],
   "source": [
    "h = get_hist(ddf, \"dimuon_mass\", bins=np.linspace(0,150,150))\n",
    "h.plot()"
   ]
  },
  {
   "cell_type": "markdown",
   "metadata": {},
   "source": [
    "The second run will be super fast because now the dask DataFrame is fully in memory."
   ]
  },
  {
   "cell_type": "code",
   "execution_count": 10,
   "metadata": {
    "ExecuteTime": {
     "end_time": "2020-01-21T18:56:13.409698Z",
     "start_time": "2020-01-21T18:56:12.398141Z"
    }
   },
   "outputs": [
    {
     "name": "stdout",
     "output_type": "stream",
     "text": [
      "2490520 events in 0.24s @ 10.50MHz\n"
     ]
    },
    {
     "data": {
      "text/plain": [
       "<matplotlib.axes._subplots.AxesSubplot at 0x7f7d6fc810f0>"
      ]
     },
     "execution_count": 10,
     "metadata": {},
     "output_type": "execute_result"
    },
    {
     "data": {
      "image/png": "[encoded data removed]",
      "text/plain": [
       "<Figure size 600x400 with 1 Axes>"
      ]
     },
     "metadata": {
      "image/png": {
       "height": 364,
       "width": 568
      },
      "needs_background": "light"
     },
     "output_type": "display_data"
    }
   ],
   "source": [
    "h = get_hist(ddf, \"MET_pt\", bins=np.linspace(0,250,100))\n",
    "h.plot()"
   ]
  },
  {
   "cell_type": "markdown",
   "metadata": {},
   "source": [
    "How much memory is the dask DataFrame occupying?"
   ]
  },
  {
   "cell_type": "code",
   "execution_count": 11,
   "metadata": {
    "ExecuteTime": {
     "end_time": "2020-01-21T18:56:13.665008Z",
     "start_time": "2020-01-21T18:56:13.411772Z"
    }
   },
   "outputs": [
    {
     "name": "stdout",
     "output_type": "stream",
     "text": [
      "Memory usage: 19.93MB\n"
     ]
    }
   ],
   "source": [
    "print(f\"Memory usage: {1e-6*ddf.memory_usage().compute().sum():.2f}MB\")"
   ]
  },
  {
   "cell_type": "code",
   "execution_count": null,
   "metadata": {},
   "outputs": [],
   "source": []
  }
 ],
 "metadata": {
  "kernelspec": {
   "display_name": "Python 3",
   "language": "python",
   "name": "python3"
  },
  "language_info": {
   "codemirror_mode": {
    "name": "ipython",
    "version": 3
   },
   "file_extension": ".py",
   "mimetype": "text/x-python",
   "name": "python",
   "nbconvert_exporter": "python",
   "pygments_lexer": "ipython3",
   "version": "3.7.3"
  }
 },
 "nbformat": 4,
 "nbformat_minor": 2
}
