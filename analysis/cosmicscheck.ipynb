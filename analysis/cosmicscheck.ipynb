{
 "cells": [
  {
   "cell_type": "code",
   "execution_count": 2,
   "metadata": {
    "ExecuteTime": {
     "end_time": "2019-11-22T21:24:37.659482Z",
     "start_time": "2019-11-22T21:24:37.642613Z"
    }
   },
   "outputs": [],
   "source": [
    "%matplotlib inline\n",
    "import pandas as pd\n",
    "import uproot\n",
    "import awkward\n",
    "import matplotlib.pyplot as plt\n",
    "import numpy as np\n",
    "import math\n",
    "import glob\n",
    "import numba\n",
    "from matplotlib.colors import LogNorm\n",
    "import uproot_methods\n",
    "from tqdm.auto import tqdm\n",
    "\n",
    "from utils import set_plotting_style, get_chunking, get_chunking_dask\n",
    "\n",
    "\n",
    "try:\n",
    "    from yahist import Hist1D, Hist2D\n",
    "except:\n",
    "    !pip install git+git://github.com/aminnj/yahist.git#egg=yahist -U\n",
    "    from yahist import Hist1D, Hist2D\n",
    "    \n",
    "import utils"
   ]
  },
  {
   "cell_type": "code",
   "execution_count": 19,
   "metadata": {
    "ExecuteTime": {
     "end_time": "2019-11-22T21:27:32.493347Z",
     "start_time": "2019-11-22T21:27:32.467426Z"
    }
   },
   "outputs": [
    {
     "data": {
      "text/html": [
       "<table style=\"border: 2px solid white;\">\n",
       "<tr>\n",
       "<td style=\"vertical-align: top; border: 0px solid white\">\n",
       "<h3 style=\"text-align: left;\">Client</h3>\n",
       "<ul style=\"text-align: left; list-style: none; margin: 0; padding: 0;\">\n",
       "  <li><b>Scheduler: </b>tcp://uaf-10.t2.ucsd.edu:50123</li>\n",
       "  <li><b>Dashboard: </b><a href='http://uaf-10.t2.ucsd.edu:8787/status' target='_blank'>http://uaf-10.t2.ucsd.edu:8787/status</a>\n",
       "</ul>\n",
       "</td>\n",
       "<td style=\"vertical-align: top; border: 0px solid white\">\n",
       "<h3 style=\"text-align: left;\">Cluster</h3>\n",
       "<ul style=\"text-align: left; list-style:none; margin: 0; padding: 0;\">\n",
       "  <li><b>Workers: </b>6</li>\n",
       "  <li><b>Cores: </b>6</li>\n",
       "  <li><b>Memory: </b>30.00 GB</li>\n",
       "</ul>\n",
       "</td>\n",
       "</tr>\n",
       "</table>"
      ],
      "text/plain": [
       "<Client: scheduler='tcp://169.228.130.74:50123' processes=6 cores=6>"
      ]
     },
     "execution_count": 19,
     "metadata": {},
     "output_type": "execute_result"
    }
   ],
   "source": [
    "from dask import delayed\n",
    "from dask.distributed import Client\n",
    "client = Client(\"uaf-10.t2.ucsd.edu:50123\")\n",
    "client"
   ]
  },
  {
   "cell_type": "code",
   "execution_count": 5,
   "metadata": {
    "ExecuteTime": {
     "end_time": "2019-11-22T21:24:51.806567Z",
     "start_time": "2019-11-22T21:24:51.802292Z"
    }
   },
   "outputs": [],
   "source": [
    "set_plotting_style()"
   ]
  },
  {
   "cell_type": "code",
   "execution_count": 6,
   "metadata": {
    "ExecuteTime": {
     "end_time": "2019-11-22T21:24:54.613365Z",
     "start_time": "2019-11-22T21:24:52.984729Z"
    }
   },
   "outputs": [],
   "source": [
    "df_data = pd.read_pickle(\"data/df_data.pkl\")\n",
    "df_mc = pd.read_pickle(\"data/df_mc.pkl\")"
   ]
  },
  {
   "cell_type": "code",
   "execution_count": 7,
   "metadata": {
    "ExecuteTime": {
     "end_time": "2019-11-22T21:25:42.589990Z",
     "start_time": "2019-11-22T21:25:42.582840Z"
    }
   },
   "outputs": [],
   "source": [
    "# # Hist1D(df_data.query(\"absdphimumu > 3.1\")[\"absdphimumu\"],bins=np.linspace(0,np.pi,100)).plot()\n",
    "# # !mkdir -p plots_misc_v2\n",
    "\n",
    "# fig, ax = plt.subplots()\n",
    "# Hist1D(df_data.query(\"(dimuon_mass>10) and (absdphimumu > 3.1)\")[\"Muon1_dxyCorr\"],bins=np.linspace(-0.1,0.1,100)).normalize().plot(histtype=\"step\",label=\"dphi(mu1,mu2)>3.1\")\n",
    "# Hist1D(df_data.query(\"(dimuon_mass>10) and (absdphimumu < 0.1)\")[\"Muon1_dxyCorr\"],bins=np.linspace(-0.1,0.1,100)).normalize().plot(histtype=\"step\",label=\"dphi(mu1,mu2)<0.1\")\n",
    "# ax.legend()\n",
    "# ax.set_title(\"Leading muon dxy for mass>10GeV in data\")\n",
    "# # fig.savefig(\"plots_misc_v2/leadingmuondxy_splitphi_mass10.png\")\n",
    "\n",
    "# fig, ax = plt.subplots()\n",
    "# Hist1D(df_data.query(\"(dimuon_mass>10) and (absdphimumu > 3.1)\")[\"Muon1_phi\"],bins=np.linspace(-3.2,3.2,100)).normalize().plot(histtype=\"step\",label=\"dphi(mu1,mu2)>3.1\")\n",
    "# Hist1D(df_data.query(\"(dimuon_mass>10) and (absdphimumu < 0.1)\")[\"Muon1_phi\"],bins=np.linspace(-3.2,3.2,100)).normalize().plot(histtype=\"step\",label=\"dphi(mu1,mu2)<0.1\")\n",
    "# ax.legend()\n",
    "# ax.set_title(\"Leading muon phi for mass>10GeV in data\")\n",
    "# # fig.savefig(\"plots_misc_v2/leadingphi_splitphi_mass10.png\")\n",
    "\n",
    "# fig, ax = plt.subplots()\n",
    "# df1 = df_data.query(\"(dimuon_mass>10) and (absdphimumu > 3.1)\")\n",
    "# df2 = df_data.query(\"(dimuon_mass>10) and (absdphimumu < 0.1)\")\n",
    "# Hist1D(df1[\"dimuon_pt\"],bins=np.linspace(0,150.,100)).normalize().plot(histtype=\"step\",label=\"dphi(mu1,mu2)>3.1\")\n",
    "# Hist1D(df2[\"dimuon_pt\"],bins=np.linspace(0,150.,100)).normalize().plot(histtype=\"step\",label=\"dphi(mu1,mu2)<0.1\")\n",
    "# ax.legend()\n",
    "# ax.set_title(\"dimuon pT for mass>10GeV in data\")\n",
    "# # fig.savefig(\"plots_misc_v2/pt_splitphi_mass10.png\")\n",
    "\n",
    "# fig, ax = plt.subplots()\n",
    "# df1 = df_data.query(\"(dimuon_mass>10) and (absdphimumu > 3.1)\")\n",
    "# df2 = df_data.query(\"(dimuon_mass>10) and (absdphimumu < 0.1)\")\n",
    "# Hist1D(df1[\"dimuon_mass\"]/df1[\"dimuon_pt\"],bins=np.linspace(0,30.,100)).normalize().plot(histtype=\"step\",label=\"dphi(mu1,mu2)>3.1\")\n",
    "# Hist1D(df2[\"dimuon_mass\"]/df2[\"dimuon_pt\"],bins=np.linspace(0,30.,100)).normalize().plot(histtype=\"step\",label=\"dphi(mu1,mu2)<0.1\")\n",
    "# ax.legend()\n",
    "# ax.set_title(\"dimuon mass/dimuon pT for mass>10GeV in data\")\n",
    "# # fig.savefig(\"plots_misc_v2/massoverpt_splitphi_mass10.png\")\n",
    "\n",
    "# fig, ax = plt.subplots()\n",
    "# df1 = df_data.query(\"(dimuon_mass>10) and (absdphimumu > 3.1)\")\n",
    "# df2 = df_data.query(\"(dimuon_mass>10) and (absdphimumu < 0.1)\")\n",
    "# Hist1D(df1[\"angle3dmumu\"],bins=np.linspace(0,3.142,50)).normalize().plot(histtype=\"step\",label=\"dphi(mu1,mu2)>3.1\")\n",
    "# Hist1D(df2[\"angle3dmumu\"],bins=np.linspace(0,3.142,50)).normalize().plot(histtype=\"step\",label=\"dphi(mu1,mu2)<0.1\")\n",
    "# ax.legend()\n",
    "# ax.set_title(\"3d angle between mu1 and mu2 for mass>10GeV in data\")\n",
    "# # fig.savefig(\"plots_misc_v2/angle3dmumu_splitphi_mass10.png\")\n",
    "\n",
    "# # !niceplots plots_misc_v2\n",
    "\n",
    "# # Hist1D(df_data.query(\"absdphimumu > 3.1\")[\"Muon2_dxyCorr\"],bins=np.linspace(0,0.1,100)).plot()\n",
    "# # Hist1D(df_data.query(\"absdphimumu < 0.1\")[\"Muon1_dxyCorr\"],bins=np.linspace(0,0.1,100)).plot()\n",
    "\n",
    "# # Hist1D(df_data.query(\"absdphimumu > 3.1\")[\"Muon1_phi\"],bins=np.linspace(-3.142,3.142,50)).normalize().plot()\n",
    "# # Hist1D(df_data.query(\"absdphimumu < 0.1\")[\"Muon1_phi\"],bins=np.linspace(-3.142,3.142,50)).normalize().plot()\n",
    "# # Hist1D(df_data.query(\"absdphimumu > 3.1\")[\"Muon1_eta\"],bins=np.linspace(-3.142,3.142,50)).normalize().plot()\n",
    "# # Hist1D(df_data.query(\"absdphimumu < 0.1\")[\"Muon1_eta\"],bins=np.linspace(-3.142,3.142,50)).normalize().plot()"
   ]
  },
  {
   "cell_type": "code",
   "execution_count": 8,
   "metadata": {
    "ExecuteTime": {
     "end_time": "2019-11-22T21:26:00.352167Z",
     "start_time": "2019-11-22T21:26:00.291256Z"
    }
   },
   "outputs": [
    {
     "data": {
      "text/html": [
       "<div>\n",
       "<style scoped>\n",
       "    .dataframe tbody tr th:only-of-type {\n",
       "        vertical-align: middle;\n",
       "    }\n",
       "\n",
       "    .dataframe tbody tr th {\n",
       "        vertical-align: top;\n",
       "    }\n",
       "\n",
       "    .dataframe thead th {\n",
       "        text-align: right;\n",
       "    }\n",
       "</style>\n",
       "<table border=\"1\" class=\"dataframe\">\n",
       "  <thead>\n",
       "    <tr style=\"text-align: right;\">\n",
       "      <th></th>\n",
       "      <th>run</th>\n",
       "      <th>luminosityBlock</th>\n",
       "      <th>event</th>\n",
       "    </tr>\n",
       "  </thead>\n",
       "  <tbody>\n",
       "    <tr>\n",
       "      <td>35</td>\n",
       "      <td>319337</td>\n",
       "      <td>53</td>\n",
       "      <td>18071059</td>\n",
       "    </tr>\n",
       "    <tr>\n",
       "      <td>2223</td>\n",
       "      <td>319639</td>\n",
       "      <td>260</td>\n",
       "      <td>390264054</td>\n",
       "    </tr>\n",
       "    <tr>\n",
       "      <td>3409</td>\n",
       "      <td>319678</td>\n",
       "      <td>262</td>\n",
       "      <td>385585530</td>\n",
       "    </tr>\n",
       "    <tr>\n",
       "      <td>3831</td>\n",
       "      <td>319678</td>\n",
       "      <td>288</td>\n",
       "      <td>430823437</td>\n",
       "    </tr>\n",
       "    <tr>\n",
       "      <td>4243</td>\n",
       "      <td>319687</td>\n",
       "      <td>69</td>\n",
       "      <td>49870766</td>\n",
       "    </tr>\n",
       "    <tr>\n",
       "      <td>...</td>\n",
       "      <td>...</td>\n",
       "      <td>...</td>\n",
       "      <td>...</td>\n",
       "    </tr>\n",
       "    <tr>\n",
       "      <td>41084</td>\n",
       "      <td>319678</td>\n",
       "      <td>127</td>\n",
       "      <td>157734218</td>\n",
       "    </tr>\n",
       "    <tr>\n",
       "      <td>41349</td>\n",
       "      <td>319678</td>\n",
       "      <td>142</td>\n",
       "      <td>181781064</td>\n",
       "    </tr>\n",
       "    <tr>\n",
       "      <td>41948</td>\n",
       "      <td>319678</td>\n",
       "      <td>182</td>\n",
       "      <td>243628388</td>\n",
       "    </tr>\n",
       "    <tr>\n",
       "      <td>42142</td>\n",
       "      <td>319678</td>\n",
       "      <td>195</td>\n",
       "      <td>268772416</td>\n",
       "    </tr>\n",
       "    <tr>\n",
       "      <td>42352</td>\n",
       "      <td>319678</td>\n",
       "      <td>209</td>\n",
       "      <td>292576462</td>\n",
       "    </tr>\n",
       "  </tbody>\n",
       "</table>\n",
       "<p>76 rows × 3 columns</p>\n",
       "</div>"
      ],
      "text/plain": [
       "          run  luminosityBlock      event\n",
       "35     319337               53   18071059\n",
       "2223   319639              260  390264054\n",
       "3409   319678              262  385585530\n",
       "3831   319678              288  430823437\n",
       "4243   319687               69   49870766\n",
       "...       ...              ...        ...\n",
       "41084  319678              127  157734218\n",
       "41349  319678              142  181781064\n",
       "41948  319678              182  243628388\n",
       "42142  319678              195  268772416\n",
       "42352  319678              209  292576462\n",
       "\n",
       "[76 rows x 3 columns]"
      ]
     },
     "execution_count": 8,
     "metadata": {},
     "output_type": "execute_result"
    }
   ],
   "source": [
    "# tofind = df_data.query(\"(dimuon_mass>10) and (absdphimumu > 3.1) and (angle3dmumu<2.5)\")[[\"run\",\"luminosityBlock\",\"event\"]]\n",
    "# tofind\n",
    "\n",
    "# df_data.query(\"dimuon_mass>5 and angle3dmumu>3.14159/2\")\n",
    "tofind = df_data.query(\"dimuon_mass>15 and angle3dmumu>3.14159/2\")[[\"run\",\"luminosityBlock\",\"event\"]]\n",
    "tofind"
   ]
  },
  {
   "cell_type": "code",
   "execution_count": 16,
   "metadata": {
    "ExecuteTime": {
     "end_time": "2019-11-22T21:26:52.224689Z",
     "start_time": "2019-11-22T21:26:51.954667Z"
    }
   },
   "outputs": [
    {
     "data": {
      "text/plain": [
       "1543"
      ]
     },
     "execution_count": 16,
     "metadata": {},
     "output_type": "execute_result"
    }
   ],
   "source": [
    "# /hadoop/cms/store/group/snt/run2_data2018/DoubleMuon_Run2018C-17Sep2018-v1_MINIAOD_CMS4_V10-02-04/\n",
    "fnames = glob.glob(\n",
    "    \"/hadoop/cms/store/group/snt/run2_data2018/*_Run2018C-17Sep2018-v1_MINIAOD_CMS4_V10-02-04/*.root\"\n",
    ")\n",
    "len(fnames)"
   ]
  },
  {
   "cell_type": "code",
   "execution_count": 17,
   "metadata": {
    "ExecuteTime": {
     "end_time": "2019-11-22T21:27:23.101032Z",
     "start_time": "2019-11-22T21:27:23.096880Z"
    }
   },
   "outputs": [],
   "source": [
    "# uproot.open(fnames[0])[\"Events\"].keys()"
   ]
  },
  {
   "cell_type": "code",
   "execution_count": 18,
   "metadata": {
    "ExecuteTime": {
     "end_time": "2019-11-22T21:27:30.333914Z",
     "start_time": "2019-11-22T21:27:26.441907Z"
    }
   },
   "outputs": [
    {
     "data": {
      "text/plain": [
       "{'fname': '/hadoop/cms/store/group/snt/run2_data2018/DoubleMuon_Run2018C-17Sep2018-v1_MINIAOD_CMS4_V10-02-04/merged_ntuple_1.root',\n",
       " 'rle': []}"
      ]
     },
     "execution_count": 18,
     "metadata": {},
     "output_type": "execute_result"
    }
   ],
   "source": [
    "def findevents(fname):\n",
    "    rle = []\n",
    "    try:\n",
    "        t = uproot.open(fname)[\"Events\"]\n",
    "        run, lumi, event = t.arrays([\n",
    "            \"uint_eventMaker_evtrun_CMS3.obj\",\n",
    "            \"uint_eventMaker_evtlumiBlock_CMS3.obj\",\n",
    "            \"ull_eventMaker_evtevent_CMS3.obj\"],outputtype=tuple)\n",
    "        good = tofind[\"run\"].isin(run) & tofind[\"luminosityBlock\"].isin(lumi) & tofind[\"event\"].isin(event)\n",
    "        rle = tofind[good].values.tolist()\n",
    "    except:\n",
    "        pass\n",
    "    return dict(fname=fname,rle=rle)\n",
    "findevents(fnames[0])#.compute()"
   ]
  },
  {
   "cell_type": "code",
   "execution_count": 26,
   "metadata": {
    "ExecuteTime": {
     "end_time": "2019-11-22T21:37:31.122773Z",
     "start_time": "2019-11-22T21:31:17.641427Z"
    }
   },
   "outputs": [],
   "source": [
    "results = client.gather(client.map(findevents, fnames[:2000]))"
   ]
  },
  {
   "cell_type": "code",
   "execution_count": 27,
   "metadata": {
    "ExecuteTime": {
     "end_time": "2019-11-22T21:37:31.148877Z",
     "start_time": "2019-11-22T21:37:31.127625Z"
    }
   },
   "outputs": [
    {
     "data": {
      "text/html": [
       "<div>\n",
       "<style scoped>\n",
       "    .dataframe tbody tr th:only-of-type {\n",
       "        vertical-align: middle;\n",
       "    }\n",
       "\n",
       "    .dataframe tbody tr th {\n",
       "        vertical-align: top;\n",
       "    }\n",
       "\n",
       "    .dataframe thead th {\n",
       "        text-align: right;\n",
       "    }\n",
       "</style>\n",
       "<table border=\"1\" class=\"dataframe\">\n",
       "  <thead>\n",
       "    <tr style=\"text-align: right;\">\n",
       "      <th></th>\n",
       "      <th>fname</th>\n",
       "      <th>rle</th>\n",
       "    </tr>\n",
       "  </thead>\n",
       "  <tbody>\n",
       "    <tr>\n",
       "      <td>961</td>\n",
       "      <td>/hadoop/cms/store/group/snt/run2_data2018/MET_...</td>\n",
       "      <td>[[319678, 209, 292576462]]</td>\n",
       "    </tr>\n",
       "    <tr>\n",
       "      <td>1145</td>\n",
       "      <td>/hadoop/cms/store/group/snt/run2_data2018/Sing...</td>\n",
       "      <td>[[319639, 207, 296757079], [319658, 155, 24914...</td>\n",
       "    </tr>\n",
       "  </tbody>\n",
       "</table>\n",
       "</div>"
      ],
      "text/plain": [
       "                                                  fname  \\\n",
       "961   /hadoop/cms/store/group/snt/run2_data2018/MET_...   \n",
       "1145  /hadoop/cms/store/group/snt/run2_data2018/Sing...   \n",
       "\n",
       "                                                    rle  \n",
       "961                          [[319678, 209, 292576462]]  \n",
       "1145  [[319639, 207, 296757079], [319658, 155, 24914...  "
      ]
     },
     "execution_count": 27,
     "metadata": {},
     "output_type": "execute_result"
    }
   ],
   "source": [
    "df = pd.DataFrame(results)\n",
    "df = df[~df[\"rle\"].apply(lambda x:x==[])]\n",
    "df"
   ]
  },
  {
   "cell_type": "code",
   "execution_count": 28,
   "metadata": {
    "ExecuteTime": {
     "end_time": "2019-11-22T21:37:31.159731Z",
     "start_time": "2019-11-22T21:37:31.151411Z"
    }
   },
   "outputs": [
    {
     "name": "stdout",
     "output_type": "stream",
     "text": [
      "3\n"
     ]
    },
    {
     "data": {
      "text/plain": [
       "{(319639, 207, 296757079), (319658, 155, 249146307), (319678, 209, 292576462)}"
      ]
     },
     "execution_count": 28,
     "metadata": {},
     "output_type": "execute_result"
    }
   ],
   "source": [
    "s = set(map(tuple,df[\"rle\"].sum()))\n",
    "print(len(s))\n",
    "s"
   ]
  },
  {
   "cell_type": "code",
   "execution_count": 30,
   "metadata": {
    "ExecuteTime": {
     "end_time": "2019-11-22T21:39:19.010413Z",
     "start_time": "2019-11-22T21:39:19.002721Z"
    }
   },
   "outputs": [
    {
     "data": {
      "text/plain": [
       "'{\"fname\":{\"961\":\"\\\\/hadoop\\\\/cms\\\\/store\\\\/group\\\\/snt\\\\/run2_data2018\\\\/MET_Run2018C-17Sep2018-v1_MINIAOD_CMS4_V10-02-04\\\\/merged_ntuple_104.root\",\"1145\":\"\\\\/hadoop\\\\/cms\\\\/store\\\\/group\\\\/snt\\\\/run2_data2018\\\\/SingleMuon_Run2018C-17Sep2018-v1_MINIAOD_CMS4_V10-02-04\\\\/merged_ntuple_113.root\"},\"rle\":{\"961\":[[319678,209,292576462]],\"1145\":[[319639,207,296757079],[319658,155,249146307]]}}'"
      ]
     },
     "execution_count": 30,
     "metadata": {},
     "output_type": "execute_result"
    }
   ],
   "source": [
    "df.to_json()"
   ]
  }
 ],
 "metadata": {
  "kernelspec": {
   "display_name": "Python 3",
   "language": "python",
   "name": "python3"
  },
  "language_info": {
   "codemirror_mode": {
    "name": "ipython",
    "version": 3
   },
   "file_extension": ".py",
   "mimetype": "text/x-python",
   "name": "python",
   "nbconvert_exporter": "python",
   "pygments_lexer": "ipython3",
   "version": "3.7.3"
  }
 },
 "nbformat": 4,
 "nbformat_minor": 2
}
