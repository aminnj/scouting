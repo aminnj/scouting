{
 "cells": [
  {
   "cell_type": "code",
   "execution_count": 2,
   "metadata": {
    "ExecuteTime": {
     "end_time": "2019-11-16T23:49:23.943896Z",
     "start_time": "2019-11-16T23:49:23.918812Z"
    }
   },
   "outputs": [],
   "source": [
    "%matplotlib inline\n",
    "import pandas as pd\n",
    "import uproot\n",
    "import awkward\n",
    "import matplotlib.pyplot as plt\n",
    "import numpy as np\n",
    "import math\n",
    "import glob\n",
    "import numba\n",
    "from matplotlib.colors import LogNorm\n",
    "import uproot_methods\n",
    "from tqdm.auto import tqdm\n",
    "\n",
    "from utils import set_plotting_style, get_chunking, get_chunking_dask\n",
    "\n",
    "set_plotting_style()\n",
    "\n",
    "try:\n",
    "    from yahist import Hist1D, Hist2D\n",
    "except:\n",
    "    !pip install git+git://github.com/aminnj/yahist.git#egg=yahist -U\n",
    "    from yahist import Hist1D, Hist2D"
   ]
  },
  {
   "cell_type": "code",
   "execution_count": 157,
   "metadata": {
    "ExecuteTime": {
     "end_time": "2019-11-17T00:50:44.424849Z",
     "start_time": "2019-11-17T00:50:35.737301Z"
    }
   },
   "outputs": [
    {
     "name": "stderr",
     "output_type": "stream",
     "text": [
      "/home/users/namin/miniconda3/envs/analysisenv/lib/python3.7/site-packages/ipykernel_launcher.py:58: RuntimeWarning: invalid value encountered in arccos\n"
     ]
    }
   ],
   "source": [
    "def make_df(fname):\n",
    "    t = uproot.open(fname)[\"Events\"]\n",
    "    arrs = t.arrays([\"n*\",\"pass_*\",\n",
    "                     \"MET_*\",\n",
    "                     \"/BS_(x|y|z)$/\",\n",
    "                     \"/Jet_(pt|eta|phi|m)$/\",\n",
    "                     \"/Muon_(pt|eta|phi|m|n.*|trackIso|charge|trk_qoverp.*|dxy.*|chi2|ndof|vx|vy|vz|jetIdx.*)$/\",\n",
    "                     \"/DV_(tracksSize|chi2|ndof|rho.*|inPixel.*|x|y|z|xError|yError|zError)$/\",\n",
    "                     \"run\",\"luminosityBlock\",\"event\",\n",
    "                    ],outputtype=dict,namedecode=\"ascii\")\n",
    "    \n",
    "    # booleans for selection\n",
    "    sel = (\n",
    "        (arrs[\"nDV\"] == 1) \n",
    "        & (arrs[\"nMuon\"] == 2) \n",
    "        & arrs[\"pass_l1\"] \n",
    "        & arrs[\"pass_skim\"] \n",
    "        & arrs[\"pass_fiducialgen\"]\n",
    "        & (arrs[\"DV_rho\"]>1.0).any()\n",
    "    )\n",
    "\n",
    "    # flatten into dataframe and require `sel`\n",
    "    df = pd.DataFrame()\n",
    "    for k in arrs.keys():\n",
    "        if any(k.startswith(y) for y in [\"n\",\"pass_\",\"BS_\",\"MET_\",\"run\",\"lumi\",\"event\"]):\n",
    "            df[k] = arrs[k][sel]\n",
    "        if k.startswith(\"DV_\"):\n",
    "            df[k] = arrs[k][sel][:,0]\n",
    "        if k.startswith(\"Muon_\"):\n",
    "            df[k.replace(\"Muon_\",\"Muon1_\")] = arrs[k][sel][:,0]\n",
    "            df[k.replace(\"Muon_\",\"Muon2_\")] = arrs[k][sel][:,1]\n",
    "        if k.startswith(\"Jet_\"):\n",
    "            # make sure there is at least 1 jet per event, filled with 0s\n",
    "            padded = arrs[k][sel].pad(1).fillna(0.)\n",
    "            # convert index of -1 (no jet found) to at least 0, and then we will pick up the \n",
    "            # dummy 0s from the padded array\n",
    "            vals = padded[np.maximum(arrs[\"Muon_jetIdx1\"][sel],0)]\n",
    "            df[k.replace(\"Jet_\",\"Muon1_Jet_\")] = vals[:,0]\n",
    "            df[k.replace(\"Jet_\",\"Muon2_Jet_\")] = vals[:,1]\n",
    "\n",
    "    # augment\n",
    "    TLVA = uproot_methods.TLorentzVectorArray\n",
    "    TV2A = uproot_methods.TVector2Array\n",
    "    mu1 = TLVA.from_ptetaphim(df[\"Muon1_pt\"],df[\"Muon1_eta\"],df[\"Muon1_phi\"],0.10566)\n",
    "    mu2 = TLVA.from_ptetaphim(df[\"Muon2_pt\"],df[\"Muon2_eta\"],df[\"Muon2_phi\"],0.10566)\n",
    "    jetmu1 = TLVA.from_ptetaphim(df[\"Muon1_Jet_pt\"],df[\"Muon1_Jet_eta\"],df[\"Muon1_Jet_phi\"],df[\"Muon1_Jet_m\"])\n",
    "    jetmu2 = TLVA.from_ptetaphim(df[\"Muon2_Jet_pt\"],df[\"Muon2_Jet_eta\"],df[\"Muon2_Jet_phi\"],df[\"Muon2_Jet_m\"])\n",
    "    dimu = mu1+mu2\n",
    "    df[\"dimuon_mass\"] = dimu.mass\n",
    "    df[\"dimuon_eta\"] = dimu.eta\n",
    "    df[\"dimuon_phi\"] = dimu.phi\n",
    "    df[\"dimuon_pt\"] = dimu.pt\n",
    "    vecdimu = TV2A.from_polar(dimu.pt,dimu.phi)\n",
    "    vecdv = TV2A.from_cartesian(df[\"DV_x\"]-df[\"BS_x\"],df[\"DV_y\"]-df[\"BS_y\"])\n",
    "    df[\"absdphimudv\"] = np.abs(vecdimu.delta_phi(vecdv))\n",
    "    df[\"absdphimumu\"] = np.abs(mu1.delta_phi(mu2))\n",
    "    df[\"cosphi\"] = vecdimu.cosdelta(vecdv)\n",
    "    df[\"angle3dmumu\"] = np.arccos(mu1.p3.dot(mu2.p3)/(mu1.p3.mag*mu2.p3.mag))\n",
    "    df[\"DV_redchi2\"] = df[\"DV_chi2\"]/df[\"DV_ndof\"]\n",
    "    df[\"DV_xyErrorMax\"] = np.maximum(df[\"DV_xError\"],df[\"DV_yError\"])\n",
    "    df[\"Muon1_redchi2\"] = df[\"Muon1_chi2\"]/df[\"Muon1_ndof\"]\n",
    "    df[\"Muon2_redchi2\"] = df[\"Muon2_chi2\"]/df[\"Muon2_ndof\"]\n",
    "    df[\"Muon1_adqpt\"] = np.abs(df[\"Muon1_trk_qoverpError\"]/df[\"Muon1_trk_qoverp\"])\n",
    "    df[\"Muon2_adqpt\"] = np.abs(df[\"Muon2_trk_qoverpError\"]/df[\"Muon2_trk_qoverp\"])\n",
    "    df[\"Muon1_m\"] = 0.10566\n",
    "    df[\"Muon2_m\"] = 0.10566\n",
    "    \n",
    "    drs = mu1.delta_r(jetmu1)\n",
    "    drs[jetmu1.pt<1] = 0.\n",
    "    df[\"Muon1_drjet\"] = drs\n",
    "    df[\"Muon1_ptratio\"] = (df[\"Muon1_pt\"]/df[\"Muon1_Jet_pt\"]).replace(np.inf,0.).fillna(0.)\n",
    "    drs = mu2.delta_r(jetmu2)\n",
    "    drs[jetmu2.pt<1] = 0.\n",
    "    df[\"Muon2_drjet\"] = drs\n",
    "    df[\"Muon2_ptratio\"] = (df[\"Muon2_pt\"]/df[\"Muon2_Jet_pt\"]).replace(np.inf,0.).fillna(0.)\n",
    "    \n",
    "    df[\"maxabsdxy\"] = np.maximum(np.abs(df[\"Muon1_dxyCorr\"]),np.abs(df[\"Muon2_dxyCorr\"]))\n",
    "    df[\"minabsdxy\"] = np.minimum(np.abs(df[\"Muon1_dxyCorr\"]),np.abs(df[\"Muon2_dxyCorr\"]))\n",
    "    df[\"maxdxy\"] = np.maximum(df[\"Muon1_dxyCorr\"],df[\"Muon2_dxyCorr\"])\n",
    "    df[\"mindxy\"] = np.minimum(df[\"Muon1_dxyCorr\"],df[\"Muon2_dxyCorr\"])\n",
    "    \n",
    "    # skim more\n",
    "    df = df.query(\n",
    "        \"(cosphi > 0.)\"\n",
    "        \" and (Muon1_charge != Muon2_charge)\"\n",
    "        \" and (DV_xyErrorMax < 0.05)\"\n",
    "        \" and (DV_zError < 0.1)\"\n",
    "        \" and (Muon1_nValidMuonHits > 0)\"\n",
    "        \" and (Muon2_nValidMuonHits > 0)\"\n",
    "        \" and (Muon1_redchi2 < 3)\"\n",
    "        \" and (Muon2_redchi2 < 3)\"\n",
    "    )\n",
    "    return df\n",
    "#     return arrs\n",
    "    \n",
    "df_data = pd.concat(\n",
    "    map(make_df,glob.glob(\n",
    "        \"/hadoop/cms/store/user/namin/ProjectMetis/ScoutingCaloMuon_Run2018skim_2018C_v4_unblind1fb_RAW_v6skim1cmjets/*.root\"\n",
    "    )[:1])\n",
    ").reset_index(drop=True)\n",
    "df_mc = make_df(\"/hadoop/cms/store/user/namin/ProjectMetis/HToZdZdTo2Mu2X_params_mzd20_ctau50mm_BABY_v6//output_1.root\").reset_index(drop=True)"
   ]
  },
  {
   "cell_type": "code",
   "execution_count": 171,
   "metadata": {
    "ExecuteTime": {
     "end_time": "2019-11-17T01:06:27.579263Z",
     "start_time": "2019-11-17T01:06:27.567958Z"
    }
   },
   "outputs": [
    {
     "data": {
      "text/plain": [
       "0        0\n",
       "1        1\n",
       "2        3\n",
       "3        0\n",
       "4        0\n",
       "        ..\n",
       "25291    2\n",
       "25292    1\n",
       "25293    0\n",
       "25294    1\n",
       "25295    0\n",
       "Length: 25296, dtype: int32"
      ]
     },
     "execution_count": 171,
     "metadata": {},
     "output_type": "execute_result"
    }
   ],
   "source": [
    "# uproot_methods.TLorentzVector.from_ptetaphim(15.732, -0.2243, 0.13507, 0.10566).delta_r(\n",
    "#     uproot_methods.TLorentzVector.from_ptetaphim(0,0,0,0)\n",
    "# )\n",
    "\n",
    "df_data[\"Muon1_nExpectedPixelHits\"]-df_data[\"Muon1_nValidPixelHits\"]"
   ]
  },
  {
   "cell_type": "code",
   "execution_count": 163,
   "metadata": {
    "ExecuteTime": {
     "end_time": "2019-11-17T00:51:08.877361Z",
     "start_time": "2019-11-17T00:51:08.311683Z"
    }
   },
   "outputs": [
    {
     "data": {
      "text/plain": [
       "<matplotlib.legend.Legend at 0x7fbf83424f60>"
      ]
     },
     "execution_count": 163,
     "metadata": {},
     "output_type": "execute_result"
    },
    {
     "data": {
      "image/png": "[encoded data removed]",
      "text/plain": [
       "<Figure size 600x400 with 1 Axes>"
      ]
     },
     "metadata": {
      "image/png": {
       "height": 347,
       "width": 579
      },
      "needs_background": "light"
     },
     "output_type": "display_data"
    }
   ],
   "source": [
    "# df_data.filter(like=\"Muon1_Jet\")\n",
    "# Hist1D(df_data[df_data[\"Muon1_Jet_pt\"]>0].eval(\"Muon1_pt / Muon1_Jet_pt\"),bins=np.linspace(0,3,100))\n",
    "# Hist1D(df_data[df_data[\"Muon2_Jet_pt\"]>0].eval(\"Muon2_pt / Muon2_Jet_pt\"),bins=np.linspace(0,3,100))\n",
    "# Hist1D(df_data[\"Muon1_ptratio\"],bins=np.linspace(0,3,100))\n",
    "fig, ax = plt.subplots()\n",
    "# v = \"Muon1_drjet\"\n",
    "# v = \"Muon1_Jet_pt\"\n",
    "# v = \"Muon1_ptratio\"\n",
    "bins = np.linspace(0,20,100)\n",
    "# bins = np.linspace(0,100,100)\n",
    "Hist1D(df_data[v],bins=bins).normalize().plot(ax=ax,histtype=\"step\",label=\"data\")\n",
    "Hist1D(df_mc[v],bins=bins).normalize().plot(ax=ax,histtype=\"step\",label=\"mc\")\n",
    "ax.legend()\n",
    "\n"
   ]
  },
  {
   "cell_type": "code",
   "execution_count": 169,
   "metadata": {
    "ExecuteTime": {
     "end_time": "2019-11-17T00:56:30.440558Z",
     "start_time": "2019-11-17T00:56:30.422593Z"
    }
   },
   "outputs": [
    {
     "data": {
      "text/html": [
       "<div>\n",
       "<style scoped>\n",
       "    .dataframe tbody tr th:only-of-type {\n",
       "        vertical-align: middle;\n",
       "    }\n",
       "\n",
       "    .dataframe tbody tr th {\n",
       "        vertical-align: top;\n",
       "    }\n",
       "\n",
       "    .dataframe thead th {\n",
       "        text-align: right;\n",
       "    }\n",
       "</style>\n",
       "<table border=\"1\" class=\"dataframe\">\n",
       "  <thead>\n",
       "    <tr style=\"text-align: right;\">\n",
       "      <th></th>\n",
       "      <th>Muon1_Jet_pt</th>\n",
       "      <th>Muon1_Jet_eta</th>\n",
       "      <th>Muon1_Jet_phi</th>\n",
       "      <th>Muon1_Jet_m</th>\n",
       "    </tr>\n",
       "  </thead>\n",
       "  <tbody>\n",
       "    <tr>\n",
       "      <td>0</td>\n",
       "      <td>0.000000</td>\n",
       "      <td>0.000000</td>\n",
       "      <td>0.000000</td>\n",
       "      <td>0.000000</td>\n",
       "    </tr>\n",
       "    <tr>\n",
       "      <td>1</td>\n",
       "      <td>0.000000</td>\n",
       "      <td>0.000000</td>\n",
       "      <td>0.000000</td>\n",
       "      <td>0.000000</td>\n",
       "    </tr>\n",
       "    <tr>\n",
       "      <td>2</td>\n",
       "      <td>0.000000</td>\n",
       "      <td>0.000000</td>\n",
       "      <td>0.000000</td>\n",
       "      <td>0.000000</td>\n",
       "    </tr>\n",
       "    <tr>\n",
       "      <td>3</td>\n",
       "      <td>88.433075</td>\n",
       "      <td>-0.453421</td>\n",
       "      <td>-0.475038</td>\n",
       "      <td>17.885456</td>\n",
       "    </tr>\n",
       "    <tr>\n",
       "      <td>4</td>\n",
       "      <td>0.000000</td>\n",
       "      <td>0.000000</td>\n",
       "      <td>0.000000</td>\n",
       "      <td>0.000000</td>\n",
       "    </tr>\n",
       "    <tr>\n",
       "      <td>...</td>\n",
       "      <td>...</td>\n",
       "      <td>...</td>\n",
       "      <td>...</td>\n",
       "      <td>...</td>\n",
       "    </tr>\n",
       "    <tr>\n",
       "      <td>25291</td>\n",
       "      <td>28.192810</td>\n",
       "      <td>0.396673</td>\n",
       "      <td>1.404980</td>\n",
       "      <td>5.686672</td>\n",
       "    </tr>\n",
       "    <tr>\n",
       "      <td>25292</td>\n",
       "      <td>50.330524</td>\n",
       "      <td>-0.487040</td>\n",
       "      <td>-2.842260</td>\n",
       "      <td>9.440977</td>\n",
       "    </tr>\n",
       "    <tr>\n",
       "      <td>25293</td>\n",
       "      <td>0.000000</td>\n",
       "      <td>0.000000</td>\n",
       "      <td>0.000000</td>\n",
       "      <td>0.000000</td>\n",
       "    </tr>\n",
       "    <tr>\n",
       "      <td>25294</td>\n",
       "      <td>23.319729</td>\n",
       "      <td>0.991108</td>\n",
       "      <td>-0.542461</td>\n",
       "      <td>4.237841</td>\n",
       "    </tr>\n",
       "    <tr>\n",
       "      <td>25295</td>\n",
       "      <td>26.586372</td>\n",
       "      <td>0.152334</td>\n",
       "      <td>-0.549842</td>\n",
       "      <td>5.329760</td>\n",
       "    </tr>\n",
       "  </tbody>\n",
       "</table>\n",
       "<p>25296 rows × 4 columns</p>\n",
       "</div>"
      ],
      "text/plain": [
       "       Muon1_Jet_pt  Muon1_Jet_eta  Muon1_Jet_phi  Muon1_Jet_m\n",
       "0          0.000000       0.000000       0.000000     0.000000\n",
       "1          0.000000       0.000000       0.000000     0.000000\n",
       "2          0.000000       0.000000       0.000000     0.000000\n",
       "3         88.433075      -0.453421      -0.475038    17.885456\n",
       "4          0.000000       0.000000       0.000000     0.000000\n",
       "...             ...            ...            ...          ...\n",
       "25291     28.192810       0.396673       1.404980     5.686672\n",
       "25292     50.330524      -0.487040      -2.842260     9.440977\n",
       "25293      0.000000       0.000000       0.000000     0.000000\n",
       "25294     23.319729       0.991108      -0.542461     4.237841\n",
       "25295     26.586372       0.152334      -0.549842     5.329760\n",
       "\n",
       "[25296 rows x 4 columns]"
      ]
     },
     "execution_count": 169,
     "metadata": {},
     "output_type": "execute_result"
    }
   ],
   "source": [
    "df_data.filter(like=\"Muon1_Jet\")"
   ]
  },
  {
   "cell_type": "code",
   "execution_count": 44,
   "metadata": {
    "ExecuteTime": {
     "end_time": "2019-11-17T00:07:25.989954Z",
     "start_time": "2019-11-17T00:07:25.864657Z"
    }
   },
   "outputs": [
    {
     "data": {
      "text/html": [
       "\n",
       "        <div style=\"max-height:1000px;max-width:1500px;overflow:auto\">\n",
       "        <b>total count</b>: 25296.0, <b>metadata</b>: {}<br>\n",
       "        <div style=\"display:flex;\">\n",
       "            <div style=\"display:inline;\">\n",
       "                \n",
       "                <table style='border:1px solid black;'\">\n",
       "                    <thead><tr><th>bin</th><th>content</th></tr></thead>\n",
       "                    <tr><td>(-0.5,0.5)</td><td>7940 ± 89.1067</td></tr> <tr><td>(0.5,1.5)</td><td>7334 ± 85.6388</td></tr> <tr><td>(1.5,2.5)</td><td>6127 ± 78.2752</td></tr> <tr><td>(2.5,3.5)</td><td>2466 ± 49.6588</td></tr> <tr><td>(3.5,4.5)</td><td>877 ± 29.6142</td></tr> <tr><td>(4.5,5.5)</td><td>330 ± 18.1659</td></tr> <tr><td>(5.5,6.5)</td><td>127 ± 11.2694</td></tr> <tr><td>(6.5,7.5)</td><td>42 ± 6.48074</td></tr> <tr><td>(7.5,8.5)</td><td>53 ± 7.28011</td></tr>\n",
       "                </table>\n",
       "            \n",
       "            </div>\n",
       "            <div style=\"display:inline; margin: auto 2%;\">\n",
       "                <img src='data:image/svg+xml;base64,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'/>\n",
       "            </div>\n",
       "            </div>\n",
       "        </div>\n",
       "        "
      ],
      "text/plain": [
       "[7940.000 ± 89.107   7334.000 ± 85.639   6127.000 ± 78.275\n",
       " 2466.000 ± 49.659   877.000 ± 29.614   330.000 ± 18.166\n",
       " 127.000 ± 11.269   42.000 ± 6.481   53.000 ± 7.280]"
      ]
     },
     "execution_count": 44,
     "metadata": {},
     "output_type": "execute_result"
    }
   ],
   "source": [
    "Hist1D(df_data[\"nJet\"],bins=np.arange(10)-0.5)"
   ]
  },
  {
   "cell_type": "code",
   "execution_count": 45,
   "metadata": {
    "ExecuteTime": {
     "end_time": "2019-11-17T00:07:26.124471Z",
     "start_time": "2019-11-17T00:07:26.120454Z"
    }
   },
   "outputs": [],
   "source": [
    "# arrs[\"Muon_jetIdx1\"]"
   ]
  },
  {
   "cell_type": "code",
   "execution_count": 46,
   "metadata": {
    "ExecuteTime": {
     "end_time": "2019-11-17T00:07:28.041039Z",
     "start_time": "2019-11-17T00:07:28.029592Z"
    }
   },
   "outputs": [],
   "source": [
    "df_data[\"Muon1_Jet_pt\"] = 0.\n",
    "df_data.loc[(df_data[\"Muon1_jetIdx1\"]>0), \"Muon1_Jet_pt\"] = 2.0"
   ]
  },
  {
   "cell_type": "code",
   "execution_count": 47,
   "metadata": {
    "ExecuteTime": {
     "end_time": "2019-11-17T00:07:29.196134Z",
     "start_time": "2019-11-17T00:07:29.186926Z"
    }
   },
   "outputs": [
    {
     "data": {
      "text/plain": [
       "0        0.0\n",
       "1        0.0\n",
       "2        0.0\n",
       "3        2.0\n",
       "4        0.0\n",
       "        ... \n",
       "25291    0.0\n",
       "25292    0.0\n",
       "25293    0.0\n",
       "25294    0.0\n",
       "25295    0.0\n",
       "Name: Muon1_Jet_pt, Length: 25296, dtype: float64"
      ]
     },
     "execution_count": 47,
     "metadata": {},
     "output_type": "execute_result"
    }
   ],
   "source": [
    "df_data[\"Muon1_Jet_pt\"]"
   ]
  },
  {
   "cell_type": "code",
   "execution_count": 69,
   "metadata": {
    "ExecuteTime": {
     "end_time": "2019-11-17T00:13:44.779694Z",
     "start_time": "2019-11-17T00:13:44.762862Z"
    }
   },
   "outputs": [
    {
     "data": {
      "text/plain": [
       "<JaggedArray [[55.50544 48.529564 46.51123 34.783592 34.66653] [0.0 0.0] [33.704258 31.951544 30.358225 ... 21.12722 20.855068 20.33385] ... [0.0 0.0] [26.586372 23.461111 21.712978] [28.969313 0.0]] at 0x7fbf8ac774e0>"
      ]
     },
     "execution_count": 69,
     "metadata": {},
     "output_type": "execute_result"
    }
   ],
   "source": [
    "# mu1hasjet = arrs[\"Muon_jetIdx1\"] >= 0\n",
    "# arrs[\"Muon_jetIdx1\"][mu1hasjet]\n",
    "# arrs[\"Jet_pt\"][mu1hasjet.any()][arrs[\"Muon_jetIdx1\"]]\n",
    "\n",
    "arrs[\"Jet_pt\"].pad(2).fillna(0.)"
   ]
  },
  {
   "cell_type": "code",
   "execution_count": 73,
   "metadata": {
    "ExecuteTime": {
     "end_time": "2019-11-17T00:15:03.429440Z",
     "start_time": "2019-11-17T00:15:03.417218Z"
    }
   },
   "outputs": [
    {
     "data": {
      "text/plain": [
       "<JaggedArray [[1 1] [0 0] [9 6] ... [0 0] [0 0] [0 0]] at 0x7fbf8ab5cc50>"
      ]
     },
     "execution_count": 73,
     "metadata": {},
     "output_type": "execute_result"
    }
   ],
   "source": [
    "np.maximum(arrs[\"Muon_jetIdx1\"],0)"
   ]
  },
  {
   "cell_type": "code",
   "execution_count": 76,
   "metadata": {
    "ExecuteTime": {
     "end_time": "2019-11-17T00:16:28.871922Z",
     "start_time": "2019-11-17T00:16:28.846837Z"
    }
   },
   "outputs": [
    {
     "data": {
      "text/plain": [
       "<JaggedArray [[48.529564 48.529564] [0.0 0.0] [21.12722 23.646679] ... [0.0 0.0] [26.586372 26.586372] [28.969313 28.969313]] at 0x7fbf8639d278>"
      ]
     },
     "execution_count": 76,
     "metadata": {},
     "output_type": "execute_result"
    }
   ],
   "source": [
    "arrs[\"Jet_pt\"].pad(1).fillna(0.)[\n",
    "    np.maximum(arrs[\"Muon_jetIdx1\"],0)\n",
    "]"
   ]
  },
  {
   "cell_type": "code",
   "execution_count": 78,
   "metadata": {
    "ExecuteTime": {
     "end_time": "2019-11-17T00:17:45.206328Z",
     "start_time": "2019-11-17T00:17:45.177054Z"
    }
   },
   "outputs": [
    {
     "data": {
      "text/plain": [
       "array([48.529564,  0.      , 21.12722 , ...,  0.      , 26.586372,\n",
       "       28.969313], dtype=float32)"
      ]
     },
     "execution_count": 78,
     "metadata": {},
     "output_type": "execute_result"
    }
   ],
   "source": [
    "# \"Muon1_Jet_pt\"\n",
    "arrs[\"Jet_pt\"].pad(1).fillna(0.)[np.maximum(arrs[\"Muon_jetIdx1\"],0)][:,0]"
   ]
  },
  {
   "cell_type": "code",
   "execution_count": null,
   "metadata": {},
   "outputs": [],
   "source": []
  }
 ],
 "metadata": {
  "kernelspec": {
   "display_name": "Python 3",
   "language": "python",
   "name": "python3"
  },
  "language_info": {
   "codemirror_mode": {
    "name": "ipython",
    "version": 3
   },
   "file_extension": ".py",
   "mimetype": "text/x-python",
   "name": "python",
   "nbconvert_exporter": "python",
   "pygments_lexer": "ipython3",
   "version": "3.7.3"
  }
 },
 "nbformat": 4,
 "nbformat_minor": 2
}
