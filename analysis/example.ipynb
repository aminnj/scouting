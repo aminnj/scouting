{
 "cells": [
  {
   "cell_type": "code",
   "execution_count": 29,
   "metadata": {},
   "outputs": [],
   "source": [
    "%config InlineBackend.figure_formats = ['retina']\n",
    "%matplotlib inline\n",
    "import pandas as pd\n",
    "import uproot\n",
    "import awkward\n",
    "import matplotlib.pyplot as plt\n",
    "import numpy as np\n",
    "import math\n",
    "import numba\n",
    "from matplotlib.colors import LogNorm\n",
    "import uproot_methods\n",
    "\n",
    "from utils import set_plotting_style, numba_histogram, numba_histogram2d, make_profile"
   ]
  },
  {
   "cell_type": "code",
   "execution_count": 30,
   "metadata": {},
   "outputs": [],
   "source": [
    "set_plotting_style()"
   ]
  },
  {
   "cell_type": "code",
   "execution_count": 31,
   "metadata": {},
   "outputs": [
    {
     "name": "stdout",
     "output_type": "stream",
     "text": [
      "CPU times: user 153 ms, sys: 16 ms, total: 169 ms\n",
      "Wall time: 346 ms\n"
     ]
    }
   ],
   "source": [
    "%%time\n",
    "tdata = uproot.open(\"/hadoop/cms/store/user/namin/ProjectMetis/ScoutingCaloMuon_Run2018C-v1_RAW_v3/output_1.root\")[\"Events\"]\n",
    "tmc = uproot.open(\"/hadoop/cms/store/user/namin/DisplacedMuons/babies/baby_HToZZTo2Mu2X_ctau50mm_skim2mu.root\")[\"Events\"]\n",
    "cache = uproot.ArrayCache(\"4GB\")\n",
    "readkw = dict(cache=cache,entrystop=10000000)"
   ]
  },
  {
   "cell_type": "code",
   "execution_count": 32,
   "metadata": {},
   "outputs": [
    {
     "data": {
      "text/plain": [
       "[b'run',\n",
       " b'luminosityBlock',\n",
       " b'event',\n",
       " b'MET_pt',\n",
       " b'MET_phi',\n",
       " b'rho',\n",
       " b'LeadingPair_mass',\n",
       " b'LeadingPair_sameVtx',\n",
       " b'LeadingPair_isOS',\n",
       " b'DV_x',\n",
       " b'DV_y',\n",
       " b'DV_z',\n",
       " b'DV_xError',\n",
       " b'DV_yError',\n",
       " b'DV_zError',\n",
       " b'DV_tracksSize',\n",
       " b'DV_chi2',\n",
       " b'DV_ndof',\n",
       " b'DV_isValidVtx',\n",
       " b'Jet_pt',\n",
       " b'Jet_eta',\n",
       " b'Jet_phi',\n",
       " b'Jet_m',\n",
       " b'Jet_jetArea',\n",
       " b'Jet_maxEInEmTowers',\n",
       " b'Jet_maxEInHadTowers',\n",
       " b'Jet_hadEnergyInHB',\n",
       " b'Jet_hadEnergyInHE',\n",
       " b'Jet_hadEnergyInHF',\n",
       " b'Jet_emEnergyInEB',\n",
       " b'Jet_emEnergyInEE',\n",
       " b'Jet_emEnergyInHF',\n",
       " b'Jet_towersArea',\n",
       " b'Jet_mvaDiscriminator',\n",
       " b'Jet_btagDiscriminator',\n",
       " b'PV_x',\n",
       " b'PV_y',\n",
       " b'PV_z',\n",
       " b'PV_zError',\n",
       " b'PV_xError',\n",
       " b'PV_yError',\n",
       " b'PV_tracksSize',\n",
       " b'PV_chi2',\n",
       " b'PV_ndof',\n",
       " b'PV_isValidVtx',\n",
       " b'PVM_x',\n",
       " b'PVM_y',\n",
       " b'PVM_z',\n",
       " b'PVM_zError',\n",
       " b'PVM_xError',\n",
       " b'PVM_yError',\n",
       " b'PVM_tracksSize',\n",
       " b'PVM_chi2',\n",
       " b'PVM_ndof',\n",
       " b'PVM_isValidVtx',\n",
       " b'Muon_pt',\n",
       " b'Muon_eta',\n",
       " b'Muon_phi',\n",
       " b'Muon_m',\n",
       " b'Muon_ecalIso',\n",
       " b'Muon_hcalIso',\n",
       " b'Muon_trackIso',\n",
       " b'Muon_chi2',\n",
       " b'Muon_ndof',\n",
       " b'Muon_charge',\n",
       " b'Muon_dxy',\n",
       " b'Muon_dz',\n",
       " b'Muon_nValidMuonHits',\n",
       " b'Muon_nValidPixelHits',\n",
       " b'Muon_nMatchedStations',\n",
       " b'Muon_nTrackerLayersWithMeasurement',\n",
       " b'Muon_type',\n",
       " b'Muon_nValidStripHits',\n",
       " b'Muon_trk_qoverp',\n",
       " b'Muon_trk_lambda',\n",
       " b'Muon_trk_pt',\n",
       " b'Muon_trk_phi',\n",
       " b'Muon_trk_eta',\n",
       " b'Muon_dxyError',\n",
       " b'Muon_dzError',\n",
       " b'Muon_trk_qoverpError',\n",
       " b'Muon_trk_lambdaError',\n",
       " b'Muon_trk_phiError',\n",
       " b'Muon_trk_dsz',\n",
       " b'Muon_trk_dszError',\n",
       " b'Muon_vtxIndx',\n",
       " b'Muon_vtxNum',\n",
       " b'Muon_vtxIndx1',\n",
       " b'Muon_vtxIndx2',\n",
       " b'Muon_vtxIndx3',\n",
       " b'Muon_vtxIndx4',\n",
       " b'Muon_vtxIndx5',\n",
       " b'GenPart_pt',\n",
       " b'GenPart_eta',\n",
       " b'GenPart_phi',\n",
       " b'GenPart_m',\n",
       " b'GenPart_vx',\n",
       " b'GenPart_vy',\n",
       " b'GenPart_vz',\n",
       " b'GenPart_status',\n",
       " b'GenPart_pdgId',\n",
       " b'GenPart_motherId',\n",
       " b'GenMuon_pt',\n",
       " b'GenMuon_eta',\n",
       " b'GenMuon_phi',\n",
       " b'GenMuon_m',\n",
       " b'GenMuon_vx',\n",
       " b'GenMuon_vy',\n",
       " b'GenMuon_vz',\n",
       " b'GenMuon_status',\n",
       " b'GenMuon_pdgId',\n",
       " b'GenMuon_motherId',\n",
       " b'Gen_nMuFromZ']"
      ]
     },
     "execution_count": 32,
     "metadata": {},
     "output_type": "execute_result"
    }
   ],
   "source": [
    "tmc.keys()"
   ]
  },
  {
   "cell_type": "code",
   "execution_count": 33,
   "metadata": {},
   "outputs": [
    {
     "data": {
      "text/plain": [
       "<JaggedArray [[0.089347824 0.09373529] [-0.051917695 -0.052934606] [-0.06347708 -0.12631223] ... [0.065046206 0.09226747] [0.0020976623 0.060521908] [-0.10835093 -0.09992092]] at 0x7f7e29585d30>"
      ]
     },
     "execution_count": 33,
     "metadata": {},
     "output_type": "execute_result"
    }
   ],
   "source": [
    "# skim requires >=1 DV and >=2 muons in each event. This is a jagged array of muon dxy\n",
    "tdata.array(\"Muon_dxy\",**readkw)"
   ]
  },
  {
   "cell_type": "code",
   "execution_count": 34,
   "metadata": {},
   "outputs": [
    {
     "data": {
      "text/plain": [
       "<matplotlib.legend.Legend at 0x7f7e295bad68>"
      ]
     },
     "execution_count": 34,
     "metadata": {},
     "output_type": "execute_result"
    },
    {
     "data": {
      "image/png": "[encoded data removed]",
      "text/plain": [
       "<Figure size 600x400 with 1 Axes>"
      ]
     },
     "metadata": {
      "image/png": {
       "height": 348,
       "width": 575
      },
      "needs_background": "light"
     },
     "output_type": "display_data"
    }
   ],
   "source": [
    "# dvar = {}\n",
    "fig,ax = plt.subplots()\n",
    "\n",
    "bins = np.logspace(-2,1.0,100)\n",
    "def plot(var,label):\n",
    "    counts,edges = numba_histogram(var,bins=bins,overflow=True)\n",
    "    ax.bar(edges[:-1],counts/counts.sum(),align=\"edge\",width=edges[1:]-edges[:-1],alpha=0.5,color=\"C3\" if label==\"data\" else \"C0\",label=label)\n",
    "    \n",
    "plot(np.abs(tdata.array(\"Muon_dxy\",**readkw)[:,:2].flatten()),\"data\")\n",
    "plot(np.abs(tmc.array(\"Muon_dxy\",**readkw)[:,:2].flatten()),\"mc\")\n",
    "\n",
    "\n",
    "ax.set_xscale(\"log\")\n",
    "# ax.set_yscale(\"log\")\n",
    "ax.legend()"
   ]
  },
  {
   "cell_type": "code",
   "execution_count": null,
   "metadata": {},
   "outputs": [],
   "source": []
  },
  {
   "cell_type": "code",
   "execution_count": null,
   "metadata": {},
   "outputs": [],
   "source": []
  }
 ],
 "metadata": {
  "kernelspec": {
   "display_name": "Python 3",
   "language": "python",
   "name": "python3"
  },
  "language_info": {
   "codemirror_mode": {
    "name": "ipython",
    "version": 3
   },
   "file_extension": ".py",
   "mimetype": "text/x-python",
   "name": "python",
   "nbconvert_exporter": "python",
   "pygments_lexer": "ipython3",
   "version": "3.7.3"
  }
 },
 "nbformat": 4,
 "nbformat_minor": 2
}
