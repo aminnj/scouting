{
 "cells": [
  {
   "cell_type": "code",
   "execution_count": 2,
   "metadata": {
    "ExecuteTime": {
     "end_time": "2020-01-22T19:42:19.552465Z",
     "start_time": "2020-01-22T19:42:02.587408Z"
    }
   },
   "outputs": [],
   "source": [
    "%matplotlib inline\n",
    "import pandas as pd\n",
    "import uproot\n",
    "import awkward\n",
    "import matplotlib.pyplot as plt\n",
    "import numpy as np\n",
    "import math\n",
    "import glob\n",
    "import numba\n",
    "from matplotlib.colors import LogNorm\n",
    "import uproot_methods\n",
    "from tqdm.auto import tqdm\n",
    "\n",
    "from utils import set_plotting_style, get_chunking, get_chunking_dask, smaller_dtypes, make_df, hist2d_dask\n",
    "import utils\n",
    "\n",
    "import scipy.stats\n",
    "import concurrent.futures\n",
    "from dask.distributed import Client\n",
    "import dask.dataframe as dd\n",
    "import dask.array as da\n",
    "from dask.distributed import progress\n",
    "from dask import delayed\n",
    "from yahist import Hist1D, Hist2D"
   ]
  },
  {
   "cell_type": "code",
   "execution_count": 3,
   "metadata": {
    "ExecuteTime": {
     "end_time": "2020-01-22T19:42:19.559619Z",
     "start_time": "2020-01-22T19:42:19.555434Z"
    }
   },
   "outputs": [],
   "source": [
    "set_plotting_style()"
   ]
  },
  {
   "cell_type": "code",
   "execution_count": 5,
   "metadata": {
    "ExecuteTime": {
     "end_time": "2020-01-22T19:43:08.406981Z",
     "start_time": "2020-01-22T19:43:08.390111Z"
    }
   },
   "outputs": [
    {
     "data": {
      "text/plain": [
       "29"
      ]
     },
     "execution_count": 5,
     "metadata": {},
     "output_type": "execute_result"
    }
   ],
   "source": [
    "fnames = glob.glob(\"/hadoop/cms/store/user/namin/ProjectMetis/ScoutingCaloMuon_Run2018skim_2018C_v11_unblind1fb_RAW_v11/*.root\")\n",
    "len(fnames)"
   ]
  },
  {
   "cell_type": "code",
   "execution_count": 37,
   "metadata": {
    "ExecuteTime": {
     "end_time": "2020-01-22T21:00:27.617542Z",
     "start_time": "2020-01-22T21:00:27.393348Z"
    }
   },
   "outputs": [
    {
     "data": {
      "text/plain": [
       "[b'run',\n",
       " b'luminosityBlock',\n",
       " b'event',\n",
       " b'pass_skim',\n",
       " b'pass_l1',\n",
       " b'pass_json',\n",
       " b'pass_fiducialgen',\n",
       " b'pass_excesshits',\n",
       " b'pass_fiducialgen_norho',\n",
       " b'dimuon_isos',\n",
       " b'dimuon_pt',\n",
       " b'dimuon_eta',\n",
       " b'dimuon_phi',\n",
       " b'dimuon_mass',\n",
       " b'absdphimumu',\n",
       " b'absdphimudv',\n",
       " b'minabsdxy',\n",
       " b'logabsetaphi',\n",
       " b'lxy',\n",
       " b'cosphi',\n",
       " b'pass_baseline',\n",
       " b'pass_baseline_iso',\n",
       " b'MET_pt',\n",
       " b'MET_phi',\n",
       " b'rho',\n",
       " b'nDV',\n",
       " b'nDV_passid',\n",
       " b'DV_x',\n",
       " b'DV_y',\n",
       " b'DV_z',\n",
       " b'DV_xError',\n",
       " b'DV_yError',\n",
       " b'DV_zError',\n",
       " b'DV_tracksSize',\n",
       " b'DV_chi2',\n",
       " b'DV_ndof',\n",
       " b'DV_isValidVtx',\n",
       " b'DV_passid',\n",
       " b'DV_rho',\n",
       " b'DV_rhoCorr',\n",
       " b'DV_inPixelRectangles',\n",
       " b'nJet',\n",
       " b'Jet_pt',\n",
       " b'Jet_eta',\n",
       " b'Jet_phi',\n",
       " b'Jet_m',\n",
       " b'nPV',\n",
       " b'PV_x',\n",
       " b'PV_y',\n",
       " b'PV_z',\n",
       " b'PV_tracksSize',\n",
       " b'PV_chi2',\n",
       " b'PV_ndof',\n",
       " b'PV_isValidVtx',\n",
       " b'nPVM',\n",
       " b'PVM_x',\n",
       " b'PVM_y',\n",
       " b'PVM_z',\n",
       " b'PVM_tracksSize',\n",
       " b'PVM_chi2',\n",
       " b'PVM_ndof',\n",
       " b'PVM_isValidVtx',\n",
       " b'nMuon',\n",
       " b'nMuon_passid',\n",
       " b'nMuon_passiso',\n",
       " b'Muon_pt',\n",
       " b'Muon_eta',\n",
       " b'Muon_phi',\n",
       " b'Muon_m',\n",
       " b'Muon_trackIso',\n",
       " b'Muon_chi2',\n",
       " b'Muon_ndof',\n",
       " b'Muon_charge',\n",
       " b'Muon_dxy',\n",
       " b'Muon_dz',\n",
       " b'Muon_nValidMuonHits',\n",
       " b'Muon_nValidPixelHits',\n",
       " b'Muon_nMatchedStations',\n",
       " b'Muon_nTrackerLayersWithMeasurement',\n",
       " b'Muon_nValidStripHits',\n",
       " b'Muon_trk_qoverp',\n",
       " b'Muon_trk_lambda',\n",
       " b'Muon_trk_pt',\n",
       " b'Muon_trk_phi',\n",
       " b'Muon_trk_eta',\n",
       " b'Muon_dxyError',\n",
       " b'Muon_dzError',\n",
       " b'Muon_trk_qoverpError',\n",
       " b'Muon_trk_lambdaError',\n",
       " b'Muon_trk_phiError',\n",
       " b'Muon_trk_dsz',\n",
       " b'Muon_trk_dszError',\n",
       " b'Muon_vtxNum',\n",
       " b'Muon_vtxIdx1',\n",
       " b'Muon_vx',\n",
       " b'Muon_vy',\n",
       " b'Muon_vz',\n",
       " b'Muon_dxyCorr',\n",
       " b'Muon_nExpectedPixelHits',\n",
       " b'Muon_jetIdx1',\n",
       " b'Muon_drjet',\n",
       " b'Muon_passid',\n",
       " b'Muon_passiso',\n",
       " b'nGenPart',\n",
       " b'GenPart_pt',\n",
       " b'GenPart_eta',\n",
       " b'GenPart_phi',\n",
       " b'GenPart_m',\n",
       " b'GenPart_vx',\n",
       " b'GenPart_vy',\n",
       " b'GenPart_vz',\n",
       " b'GenPart_status',\n",
       " b'GenPart_pdgId',\n",
       " b'GenPart_motherId',\n",
       " b'nGenMuon',\n",
       " b'GenMuon_pt',\n",
       " b'GenMuon_eta',\n",
       " b'GenMuon_phi',\n",
       " b'GenMuon_m',\n",
       " b'GenMuon_vx',\n",
       " b'GenMuon_vy',\n",
       " b'GenMuon_vz',\n",
       " b'GenMuon_status',\n",
       " b'GenMuon_pdgId',\n",
       " b'GenMuon_motherId',\n",
       " b'BS_x',\n",
       " b'BS_y',\n",
       " b'BS_z',\n",
       " b'BS_dxdz',\n",
       " b'BS_dydz',\n",
       " b'L1_DoubleMu4p5_SQ_OS_dR_Max1p2',\n",
       " b'L1_DoubleMu4_SQ_OS_dR_Max1p2',\n",
       " b'L1_DoubleMu0er1p4_SQ_OS_dR_Max1p4',\n",
       " b'L1_DoubleMu_15_7']"
      ]
     },
     "execution_count": 37,
     "metadata": {},
     "output_type": "execute_result"
    }
   ],
   "source": [
    "# inspect one file to see branch names\n",
    "# these are made in ../batch/babymaker.py\n",
    "f = uproot.open(fnames[0])\n",
    "t = f[\"Events\"]\n",
    "t.keys()"
   ]
  },
  {
   "cell_type": "code",
   "execution_count": 14,
   "metadata": {
    "ExecuteTime": {
     "end_time": "2020-01-22T19:53:35.637422Z",
     "start_time": "2020-01-22T19:53:22.805542Z"
    }
   },
   "outputs": [
    {
     "data": {
      "application/vnd.jupyter.widget-view+json": {
       "model_id": "a5c821f0928b4371bb4b4d41bd52bdb5",
       "version_major": 2,
       "version_minor": 0
      },
      "text/plain": [
       "HBox(children=(FloatProgress(value=0.0, max=6.0), HTML(value='')))"
      ]
     },
     "metadata": {},
     "output_type": "display_data"
    },
    {
     "name": "stdout",
     "output_type": "stream",
     "text": [
      "\n"
     ]
    }
   ],
   "source": [
    "# make dataframe containing certain branches after certain cut\n",
    "\n",
    "branches = [\"dimuon_mass\", \"pass_skim\",\"pass_baseline*\",\"logabsetaphi\",\"DV_rhoCorr\",\"DV_x\",\"DV_y\"]\n",
    "# cut = \"pass_baseline_iso\" # baseline selection with iso\n",
    "# cut = \"pass_baseline\" # baseline selection without iso\n",
    "cut = \"pass_skim\" # just requiring >=2 muons and >=1 DV. all events in root files already require the skim.\n",
    "\n",
    "\n",
    "ddf = make_df(\n",
    "    fnames[:2],\n",
    "    branches = branches,\n",
    "    cut = cut,\n",
    "    chunksize = 1e6,\n",
    "    use_dask = False,\n",
    ")"
   ]
  },
  {
   "cell_type": "code",
   "execution_count": 40,
   "metadata": {
    "ExecuteTime": {
     "end_time": "2020-01-22T21:04:14.776942Z",
     "start_time": "2020-01-22T21:04:14.743982Z"
    }
   },
   "outputs": [
    {
     "name": "stdout",
     "output_type": "stream",
     "text": [
      "ddf takes 114.7MB of memory and has 5.0M events\n"
     ]
    },
    {
     "data": {
      "text/html": [
       "<div>\n",
       "<style scoped>\n",
       "    .dataframe tbody tr th:only-of-type {\n",
       "        vertical-align: middle;\n",
       "    }\n",
       "\n",
       "    .dataframe tbody tr th {\n",
       "        vertical-align: top;\n",
       "    }\n",
       "\n",
       "    .dataframe thead th {\n",
       "        text-align: right;\n",
       "    }\n",
       "</style>\n",
       "<table border=\"1\" class=\"dataframe\">\n",
       "  <thead>\n",
       "    <tr style=\"text-align: right;\">\n",
       "      <th></th>\n",
       "      <th>DV_rhoCorr</th>\n",
       "      <th>DV_x</th>\n",
       "      <th>DV_y</th>\n",
       "      <th>dimuon_mass</th>\n",
       "      <th>logabsetaphi</th>\n",
       "      <th>pass_baseline</th>\n",
       "      <th>pass_baseline_iso</th>\n",
       "      <th>pass_skim</th>\n",
       "    </tr>\n",
       "  </thead>\n",
       "  <tbody>\n",
       "    <tr>\n",
       "      <th>0</th>\n",
       "      <td>0.167631</td>\n",
       "      <td>0.086135</td>\n",
       "      <td>-0.048654</td>\n",
       "      <td>3.154864</td>\n",
       "      <td>0.227088</td>\n",
       "      <td>False</td>\n",
       "      <td>False</td>\n",
       "      <td>True</td>\n",
       "    </tr>\n",
       "    <tr>\n",
       "      <th>1</th>\n",
       "      <td>0.198552</td>\n",
       "      <td>0.087744</td>\n",
       "      <td>-0.079827</td>\n",
       "      <td>2.996769</td>\n",
       "      <td>-1.596559</td>\n",
       "      <td>False</td>\n",
       "      <td>False</td>\n",
       "      <td>True</td>\n",
       "    </tr>\n",
       "    <tr>\n",
       "      <th>2</th>\n",
       "      <td>0.183203</td>\n",
       "      <td>0.095218</td>\n",
       "      <td>-0.064852</td>\n",
       "      <td>9.867033</td>\n",
       "      <td>0.050430</td>\n",
       "      <td>False</td>\n",
       "      <td>False</td>\n",
       "      <td>True</td>\n",
       "    </tr>\n",
       "    <tr>\n",
       "      <th>3</th>\n",
       "      <td>0.220374</td>\n",
       "      <td>0.081545</td>\n",
       "      <td>-0.101513</td>\n",
       "      <td>35.238350</td>\n",
       "      <td>-0.235280</td>\n",
       "      <td>False</td>\n",
       "      <td>False</td>\n",
       "      <td>True</td>\n",
       "    </tr>\n",
       "    <tr>\n",
       "      <th>4</th>\n",
       "      <td>0.184805</td>\n",
       "      <td>0.192533</td>\n",
       "      <td>-0.040665</td>\n",
       "      <td>3.015787</td>\n",
       "      <td>0.371367</td>\n",
       "      <td>False</td>\n",
       "      <td>False</td>\n",
       "      <td>True</td>\n",
       "    </tr>\n",
       "    <tr>\n",
       "      <th>...</th>\n",
       "      <td>...</td>\n",
       "      <td>...</td>\n",
       "      <td>...</td>\n",
       "      <td>...</td>\n",
       "      <td>...</td>\n",
       "      <td>...</td>\n",
       "      <td>...</td>\n",
       "      <td>...</td>\n",
       "    </tr>\n",
       "    <tr>\n",
       "      <th>4984922</th>\n",
       "      <td>0.007199</td>\n",
       "      <td>0.101038</td>\n",
       "      <td>-0.059451</td>\n",
       "      <td>9.693331</td>\n",
       "      <td>-0.320371</td>\n",
       "      <td>False</td>\n",
       "      <td>False</td>\n",
       "      <td>True</td>\n",
       "    </tr>\n",
       "    <tr>\n",
       "      <th>4984923</th>\n",
       "      <td>0.061270</td>\n",
       "      <td>0.100491</td>\n",
       "      <td>-0.003448</td>\n",
       "      <td>0.308788</td>\n",
       "      <td>0.260006</td>\n",
       "      <td>False</td>\n",
       "      <td>False</td>\n",
       "      <td>True</td>\n",
       "    </tr>\n",
       "    <tr>\n",
       "      <th>4984924</th>\n",
       "      <td>0.289391</td>\n",
       "      <td>0.361411</td>\n",
       "      <td>-0.177977</td>\n",
       "      <td>1.073388</td>\n",
       "      <td>0.350449</td>\n",
       "      <td>False</td>\n",
       "      <td>False</td>\n",
       "      <td>True</td>\n",
       "    </tr>\n",
       "    <tr>\n",
       "      <th>4984925</th>\n",
       "      <td>0.022139</td>\n",
       "      <td>0.082020</td>\n",
       "      <td>-0.047266</td>\n",
       "      <td>4.477600</td>\n",
       "      <td>0.591690</td>\n",
       "      <td>False</td>\n",
       "      <td>False</td>\n",
       "      <td>True</td>\n",
       "    </tr>\n",
       "    <tr>\n",
       "      <th>4984926</th>\n",
       "      <td>0.007662</td>\n",
       "      <td>0.088665</td>\n",
       "      <td>-0.062951</td>\n",
       "      <td>8.480204</td>\n",
       "      <td>0.260091</td>\n",
       "      <td>False</td>\n",
       "      <td>False</td>\n",
       "      <td>True</td>\n",
       "    </tr>\n",
       "  </tbody>\n",
       "</table>\n",
       "<p>4984927 rows × 8 columns</p>\n",
       "</div>"
      ],
      "text/plain": [
       "         DV_rhoCorr      DV_x      DV_y  dimuon_mass  logabsetaphi  \\\n",
       "0          0.167631  0.086135 -0.048654     3.154864      0.227088   \n",
       "1          0.198552  0.087744 -0.079827     2.996769     -1.596559   \n",
       "2          0.183203  0.095218 -0.064852     9.867033      0.050430   \n",
       "3          0.220374  0.081545 -0.101513    35.238350     -0.235280   \n",
       "4          0.184805  0.192533 -0.040665     3.015787      0.371367   \n",
       "...             ...       ...       ...          ...           ...   \n",
       "4984922    0.007199  0.101038 -0.059451     9.693331     -0.320371   \n",
       "4984923    0.061270  0.100491 -0.003448     0.308788      0.260006   \n",
       "4984924    0.289391  0.361411 -0.177977     1.073388      0.350449   \n",
       "4984925    0.022139  0.082020 -0.047266     4.477600      0.591690   \n",
       "4984926    0.007662  0.088665 -0.062951     8.480204      0.260091   \n",
       "\n",
       "         pass_baseline  pass_baseline_iso  pass_skim  \n",
       "0                False              False       True  \n",
       "1                False              False       True  \n",
       "2                False              False       True  \n",
       "3                False              False       True  \n",
       "4                False              False       True  \n",
       "...                ...                ...        ...  \n",
       "4984922          False              False       True  \n",
       "4984923          False              False       True  \n",
       "4984924          False              False       True  \n",
       "4984925          False              False       True  \n",
       "4984926          False              False       True  \n",
       "\n",
       "[4984927 rows x 8 columns]"
      ]
     },
     "execution_count": 40,
     "metadata": {},
     "output_type": "execute_result"
    }
   ],
   "source": [
    "print(\"ddf takes {:.1f}MB of memory and has {:.1f}M events\".format(ddf.memory_usage().sum()/1e6, len(ddf)/1e6))\n",
    "ddf"
   ]
  },
  {
   "cell_type": "code",
   "execution_count": 41,
   "metadata": {
    "ExecuteTime": {
     "end_time": "2020-01-22T21:06:10.078029Z",
     "start_time": "2020-01-22T21:06:06.097048Z"
    }
   },
   "outputs": [],
   "source": [
    "bins = np.linspace(-3,3,100)\n",
    "h = Hist1D(ddf.query(\"(0 < DV_rhoCorr < 11) and pass_skim\")[\"logabsetaphi\"], bins=bins)"
   ]
  },
  {
   "cell_type": "code",
   "execution_count": 43,
   "metadata": {
    "ExecuteTime": {
     "end_time": "2020-01-22T21:06:20.508008Z",
     "start_time": "2020-01-22T21:06:20.048405Z"
    }
   },
   "outputs": [
    {
     "data": {
      "text/plain": [
       "Text(0.5, 1.0, 'test')"
      ]
     },
     "execution_count": 43,
     "metadata": {},
     "output_type": "execute_result"
    },
    {
     "data": {
      "image/png": "[encoded data removed]",
      "text/plain": [
       "<Figure size 600x400 with 1 Axes>"
      ]
     },
     "metadata": {
      "image/png": {
       "height": 367,
       "width": 577
      },
      "needs_background": "light"
     },
     "output_type": "display_data"
    }
   ],
   "source": [
    "# exercise: try to reproduce the plot on the left of slide 3 of\n",
    "# http://uaf-8.t2.ucsd.edu/~namin/dump/slides/DV_meeting_20Jan9.pdf#page=3\n",
    "# ignore the signal histogram. Plot logabsetaphi for dimuon_mass > 5 in bins of DV_rhoCorr\n",
    "# require the baseline selection with isolation\n",
    "fig, ax = plt.subplots()\n",
    "h.normalize().plot(ax=ax, histtype=\"step\")\n",
    "ax.set_title(\"test\")"
   ]
  },
  {
   "cell_type": "code",
   "execution_count": 44,
   "metadata": {
    "ExecuteTime": {
     "end_time": "2020-01-22T21:09:55.305370Z",
     "start_time": "2020-01-22T21:09:45.843381Z"
    }
   },
   "outputs": [
    {
     "data": {
      "text/plain": [
       "Text(0.5, 0, 'DV y (cm)')"
      ]
     },
     "execution_count": 44,
     "metadata": {},
     "output_type": "execute_result"
    },
    {
     "data": {
      "image/png": "[encoded data removed]",
      "text/plain": [
       "<Figure size 600x400 with 2 Axes>"
      ]
     },
     "metadata": {
      "image/png": {
       "height": 377,
       "width": 534
      },
      "needs_background": "light"
     },
     "output_type": "display_data"
    }
   ],
   "source": [
    "# exercise: try to make plots similar to the one on the left side of slide 5 of\n",
    "# https://indico.cern.ch/event/864170/contributions/3642760/attachments/1949983/3236610/EXO_LLPupdate_19Nov22.pdf\n",
    "bins = [np.linspace(-20,20,200), np.linspace(-20,20,200)]\n",
    "df = ddf.query(\"pass_skim\")\n",
    "h = Hist2D(\n",
    "    np.c_[\n",
    "        df[\"DV_x\"].values,\n",
    "        df[\"DV_y\"].values,\n",
    "    ],\n",
    "    bins=bins\n",
    ")\n",
    "fig, ax = plt.subplots()\n",
    "h.plot(ax=ax, logz=True)\n",
    "ax.set_xlabel(\"DV x (cm)\")\n",
    "ax.set_xlabel(\"DV y (cm)\")"
   ]
  },
  {
   "cell_type": "code",
   "execution_count": null,
   "metadata": {},
   "outputs": [],
   "source": [
    "# exercise: try to reproduce the plot on the left of slide 8 of\n",
    "# https://indico.cern.ch/event/864170/contributions/3642760/attachments/1949983/3236610/EXO_LLPupdate_19Nov22.pdf\n",
    "# (ignore signal)\n",
    "# note that the cuts are baseline+isolation, DV_rhoCorr > 1, dimuon_mass > 5, for the full unblinded 1ifb 2018C data"
   ]
  }
 ],
 "metadata": {
  "kernelspec": {
   "display_name": "Python 3",
   "language": "python",
   "name": "python3"
  },
  "language_info": {
   "codemirror_mode": {
    "name": "ipython",
    "version": 3
   },
   "file_extension": ".py",
   "mimetype": "text/x-python",
   "name": "python",
   "nbconvert_exporter": "python",
   "pygments_lexer": "ipython3",
   "version": "3.8.1"
  }
 },
 "nbformat": 4,
 "nbformat_minor": 2
}
